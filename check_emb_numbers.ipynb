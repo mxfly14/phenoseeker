{
 "cells": [
  {
   "cell_type": "markdown",
   "metadata": {},
   "source": [
    "# Import and sandbox"
   ]
  },
  {
   "cell_type": "code",
   "execution_count": 1,
   "metadata": {},
   "outputs": [],
   "source": [
    "import numpy as np\n",
    "import pandas as pd\n",
    "import torch \n",
    "from tqdm import tqdm\n",
    "import matplotlib.pyplot as plt\n"
   ]
  },
  {
   "cell_type": "markdown",
   "metadata": {},
   "source": [
    "# check n_wells "
   ]
  },
  {
   "cell_type": "markdown",
   "metadata": {},
   "source": [
    "## Imports"
   ]
  },
  {
   "cell_type": "code",
   "execution_count": 8,
   "metadata": {},
   "outputs": [],
   "source": [
    "df_phenom = pd.read_parquet('/projects/synsight/data/openphenom/raw_well_embeddings/wells_em_openphenom.parquet')"
   ]
  },
  {
   "cell_type": "code",
   "execution_count": 2,
   "metadata": {},
   "outputs": [],
   "source": [
    "df_dinov2_s = pd.read_parquet('/projects/synsight/data/dinov2_small/raw_well_embeddings/wells_em_dinov2s.parquet')"
   ]
  },
  {
   "cell_type": "code",
   "execution_count": 77,
   "metadata": {},
   "outputs": [],
   "source": [
    "df_dinov2_g = pd.read_parquet('/projects/synsight/data/dinov2/raw_well_embeddings/wells_em_dinov2.parquet')"
   ]
  },
  {
   "cell_type": "code",
   "execution_count": 11,
   "metadata": {},
   "outputs": [],
   "source": [
    "df_resnet = pd.read_parquet('/projects/cpjump1/jump/images_embeddings/resnet50_raw/metadata/load_wells/df_meta_raw_well.parquet')"
   ]
  },
  {
   "cell_type": "code",
   "execution_count": 12,
   "metadata": {},
   "outputs": [],
   "source": [
    "df_chada = pd.read_parquet('/projects/synsight/data/chada/well_embeddings/metadata_raw_mean.parquet')"
   ]
  },
  {
   "cell_type": "code",
   "execution_count": 13,
   "metadata": {},
   "outputs": [],
   "source": [
    "df_chada_2 = pd.read_parquet('/projects/synsight/data/chada/chada_jump.parquet')"
   ]
  },
  {
   "cell_type": "code",
   "execution_count": 14,
   "metadata": {},
   "outputs": [
    {
     "name": "stderr",
     "output_type": "stream",
     "text": [
      "/tmp/ipykernel_3523065/3787900309.py:1: DtypeWarning: Columns (2,8,9,10,11,12,13,14,15,18,20) have mixed types. Specify dtype option on import or set low_memory=False.\n",
      "  df_meta = pd.read_csv('/projects/cpjump1/jump/metadata/complete_metadata.csv')\n"
     ]
    }
   ],
   "source": [
    "df_meta = pd.read_csv('/projects/cpjump1/jump/metadata/complete_metadata.csv')"
   ]
  },
  {
   "cell_type": "markdown",
   "metadata": {},
   "source": [
    "## Reference"
   ]
  },
  {
   "cell_type": "code",
   "execution_count": 15,
   "metadata": {},
   "outputs": [
    {
     "data": {
      "text/html": [
       "<div>\n",
       "<style scoped>\n",
       "    .dataframe tbody tr th:only-of-type {\n",
       "        vertical-align: middle;\n",
       "    }\n",
       "\n",
       "    .dataframe tbody tr th {\n",
       "        vertical-align: top;\n",
       "    }\n",
       "\n",
       "    .dataframe thead th {\n",
       "        text-align: right;\n",
       "    }\n",
       "</style>\n",
       "<table border=\"1\" class=\"dataframe\">\n",
       "  <thead>\n",
       "    <tr style=\"text-align: right;\">\n",
       "      <th></th>\n",
       "      <th>Metadata_Source</th>\n",
       "      <th>Metadata_Batch_x</th>\n",
       "      <th>Metadata_Plate</th>\n",
       "      <th>Metadata_Well</th>\n",
       "      <th>Metadata_Site</th>\n",
       "      <th>FileName_OrigAGP</th>\n",
       "      <th>FileName_OrigDNA</th>\n",
       "      <th>FileName_OrigER</th>\n",
       "      <th>FileName_OrigMito</th>\n",
       "      <th>FileName_OrigRNA</th>\n",
       "      <th>...</th>\n",
       "      <th>Metadata_Symbol_y</th>\n",
       "      <th>Metadata_Microscope_Name</th>\n",
       "      <th>Metadata_Widefield_vs_Confocal</th>\n",
       "      <th>Metadata_Excitation_Type</th>\n",
       "      <th>Metadata_Objective_NA</th>\n",
       "      <th>Metadata_N_Brightfield_Planes_Min</th>\n",
       "      <th>Metadata_N_Brightfield_Planes_Max</th>\n",
       "      <th>Metadata_Distance_Between_Z_Microns</th>\n",
       "      <th>Metadata_Sites_Per_Well</th>\n",
       "      <th>Metadata_Filter_Configuration</th>\n",
       "    </tr>\n",
       "  </thead>\n",
       "  <tbody>\n",
       "    <tr>\n",
       "      <th>0</th>\n",
       "      <td>source_10</td>\n",
       "      <td>2021_05_31_U2OS_48_hr_run1</td>\n",
       "      <td>Dest210531-152149</td>\n",
       "      <td>A01</td>\n",
       "      <td>1</td>\n",
       "      <td>/projects/cpjump3/jump/images/source_10/2021_0...</td>\n",
       "      <td>/projects/cpjump3/jump/images/source_10/2021_0...</td>\n",
       "      <td>/projects/cpjump3/jump/images/source_10/2021_0...</td>\n",
       "      <td>/projects/cpjump3/jump/images/source_10/2021_0...</td>\n",
       "      <td>/projects/cpjump3/jump/images/source_10/2021_0...</td>\n",
       "      <td>...</td>\n",
       "      <td>NaN</td>\n",
       "      <td>CV8000</td>\n",
       "      <td>Confocal</td>\n",
       "      <td>Laser</td>\n",
       "      <td>0.75</td>\n",
       "      <td>3</td>\n",
       "      <td>3</td>\n",
       "      <td>5.0</td>\n",
       "      <td>6</td>\n",
       "      <td>A</td>\n",
       "    </tr>\n",
       "    <tr>\n",
       "      <th>1</th>\n",
       "      <td>source_10</td>\n",
       "      <td>2021_05_31_U2OS_48_hr_run1</td>\n",
       "      <td>Dest210531-152149</td>\n",
       "      <td>A01</td>\n",
       "      <td>3</td>\n",
       "      <td>/projects/cpjump3/jump/images/source_10/2021_0...</td>\n",
       "      <td>/projects/cpjump3/jump/images/source_10/2021_0...</td>\n",
       "      <td>/projects/cpjump3/jump/images/source_10/2021_0...</td>\n",
       "      <td>/projects/cpjump3/jump/images/source_10/2021_0...</td>\n",
       "      <td>/projects/cpjump3/jump/images/source_10/2021_0...</td>\n",
       "      <td>...</td>\n",
       "      <td>NaN</td>\n",
       "      <td>CV8000</td>\n",
       "      <td>Confocal</td>\n",
       "      <td>Laser</td>\n",
       "      <td>0.75</td>\n",
       "      <td>3</td>\n",
       "      <td>3</td>\n",
       "      <td>5.0</td>\n",
       "      <td>6</td>\n",
       "      <td>A</td>\n",
       "    </tr>\n",
       "    <tr>\n",
       "      <th>2</th>\n",
       "      <td>source_10</td>\n",
       "      <td>2021_05_31_U2OS_48_hr_run1</td>\n",
       "      <td>Dest210531-152149</td>\n",
       "      <td>A01</td>\n",
       "      <td>6</td>\n",
       "      <td>/projects/cpjump3/jump/images/source_10/2021_0...</td>\n",
       "      <td>/projects/cpjump3/jump/images/source_10/2021_0...</td>\n",
       "      <td>/projects/cpjump3/jump/images/source_10/2021_0...</td>\n",
       "      <td>/projects/cpjump3/jump/images/source_10/2021_0...</td>\n",
       "      <td>/projects/cpjump3/jump/images/source_10/2021_0...</td>\n",
       "      <td>...</td>\n",
       "      <td>NaN</td>\n",
       "      <td>CV8000</td>\n",
       "      <td>Confocal</td>\n",
       "      <td>Laser</td>\n",
       "      <td>0.75</td>\n",
       "      <td>3</td>\n",
       "      <td>3</td>\n",
       "      <td>5.0</td>\n",
       "      <td>6</td>\n",
       "      <td>A</td>\n",
       "    </tr>\n",
       "    <tr>\n",
       "      <th>3</th>\n",
       "      <td>source_10</td>\n",
       "      <td>2021_05_31_U2OS_48_hr_run1</td>\n",
       "      <td>Dest210531-152149</td>\n",
       "      <td>A02</td>\n",
       "      <td>1</td>\n",
       "      <td>/projects/cpjump3/jump/images/source_10/2021_0...</td>\n",
       "      <td>/projects/cpjump3/jump/images/source_10/2021_0...</td>\n",
       "      <td>/projects/cpjump3/jump/images/source_10/2021_0...</td>\n",
       "      <td>/projects/cpjump3/jump/images/source_10/2021_0...</td>\n",
       "      <td>/projects/cpjump3/jump/images/source_10/2021_0...</td>\n",
       "      <td>...</td>\n",
       "      <td>NaN</td>\n",
       "      <td>CV8000</td>\n",
       "      <td>Confocal</td>\n",
       "      <td>Laser</td>\n",
       "      <td>0.75</td>\n",
       "      <td>3</td>\n",
       "      <td>3</td>\n",
       "      <td>5.0</td>\n",
       "      <td>6</td>\n",
       "      <td>A</td>\n",
       "    </tr>\n",
       "    <tr>\n",
       "      <th>4</th>\n",
       "      <td>source_10</td>\n",
       "      <td>2021_05_31_U2OS_48_hr_run1</td>\n",
       "      <td>Dest210531-152149</td>\n",
       "      <td>A02</td>\n",
       "      <td>2</td>\n",
       "      <td>/projects/cpjump3/jump/images/source_10/2021_0...</td>\n",
       "      <td>/projects/cpjump3/jump/images/source_10/2021_0...</td>\n",
       "      <td>/projects/cpjump3/jump/images/source_10/2021_0...</td>\n",
       "      <td>/projects/cpjump3/jump/images/source_10/2021_0...</td>\n",
       "      <td>/projects/cpjump3/jump/images/source_10/2021_0...</td>\n",
       "      <td>...</td>\n",
       "      <td>NaN</td>\n",
       "      <td>CV8000</td>\n",
       "      <td>Confocal</td>\n",
       "      <td>Laser</td>\n",
       "      <td>0.75</td>\n",
       "      <td>3</td>\n",
       "      <td>3</td>\n",
       "      <td>5.0</td>\n",
       "      <td>6</td>\n",
       "      <td>A</td>\n",
       "    </tr>\n",
       "    <tr>\n",
       "      <th>...</th>\n",
       "      <td>...</td>\n",
       "      <td>...</td>\n",
       "      <td>...</td>\n",
       "      <td>...</td>\n",
       "      <td>...</td>\n",
       "      <td>...</td>\n",
       "      <td>...</td>\n",
       "      <td>...</td>\n",
       "      <td>...</td>\n",
       "      <td>...</td>\n",
       "      <td>...</td>\n",
       "      <td>...</td>\n",
       "      <td>...</td>\n",
       "      <td>...</td>\n",
       "      <td>...</td>\n",
       "      <td>...</td>\n",
       "      <td>...</td>\n",
       "      <td>...</td>\n",
       "      <td>...</td>\n",
       "      <td>...</td>\n",
       "      <td>...</td>\n",
       "    </tr>\n",
       "    <tr>\n",
       "      <th>5121195</th>\n",
       "      <td>source_9</td>\n",
       "      <td>20211103-Run16</td>\n",
       "      <td>GR00004421</td>\n",
       "      <td>Z47</td>\n",
       "      <td>3</td>\n",
       "      <td>/projects/cpjump1/jump/images/source_9/2021110...</td>\n",
       "      <td>/projects/cpjump1/jump/images/source_9/2021110...</td>\n",
       "      <td>/projects/cpjump1/jump/images/source_9/2021110...</td>\n",
       "      <td>/projects/cpjump1/jump/images/source_9/2021110...</td>\n",
       "      <td>/projects/cpjump1/jump/images/source_9/2021110...</td>\n",
       "      <td>...</td>\n",
       "      <td>NaN</td>\n",
       "      <td>Opera Phenix</td>\n",
       "      <td>Widefield</td>\n",
       "      <td>Laser</td>\n",
       "      <td>0.80</td>\n",
       "      <td>0</td>\n",
       "      <td>0</td>\n",
       "      <td>NaN</td>\n",
       "      <td>4</td>\n",
       "      <td>H</td>\n",
       "    </tr>\n",
       "    <tr>\n",
       "      <th>5121196</th>\n",
       "      <td>source_9</td>\n",
       "      <td>20211103-Run16</td>\n",
       "      <td>GR00004421</td>\n",
       "      <td>Z47</td>\n",
       "      <td>4</td>\n",
       "      <td>/projects/cpjump1/jump/images/source_9/2021110...</td>\n",
       "      <td>/projects/cpjump1/jump/images/source_9/2021110...</td>\n",
       "      <td>/projects/cpjump1/jump/images/source_9/2021110...</td>\n",
       "      <td>/projects/cpjump1/jump/images/source_9/2021110...</td>\n",
       "      <td>/projects/cpjump1/jump/images/source_9/2021110...</td>\n",
       "      <td>...</td>\n",
       "      <td>NaN</td>\n",
       "      <td>Opera Phenix</td>\n",
       "      <td>Widefield</td>\n",
       "      <td>Laser</td>\n",
       "      <td>0.80</td>\n",
       "      <td>0</td>\n",
       "      <td>0</td>\n",
       "      <td>NaN</td>\n",
       "      <td>4</td>\n",
       "      <td>H</td>\n",
       "    </tr>\n",
       "    <tr>\n",
       "      <th>5121197</th>\n",
       "      <td>source_9</td>\n",
       "      <td>20211103-Run16</td>\n",
       "      <td>GR00004421</td>\n",
       "      <td>Z48</td>\n",
       "      <td>1</td>\n",
       "      <td>/projects/cpjump1/jump/images/source_9/2021110...</td>\n",
       "      <td>/projects/cpjump1/jump/images/source_9/2021110...</td>\n",
       "      <td>/projects/cpjump1/jump/images/source_9/2021110...</td>\n",
       "      <td>/projects/cpjump1/jump/images/source_9/2021110...</td>\n",
       "      <td>/projects/cpjump1/jump/images/source_9/2021110...</td>\n",
       "      <td>...</td>\n",
       "      <td>NaN</td>\n",
       "      <td>Opera Phenix</td>\n",
       "      <td>Widefield</td>\n",
       "      <td>Laser</td>\n",
       "      <td>0.80</td>\n",
       "      <td>0</td>\n",
       "      <td>0</td>\n",
       "      <td>NaN</td>\n",
       "      <td>4</td>\n",
       "      <td>H</td>\n",
       "    </tr>\n",
       "    <tr>\n",
       "      <th>5121198</th>\n",
       "      <td>source_9</td>\n",
       "      <td>20211103-Run16</td>\n",
       "      <td>GR00004421</td>\n",
       "      <td>Z48</td>\n",
       "      <td>2</td>\n",
       "      <td>/projects/cpjump1/jump/images/source_9/2021110...</td>\n",
       "      <td>/projects/cpjump1/jump/images/source_9/2021110...</td>\n",
       "      <td>/projects/cpjump1/jump/images/source_9/2021110...</td>\n",
       "      <td>/projects/cpjump1/jump/images/source_9/2021110...</td>\n",
       "      <td>/projects/cpjump1/jump/images/source_9/2021110...</td>\n",
       "      <td>...</td>\n",
       "      <td>NaN</td>\n",
       "      <td>Opera Phenix</td>\n",
       "      <td>Widefield</td>\n",
       "      <td>Laser</td>\n",
       "      <td>0.80</td>\n",
       "      <td>0</td>\n",
       "      <td>0</td>\n",
       "      <td>NaN</td>\n",
       "      <td>4</td>\n",
       "      <td>H</td>\n",
       "    </tr>\n",
       "    <tr>\n",
       "      <th>5121199</th>\n",
       "      <td>source_9</td>\n",
       "      <td>20211103-Run16</td>\n",
       "      <td>GR00004421</td>\n",
       "      <td>Z48</td>\n",
       "      <td>3</td>\n",
       "      <td>/projects/cpjump1/jump/images/source_9/2021110...</td>\n",
       "      <td>/projects/cpjump1/jump/images/source_9/2021110...</td>\n",
       "      <td>/projects/cpjump1/jump/images/source_9/2021110...</td>\n",
       "      <td>/projects/cpjump1/jump/images/source_9/2021110...</td>\n",
       "      <td>/projects/cpjump1/jump/images/source_9/2021110...</td>\n",
       "      <td>...</td>\n",
       "      <td>NaN</td>\n",
       "      <td>Opera Phenix</td>\n",
       "      <td>Widefield</td>\n",
       "      <td>Laser</td>\n",
       "      <td>0.80</td>\n",
       "      <td>0</td>\n",
       "      <td>0</td>\n",
       "      <td>NaN</td>\n",
       "      <td>4</td>\n",
       "      <td>H</td>\n",
       "    </tr>\n",
       "  </tbody>\n",
       "</table>\n",
       "<p>5121200 rows × 37 columns</p>\n",
       "</div>"
      ],
      "text/plain": [
       "        Metadata_Source            Metadata_Batch_x     Metadata_Plate  \\\n",
       "0             source_10  2021_05_31_U2OS_48_hr_run1  Dest210531-152149   \n",
       "1             source_10  2021_05_31_U2OS_48_hr_run1  Dest210531-152149   \n",
       "2             source_10  2021_05_31_U2OS_48_hr_run1  Dest210531-152149   \n",
       "3             source_10  2021_05_31_U2OS_48_hr_run1  Dest210531-152149   \n",
       "4             source_10  2021_05_31_U2OS_48_hr_run1  Dest210531-152149   \n",
       "...                 ...                         ...                ...   \n",
       "5121195        source_9              20211103-Run16         GR00004421   \n",
       "5121196        source_9              20211103-Run16         GR00004421   \n",
       "5121197        source_9              20211103-Run16         GR00004421   \n",
       "5121198        source_9              20211103-Run16         GR00004421   \n",
       "5121199        source_9              20211103-Run16         GR00004421   \n",
       "\n",
       "        Metadata_Well  Metadata_Site  \\\n",
       "0                 A01              1   \n",
       "1                 A01              3   \n",
       "2                 A01              6   \n",
       "3                 A02              1   \n",
       "4                 A02              2   \n",
       "...               ...            ...   \n",
       "5121195           Z47              3   \n",
       "5121196           Z47              4   \n",
       "5121197           Z48              1   \n",
       "5121198           Z48              2   \n",
       "5121199           Z48              3   \n",
       "\n",
       "                                          FileName_OrigAGP  \\\n",
       "0        /projects/cpjump3/jump/images/source_10/2021_0...   \n",
       "1        /projects/cpjump3/jump/images/source_10/2021_0...   \n",
       "2        /projects/cpjump3/jump/images/source_10/2021_0...   \n",
       "3        /projects/cpjump3/jump/images/source_10/2021_0...   \n",
       "4        /projects/cpjump3/jump/images/source_10/2021_0...   \n",
       "...                                                    ...   \n",
       "5121195  /projects/cpjump1/jump/images/source_9/2021110...   \n",
       "5121196  /projects/cpjump1/jump/images/source_9/2021110...   \n",
       "5121197  /projects/cpjump1/jump/images/source_9/2021110...   \n",
       "5121198  /projects/cpjump1/jump/images/source_9/2021110...   \n",
       "5121199  /projects/cpjump1/jump/images/source_9/2021110...   \n",
       "\n",
       "                                          FileName_OrigDNA  \\\n",
       "0        /projects/cpjump3/jump/images/source_10/2021_0...   \n",
       "1        /projects/cpjump3/jump/images/source_10/2021_0...   \n",
       "2        /projects/cpjump3/jump/images/source_10/2021_0...   \n",
       "3        /projects/cpjump3/jump/images/source_10/2021_0...   \n",
       "4        /projects/cpjump3/jump/images/source_10/2021_0...   \n",
       "...                                                    ...   \n",
       "5121195  /projects/cpjump1/jump/images/source_9/2021110...   \n",
       "5121196  /projects/cpjump1/jump/images/source_9/2021110...   \n",
       "5121197  /projects/cpjump1/jump/images/source_9/2021110...   \n",
       "5121198  /projects/cpjump1/jump/images/source_9/2021110...   \n",
       "5121199  /projects/cpjump1/jump/images/source_9/2021110...   \n",
       "\n",
       "                                           FileName_OrigER  \\\n",
       "0        /projects/cpjump3/jump/images/source_10/2021_0...   \n",
       "1        /projects/cpjump3/jump/images/source_10/2021_0...   \n",
       "2        /projects/cpjump3/jump/images/source_10/2021_0...   \n",
       "3        /projects/cpjump3/jump/images/source_10/2021_0...   \n",
       "4        /projects/cpjump3/jump/images/source_10/2021_0...   \n",
       "...                                                    ...   \n",
       "5121195  /projects/cpjump1/jump/images/source_9/2021110...   \n",
       "5121196  /projects/cpjump1/jump/images/source_9/2021110...   \n",
       "5121197  /projects/cpjump1/jump/images/source_9/2021110...   \n",
       "5121198  /projects/cpjump1/jump/images/source_9/2021110...   \n",
       "5121199  /projects/cpjump1/jump/images/source_9/2021110...   \n",
       "\n",
       "                                         FileName_OrigMito  \\\n",
       "0        /projects/cpjump3/jump/images/source_10/2021_0...   \n",
       "1        /projects/cpjump3/jump/images/source_10/2021_0...   \n",
       "2        /projects/cpjump3/jump/images/source_10/2021_0...   \n",
       "3        /projects/cpjump3/jump/images/source_10/2021_0...   \n",
       "4        /projects/cpjump3/jump/images/source_10/2021_0...   \n",
       "...                                                    ...   \n",
       "5121195  /projects/cpjump1/jump/images/source_9/2021110...   \n",
       "5121196  /projects/cpjump1/jump/images/source_9/2021110...   \n",
       "5121197  /projects/cpjump1/jump/images/source_9/2021110...   \n",
       "5121198  /projects/cpjump1/jump/images/source_9/2021110...   \n",
       "5121199  /projects/cpjump1/jump/images/source_9/2021110...   \n",
       "\n",
       "                                          FileName_OrigRNA  ...  \\\n",
       "0        /projects/cpjump3/jump/images/source_10/2021_0...  ...   \n",
       "1        /projects/cpjump3/jump/images/source_10/2021_0...  ...   \n",
       "2        /projects/cpjump3/jump/images/source_10/2021_0...  ...   \n",
       "3        /projects/cpjump3/jump/images/source_10/2021_0...  ...   \n",
       "4        /projects/cpjump3/jump/images/source_10/2021_0...  ...   \n",
       "...                                                    ...  ...   \n",
       "5121195  /projects/cpjump1/jump/images/source_9/2021110...  ...   \n",
       "5121196  /projects/cpjump1/jump/images/source_9/2021110...  ...   \n",
       "5121197  /projects/cpjump1/jump/images/source_9/2021110...  ...   \n",
       "5121198  /projects/cpjump1/jump/images/source_9/2021110...  ...   \n",
       "5121199  /projects/cpjump1/jump/images/source_9/2021110...  ...   \n",
       "\n",
       "        Metadata_Symbol_y Metadata_Microscope_Name  \\\n",
       "0                     NaN                   CV8000   \n",
       "1                     NaN                   CV8000   \n",
       "2                     NaN                   CV8000   \n",
       "3                     NaN                   CV8000   \n",
       "4                     NaN                   CV8000   \n",
       "...                   ...                      ...   \n",
       "5121195               NaN             Opera Phenix   \n",
       "5121196               NaN             Opera Phenix   \n",
       "5121197               NaN             Opera Phenix   \n",
       "5121198               NaN             Opera Phenix   \n",
       "5121199               NaN             Opera Phenix   \n",
       "\n",
       "        Metadata_Widefield_vs_Confocal Metadata_Excitation_Type  \\\n",
       "0                             Confocal                    Laser   \n",
       "1                             Confocal                    Laser   \n",
       "2                             Confocal                    Laser   \n",
       "3                             Confocal                    Laser   \n",
       "4                             Confocal                    Laser   \n",
       "...                                ...                      ...   \n",
       "5121195                      Widefield                    Laser   \n",
       "5121196                      Widefield                    Laser   \n",
       "5121197                      Widefield                    Laser   \n",
       "5121198                      Widefield                    Laser   \n",
       "5121199                      Widefield                    Laser   \n",
       "\n",
       "        Metadata_Objective_NA Metadata_N_Brightfield_Planes_Min  \\\n",
       "0                        0.75                                 3   \n",
       "1                        0.75                                 3   \n",
       "2                        0.75                                 3   \n",
       "3                        0.75                                 3   \n",
       "4                        0.75                                 3   \n",
       "...                       ...                               ...   \n",
       "5121195                  0.80                                 0   \n",
       "5121196                  0.80                                 0   \n",
       "5121197                  0.80                                 0   \n",
       "5121198                  0.80                                 0   \n",
       "5121199                  0.80                                 0   \n",
       "\n",
       "        Metadata_N_Brightfield_Planes_Max Metadata_Distance_Between_Z_Microns  \\\n",
       "0                                       3                                 5.0   \n",
       "1                                       3                                 5.0   \n",
       "2                                       3                                 5.0   \n",
       "3                                       3                                 5.0   \n",
       "4                                       3                                 5.0   \n",
       "...                                   ...                                 ...   \n",
       "5121195                                 0                                 NaN   \n",
       "5121196                                 0                                 NaN   \n",
       "5121197                                 0                                 NaN   \n",
       "5121198                                 0                                 NaN   \n",
       "5121199                                 0                                 NaN   \n",
       "\n",
       "        Metadata_Sites_Per_Well Metadata_Filter_Configuration  \n",
       "0                             6                             A  \n",
       "1                             6                             A  \n",
       "2                             6                             A  \n",
       "3                             6                             A  \n",
       "4                             6                             A  \n",
       "...                         ...                           ...  \n",
       "5121195                       4                             H  \n",
       "5121196                       4                             H  \n",
       "5121197                       4                             H  \n",
       "5121198                       4                             H  \n",
       "5121199                       4                             H  \n",
       "\n",
       "[5121200 rows x 37 columns]"
      ]
     },
     "execution_count": 15,
     "metadata": {},
     "output_type": "execute_result"
    }
   ],
   "source": [
    "images_df_path = \"/projects/cpjump1/jump/load_data/final\"\n",
    "images_df = pd.read_parquet(images_df_path)\n",
    "\n",
    "images_df[\"Metadata_Batch\"] = images_df[\"Metadata_Batch\"].astype(str)\n",
    "df_meta[\"Metadata_Batch\"] = df_meta[\"Metadata_Batch\"].astype(str)\n",
    "images_df[\"Metadata_Plate\"] = images_df[\"Metadata_Plate\"].astype(str)\n",
    "df_meta[\"Metadata_Plate\"] = df_meta[\"Metadata_Plate\"].astype(str)\n",
    "images_df[\"Metadata_Source\"] = images_df[\"Metadata_Source\"].astype(str)\n",
    "df_meta[\"Metadata_Source\"] = df_meta[\"Metadata_Source\"].astype(str)\n",
    "images_df[\"Metadata_Well\"] = images_df[\"Metadata_Well\"].astype(str)\n",
    "df_meta[\"Metadata_Well\"] = df_meta[\"Metadata_Well\"].astype(str)\n",
    "\n",
    "merged_df = pd.merge(images_df, df_meta, on=[\"Metadata_Source\", \"Metadata_Plate\", \"Metadata_Well\"])\n",
    "merged_df"
   ]
  },
  {
   "cell_type": "code",
   "execution_count": 10,
   "metadata": {},
   "outputs": [
    {
     "data": {
      "text/plain": [
       "5121200"
      ]
     },
     "execution_count": 10,
     "metadata": {},
     "output_type": "execute_result"
    }
   ],
   "source": [
    "len(merged_df)"
   ]
  },
  {
   "cell_type": "code",
   "execution_count": 11,
   "metadata": {},
   "outputs": [
    {
     "data": {
      "text/plain": [
       "112482"
      ]
     },
     "execution_count": 11,
     "metadata": {},
     "output_type": "execute_result"
    }
   ],
   "source": [
    "merged_df[(merged_df['Metadata_PlateType']=='COMPOUND')][\"Metadata_JCP2022\"].nunique()"
   ]
  },
  {
   "cell_type": "code",
   "execution_count": 62,
   "metadata": {},
   "outputs": [
    {
     "data": {
      "text/plain": [
       "115733"
      ]
     },
     "execution_count": 62,
     "metadata": {},
     "output_type": "execute_result"
    }
   ],
   "source": [
    "df_meta[(df_meta['Metadata_PlateType']=='COMPOUND')][\"Metadata_JCP2022\"].nunique()"
   ]
  },
  {
   "cell_type": "code",
   "execution_count": 68,
   "metadata": {},
   "outputs": [],
   "source": [
    "key_columns = ['Metadata_Source', 'Metadata_Plate', 'Metadata_Well']\n",
    "\n",
    "df1 = merged_df[merged_df['Metadata_PlateType']=='COMPOUND'][['Metadata_Source', 'Metadata_Well', 'Metadata_Plate', 'Metadata_JCP2022']]\n",
    "df2 = df_meta[(df_meta['Metadata_PlateType']=='COMPOUND')]\n",
    "only_in_df1 = df1.merge(df2, on=key_columns, how='left', indicator=True).query('_merge == \"left_only\"').drop('_merge', axis=1)\n",
    "only_in_df2 = df2.merge(df1, on=key_columns, how='left', indicator=True).query('_merge == \"left_only\"').drop('_merge', axis=1)"
   ]
  },
  {
   "cell_type": "code",
   "execution_count": 80,
   "metadata": {},
   "outputs": [
    {
     "data": {
      "text/plain": [
       "array(['Dest210803-160702', 'EC000157'], dtype=object)"
      ]
     },
     "execution_count": 80,
     "metadata": {},
     "output_type": "execute_result"
    }
   ],
   "source": [
    "only_in_df2[only_in_df2['Metadata_Source']!='source_7']['Metadata_Plate'].unique()"
   ]
  },
  {
   "cell_type": "code",
   "execution_count": 95,
   "metadata": {},
   "outputs": [],
   "source": [
    "key_columns = ['Metadata_Source', 'Metadata_Plate', 'Metadata_Well']\n",
    "\n",
    "df1 = merged_df[merged_df['Metadata_PlateType']!='COMPOUND'][['Metadata_Source', 'Metadata_Well', 'Metadata_Plate', 'Metadata_JCP2022']]\n",
    "df2 = df_meta[(df_meta['Metadata_PlateType'].isin(['TARGET2', 'CRISPR', 'ORF', 'TARGET1']))]\n",
    "only_in_df1 = df1.merge(df2, on=key_columns, how='left', indicator=True).query('_merge == \"left_only\"').drop('_merge', axis=1)\n",
    "only_in_df2 = df2.merge(df1, on=key_columns, how='left', indicator=True).query('_merge == \"left_only\"').drop('_merge', axis=1)"
   ]
  },
  {
   "cell_type": "code",
   "execution_count": 99,
   "metadata": {},
   "outputs": [
    {
     "data": {
      "text/plain": [
       "Metadata_Source\n",
       "source_4    9442\n",
       "source_7    2688\n",
       "Name: count, dtype: int64"
      ]
     },
     "execution_count": 99,
     "metadata": {},
     "output_type": "execute_result"
    }
   ],
   "source": [
    "only_in_df2['Metadata_Source'].value_counts()"
   ]
  },
  {
   "cell_type": "code",
   "execution_count": 16,
   "metadata": {},
   "outputs": [],
   "source": [
    "df = merged_df[merged_df[\"Metadata_PlateType\"]=='COMPOUND'][['Metadata_Source', 'Metadata_Batch_x', 'Metadata_Plate',\n",
    "       'Metadata_Well', 'Metadata_JCP2022', 'Metadata_InChI']]\n",
    "df.columns = ['Metadata_Source', 'Metadata_Batch', 'Metadata_Plate', 'Metadata_Well', 'Metadata_JCP2022', 'Metadata_InChI']"
   ]
  },
  {
   "cell_type": "code",
   "execution_count": 17,
   "metadata": {},
   "outputs": [
    {
     "name": "stderr",
     "output_type": "stream",
     "text": [
      "/tmp/ipykernel_3523065/1714066172.py:1: UserWarning: Boolean Series key will be reindexed to match DataFrame index.\n",
      "  ref_compound_df = df[~df['Metadata_JCP2022'].isin(['JCP2022_999999', 'JCP2022_UNKNOWN'])].drop_duplicates()[~df['Metadata_JCP2022'].isin(['JCP2022_999999', 'JCP2022_UNKNOWN'])].reset_index().drop(columns='index')\n"
     ]
    }
   ],
   "source": [
    "ref_compound_df = df[~df['Metadata_JCP2022'].isin(['JCP2022_999999', 'JCP2022_UNKNOWN'])].drop_duplicates()[~df['Metadata_JCP2022'].isin(['JCP2022_999999', 'JCP2022_UNKNOWN'])].reset_index().drop(columns='index')"
   ]
  },
  {
   "cell_type": "code",
   "execution_count": 18,
   "metadata": {},
   "outputs": [
    {
     "data": {
      "text/html": [
       "<div>\n",
       "<style scoped>\n",
       "    .dataframe tbody tr th:only-of-type {\n",
       "        vertical-align: middle;\n",
       "    }\n",
       "\n",
       "    .dataframe tbody tr th {\n",
       "        vertical-align: top;\n",
       "    }\n",
       "\n",
       "    .dataframe thead th {\n",
       "        text-align: right;\n",
       "    }\n",
       "</style>\n",
       "<table border=\"1\" class=\"dataframe\">\n",
       "  <thead>\n",
       "    <tr style=\"text-align: right;\">\n",
       "      <th></th>\n",
       "      <th>Metadata_Source</th>\n",
       "      <th>Metadata_Batch</th>\n",
       "      <th>Metadata_Plate</th>\n",
       "      <th>Metadata_Well</th>\n",
       "      <th>Metadata_JCP2022</th>\n",
       "      <th>Metadata_InChI</th>\n",
       "    </tr>\n",
       "  </thead>\n",
       "  <tbody>\n",
       "    <tr>\n",
       "      <th>0</th>\n",
       "      <td>source_10</td>\n",
       "      <td>2021_05_31_U2OS_48_hr_run1</td>\n",
       "      <td>Dest210531-152149</td>\n",
       "      <td>A01</td>\n",
       "      <td>JCP2022_085227</td>\n",
       "      <td>InChI=1S/C17H30N2O5/c1-6-23-17(22)14-13(24-14)...</td>\n",
       "    </tr>\n",
       "    <tr>\n",
       "      <th>1</th>\n",
       "      <td>source_10</td>\n",
       "      <td>2021_05_31_U2OS_48_hr_run1</td>\n",
       "      <td>Dest210531-152149</td>\n",
       "      <td>A02</td>\n",
       "      <td>JCP2022_033924</td>\n",
       "      <td>InChI=1S/C2H6OS/c1-4(2)3/h1-2H3</td>\n",
       "    </tr>\n",
       "    <tr>\n",
       "      <th>2</th>\n",
       "      <td>source_10</td>\n",
       "      <td>2021_05_31_U2OS_48_hr_run1</td>\n",
       "      <td>Dest210531-152149</td>\n",
       "      <td>A03</td>\n",
       "      <td>JCP2022_056163</td>\n",
       "      <td>InChI=1S/C21H20ClN3O4/c1-27-18-8-7-15(9-19(18)...</td>\n",
       "    </tr>\n",
       "    <tr>\n",
       "      <th>3</th>\n",
       "      <td>source_10</td>\n",
       "      <td>2021_05_31_U2OS_48_hr_run1</td>\n",
       "      <td>Dest210531-152149</td>\n",
       "      <td>A04</td>\n",
       "      <td>JCP2022_054175</td>\n",
       "      <td>InChI=1S/C21H29N3O3/c1-27-16-7-5-14(6-8-16)17-...</td>\n",
       "    </tr>\n",
       "    <tr>\n",
       "      <th>4</th>\n",
       "      <td>source_10</td>\n",
       "      <td>2021_05_31_U2OS_48_hr_run1</td>\n",
       "      <td>Dest210531-152149</td>\n",
       "      <td>A06</td>\n",
       "      <td>JCP2022_008983</td>\n",
       "      <td>InChI=1S/C21H17ClFN3O3/c1-25-19(27)17-16(15-13...</td>\n",
       "    </tr>\n",
       "    <tr>\n",
       "      <th>...</th>\n",
       "      <td>...</td>\n",
       "      <td>...</td>\n",
       "      <td>...</td>\n",
       "      <td>...</td>\n",
       "      <td>...</td>\n",
       "      <td>...</td>\n",
       "    </tr>\n",
       "    <tr>\n",
       "      <th>746870</th>\n",
       "      <td>source_9</td>\n",
       "      <td>20211103-Run16</td>\n",
       "      <td>GR00004421</td>\n",
       "      <td>Z24</td>\n",
       "      <td>JCP2022_037716</td>\n",
       "      <td>InChI=1S/C28H21N7OS/c1-17-15-24(37-16-17)25-20...</td>\n",
       "    </tr>\n",
       "    <tr>\n",
       "      <th>746871</th>\n",
       "      <td>source_9</td>\n",
       "      <td>20211103-Run16</td>\n",
       "      <td>GR00004421</td>\n",
       "      <td>Z25</td>\n",
       "      <td>JCP2022_037716</td>\n",
       "      <td>InChI=1S/C28H21N7OS/c1-17-15-24(37-16-17)25-20...</td>\n",
       "    </tr>\n",
       "    <tr>\n",
       "      <th>746872</th>\n",
       "      <td>source_9</td>\n",
       "      <td>20211103-Run16</td>\n",
       "      <td>GR00004421</td>\n",
       "      <td>Z26</td>\n",
       "      <td>JCP2022_033924</td>\n",
       "      <td>InChI=1S/C2H6OS/c1-4(2)3/h1-2H3</td>\n",
       "    </tr>\n",
       "    <tr>\n",
       "      <th>746873</th>\n",
       "      <td>source_9</td>\n",
       "      <td>20211103-Run16</td>\n",
       "      <td>GR00004421</td>\n",
       "      <td>Z47</td>\n",
       "      <td>JCP2022_033924</td>\n",
       "      <td>InChI=1S/C2H6OS/c1-4(2)3/h1-2H3</td>\n",
       "    </tr>\n",
       "    <tr>\n",
       "      <th>746874</th>\n",
       "      <td>source_9</td>\n",
       "      <td>20211103-Run16</td>\n",
       "      <td>GR00004421</td>\n",
       "      <td>Z48</td>\n",
       "      <td>JCP2022_037716</td>\n",
       "      <td>InChI=1S/C28H21N7OS/c1-17-15-24(37-16-17)25-20...</td>\n",
       "    </tr>\n",
       "  </tbody>\n",
       "</table>\n",
       "<p>746875 rows × 6 columns</p>\n",
       "</div>"
      ],
      "text/plain": [
       "       Metadata_Source              Metadata_Batch     Metadata_Plate  \\\n",
       "0            source_10  2021_05_31_U2OS_48_hr_run1  Dest210531-152149   \n",
       "1            source_10  2021_05_31_U2OS_48_hr_run1  Dest210531-152149   \n",
       "2            source_10  2021_05_31_U2OS_48_hr_run1  Dest210531-152149   \n",
       "3            source_10  2021_05_31_U2OS_48_hr_run1  Dest210531-152149   \n",
       "4            source_10  2021_05_31_U2OS_48_hr_run1  Dest210531-152149   \n",
       "...                ...                         ...                ...   \n",
       "746870        source_9              20211103-Run16         GR00004421   \n",
       "746871        source_9              20211103-Run16         GR00004421   \n",
       "746872        source_9              20211103-Run16         GR00004421   \n",
       "746873        source_9              20211103-Run16         GR00004421   \n",
       "746874        source_9              20211103-Run16         GR00004421   \n",
       "\n",
       "       Metadata_Well Metadata_JCP2022  \\\n",
       "0                A01   JCP2022_085227   \n",
       "1                A02   JCP2022_033924   \n",
       "2                A03   JCP2022_056163   \n",
       "3                A04   JCP2022_054175   \n",
       "4                A06   JCP2022_008983   \n",
       "...              ...              ...   \n",
       "746870           Z24   JCP2022_037716   \n",
       "746871           Z25   JCP2022_037716   \n",
       "746872           Z26   JCP2022_033924   \n",
       "746873           Z47   JCP2022_033924   \n",
       "746874           Z48   JCP2022_037716   \n",
       "\n",
       "                                           Metadata_InChI  \n",
       "0       InChI=1S/C17H30N2O5/c1-6-23-17(22)14-13(24-14)...  \n",
       "1                         InChI=1S/C2H6OS/c1-4(2)3/h1-2H3  \n",
       "2       InChI=1S/C21H20ClN3O4/c1-27-18-8-7-15(9-19(18)...  \n",
       "3       InChI=1S/C21H29N3O3/c1-27-16-7-5-14(6-8-16)17-...  \n",
       "4       InChI=1S/C21H17ClFN3O3/c1-25-19(27)17-16(15-13...  \n",
       "...                                                   ...  \n",
       "746870  InChI=1S/C28H21N7OS/c1-17-15-24(37-16-17)25-20...  \n",
       "746871  InChI=1S/C28H21N7OS/c1-17-15-24(37-16-17)25-20...  \n",
       "746872                    InChI=1S/C2H6OS/c1-4(2)3/h1-2H3  \n",
       "746873                    InChI=1S/C2H6OS/c1-4(2)3/h1-2H3  \n",
       "746874  InChI=1S/C28H21N7OS/c1-17-15-24(37-16-17)25-20...  \n",
       "\n",
       "[746875 rows x 6 columns]"
      ]
     },
     "execution_count": 18,
     "metadata": {},
     "output_type": "execute_result"
    }
   ],
   "source": [
    "ref_compound_df"
   ]
  },
  {
   "cell_type": "code",
   "execution_count": 25,
   "metadata": {},
   "outputs": [
    {
     "data": {
      "text/plain": [
       "Metadata_JCP2022\n",
       "JCP2022_033924    81340\n",
       "JCP2022_037716     7666\n",
       "JCP2022_064022     7663\n",
       "JCP2022_025848     7660\n",
       "JCP2022_046054     7654\n",
       "JCP2022_050797     7649\n",
       "JCP2022_012818     7643\n",
       "JCP2022_085227     7238\n",
       "JCP2022_035095     6078\n",
       "JCP2022_033954     1589\n",
       "Name: count, dtype: int64"
      ]
     },
     "execution_count": 25,
     "metadata": {},
     "output_type": "execute_result"
    }
   ],
   "source": [
    "ref_compound_df['Metadata_JCP2022'].value_counts()[:10]"
   ]
  },
  {
   "cell_type": "code",
   "execution_count": 19,
   "metadata": {},
   "outputs": [],
   "source": [
    "count = ref_compound_df['Metadata_JCP2022'].value_counts().values"
   ]
  },
  {
   "cell_type": "code",
   "execution_count": 37,
   "metadata": {},
   "outputs": [
    {
     "data": {
      "image/png": "[encoded data removed]",
      "text/plain": [
       "<Figure size 1000x600 with 1 Axes>"
      ]
     },
     "metadata": {},
     "output_type": "display_data"
    }
   ],
   "source": [
    "plt.figure(figsize=(10, 6))  # Set figure size\n",
    "plt.hist(count[10:], bins=100, log=False, color='skyblue', edgecolor='black', alpha=0.7)\n",
    "\n",
    "# Add labels and title\n",
    "plt.title('Histogram of Well by JCP2022 id (excluding controls)', fontsize=16)\n",
    "plt.xlabel('Count', fontsize=14)\n",
    "plt.ylabel('Frequency', fontsize=14)\n",
    "\n",
    "# Add grid for better readability\n",
    "plt.grid(axis='y', linestyle='--', alpha=0.6)\n",
    "\n",
    "# Show the plot\n",
    "plt.tight_layout()\n",
    "plt.show()\n"
   ]
  },
  {
   "cell_type": "markdown",
   "metadata": {},
   "source": [
    "## Counts"
   ]
  },
  {
   "cell_type": "markdown",
   "metadata": {},
   "source": [
    "### Resnet"
   ]
  },
  {
   "cell_type": "code",
   "execution_count": 121,
   "metadata": {},
   "outputs": [
    {
     "data": {
      "text/plain": [
       "785137"
      ]
     },
     "execution_count": 121,
     "metadata": {},
     "output_type": "execute_result"
    }
   ],
   "source": [
    "len(ref_compound_df)"
   ]
  },
  {
   "cell_type": "code",
   "execution_count": 122,
   "metadata": {},
   "outputs": [
    {
     "data": {
      "text/plain": [
       "746875"
      ]
     },
     "execution_count": 122,
     "metadata": {},
     "output_type": "execute_result"
    }
   ],
   "source": [
    "len(df_resnet)"
   ]
  },
  {
   "cell_type": "code",
   "execution_count": 16,
   "metadata": {},
   "outputs": [],
   "source": [
    "\n",
    "df2 = df_resnet.copy(deep=True)\n",
    "\n",
    "key_columns = ['Metadata_Source', 'Metadata_Plate', 'Metadata_Well']\n",
    "\n",
    "only_in_ref = ref_compound_df.merge(df2, on=key_columns, how='left', indicator=True).query('_merge == \"left_only\"').drop('_merge', axis=1)\n",
    "only_in_df2 = df2.merge(ref_compound_df, on=key_columns, how='left', indicator=True).query('_merge == \"left_only\"').drop('_merge', axis=1)\n",
    "\n"
   ]
  },
  {
   "cell_type": "code",
   "execution_count": 154,
   "metadata": {},
   "outputs": [
    {
     "name": "stdout",
     "output_type": "stream",
     "text": [
      "0\n",
      "0\n"
     ]
    }
   ],
   "source": [
    "print(len(only_in_df2))\n",
    "print(len(only_in_ref))"
   ]
  },
  {
   "cell_type": "markdown",
   "metadata": {},
   "source": [
    "### chada"
   ]
  },
  {
   "cell_type": "code",
   "execution_count": 155,
   "metadata": {},
   "outputs": [
    {
     "data": {
      "text/plain": [
       "746870"
      ]
     },
     "execution_count": 155,
     "metadata": {},
     "output_type": "execute_result"
    }
   ],
   "source": [
    "len(df_chada)"
   ]
  },
  {
   "cell_type": "code",
   "execution_count": 158,
   "metadata": {},
   "outputs": [
    {
     "name": "stdout",
     "output_type": "stream",
     "text": [
      "0\n",
      "5\n"
     ]
    }
   ],
   "source": [
    "\n",
    "df2 = df_chada.copy(deep=True)\n",
    "\n",
    "key_columns = ['Metadata_Source', 'Metadata_Plate', 'Metadata_Well']\n",
    "\n",
    "only_in_ref = ref_compound_df.merge(df2, on=key_columns, how='left', indicator=True).query('_merge == \"left_only\"').drop('_merge', axis=1)\n",
    "only_in_df2 = df2.merge(ref_compound_df, on=key_columns, how='left', indicator=True).query('_merge == \"left_only\"').drop('_merge', axis=1)\n",
    "\n",
    "print(len(only_in_df2))\n",
    "print(len(only_in_ref))"
   ]
  },
  {
   "cell_type": "code",
   "execution_count": 159,
   "metadata": {},
   "outputs": [
    {
     "data": {
      "text/html": [
       "<div>\n",
       "<style scoped>\n",
       "    .dataframe tbody tr th:only-of-type {\n",
       "        vertical-align: middle;\n",
       "    }\n",
       "\n",
       "    .dataframe tbody tr th {\n",
       "        vertical-align: top;\n",
       "    }\n",
       "\n",
       "    .dataframe thead th {\n",
       "        text-align: right;\n",
       "    }\n",
       "</style>\n",
       "<table border=\"1\" class=\"dataframe\">\n",
       "  <thead>\n",
       "    <tr style=\"text-align: right;\">\n",
       "      <th></th>\n",
       "      <th>Metadata_Source</th>\n",
       "      <th>Metadata_Batch_x</th>\n",
       "      <th>Metadata_Plate</th>\n",
       "      <th>Metadata_Well</th>\n",
       "      <th>Metadata_JCP2022_x</th>\n",
       "      <th>Metadata_InChI</th>\n",
       "      <th>Metadata_PlateType</th>\n",
       "      <th>Metadata_Batch_y</th>\n",
       "      <th>Metadata_Is_Control</th>\n",
       "      <th>Embeddings_mean</th>\n",
       "      <th>Metadata_Row</th>\n",
       "      <th>Metadata_Col</th>\n",
       "      <th>Path_Embeddings</th>\n",
       "      <th>Metadata_JCP2022_y</th>\n",
       "    </tr>\n",
       "  </thead>\n",
       "  <tbody>\n",
       "    <tr>\n",
       "      <th>273751</th>\n",
       "      <td>source_2</td>\n",
       "      <td>20210823_Batch_10</td>\n",
       "      <td>1086291931</td>\n",
       "      <td>A08</td>\n",
       "      <td>JCP2022_065740</td>\n",
       "      <td>NaN</td>\n",
       "      <td>NaN</td>\n",
       "      <td>NaN</td>\n",
       "      <td>NaN</td>\n",
       "      <td>NaN</td>\n",
       "      <td>NaN</td>\n",
       "      <td>NaN</td>\n",
       "      <td>NaN</td>\n",
       "      <td>NaN</td>\n",
       "    </tr>\n",
       "    <tr>\n",
       "      <th>295607</th>\n",
       "      <td>source_3</td>\n",
       "      <td>CP59</td>\n",
       "      <td>BR5871b3</td>\n",
       "      <td>A15</td>\n",
       "      <td>JCP2022_065740</td>\n",
       "      <td>NaN</td>\n",
       "      <td>NaN</td>\n",
       "      <td>NaN</td>\n",
       "      <td>NaN</td>\n",
       "      <td>NaN</td>\n",
       "      <td>NaN</td>\n",
       "      <td>NaN</td>\n",
       "      <td>NaN</td>\n",
       "      <td>NaN</td>\n",
       "    </tr>\n",
       "    <tr>\n",
       "      <th>367421</th>\n",
       "      <td>source_3</td>\n",
       "      <td>CP_35_all_Phenix1</td>\n",
       "      <td>BAY5871b</td>\n",
       "      <td>A15</td>\n",
       "      <td>JCP2022_065740</td>\n",
       "      <td>NaN</td>\n",
       "      <td>NaN</td>\n",
       "      <td>NaN</td>\n",
       "      <td>NaN</td>\n",
       "      <td>NaN</td>\n",
       "      <td>NaN</td>\n",
       "      <td>NaN</td>\n",
       "      <td>NaN</td>\n",
       "      <td>NaN</td>\n",
       "    </tr>\n",
       "    <tr>\n",
       "      <th>501659</th>\n",
       "      <td>source_6</td>\n",
       "      <td>p211012CPU2OS48hw384exp033JUMP</td>\n",
       "      <td>110000295620</td>\n",
       "      <td>A15</td>\n",
       "      <td>JCP2022_065740</td>\n",
       "      <td>NaN</td>\n",
       "      <td>NaN</td>\n",
       "      <td>NaN</td>\n",
       "      <td>NaN</td>\n",
       "      <td>NaN</td>\n",
       "      <td>NaN</td>\n",
       "      <td>NaN</td>\n",
       "      <td>NaN</td>\n",
       "      <td>NaN</td>\n",
       "    </tr>\n",
       "    <tr>\n",
       "      <th>579163</th>\n",
       "      <td>source_8</td>\n",
       "      <td>J3</td>\n",
       "      <td>A1170530</td>\n",
       "      <td>A15</td>\n",
       "      <td>JCP2022_065740</td>\n",
       "      <td>NaN</td>\n",
       "      <td>NaN</td>\n",
       "      <td>NaN</td>\n",
       "      <td>NaN</td>\n",
       "      <td>NaN</td>\n",
       "      <td>NaN</td>\n",
       "      <td>NaN</td>\n",
       "      <td>NaN</td>\n",
       "      <td>NaN</td>\n",
       "    </tr>\n",
       "  </tbody>\n",
       "</table>\n",
       "</div>"
      ],
      "text/plain": [
       "       Metadata_Source                Metadata_Batch_x Metadata_Plate  \\\n",
       "273751        source_2               20210823_Batch_10     1086291931   \n",
       "295607        source_3                            CP59       BR5871b3   \n",
       "367421        source_3               CP_35_all_Phenix1       BAY5871b   \n",
       "501659        source_6  p211012CPU2OS48hw384exp033JUMP   110000295620   \n",
       "579163        source_8                              J3       A1170530   \n",
       "\n",
       "       Metadata_Well Metadata_JCP2022_x Metadata_InChI Metadata_PlateType  \\\n",
       "273751           A08     JCP2022_065740            NaN                NaN   \n",
       "295607           A15     JCP2022_065740            NaN                NaN   \n",
       "367421           A15     JCP2022_065740            NaN                NaN   \n",
       "501659           A15     JCP2022_065740            NaN                NaN   \n",
       "579163           A15     JCP2022_065740            NaN                NaN   \n",
       "\n",
       "       Metadata_Batch_y Metadata_Is_Control Embeddings_mean  Metadata_Row  \\\n",
       "273751              NaN                 NaN             NaN           NaN   \n",
       "295607              NaN                 NaN             NaN           NaN   \n",
       "367421              NaN                 NaN             NaN           NaN   \n",
       "501659              NaN                 NaN             NaN           NaN   \n",
       "579163              NaN                 NaN             NaN           NaN   \n",
       "\n",
       "        Metadata_Col Path_Embeddings Metadata_JCP2022_y  \n",
       "273751           NaN             NaN                NaN  \n",
       "295607           NaN             NaN                NaN  \n",
       "367421           NaN             NaN                NaN  \n",
       "501659           NaN             NaN                NaN  \n",
       "579163           NaN             NaN                NaN  "
      ]
     },
     "execution_count": 159,
     "metadata": {},
     "output_type": "execute_result"
    }
   ],
   "source": [
    "only_in_ref # One molecule that is strange in formula so should have failed while preprocessed by @ThomasLemercier"
   ]
  },
  {
   "cell_type": "markdown",
   "metadata": {},
   "source": [
    "### dino (s and g have the exact same lines)"
   ]
  },
  {
   "cell_type": "markdown",
   "metadata": {},
   "source": [
    "#### dino s"
   ]
  },
  {
   "cell_type": "code",
   "execution_count": 17,
   "metadata": {},
   "outputs": [
    {
     "data": {
      "text/plain": [
       "992234"
      ]
     },
     "execution_count": 17,
     "metadata": {},
     "output_type": "execute_result"
    }
   ],
   "source": [
    "len(df_dinov2_s.drop_duplicates(subset=key_columns))"
   ]
  },
  {
   "cell_type": "code",
   "execution_count": 53,
   "metadata": {},
   "outputs": [],
   "source": [
    "duplicates = df_dinov2_s.groupby(key_columns).filter(lambda x: len(x) > 1)\n"
   ]
  },
  {
   "cell_type": "code",
   "execution_count": 54,
   "metadata": {},
   "outputs": [
    {
     "data": {
      "text/html": [
       "<div>\n",
       "<style scoped>\n",
       "    .dataframe tbody tr th:only-of-type {\n",
       "        vertical-align: middle;\n",
       "    }\n",
       "\n",
       "    .dataframe tbody tr th {\n",
       "        vertical-align: top;\n",
       "    }\n",
       "\n",
       "    .dataframe thead th {\n",
       "        text-align: right;\n",
       "    }\n",
       "</style>\n",
       "<table border=\"1\" class=\"dataframe\">\n",
       "  <thead>\n",
       "    <tr style=\"text-align: right;\">\n",
       "      <th></th>\n",
       "      <th>Metadata_Well</th>\n",
       "      <th>Metadata_Source</th>\n",
       "      <th>Metadata_Batch</th>\n",
       "      <th>Metadata_Plate</th>\n",
       "      <th>Metadata_JCP2022</th>\n",
       "      <th>Metadata_InChI</th>\n",
       "      <th>Metadata_Is_Control</th>\n",
       "      <th>Metadata_Row</th>\n",
       "      <th>Metadata_Col</th>\n",
       "      <th>path_embedding</th>\n",
       "    </tr>\n",
       "  </thead>\n",
       "  <tbody>\n",
       "  </tbody>\n",
       "</table>\n",
       "</div>"
      ],
      "text/plain": [
       "Empty DataFrame\n",
       "Columns: [Metadata_Well, Metadata_Source, Metadata_Batch, Metadata_Plate, Metadata_JCP2022, Metadata_InChI, Metadata_Is_Control, Metadata_Row, Metadata_Col, path_embedding]\n",
       "Index: []"
      ]
     },
     "execution_count": 54,
     "metadata": {},
     "output_type": "execute_result"
    }
   ],
   "source": []
  },
  {
   "cell_type": "code",
   "execution_count": 47,
   "metadata": {},
   "outputs": [
    {
     "name": "stderr",
     "output_type": "stream",
     "text": [
      "/tmp/ipykernel_3523065/2148999068.py:3: FutureWarning: You are using `torch.load` with `weights_only=False` (the current default value), which uses the default pickle module implicitly. It is possible to construct malicious pickle data which will execute arbitrary code during unpickling (See https://github.com/pytorch/pytorch/blob/main/SECURITY.md#untrusted-models for more details). In a future release, the default value for `weights_only` will be flipped to `True`. This limits the functions that could be executed during unpickling. Arbitrary objects will no longer be allowed to be loaded via this mode unless they are explicitly allowlisted by the user via `torch.serialization.add_safe_globals`. We recommend you start setting `weights_only=True` for any use case where you don't have full control of the loaded file. Please open an issue on GitHub for any issues related to this experimental feature.\n",
      "  embeddings.append(torch.load(path))\n"
     ]
    }
   ],
   "source": [
    "embeddings = []\n",
    "for path in duplicates['path_embedding']:\n",
    "    embeddings.append(torch.load(path))\n",
    "    "
   ]
  },
  {
   "cell_type": "code",
   "execution_count": 51,
   "metadata": {},
   "outputs": [
    {
     "data": {
      "text/plain": [
       "tensor(True)"
      ]
     },
     "execution_count": 51,
     "metadata": {},
     "output_type": "execute_result"
    }
   ],
   "source": [
    "(embeddings[3] == embeddings[5]).all()"
   ]
  },
  {
   "cell_type": "code",
   "execution_count": 52,
   "metadata": {},
   "outputs": [],
   "source": [
    "df_dinov2_s.drop(index=[186948, 734868, 811287], inplace=True)\n"
   ]
  },
  {
   "cell_type": "code",
   "execution_count": 60,
   "metadata": {},
   "outputs": [
    {
     "name": "stdout",
     "output_type": "stream",
     "text": [
      "245359\n",
      "0\n"
     ]
    }
   ],
   "source": [
    "df2 = df_dinov2_s.copy(deep=True)\n",
    "key_columns = ['Metadata_Source', 'Metadata_Plate', 'Metadata_Well']\n",
    "only_in_ref = ref_compound_df.merge(df2, on=key_columns, how='left', indicator=True).query('_merge == \"left_only\"').drop('_merge', axis=1)\n",
    "only_in_df2 = df2.merge(ref_compound_df, on=key_columns, how='left', indicator=True).query('_merge == \"left_only\"').drop('_merge', axis=1)\n",
    "\n",
    "print(len(only_in_df2))\n",
    "print(len(only_in_ref))"
   ]
  },
  {
   "cell_type": "code",
   "execution_count": 65,
   "metadata": {},
   "outputs": [
    {
     "data": {
      "text/plain": [
       "Index(['Metadata_Well', 'Metadata_Source', 'Metadata_Batch', 'Metadata_Plate',\n",
       "       'Metadata_JCP2022', 'Metadata_InChI', 'Metadata_Is_Control',\n",
       "       'Metadata_Row', 'Metadata_Col', 'path_embedding'],\n",
       "      dtype='object')"
      ]
     },
     "execution_count": 65,
     "metadata": {},
     "output_type": "execute_result"
    }
   ],
   "source": [
    "df_dinov2_s.columns"
   ]
  },
  {
   "cell_type": "code",
   "execution_count": 66,
   "metadata": {},
   "outputs": [],
   "source": [
    "df_dinov2_s_good = ref_compound_df.merge(df_dinov2_s[['Metadata_Well', 'Metadata_Source', 'Metadata_Plate', 'Metadata_Is_Control','Metadata_Row', 'Metadata_Col', 'path_embedding']], on=key_columns, how='inner')\n",
    "df_dinov2_s_good.reset_index(drop=True, inplace=True)"
   ]
  },
  {
   "cell_type": "code",
   "execution_count": 68,
   "metadata": {},
   "outputs": [
    {
     "data": {
      "text/html": [
       "<div>\n",
       "<style scoped>\n",
       "    .dataframe tbody tr th:only-of-type {\n",
       "        vertical-align: middle;\n",
       "    }\n",
       "\n",
       "    .dataframe tbody tr th {\n",
       "        vertical-align: top;\n",
       "    }\n",
       "\n",
       "    .dataframe thead th {\n",
       "        text-align: right;\n",
       "    }\n",
       "</style>\n",
       "<table border=\"1\" class=\"dataframe\">\n",
       "  <thead>\n",
       "    <tr style=\"text-align: right;\">\n",
       "      <th></th>\n",
       "      <th>Metadata_Source</th>\n",
       "      <th>Metadata_Batch</th>\n",
       "      <th>Metadata_Plate</th>\n",
       "      <th>Metadata_Well</th>\n",
       "      <th>Metadata_JCP2022</th>\n",
       "      <th>Metadata_InChI</th>\n",
       "      <th>Metadata_Is_Control</th>\n",
       "      <th>Metadata_Row</th>\n",
       "      <th>Metadata_Col</th>\n",
       "      <th>path_embedding</th>\n",
       "    </tr>\n",
       "  </thead>\n",
       "  <tbody>\n",
       "    <tr>\n",
       "      <th>0</th>\n",
       "      <td>source_10</td>\n",
       "      <td>2021_05_31_U2OS_48_hr_run1</td>\n",
       "      <td>Dest210531-152149</td>\n",
       "      <td>A01</td>\n",
       "      <td>JCP2022_085227</td>\n",
       "      <td>InChI=1S/C17H30N2O5/c1-6-23-17(22)14-13(24-14)...</td>\n",
       "      <td>False</td>\n",
       "      <td>1</td>\n",
       "      <td>1</td>\n",
       "      <td>/projects/synsight/data/dinov2_small/raw_well_...</td>\n",
       "    </tr>\n",
       "    <tr>\n",
       "      <th>1</th>\n",
       "      <td>source_10</td>\n",
       "      <td>2021_05_31_U2OS_48_hr_run1</td>\n",
       "      <td>Dest210531-152149</td>\n",
       "      <td>A02</td>\n",
       "      <td>JCP2022_033924</td>\n",
       "      <td>InChI=1S/C2H6OS/c1-4(2)3/h1-2H3</td>\n",
       "      <td>True</td>\n",
       "      <td>1</td>\n",
       "      <td>2</td>\n",
       "      <td>/projects/synsight/data/dinov2_small/raw_well_...</td>\n",
       "    </tr>\n",
       "    <tr>\n",
       "      <th>2</th>\n",
       "      <td>source_10</td>\n",
       "      <td>2021_05_31_U2OS_48_hr_run1</td>\n",
       "      <td>Dest210531-152149</td>\n",
       "      <td>A03</td>\n",
       "      <td>JCP2022_056163</td>\n",
       "      <td>InChI=1S/C21H20ClN3O4/c1-27-18-8-7-15(9-19(18)...</td>\n",
       "      <td>False</td>\n",
       "      <td>1</td>\n",
       "      <td>3</td>\n",
       "      <td>/projects/synsight/data/dinov2_small/raw_well_...</td>\n",
       "    </tr>\n",
       "    <tr>\n",
       "      <th>3</th>\n",
       "      <td>source_10</td>\n",
       "      <td>2021_05_31_U2OS_48_hr_run1</td>\n",
       "      <td>Dest210531-152149</td>\n",
       "      <td>A04</td>\n",
       "      <td>JCP2022_054175</td>\n",
       "      <td>InChI=1S/C21H29N3O3/c1-27-16-7-5-14(6-8-16)17-...</td>\n",
       "      <td>False</td>\n",
       "      <td>1</td>\n",
       "      <td>4</td>\n",
       "      <td>/projects/synsight/data/dinov2_small/raw_well_...</td>\n",
       "    </tr>\n",
       "    <tr>\n",
       "      <th>4</th>\n",
       "      <td>source_10</td>\n",
       "      <td>2021_05_31_U2OS_48_hr_run1</td>\n",
       "      <td>Dest210531-152149</td>\n",
       "      <td>A06</td>\n",
       "      <td>JCP2022_008983</td>\n",
       "      <td>InChI=1S/C21H17ClFN3O3/c1-25-19(27)17-16(15-13...</td>\n",
       "      <td>False</td>\n",
       "      <td>1</td>\n",
       "      <td>6</td>\n",
       "      <td>/projects/synsight/data/dinov2_small/raw_well_...</td>\n",
       "    </tr>\n",
       "    <tr>\n",
       "      <th>...</th>\n",
       "      <td>...</td>\n",
       "      <td>...</td>\n",
       "      <td>...</td>\n",
       "      <td>...</td>\n",
       "      <td>...</td>\n",
       "      <td>...</td>\n",
       "      <td>...</td>\n",
       "      <td>...</td>\n",
       "      <td>...</td>\n",
       "      <td>...</td>\n",
       "    </tr>\n",
       "    <tr>\n",
       "      <th>746870</th>\n",
       "      <td>source_9</td>\n",
       "      <td>20211103-Run16</td>\n",
       "      <td>GR00004421</td>\n",
       "      <td>Z24</td>\n",
       "      <td>JCP2022_037716</td>\n",
       "      <td>InChI=1S/C28H21N7OS/c1-17-15-24(37-16-17)25-20...</td>\n",
       "      <td>False</td>\n",
       "      <td>26</td>\n",
       "      <td>24</td>\n",
       "      <td>/projects/synsight/data/dinov2_small/raw_well_...</td>\n",
       "    </tr>\n",
       "    <tr>\n",
       "      <th>746871</th>\n",
       "      <td>source_9</td>\n",
       "      <td>20211103-Run16</td>\n",
       "      <td>GR00004421</td>\n",
       "      <td>Z25</td>\n",
       "      <td>JCP2022_037716</td>\n",
       "      <td>InChI=1S/C28H21N7OS/c1-17-15-24(37-16-17)25-20...</td>\n",
       "      <td>False</td>\n",
       "      <td>26</td>\n",
       "      <td>25</td>\n",
       "      <td>/projects/synsight/data/dinov2_small/raw_well_...</td>\n",
       "    </tr>\n",
       "    <tr>\n",
       "      <th>746872</th>\n",
       "      <td>source_9</td>\n",
       "      <td>20211103-Run16</td>\n",
       "      <td>GR00004421</td>\n",
       "      <td>Z26</td>\n",
       "      <td>JCP2022_033924</td>\n",
       "      <td>InChI=1S/C2H6OS/c1-4(2)3/h1-2H3</td>\n",
       "      <td>True</td>\n",
       "      <td>26</td>\n",
       "      <td>26</td>\n",
       "      <td>/projects/synsight/data/dinov2_small/raw_well_...</td>\n",
       "    </tr>\n",
       "    <tr>\n",
       "      <th>746873</th>\n",
       "      <td>source_9</td>\n",
       "      <td>20211103-Run16</td>\n",
       "      <td>GR00004421</td>\n",
       "      <td>Z47</td>\n",
       "      <td>JCP2022_033924</td>\n",
       "      <td>InChI=1S/C2H6OS/c1-4(2)3/h1-2H3</td>\n",
       "      <td>True</td>\n",
       "      <td>26</td>\n",
       "      <td>47</td>\n",
       "      <td>/projects/synsight/data/dinov2_small/raw_well_...</td>\n",
       "    </tr>\n",
       "    <tr>\n",
       "      <th>746874</th>\n",
       "      <td>source_9</td>\n",
       "      <td>20211103-Run16</td>\n",
       "      <td>GR00004421</td>\n",
       "      <td>Z48</td>\n",
       "      <td>JCP2022_037716</td>\n",
       "      <td>InChI=1S/C28H21N7OS/c1-17-15-24(37-16-17)25-20...</td>\n",
       "      <td>False</td>\n",
       "      <td>26</td>\n",
       "      <td>48</td>\n",
       "      <td>/projects/synsight/data/dinov2_small/raw_well_...</td>\n",
       "    </tr>\n",
       "  </tbody>\n",
       "</table>\n",
       "<p>746875 rows × 10 columns</p>\n",
       "</div>"
      ],
      "text/plain": [
       "       Metadata_Source              Metadata_Batch     Metadata_Plate  \\\n",
       "0            source_10  2021_05_31_U2OS_48_hr_run1  Dest210531-152149   \n",
       "1            source_10  2021_05_31_U2OS_48_hr_run1  Dest210531-152149   \n",
       "2            source_10  2021_05_31_U2OS_48_hr_run1  Dest210531-152149   \n",
       "3            source_10  2021_05_31_U2OS_48_hr_run1  Dest210531-152149   \n",
       "4            source_10  2021_05_31_U2OS_48_hr_run1  Dest210531-152149   \n",
       "...                ...                         ...                ...   \n",
       "746870        source_9              20211103-Run16         GR00004421   \n",
       "746871        source_9              20211103-Run16         GR00004421   \n",
       "746872        source_9              20211103-Run16         GR00004421   \n",
       "746873        source_9              20211103-Run16         GR00004421   \n",
       "746874        source_9              20211103-Run16         GR00004421   \n",
       "\n",
       "       Metadata_Well Metadata_JCP2022  \\\n",
       "0                A01   JCP2022_085227   \n",
       "1                A02   JCP2022_033924   \n",
       "2                A03   JCP2022_056163   \n",
       "3                A04   JCP2022_054175   \n",
       "4                A06   JCP2022_008983   \n",
       "...              ...              ...   \n",
       "746870           Z24   JCP2022_037716   \n",
       "746871           Z25   JCP2022_037716   \n",
       "746872           Z26   JCP2022_033924   \n",
       "746873           Z47   JCP2022_033924   \n",
       "746874           Z48   JCP2022_037716   \n",
       "\n",
       "                                           Metadata_InChI  \\\n",
       "0       InChI=1S/C17H30N2O5/c1-6-23-17(22)14-13(24-14)...   \n",
       "1                         InChI=1S/C2H6OS/c1-4(2)3/h1-2H3   \n",
       "2       InChI=1S/C21H20ClN3O4/c1-27-18-8-7-15(9-19(18)...   \n",
       "3       InChI=1S/C21H29N3O3/c1-27-16-7-5-14(6-8-16)17-...   \n",
       "4       InChI=1S/C21H17ClFN3O3/c1-25-19(27)17-16(15-13...   \n",
       "...                                                   ...   \n",
       "746870  InChI=1S/C28H21N7OS/c1-17-15-24(37-16-17)25-20...   \n",
       "746871  InChI=1S/C28H21N7OS/c1-17-15-24(37-16-17)25-20...   \n",
       "746872                    InChI=1S/C2H6OS/c1-4(2)3/h1-2H3   \n",
       "746873                    InChI=1S/C2H6OS/c1-4(2)3/h1-2H3   \n",
       "746874  InChI=1S/C28H21N7OS/c1-17-15-24(37-16-17)25-20...   \n",
       "\n",
       "        Metadata_Is_Control  Metadata_Row  Metadata_Col  \\\n",
       "0                     False             1             1   \n",
       "1                      True             1             2   \n",
       "2                     False             1             3   \n",
       "3                     False             1             4   \n",
       "4                     False             1             6   \n",
       "...                     ...           ...           ...   \n",
       "746870                False            26            24   \n",
       "746871                False            26            25   \n",
       "746872                 True            26            26   \n",
       "746873                 True            26            47   \n",
       "746874                False            26            48   \n",
       "\n",
       "                                           path_embedding  \n",
       "0       /projects/synsight/data/dinov2_small/raw_well_...  \n",
       "1       /projects/synsight/data/dinov2_small/raw_well_...  \n",
       "2       /projects/synsight/data/dinov2_small/raw_well_...  \n",
       "3       /projects/synsight/data/dinov2_small/raw_well_...  \n",
       "4       /projects/synsight/data/dinov2_small/raw_well_...  \n",
       "...                                                   ...  \n",
       "746870  /projects/synsight/data/dinov2_small/raw_well_...  \n",
       "746871  /projects/synsight/data/dinov2_small/raw_well_...  \n",
       "746872  /projects/synsight/data/dinov2_small/raw_well_...  \n",
       "746873  /projects/synsight/data/dinov2_small/raw_well_...  \n",
       "746874  /projects/synsight/data/dinov2_small/raw_well_...  \n",
       "\n",
       "[746875 rows x 10 columns]"
      ]
     },
     "execution_count": 68,
     "metadata": {},
     "output_type": "execute_result"
    }
   ],
   "source": [
    "df_dinov2_s_good"
   ]
  },
  {
   "cell_type": "code",
   "execution_count": 69,
   "metadata": {},
   "outputs": [],
   "source": [
    "df_dinov2_s_good.to_parquet('/projects/synsight/data/dinov2_small/raw_well_embeddings/compounds_wells_em_dinov2s.parquet', index=False)"
   ]
  },
  {
   "cell_type": "code",
   "execution_count": 3,
   "metadata": {},
   "outputs": [],
   "source": [
    "df_dinov2_s_good = pd.read_parquet('/projects/synsight/data/dinov2_small/raw_well_embeddings/compounds_wells_em_dinov2s.parquet')"
   ]
  },
  {
   "cell_type": "code",
   "execution_count": 4,
   "metadata": {},
   "outputs": [
    {
     "data": {
      "text/html": [
       "<div>\n",
       "<style scoped>\n",
       "    .dataframe tbody tr th:only-of-type {\n",
       "        vertical-align: middle;\n",
       "    }\n",
       "\n",
       "    .dataframe tbody tr th {\n",
       "        vertical-align: top;\n",
       "    }\n",
       "\n",
       "    .dataframe thead th {\n",
       "        text-align: right;\n",
       "    }\n",
       "</style>\n",
       "<table border=\"1\" class=\"dataframe\">\n",
       "  <thead>\n",
       "    <tr style=\"text-align: right;\">\n",
       "      <th></th>\n",
       "      <th>Metadata_Source</th>\n",
       "      <th>Metadata_Batch</th>\n",
       "      <th>Metadata_Plate</th>\n",
       "      <th>Metadata_Well</th>\n",
       "      <th>Metadata_JCP2022</th>\n",
       "      <th>Metadata_InChI</th>\n",
       "      <th>Metadata_Is_Control</th>\n",
       "      <th>Metadata_Row</th>\n",
       "      <th>Metadata_Col</th>\n",
       "      <th>path_embedding</th>\n",
       "    </tr>\n",
       "  </thead>\n",
       "  <tbody>\n",
       "    <tr>\n",
       "      <th>0</th>\n",
       "      <td>source_10</td>\n",
       "      <td>2021_05_31_U2OS_48_hr_run1</td>\n",
       "      <td>Dest210531-152149</td>\n",
       "      <td>A01</td>\n",
       "      <td>JCP2022_085227</td>\n",
       "      <td>InChI=1S/C17H30N2O5/c1-6-23-17(22)14-13(24-14)...</td>\n",
       "      <td>False</td>\n",
       "      <td>1</td>\n",
       "      <td>1</td>\n",
       "      <td>/projects/synsight/data/dinov2_small/raw_well_...</td>\n",
       "    </tr>\n",
       "    <tr>\n",
       "      <th>1</th>\n",
       "      <td>source_10</td>\n",
       "      <td>2021_05_31_U2OS_48_hr_run1</td>\n",
       "      <td>Dest210531-152149</td>\n",
       "      <td>A02</td>\n",
       "      <td>JCP2022_033924</td>\n",
       "      <td>InChI=1S/C2H6OS/c1-4(2)3/h1-2H3</td>\n",
       "      <td>True</td>\n",
       "      <td>1</td>\n",
       "      <td>2</td>\n",
       "      <td>/projects/synsight/data/dinov2_small/raw_well_...</td>\n",
       "    </tr>\n",
       "    <tr>\n",
       "      <th>2</th>\n",
       "      <td>source_10</td>\n",
       "      <td>2021_05_31_U2OS_48_hr_run1</td>\n",
       "      <td>Dest210531-152149</td>\n",
       "      <td>A03</td>\n",
       "      <td>JCP2022_056163</td>\n",
       "      <td>InChI=1S/C21H20ClN3O4/c1-27-18-8-7-15(9-19(18)...</td>\n",
       "      <td>False</td>\n",
       "      <td>1</td>\n",
       "      <td>3</td>\n",
       "      <td>/projects/synsight/data/dinov2_small/raw_well_...</td>\n",
       "    </tr>\n",
       "    <tr>\n",
       "      <th>3</th>\n",
       "      <td>source_10</td>\n",
       "      <td>2021_05_31_U2OS_48_hr_run1</td>\n",
       "      <td>Dest210531-152149</td>\n",
       "      <td>A04</td>\n",
       "      <td>JCP2022_054175</td>\n",
       "      <td>InChI=1S/C21H29N3O3/c1-27-16-7-5-14(6-8-16)17-...</td>\n",
       "      <td>False</td>\n",
       "      <td>1</td>\n",
       "      <td>4</td>\n",
       "      <td>/projects/synsight/data/dinov2_small/raw_well_...</td>\n",
       "    </tr>\n",
       "    <tr>\n",
       "      <th>4</th>\n",
       "      <td>source_10</td>\n",
       "      <td>2021_05_31_U2OS_48_hr_run1</td>\n",
       "      <td>Dest210531-152149</td>\n",
       "      <td>A06</td>\n",
       "      <td>JCP2022_008983</td>\n",
       "      <td>InChI=1S/C21H17ClFN3O3/c1-25-19(27)17-16(15-13...</td>\n",
       "      <td>False</td>\n",
       "      <td>1</td>\n",
       "      <td>6</td>\n",
       "      <td>/projects/synsight/data/dinov2_small/raw_well_...</td>\n",
       "    </tr>\n",
       "    <tr>\n",
       "      <th>...</th>\n",
       "      <td>...</td>\n",
       "      <td>...</td>\n",
       "      <td>...</td>\n",
       "      <td>...</td>\n",
       "      <td>...</td>\n",
       "      <td>...</td>\n",
       "      <td>...</td>\n",
       "      <td>...</td>\n",
       "      <td>...</td>\n",
       "      <td>...</td>\n",
       "    </tr>\n",
       "    <tr>\n",
       "      <th>746870</th>\n",
       "      <td>source_9</td>\n",
       "      <td>20211103-Run16</td>\n",
       "      <td>GR00004421</td>\n",
       "      <td>Z24</td>\n",
       "      <td>JCP2022_037716</td>\n",
       "      <td>InChI=1S/C28H21N7OS/c1-17-15-24(37-16-17)25-20...</td>\n",
       "      <td>False</td>\n",
       "      <td>26</td>\n",
       "      <td>24</td>\n",
       "      <td>/projects/synsight/data/dinov2_small/raw_well_...</td>\n",
       "    </tr>\n",
       "    <tr>\n",
       "      <th>746871</th>\n",
       "      <td>source_9</td>\n",
       "      <td>20211103-Run16</td>\n",
       "      <td>GR00004421</td>\n",
       "      <td>Z25</td>\n",
       "      <td>JCP2022_037716</td>\n",
       "      <td>InChI=1S/C28H21N7OS/c1-17-15-24(37-16-17)25-20...</td>\n",
       "      <td>False</td>\n",
       "      <td>26</td>\n",
       "      <td>25</td>\n",
       "      <td>/projects/synsight/data/dinov2_small/raw_well_...</td>\n",
       "    </tr>\n",
       "    <tr>\n",
       "      <th>746872</th>\n",
       "      <td>source_9</td>\n",
       "      <td>20211103-Run16</td>\n",
       "      <td>GR00004421</td>\n",
       "      <td>Z26</td>\n",
       "      <td>JCP2022_033924</td>\n",
       "      <td>InChI=1S/C2H6OS/c1-4(2)3/h1-2H3</td>\n",
       "      <td>True</td>\n",
       "      <td>26</td>\n",
       "      <td>26</td>\n",
       "      <td>/projects/synsight/data/dinov2_small/raw_well_...</td>\n",
       "    </tr>\n",
       "    <tr>\n",
       "      <th>746873</th>\n",
       "      <td>source_9</td>\n",
       "      <td>20211103-Run16</td>\n",
       "      <td>GR00004421</td>\n",
       "      <td>Z47</td>\n",
       "      <td>JCP2022_033924</td>\n",
       "      <td>InChI=1S/C2H6OS/c1-4(2)3/h1-2H3</td>\n",
       "      <td>True</td>\n",
       "      <td>26</td>\n",
       "      <td>47</td>\n",
       "      <td>/projects/synsight/data/dinov2_small/raw_well_...</td>\n",
       "    </tr>\n",
       "    <tr>\n",
       "      <th>746874</th>\n",
       "      <td>source_9</td>\n",
       "      <td>20211103-Run16</td>\n",
       "      <td>GR00004421</td>\n",
       "      <td>Z48</td>\n",
       "      <td>JCP2022_037716</td>\n",
       "      <td>InChI=1S/C28H21N7OS/c1-17-15-24(37-16-17)25-20...</td>\n",
       "      <td>False</td>\n",
       "      <td>26</td>\n",
       "      <td>48</td>\n",
       "      <td>/projects/synsight/data/dinov2_small/raw_well_...</td>\n",
       "    </tr>\n",
       "  </tbody>\n",
       "</table>\n",
       "<p>746875 rows × 10 columns</p>\n",
       "</div>"
      ],
      "text/plain": [
       "       Metadata_Source              Metadata_Batch     Metadata_Plate  \\\n",
       "0            source_10  2021_05_31_U2OS_48_hr_run1  Dest210531-152149   \n",
       "1            source_10  2021_05_31_U2OS_48_hr_run1  Dest210531-152149   \n",
       "2            source_10  2021_05_31_U2OS_48_hr_run1  Dest210531-152149   \n",
       "3            source_10  2021_05_31_U2OS_48_hr_run1  Dest210531-152149   \n",
       "4            source_10  2021_05_31_U2OS_48_hr_run1  Dest210531-152149   \n",
       "...                ...                         ...                ...   \n",
       "746870        source_9              20211103-Run16         GR00004421   \n",
       "746871        source_9              20211103-Run16         GR00004421   \n",
       "746872        source_9              20211103-Run16         GR00004421   \n",
       "746873        source_9              20211103-Run16         GR00004421   \n",
       "746874        source_9              20211103-Run16         GR00004421   \n",
       "\n",
       "       Metadata_Well Metadata_JCP2022  \\\n",
       "0                A01   JCP2022_085227   \n",
       "1                A02   JCP2022_033924   \n",
       "2                A03   JCP2022_056163   \n",
       "3                A04   JCP2022_054175   \n",
       "4                A06   JCP2022_008983   \n",
       "...              ...              ...   \n",
       "746870           Z24   JCP2022_037716   \n",
       "746871           Z25   JCP2022_037716   \n",
       "746872           Z26   JCP2022_033924   \n",
       "746873           Z47   JCP2022_033924   \n",
       "746874           Z48   JCP2022_037716   \n",
       "\n",
       "                                           Metadata_InChI  \\\n",
       "0       InChI=1S/C17H30N2O5/c1-6-23-17(22)14-13(24-14)...   \n",
       "1                         InChI=1S/C2H6OS/c1-4(2)3/h1-2H3   \n",
       "2       InChI=1S/C21H20ClN3O4/c1-27-18-8-7-15(9-19(18)...   \n",
       "3       InChI=1S/C21H29N3O3/c1-27-16-7-5-14(6-8-16)17-...   \n",
       "4       InChI=1S/C21H17ClFN3O3/c1-25-19(27)17-16(15-13...   \n",
       "...                                                   ...   \n",
       "746870  InChI=1S/C28H21N7OS/c1-17-15-24(37-16-17)25-20...   \n",
       "746871  InChI=1S/C28H21N7OS/c1-17-15-24(37-16-17)25-20...   \n",
       "746872                    InChI=1S/C2H6OS/c1-4(2)3/h1-2H3   \n",
       "746873                    InChI=1S/C2H6OS/c1-4(2)3/h1-2H3   \n",
       "746874  InChI=1S/C28H21N7OS/c1-17-15-24(37-16-17)25-20...   \n",
       "\n",
       "        Metadata_Is_Control  Metadata_Row  Metadata_Col  \\\n",
       "0                     False             1             1   \n",
       "1                      True             1             2   \n",
       "2                     False             1             3   \n",
       "3                     False             1             4   \n",
       "4                     False             1             6   \n",
       "...                     ...           ...           ...   \n",
       "746870                False            26            24   \n",
       "746871                False            26            25   \n",
       "746872                 True            26            26   \n",
       "746873                 True            26            47   \n",
       "746874                False            26            48   \n",
       "\n",
       "                                           path_embedding  \n",
       "0       /projects/synsight/data/dinov2_small/raw_well_...  \n",
       "1       /projects/synsight/data/dinov2_small/raw_well_...  \n",
       "2       /projects/synsight/data/dinov2_small/raw_well_...  \n",
       "3       /projects/synsight/data/dinov2_small/raw_well_...  \n",
       "4       /projects/synsight/data/dinov2_small/raw_well_...  \n",
       "...                                                   ...  \n",
       "746870  /projects/synsight/data/dinov2_small/raw_well_...  \n",
       "746871  /projects/synsight/data/dinov2_small/raw_well_...  \n",
       "746872  /projects/synsight/data/dinov2_small/raw_well_...  \n",
       "746873  /projects/synsight/data/dinov2_small/raw_well_...  \n",
       "746874  /projects/synsight/data/dinov2_small/raw_well_...  \n",
       "\n",
       "[746875 rows x 10 columns]"
      ]
     },
     "execution_count": 4,
     "metadata": {},
     "output_type": "execute_result"
    }
   ],
   "source": [
    "df_dinov2_s_good"
   ]
  },
  {
   "cell_type": "markdown",
   "metadata": {},
   "source": [
    "#### dino g"
   ]
  },
  {
   "cell_type": "code",
   "execution_count": 80,
   "metadata": {},
   "outputs": [
    {
     "data": {
      "text/html": [
       "<div>\n",
       "<style scoped>\n",
       "    .dataframe tbody tr th:only-of-type {\n",
       "        vertical-align: middle;\n",
       "    }\n",
       "\n",
       "    .dataframe tbody tr th {\n",
       "        vertical-align: top;\n",
       "    }\n",
       "\n",
       "    .dataframe thead th {\n",
       "        text-align: right;\n",
       "    }\n",
       "</style>\n",
       "<table border=\"1\" class=\"dataframe\">\n",
       "  <thead>\n",
       "    <tr style=\"text-align: right;\">\n",
       "      <th></th>\n",
       "      <th>Metadata_Well</th>\n",
       "      <th>Metadata_Source</th>\n",
       "      <th>Metadata_Batch</th>\n",
       "      <th>Metadata_Plate</th>\n",
       "      <th>Metadata_JCP2022</th>\n",
       "      <th>Metadata_InChI</th>\n",
       "      <th>Metadata_Is_Control</th>\n",
       "      <th>Metadata_Row</th>\n",
       "      <th>Metadata_Col</th>\n",
       "      <th>path_embedding</th>\n",
       "    </tr>\n",
       "  </thead>\n",
       "  <tbody>\n",
       "  </tbody>\n",
       "</table>\n",
       "</div>"
      ],
      "text/plain": [
       "Empty DataFrame\n",
       "Columns: [Metadata_Well, Metadata_Source, Metadata_Batch, Metadata_Plate, Metadata_JCP2022, Metadata_InChI, Metadata_Is_Control, Metadata_Row, Metadata_Col, path_embedding]\n",
       "Index: []"
      ]
     },
     "execution_count": 80,
     "metadata": {},
     "output_type": "execute_result"
    }
   ],
   "source": [
    "duplicates = df_dinov2_g.groupby(key_columns).filter(lambda x: len(x) > 1)\n",
    "duplicates"
   ]
  },
  {
   "cell_type": "code",
   "execution_count": 79,
   "metadata": {},
   "outputs": [],
   "source": [
    "df_dinov2_g.drop(index=[25526, 167155, 444675], inplace=True)"
   ]
  },
  {
   "cell_type": "code",
   "execution_count": 81,
   "metadata": {},
   "outputs": [],
   "source": [
    "df_dinov2_g_good = ref_compound_df.merge(df_dinov2_g[['Metadata_Well', 'Metadata_Source', 'Metadata_Plate', 'Metadata_Is_Control','Metadata_Row', 'Metadata_Col', 'path_embedding']], on=key_columns, how='inner')\n",
    "df_dinov2_g_good.reset_index(drop=True, inplace=True)"
   ]
  },
  {
   "cell_type": "code",
   "execution_count": 88,
   "metadata": {},
   "outputs": [
    {
     "data": {
      "text/plain": [
       "0         InChI=1S/C17H30N2O5/c1-6-23-17(22)14-13(24-14)...\n",
       "1                           InChI=1S/C2H6OS/c1-4(2)3/h1-2H3\n",
       "2         InChI=1S/C21H20ClN3O4/c1-27-18-8-7-15(9-19(18)...\n",
       "3         InChI=1S/C21H29N3O3/c1-27-16-7-5-14(6-8-16)17-...\n",
       "4         InChI=1S/C21H17ClFN3O3/c1-25-19(27)17-16(15-13...\n",
       "                                ...                        \n",
       "746870    InChI=1S/C28H21N7OS/c1-17-15-24(37-16-17)25-20...\n",
       "746871    InChI=1S/C28H21N7OS/c1-17-15-24(37-16-17)25-20...\n",
       "746872                      InChI=1S/C2H6OS/c1-4(2)3/h1-2H3\n",
       "746873                      InChI=1S/C2H6OS/c1-4(2)3/h1-2H3\n",
       "746874    InChI=1S/C28H21N7OS/c1-17-15-24(37-16-17)25-20...\n",
       "Name: Metadata_InChI, Length: 746875, dtype: object"
      ]
     },
     "execution_count": 88,
     "metadata": {},
     "output_type": "execute_result"
    }
   ],
   "source": [
    "df_dinov2_g_good['Metadata_InChI']"
   ]
  },
  {
   "cell_type": "code",
   "execution_count": 93,
   "metadata": {},
   "outputs": [
    {
     "data": {
      "text/plain": [
       "'InChI=1S/C16H12N3O.3C4H9.Sn/c20-16-12-7-4-8-13-14(12)19(10-9-17-16)15(18-13)11-5-2-1-3-6-11;3*1-3-4-2;/h2-8H,9-10H2,(H,17,20);3*1,3-4H2,2H3;'"
      ]
     },
     "execution_count": 93,
     "metadata": {},
     "output_type": "execute_result"
    }
   ],
   "source": [
    "df_dinov2_g_good[df_dinov2_g_good['Metadata_JCP2022']=='JCP2022_002781']['Metadata_InChI'].iloc[0]"
   ]
  },
  {
   "cell_type": "code",
   "execution_count": 94,
   "metadata": {},
   "outputs": [
    {
     "data": {
      "text/plain": [
       "Metadata_JCP2022\n",
       "JCP2022_033924    81340\n",
       "JCP2022_037716     7666\n",
       "JCP2022_064022     7663\n",
       "JCP2022_025848     7660\n",
       "JCP2022_046054     7654\n",
       "                  ...  \n",
       "JCP2022_032604        2\n",
       "JCP2022_055000        2\n",
       "JCP2022_115611        2\n",
       "JCP2022_080384        1\n",
       "JCP2022_090832        1\n",
       "Name: count, Length: 112480, dtype: int64"
      ]
     },
     "execution_count": 94,
     "metadata": {},
     "output_type": "execute_result"
    }
   ],
   "source": [
    "df_dinov2_g_good['Metadata_JCP2022'].value_counts()"
   ]
  },
  {
   "cell_type": "code",
   "execution_count": 83,
   "metadata": {},
   "outputs": [],
   "source": [
    "df_dinov2_g_good.to_parquet('/projects/synsight/data/dinov2/raw_well_embeddings/compounds_wells_em_dinov2g.parquet', index=False)"
   ]
  },
  {
   "cell_type": "markdown",
   "metadata": {},
   "source": [
    "### OpenPhenom"
   ]
  },
  {
   "cell_type": "code",
   "execution_count": 162,
   "metadata": {},
   "outputs": [
    {
     "data": {
      "text/plain": [
       "992234"
      ]
     },
     "execution_count": 162,
     "metadata": {},
     "output_type": "execute_result"
    }
   ],
   "source": [
    "len(df_phenom)"
   ]
  },
  {
   "cell_type": "code",
   "execution_count": 163,
   "metadata": {},
   "outputs": [
    {
     "name": "stdout",
     "output_type": "stream",
     "text": [
      "245359\n",
      "0\n"
     ]
    }
   ],
   "source": [
    "\n",
    "df2 = df_phenom.copy(deep=True)\n",
    "\n",
    "key_columns = ['Metadata_Source', 'Metadata_Plate', 'Metadata_Well']\n",
    "\n",
    "only_in_ref = ref_compound_df.merge(df2, on=key_columns, how='left', indicator=True).query('_merge == \"left_only\"').drop('_merge', axis=1)\n",
    "only_in_df2 = df2.merge(ref_compound_df, on=key_columns, how='left', indicator=True).query('_merge == \"left_only\"').drop('_merge', axis=1)\n",
    "\n",
    "print(len(only_in_df2))\n",
    "print(len(only_in_ref))"
   ]
  },
  {
   "cell_type": "code",
   "execution_count": 84,
   "metadata": {},
   "outputs": [],
   "source": [
    "df_phenom_good = ref_compound_df.merge(df_phenom[['Metadata_Well', 'Metadata_Source', 'Metadata_Plate', 'Metadata_Is_Control','Metadata_Row', 'Metadata_Col', 'path_embedding']], on=key_columns, how='inner')\n",
    "df_phenom_good.reset_index(drop=True, inplace=True)"
   ]
  },
  {
   "cell_type": "code",
   "execution_count": 85,
   "metadata": {},
   "outputs": [
    {
     "data": {
      "text/html": [
       "<div>\n",
       "<style scoped>\n",
       "    .dataframe tbody tr th:only-of-type {\n",
       "        vertical-align: middle;\n",
       "    }\n",
       "\n",
       "    .dataframe tbody tr th {\n",
       "        vertical-align: top;\n",
       "    }\n",
       "\n",
       "    .dataframe thead th {\n",
       "        text-align: right;\n",
       "    }\n",
       "</style>\n",
       "<table border=\"1\" class=\"dataframe\">\n",
       "  <thead>\n",
       "    <tr style=\"text-align: right;\">\n",
       "      <th></th>\n",
       "      <th>Metadata_Source</th>\n",
       "      <th>Metadata_Batch</th>\n",
       "      <th>Metadata_Plate</th>\n",
       "      <th>Metadata_Well</th>\n",
       "      <th>Metadata_JCP2022</th>\n",
       "      <th>Metadata_InChI</th>\n",
       "      <th>Metadata_Is_Control</th>\n",
       "      <th>Metadata_Row</th>\n",
       "      <th>Metadata_Col</th>\n",
       "      <th>path_embedding</th>\n",
       "    </tr>\n",
       "  </thead>\n",
       "  <tbody>\n",
       "    <tr>\n",
       "      <th>0</th>\n",
       "      <td>source_10</td>\n",
       "      <td>2021_05_31_U2OS_48_hr_run1</td>\n",
       "      <td>Dest210531-152149</td>\n",
       "      <td>A01</td>\n",
       "      <td>JCP2022_085227</td>\n",
       "      <td>InChI=1S/C17H30N2O5/c1-6-23-17(22)14-13(24-14)...</td>\n",
       "      <td>False</td>\n",
       "      <td>1</td>\n",
       "      <td>1</td>\n",
       "      <td>/projects/synsight/data/openphenom/raw_well_em...</td>\n",
       "    </tr>\n",
       "    <tr>\n",
       "      <th>1</th>\n",
       "      <td>source_10</td>\n",
       "      <td>2021_05_31_U2OS_48_hr_run1</td>\n",
       "      <td>Dest210531-152149</td>\n",
       "      <td>A02</td>\n",
       "      <td>JCP2022_033924</td>\n",
       "      <td>InChI=1S/C2H6OS/c1-4(2)3/h1-2H3</td>\n",
       "      <td>True</td>\n",
       "      <td>1</td>\n",
       "      <td>2</td>\n",
       "      <td>/projects/synsight/data/openphenom/raw_well_em...</td>\n",
       "    </tr>\n",
       "    <tr>\n",
       "      <th>2</th>\n",
       "      <td>source_10</td>\n",
       "      <td>2021_05_31_U2OS_48_hr_run1</td>\n",
       "      <td>Dest210531-152149</td>\n",
       "      <td>A03</td>\n",
       "      <td>JCP2022_056163</td>\n",
       "      <td>InChI=1S/C21H20ClN3O4/c1-27-18-8-7-15(9-19(18)...</td>\n",
       "      <td>False</td>\n",
       "      <td>1</td>\n",
       "      <td>3</td>\n",
       "      <td>/projects/synsight/data/openphenom/raw_well_em...</td>\n",
       "    </tr>\n",
       "    <tr>\n",
       "      <th>3</th>\n",
       "      <td>source_10</td>\n",
       "      <td>2021_05_31_U2OS_48_hr_run1</td>\n",
       "      <td>Dest210531-152149</td>\n",
       "      <td>A04</td>\n",
       "      <td>JCP2022_054175</td>\n",
       "      <td>InChI=1S/C21H29N3O3/c1-27-16-7-5-14(6-8-16)17-...</td>\n",
       "      <td>False</td>\n",
       "      <td>1</td>\n",
       "      <td>4</td>\n",
       "      <td>/projects/synsight/data/openphenom/raw_well_em...</td>\n",
       "    </tr>\n",
       "    <tr>\n",
       "      <th>4</th>\n",
       "      <td>source_10</td>\n",
       "      <td>2021_05_31_U2OS_48_hr_run1</td>\n",
       "      <td>Dest210531-152149</td>\n",
       "      <td>A06</td>\n",
       "      <td>JCP2022_008983</td>\n",
       "      <td>InChI=1S/C21H17ClFN3O3/c1-25-19(27)17-16(15-13...</td>\n",
       "      <td>False</td>\n",
       "      <td>1</td>\n",
       "      <td>6</td>\n",
       "      <td>/projects/synsight/data/openphenom/raw_well_em...</td>\n",
       "    </tr>\n",
       "    <tr>\n",
       "      <th>...</th>\n",
       "      <td>...</td>\n",
       "      <td>...</td>\n",
       "      <td>...</td>\n",
       "      <td>...</td>\n",
       "      <td>...</td>\n",
       "      <td>...</td>\n",
       "      <td>...</td>\n",
       "      <td>...</td>\n",
       "      <td>...</td>\n",
       "      <td>...</td>\n",
       "    </tr>\n",
       "    <tr>\n",
       "      <th>746870</th>\n",
       "      <td>source_9</td>\n",
       "      <td>20211103-Run16</td>\n",
       "      <td>GR00004421</td>\n",
       "      <td>Z24</td>\n",
       "      <td>JCP2022_037716</td>\n",
       "      <td>InChI=1S/C28H21N7OS/c1-17-15-24(37-16-17)25-20...</td>\n",
       "      <td>False</td>\n",
       "      <td>26</td>\n",
       "      <td>24</td>\n",
       "      <td>/projects/synsight/data/openphenom/raw_well_em...</td>\n",
       "    </tr>\n",
       "    <tr>\n",
       "      <th>746871</th>\n",
       "      <td>source_9</td>\n",
       "      <td>20211103-Run16</td>\n",
       "      <td>GR00004421</td>\n",
       "      <td>Z25</td>\n",
       "      <td>JCP2022_037716</td>\n",
       "      <td>InChI=1S/C28H21N7OS/c1-17-15-24(37-16-17)25-20...</td>\n",
       "      <td>False</td>\n",
       "      <td>26</td>\n",
       "      <td>25</td>\n",
       "      <td>/projects/synsight/data/openphenom/raw_well_em...</td>\n",
       "    </tr>\n",
       "    <tr>\n",
       "      <th>746872</th>\n",
       "      <td>source_9</td>\n",
       "      <td>20211103-Run16</td>\n",
       "      <td>GR00004421</td>\n",
       "      <td>Z26</td>\n",
       "      <td>JCP2022_033924</td>\n",
       "      <td>InChI=1S/C2H6OS/c1-4(2)3/h1-2H3</td>\n",
       "      <td>True</td>\n",
       "      <td>26</td>\n",
       "      <td>26</td>\n",
       "      <td>/projects/synsight/data/openphenom/raw_well_em...</td>\n",
       "    </tr>\n",
       "    <tr>\n",
       "      <th>746873</th>\n",
       "      <td>source_9</td>\n",
       "      <td>20211103-Run16</td>\n",
       "      <td>GR00004421</td>\n",
       "      <td>Z47</td>\n",
       "      <td>JCP2022_033924</td>\n",
       "      <td>InChI=1S/C2H6OS/c1-4(2)3/h1-2H3</td>\n",
       "      <td>True</td>\n",
       "      <td>26</td>\n",
       "      <td>47</td>\n",
       "      <td>/projects/synsight/data/openphenom/raw_well_em...</td>\n",
       "    </tr>\n",
       "    <tr>\n",
       "      <th>746874</th>\n",
       "      <td>source_9</td>\n",
       "      <td>20211103-Run16</td>\n",
       "      <td>GR00004421</td>\n",
       "      <td>Z48</td>\n",
       "      <td>JCP2022_037716</td>\n",
       "      <td>InChI=1S/C28H21N7OS/c1-17-15-24(37-16-17)25-20...</td>\n",
       "      <td>False</td>\n",
       "      <td>26</td>\n",
       "      <td>48</td>\n",
       "      <td>/projects/synsight/data/openphenom/raw_well_em...</td>\n",
       "    </tr>\n",
       "  </tbody>\n",
       "</table>\n",
       "<p>746875 rows × 10 columns</p>\n",
       "</div>"
      ],
      "text/plain": [
       "       Metadata_Source              Metadata_Batch     Metadata_Plate  \\\n",
       "0            source_10  2021_05_31_U2OS_48_hr_run1  Dest210531-152149   \n",
       "1            source_10  2021_05_31_U2OS_48_hr_run1  Dest210531-152149   \n",
       "2            source_10  2021_05_31_U2OS_48_hr_run1  Dest210531-152149   \n",
       "3            source_10  2021_05_31_U2OS_48_hr_run1  Dest210531-152149   \n",
       "4            source_10  2021_05_31_U2OS_48_hr_run1  Dest210531-152149   \n",
       "...                ...                         ...                ...   \n",
       "746870        source_9              20211103-Run16         GR00004421   \n",
       "746871        source_9              20211103-Run16         GR00004421   \n",
       "746872        source_9              20211103-Run16         GR00004421   \n",
       "746873        source_9              20211103-Run16         GR00004421   \n",
       "746874        source_9              20211103-Run16         GR00004421   \n",
       "\n",
       "       Metadata_Well Metadata_JCP2022  \\\n",
       "0                A01   JCP2022_085227   \n",
       "1                A02   JCP2022_033924   \n",
       "2                A03   JCP2022_056163   \n",
       "3                A04   JCP2022_054175   \n",
       "4                A06   JCP2022_008983   \n",
       "...              ...              ...   \n",
       "746870           Z24   JCP2022_037716   \n",
       "746871           Z25   JCP2022_037716   \n",
       "746872           Z26   JCP2022_033924   \n",
       "746873           Z47   JCP2022_033924   \n",
       "746874           Z48   JCP2022_037716   \n",
       "\n",
       "                                           Metadata_InChI  \\\n",
       "0       InChI=1S/C17H30N2O5/c1-6-23-17(22)14-13(24-14)...   \n",
       "1                         InChI=1S/C2H6OS/c1-4(2)3/h1-2H3   \n",
       "2       InChI=1S/C21H20ClN3O4/c1-27-18-8-7-15(9-19(18)...   \n",
       "3       InChI=1S/C21H29N3O3/c1-27-16-7-5-14(6-8-16)17-...   \n",
       "4       InChI=1S/C21H17ClFN3O3/c1-25-19(27)17-16(15-13...   \n",
       "...                                                   ...   \n",
       "746870  InChI=1S/C28H21N7OS/c1-17-15-24(37-16-17)25-20...   \n",
       "746871  InChI=1S/C28H21N7OS/c1-17-15-24(37-16-17)25-20...   \n",
       "746872                    InChI=1S/C2H6OS/c1-4(2)3/h1-2H3   \n",
       "746873                    InChI=1S/C2H6OS/c1-4(2)3/h1-2H3   \n",
       "746874  InChI=1S/C28H21N7OS/c1-17-15-24(37-16-17)25-20...   \n",
       "\n",
       "        Metadata_Is_Control  Metadata_Row  Metadata_Col  \\\n",
       "0                     False             1             1   \n",
       "1                      True             1             2   \n",
       "2                     False             1             3   \n",
       "3                     False             1             4   \n",
       "4                     False             1             6   \n",
       "...                     ...           ...           ...   \n",
       "746870                False            26            24   \n",
       "746871                False            26            25   \n",
       "746872                 True            26            26   \n",
       "746873                 True            26            47   \n",
       "746874                False            26            48   \n",
       "\n",
       "                                           path_embedding  \n",
       "0       /projects/synsight/data/openphenom/raw_well_em...  \n",
       "1       /projects/synsight/data/openphenom/raw_well_em...  \n",
       "2       /projects/synsight/data/openphenom/raw_well_em...  \n",
       "3       /projects/synsight/data/openphenom/raw_well_em...  \n",
       "4       /projects/synsight/data/openphenom/raw_well_em...  \n",
       "...                                                   ...  \n",
       "746870  /projects/synsight/data/openphenom/raw_well_em...  \n",
       "746871  /projects/synsight/data/openphenom/raw_well_em...  \n",
       "746872  /projects/synsight/data/openphenom/raw_well_em...  \n",
       "746873  /projects/synsight/data/openphenom/raw_well_em...  \n",
       "746874  /projects/synsight/data/openphenom/raw_well_em...  \n",
       "\n",
       "[746875 rows x 10 columns]"
      ]
     },
     "execution_count": 85,
     "metadata": {},
     "output_type": "execute_result"
    }
   ],
   "source": [
    "df_phenom_good"
   ]
  },
  {
   "cell_type": "code",
   "execution_count": 86,
   "metadata": {},
   "outputs": [],
   "source": [
    "df_phenom_good.to_parquet('/projects/synsight/data/openphenom/raw_well_embeddings/compounds_wells_em_openphenom.parquet', index=False)"
   ]
  },
  {
   "cell_type": "code",
   "execution_count": null,
   "metadata": {},
   "outputs": [],
   "source": [
    "df_phenom = pd.read_parquet('/projects/synsight/data/openphenom/raw_well_embeddings/wells_em_openphenom.parquet')"
   ]
  }
 ],
 "metadata": {
  "kernelspec": {
   "display_name": ".venv",
   "language": "python",
   "name": "python3"
  },
  "language_info": {
   "codemirror_mode": {
    "name": "ipython",
    "version": 3
   },
   "file_extension": ".py",
   "mimetype": "text/x-python",
   "name": "python",
   "nbconvert_exporter": "python",
   "pygments_lexer": "ipython3",
   "version": "3.10.10"
  }
 },
 "nbformat": 4,
 "nbformat_minor": 2
}
