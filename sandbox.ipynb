{
 "cells": [
  {
   "cell_type": "markdown",
   "metadata": {},
   "source": [
    "# Import and sandbox"
   ]
  },
  {
   "cell_type": "code",
   "execution_count": 1,
   "metadata": {},
   "outputs": [],
   "source": [
    "import numpy as np\n",
    "import pandas as pd\n",
    "import torch \n"
   ]
  },
  {
   "cell_type": "code",
   "execution_count": 3,
   "metadata": {},
   "outputs": [],
   "source": [
    "df = pd.read_parquet('/projects/cpjump1/jump/load_data/ctrls_images.parquet')"
   ]
  },
  {
   "cell_type": "code",
   "execution_count": null,
   "metadata": {},
   "outputs": [],
   "source": [
    "df.columns"
   ]
  },
  {
   "cell_type": "code",
   "execution_count": 15,
   "metadata": {},
   "outputs": [],
   "source": [
    "images_cols = [\n",
    " 'FileName_OrigAGP',\n",
    " 'FileName_OrigDNA',\n",
    " 'FileName_OrigER',\n",
    " 'FileName_OrigMito', \n",
    " 'FileName_OrigRNA']"
   ]
  },
  {
   "cell_type": "code",
   "execution_count": 22,
   "metadata": {},
   "outputs": [],
   "source": [
    "metadata = df.iloc[7][images_cols].to_dict()\n"
   ]
  },
  {
   "cell_type": "code",
   "execution_count": null,
   "metadata": {},
   "outputs": [],
   "source": [
    "metadata"
   ]
  },
  {
   "cell_type": "code",
   "execution_count": null,
   "metadata": {},
   "outputs": [],
   "source": [
    "for img_path in df.iloc[7][images_cols].values:\n",
    "    print(img_path)"
   ]
  },
  {
   "cell_type": "code",
   "execution_count": null,
   "metadata": {},
   "outputs": [],
   "source": [
    "pd.DataFrame(df.iloc[7][images_cols].values, columns=[\"zs\"])"
   ]
  },
  {
   "cell_type": "code",
   "execution_count": null,
   "metadata": {},
   "outputs": [],
   "source": [
    "pd.read_csv('/projects/synsight/repos/phenoseeker/tmp/metadata.csv')"
   ]
  },
  {
   "cell_type": "code",
   "execution_count": null,
   "metadata": {},
   "outputs": [],
   "source": [
    "np.load('/projects/synsight/repos/phenoseeker/tmp/extracted_features.npy')"
   ]
  },
  {
   "cell_type": "markdown",
   "metadata": {},
   "source": [
    "# check n_wells "
   ]
  },
  {
   "cell_type": "markdown",
   "metadata": {},
   "source": [
    "## Imports"
   ]
  },
  {
   "cell_type": "code",
   "execution_count": 2,
   "metadata": {},
   "outputs": [],
   "source": [
    "df_phenom = pd.read_parquet('/projects/synsight/data/openphenom/raw_well_embeddings/wells_em_openphenom.parquet')"
   ]
  },
  {
   "cell_type": "code",
   "execution_count": 3,
   "metadata": {},
   "outputs": [],
   "source": [
    "df_dinov2_s = pd.read_parquet('/projects/synsight/data/dinov2_small/raw_well_embeddings/wells_em_dinov2s.parquet')"
   ]
  },
  {
   "cell_type": "code",
   "execution_count": 4,
   "metadata": {},
   "outputs": [],
   "source": [
    "df_dinov2_g = pd.read_parquet('/projects/synsight/data/dinov2/raw_well_embeddings/wells_em_dinov2.parquet')"
   ]
  },
  {
   "cell_type": "code",
   "execution_count": 5,
   "metadata": {},
   "outputs": [],
   "source": [
    "df_resnet = pd.read_parquet('/projects/cpjump1/jump/images_embeddings/resnet50_raw/metadata/load_wells/df_meta_raw_well.parquet')"
   ]
  },
  {
   "cell_type": "code",
   "execution_count": 6,
   "metadata": {},
   "outputs": [],
   "source": [
    "df_chada = pd.read_parquet('/projects/synsight/data/chada/well_embeddings/metadata_raw_mean.parquet')"
   ]
  },
  {
   "cell_type": "code",
   "execution_count": 7,
   "metadata": {},
   "outputs": [],
   "source": [
    "df_chada_2 = pd.read_parquet('/projects/synsight/data/chada/chada_jump.parquet')"
   ]
  },
  {
   "cell_type": "code",
   "execution_count": 8,
   "metadata": {},
   "outputs": [
    {
     "name": "stderr",
     "output_type": "stream",
     "text": [
      "/tmp/ipykernel_3390879/3787900309.py:1: DtypeWarning: Columns (2,8,9,10,11,12,13,14,15,18,20) have mixed types. Specify dtype option on import or set low_memory=False.\n",
      "  df_meta = pd.read_csv('/projects/cpjump1/jump/metadata/complete_metadata.csv')\n"
     ]
    }
   ],
   "source": [
    "df_meta = pd.read_csv('/projects/cpjump1/jump/metadata/complete_metadata.csv')"
   ]
  },
  {
   "cell_type": "markdown",
   "metadata": {},
   "source": [
    "## Reference"
   ]
  },
  {
   "cell_type": "code",
   "execution_count": 17,
   "metadata": {},
   "outputs": [],
   "source": [
    "images_df_path = \"/projects/cpjump1/jump/load_data/final\"\n",
    "images_df = pd.read_parquet(images_df_path)\n",
    "\n",
    "images_df[\"Metadata_Batch\"] = images_df[\"Metadata_Batch\"].astype(str)\n",
    "df_meta[\"Metadata_Batch\"] = df_meta[\"Metadata_Batch\"].astype(str)\n",
    "images_df[\"Metadata_Plate\"] = images_df[\"Metadata_Plate\"].astype(str)\n",
    "df_meta[\"Metadata_Plate\"] = df_meta[\"Metadata_Plate\"].astype(str)\n",
    "images_df[\"Metadata_Source\"] = images_df[\"Metadata_Source\"].astype(str)\n",
    "df_meta[\"Metadata_Source\"] = df_meta[\"Metadata_Source\"].astype(str)\n",
    "images_df[\"Metadata_Well\"] = images_df[\"Metadata_Well\"].astype(str)\n",
    "df_meta[\"Metadata_Well\"] = df_meta[\"Metadata_Well\"].astype(str)\n",
    "\n",
    "merged_df = pd.merge(images_df, df_meta, on=[\"Metadata_Source\", \"Metadata_Plate\", \"Metadata_Well\"])\n",
    "merged_df"
   ]
  },
  {
   "cell_type": "code",
   "execution_count": 57,
   "metadata": {},
   "outputs": [
    {
     "data": {
      "text/plain": [
       "5121200"
      ]
     },
     "execution_count": 57,
     "metadata": {},
     "output_type": "execute_result"
    }
   ],
   "source": [
    "len(merged_df)"
   ]
  },
  {
   "cell_type": "code",
   "execution_count": 61,
   "metadata": {},
   "outputs": [
    {
     "data": {
      "text/plain": [
       "112482"
      ]
     },
     "execution_count": 61,
     "metadata": {},
     "output_type": "execute_result"
    }
   ],
   "source": [
    "merged_df[(merged_df['Metadata_PlateType']=='COMPOUND')][\"Metadata_JCP2022\"].nunique()"
   ]
  },
  {
   "cell_type": "code",
   "execution_count": 62,
   "metadata": {},
   "outputs": [
    {
     "data": {
      "text/plain": [
       "115733"
      ]
     },
     "execution_count": 62,
     "metadata": {},
     "output_type": "execute_result"
    }
   ],
   "source": [
    "df_meta[(df_meta['Metadata_PlateType']=='COMPOUND')][\"Metadata_JCP2022\"].nunique()"
   ]
  },
  {
   "cell_type": "code",
   "execution_count": 63,
   "metadata": {},
   "outputs": [
    {
     "data": {
      "text/plain": [
       "2.8090518693890245"
      ]
     },
     "execution_count": 63,
     "metadata": {},
     "output_type": "execute_result"
    }
   ],
   "source": [
    "(115733-112482)/115733*100"
   ]
  },
  {
   "cell_type": "code",
   "execution_count": 68,
   "metadata": {},
   "outputs": [],
   "source": [
    "key_columns = ['Metadata_Source', 'Metadata_Plate', 'Metadata_Well']\n",
    "\n",
    "df1 = merged_df[merged_df['Metadata_PlateType']=='COMPOUND'][['Metadata_Source', 'Metadata_Well', 'Metadata_Plate', 'Metadata_JCP2022']]\n",
    "df2 = df_meta[(df_meta['Metadata_PlateType']=='COMPOUND')]\n",
    "only_in_df1 = df1.merge(df2, on=key_columns, how='left', indicator=True).query('_merge == \"left_only\"').drop('_merge', axis=1)\n",
    "only_in_df2 = df2.merge(df1, on=key_columns, how='left', indicator=True).query('_merge == \"left_only\"').drop('_merge', axis=1)"
   ]
  },
  {
   "cell_type": "code",
   "execution_count": 80,
   "metadata": {},
   "outputs": [
    {
     "data": {
      "text/plain": [
       "array(['Dest210803-160702', 'EC000157'], dtype=object)"
      ]
     },
     "execution_count": 80,
     "metadata": {},
     "output_type": "execute_result"
    }
   ],
   "source": [
    "only_in_df2[only_in_df2['Metadata_Source']!='source_7']['Metadata_Plate'].unique()"
   ]
  },
  {
   "cell_type": "code",
   "execution_count": 95,
   "metadata": {},
   "outputs": [],
   "source": [
    "key_columns = ['Metadata_Source', 'Metadata_Plate', 'Metadata_Well']\n",
    "\n",
    "df1 = merged_df[merged_df['Metadata_PlateType']!='COMPOUND'][['Metadata_Source', 'Metadata_Well', 'Metadata_Plate', 'Metadata_JCP2022']]\n",
    "df2 = df_meta[(df_meta['Metadata_PlateType'].isin(['TARGET2', 'CRISPR', 'ORF', 'TARGET1']))]\n",
    "only_in_df1 = df1.merge(df2, on=key_columns, how='left', indicator=True).query('_merge == \"left_only\"').drop('_merge', axis=1)\n",
    "only_in_df2 = df2.merge(df1, on=key_columns, how='left', indicator=True).query('_merge == \"left_only\"').drop('_merge', axis=1)"
   ]
  },
  {
   "cell_type": "code",
   "execution_count": 99,
   "metadata": {},
   "outputs": [
    {
     "data": {
      "text/plain": [
       "Metadata_Source\n",
       "source_4    9442\n",
       "source_7    2688\n",
       "Name: count, dtype: int64"
      ]
     },
     "execution_count": 99,
     "metadata": {},
     "output_type": "execute_result"
    }
   ],
   "source": [
    "only_in_df2['Metadata_Source'].value_counts()"
   ]
  },
  {
   "cell_type": "code",
   "execution_count": 96,
   "metadata": {},
   "outputs": [
    {
     "data": {
      "text/html": [
       "<div>\n",
       "<style scoped>\n",
       "    .dataframe tbody tr th:only-of-type {\n",
       "        vertical-align: middle;\n",
       "    }\n",
       "\n",
       "    .dataframe tbody tr th {\n",
       "        vertical-align: top;\n",
       "    }\n",
       "\n",
       "    .dataframe thead th {\n",
       "        text-align: right;\n",
       "    }\n",
       "</style>\n",
       "<table border=\"1\" class=\"dataframe\">\n",
       "  <thead>\n",
       "    <tr style=\"text-align: right;\">\n",
       "      <th></th>\n",
       "      <th>Metadata_Source</th>\n",
       "      <th>Metadata_Batch</th>\n",
       "      <th>Metadata_Plate</th>\n",
       "      <th>Metadata_PlateType</th>\n",
       "      <th>Metadata_Well</th>\n",
       "      <th>Metadata_JCP2022_x</th>\n",
       "      <th>Metadata_InChIKey</th>\n",
       "      <th>Metadata_InChI</th>\n",
       "      <th>Metadata_broad_sample</th>\n",
       "      <th>Metadata_Name</th>\n",
       "      <th>...</th>\n",
       "      <th>Metadata_Microscope_Name</th>\n",
       "      <th>Metadata_Widefield_vs_Confocal</th>\n",
       "      <th>Metadata_Excitation_Type</th>\n",
       "      <th>Metadata_Objective_NA</th>\n",
       "      <th>Metadata_N_Brightfield_Planes_Min</th>\n",
       "      <th>Metadata_N_Brightfield_Planes_Max</th>\n",
       "      <th>Metadata_Distance_Between_Z_Microns</th>\n",
       "      <th>Metadata_Sites_Per_Well</th>\n",
       "      <th>Metadata_Filter_Configuration</th>\n",
       "      <th>Metadata_JCP2022_y</th>\n",
       "    </tr>\n",
       "  </thead>\n",
       "  <tbody>\n",
       "    <tr>\n",
       "      <th>418995</th>\n",
       "      <td>source_4</td>\n",
       "      <td>2021_04_26_Batch1</td>\n",
       "      <td>BR00117035</td>\n",
       "      <td>ORF</td>\n",
       "      <td>B15</td>\n",
       "      <td>JCP2022_999999</td>\n",
       "      <td>NaN</td>\n",
       "      <td>NaN</td>\n",
       "      <td>NaN</td>\n",
       "      <td>NaN</td>\n",
       "      <td>...</td>\n",
       "      <td>Opera Phenix</td>\n",
       "      <td>Widefield</td>\n",
       "      <td>Laser</td>\n",
       "      <td>1.00</td>\n",
       "      <td>3</td>\n",
       "      <td>3</td>\n",
       "      <td>5.0</td>\n",
       "      <td>9</td>\n",
       "      <td>B</td>\n",
       "      <td>NaN</td>\n",
       "    </tr>\n",
       "    <tr>\n",
       "      <th>418996</th>\n",
       "      <td>source_4</td>\n",
       "      <td>2021_04_26_Batch1</td>\n",
       "      <td>BR00117035</td>\n",
       "      <td>ORF</td>\n",
       "      <td>B16</td>\n",
       "      <td>JCP2022_999999</td>\n",
       "      <td>NaN</td>\n",
       "      <td>NaN</td>\n",
       "      <td>NaN</td>\n",
       "      <td>NaN</td>\n",
       "      <td>...</td>\n",
       "      <td>Opera Phenix</td>\n",
       "      <td>Widefield</td>\n",
       "      <td>Laser</td>\n",
       "      <td>1.00</td>\n",
       "      <td>3</td>\n",
       "      <td>3</td>\n",
       "      <td>5.0</td>\n",
       "      <td>9</td>\n",
       "      <td>B</td>\n",
       "      <td>NaN</td>\n",
       "    </tr>\n",
       "    <tr>\n",
       "      <th>419300</th>\n",
       "      <td>source_4</td>\n",
       "      <td>2021_04_26_Batch1</td>\n",
       "      <td>BR00117035</td>\n",
       "      <td>ORF</td>\n",
       "      <td>D20</td>\n",
       "      <td>JCP2022_999999</td>\n",
       "      <td>NaN</td>\n",
       "      <td>NaN</td>\n",
       "      <td>NaN</td>\n",
       "      <td>NaN</td>\n",
       "      <td>...</td>\n",
       "      <td>Opera Phenix</td>\n",
       "      <td>Widefield</td>\n",
       "      <td>Laser</td>\n",
       "      <td>1.00</td>\n",
       "      <td>3</td>\n",
       "      <td>3</td>\n",
       "      <td>5.0</td>\n",
       "      <td>9</td>\n",
       "      <td>B</td>\n",
       "      <td>NaN</td>\n",
       "    </tr>\n",
       "    <tr>\n",
       "      <th>419301</th>\n",
       "      <td>source_4</td>\n",
       "      <td>2021_04_26_Batch1</td>\n",
       "      <td>BR00117035</td>\n",
       "      <td>ORF</td>\n",
       "      <td>D21</td>\n",
       "      <td>JCP2022_999999</td>\n",
       "      <td>NaN</td>\n",
       "      <td>NaN</td>\n",
       "      <td>NaN</td>\n",
       "      <td>NaN</td>\n",
       "      <td>...</td>\n",
       "      <td>Opera Phenix</td>\n",
       "      <td>Widefield</td>\n",
       "      <td>Laser</td>\n",
       "      <td>1.00</td>\n",
       "      <td>3</td>\n",
       "      <td>3</td>\n",
       "      <td>5.0</td>\n",
       "      <td>9</td>\n",
       "      <td>B</td>\n",
       "      <td>NaN</td>\n",
       "    </tr>\n",
       "    <tr>\n",
       "      <th>419326</th>\n",
       "      <td>source_4</td>\n",
       "      <td>2021_04_26_Batch1</td>\n",
       "      <td>BR00117035</td>\n",
       "      <td>ORF</td>\n",
       "      <td>E02</td>\n",
       "      <td>JCP2022_900001</td>\n",
       "      <td>NaN</td>\n",
       "      <td>NaN</td>\n",
       "      <td>BAD CONSTRUCT</td>\n",
       "      <td>BAD CONSTRUCT</td>\n",
       "      <td>...</td>\n",
       "      <td>Opera Phenix</td>\n",
       "      <td>Widefield</td>\n",
       "      <td>Laser</td>\n",
       "      <td>1.00</td>\n",
       "      <td>3</td>\n",
       "      <td>3</td>\n",
       "      <td>5.0</td>\n",
       "      <td>9</td>\n",
       "      <td>B</td>\n",
       "      <td>NaN</td>\n",
       "    </tr>\n",
       "    <tr>\n",
       "      <th>...</th>\n",
       "      <td>...</td>\n",
       "      <td>...</td>\n",
       "      <td>...</td>\n",
       "      <td>...</td>\n",
       "      <td>...</td>\n",
       "      <td>...</td>\n",
       "      <td>...</td>\n",
       "      <td>...</td>\n",
       "      <td>...</td>\n",
       "      <td>...</td>\n",
       "      <td>...</td>\n",
       "      <td>...</td>\n",
       "      <td>...</td>\n",
       "      <td>...</td>\n",
       "      <td>...</td>\n",
       "      <td>...</td>\n",
       "      <td>...</td>\n",
       "      <td>...</td>\n",
       "      <td>...</td>\n",
       "      <td>...</td>\n",
       "      <td>...</td>\n",
       "    </tr>\n",
       "    <tr>\n",
       "      <th>1084853</th>\n",
       "      <td>source_7</td>\n",
       "      <td>20211211_Run9M</td>\n",
       "      <td>CP3-SC2-25M</td>\n",
       "      <td>TARGET2</td>\n",
       "      <td>P20</td>\n",
       "      <td>JCP2022_032357</td>\n",
       "      <td>HSUGRBWQSSZJOP-UHFFFAOYSA-N</td>\n",
       "      <td>InChI=1S/C22H26N2O4S/c1-15(25)28-20-21(16-9-11...</td>\n",
       "      <td>NaN</td>\n",
       "      <td>NaN</td>\n",
       "      <td>...</td>\n",
       "      <td>CV7000</td>\n",
       "      <td>Confocal</td>\n",
       "      <td>Laser</td>\n",
       "      <td>0.75</td>\n",
       "      <td>0</td>\n",
       "      <td>0</td>\n",
       "      <td>NaN</td>\n",
       "      <td>9</td>\n",
       "      <td>D</td>\n",
       "      <td>NaN</td>\n",
       "    </tr>\n",
       "    <tr>\n",
       "      <th>1084854</th>\n",
       "      <td>source_7</td>\n",
       "      <td>20211211_Run9M</td>\n",
       "      <td>CP3-SC2-25M</td>\n",
       "      <td>TARGET2</td>\n",
       "      <td>P21</td>\n",
       "      <td>JCP2022_047545</td>\n",
       "      <td>KXBDTLQSDKGAEB-UHFFFAOYSA-N</td>\n",
       "      <td>InChI=1S/C22H22FN5O3/c1-3-20(29)25-16-5-4-6-17...</td>\n",
       "      <td>NaN</td>\n",
       "      <td>NaN</td>\n",
       "      <td>...</td>\n",
       "      <td>CV7000</td>\n",
       "      <td>Confocal</td>\n",
       "      <td>Laser</td>\n",
       "      <td>0.75</td>\n",
       "      <td>0</td>\n",
       "      <td>0</td>\n",
       "      <td>NaN</td>\n",
       "      <td>9</td>\n",
       "      <td>D</td>\n",
       "      <td>NaN</td>\n",
       "    </tr>\n",
       "    <tr>\n",
       "      <th>1084855</th>\n",
       "      <td>source_7</td>\n",
       "      <td>20211211_Run9M</td>\n",
       "      <td>CP3-SC2-25M</td>\n",
       "      <td>TARGET2</td>\n",
       "      <td>P22</td>\n",
       "      <td>JCP2022_043099</td>\n",
       "      <td>JZFPYUNJRRFVQU-UHFFFAOYSA-N</td>\n",
       "      <td>InChI=1S/C13H9F3N2O2/c14-13(15,16)8-3-1-4-9(7-...</td>\n",
       "      <td>NaN</td>\n",
       "      <td>NaN</td>\n",
       "      <td>...</td>\n",
       "      <td>CV7000</td>\n",
       "      <td>Confocal</td>\n",
       "      <td>Laser</td>\n",
       "      <td>0.75</td>\n",
       "      <td>0</td>\n",
       "      <td>0</td>\n",
       "      <td>NaN</td>\n",
       "      <td>9</td>\n",
       "      <td>D</td>\n",
       "      <td>NaN</td>\n",
       "    </tr>\n",
       "    <tr>\n",
       "      <th>1084856</th>\n",
       "      <td>source_7</td>\n",
       "      <td>20211211_Run9M</td>\n",
       "      <td>CP3-SC2-25M</td>\n",
       "      <td>TARGET2</td>\n",
       "      <td>P23</td>\n",
       "      <td>JCP2022_050516</td>\n",
       "      <td>LNFZRMDSZJCZTG-UHFFFAOYSA-N</td>\n",
       "      <td>InChI=1S/C28H21F4N5O2/c1-15-4-6-19(35-27(39)37...</td>\n",
       "      <td>NaN</td>\n",
       "      <td>NaN</td>\n",
       "      <td>...</td>\n",
       "      <td>CV7000</td>\n",
       "      <td>Confocal</td>\n",
       "      <td>Laser</td>\n",
       "      <td>0.75</td>\n",
       "      <td>0</td>\n",
       "      <td>0</td>\n",
       "      <td>NaN</td>\n",
       "      <td>9</td>\n",
       "      <td>D</td>\n",
       "      <td>NaN</td>\n",
       "    </tr>\n",
       "    <tr>\n",
       "      <th>1084857</th>\n",
       "      <td>source_7</td>\n",
       "      <td>20211211_Run9M</td>\n",
       "      <td>CP3-SC2-25M</td>\n",
       "      <td>TARGET2</td>\n",
       "      <td>P24</td>\n",
       "      <td>JCP2022_033924</td>\n",
       "      <td>IAZDPXIOMUYVGZ-UHFFFAOYSA-N</td>\n",
       "      <td>InChI=1S/C2H6OS/c1-4(2)3/h1-2H3</td>\n",
       "      <td>NaN</td>\n",
       "      <td>NaN</td>\n",
       "      <td>...</td>\n",
       "      <td>CV7000</td>\n",
       "      <td>Confocal</td>\n",
       "      <td>Laser</td>\n",
       "      <td>0.75</td>\n",
       "      <td>0</td>\n",
       "      <td>0</td>\n",
       "      <td>NaN</td>\n",
       "      <td>9</td>\n",
       "      <td>D</td>\n",
       "      <td>NaN</td>\n",
       "    </tr>\n",
       "  </tbody>\n",
       "</table>\n",
       "<p>12130 rows × 31 columns</p>\n",
       "</div>"
      ],
      "text/plain": [
       "        Metadata_Source     Metadata_Batch Metadata_Plate Metadata_PlateType  \\\n",
       "418995         source_4  2021_04_26_Batch1     BR00117035                ORF   \n",
       "418996         source_4  2021_04_26_Batch1     BR00117035                ORF   \n",
       "419300         source_4  2021_04_26_Batch1     BR00117035                ORF   \n",
       "419301         source_4  2021_04_26_Batch1     BR00117035                ORF   \n",
       "419326         source_4  2021_04_26_Batch1     BR00117035                ORF   \n",
       "...                 ...                ...            ...                ...   \n",
       "1084853        source_7     20211211_Run9M    CP3-SC2-25M            TARGET2   \n",
       "1084854        source_7     20211211_Run9M    CP3-SC2-25M            TARGET2   \n",
       "1084855        source_7     20211211_Run9M    CP3-SC2-25M            TARGET2   \n",
       "1084856        source_7     20211211_Run9M    CP3-SC2-25M            TARGET2   \n",
       "1084857        source_7     20211211_Run9M    CP3-SC2-25M            TARGET2   \n",
       "\n",
       "        Metadata_Well Metadata_JCP2022_x            Metadata_InChIKey  \\\n",
       "418995            B15     JCP2022_999999                          NaN   \n",
       "418996            B16     JCP2022_999999                          NaN   \n",
       "419300            D20     JCP2022_999999                          NaN   \n",
       "419301            D21     JCP2022_999999                          NaN   \n",
       "419326            E02     JCP2022_900001                          NaN   \n",
       "...               ...                ...                          ...   \n",
       "1084853           P20     JCP2022_032357  HSUGRBWQSSZJOP-UHFFFAOYSA-N   \n",
       "1084854           P21     JCP2022_047545  KXBDTLQSDKGAEB-UHFFFAOYSA-N   \n",
       "1084855           P22     JCP2022_043099  JZFPYUNJRRFVQU-UHFFFAOYSA-N   \n",
       "1084856           P23     JCP2022_050516  LNFZRMDSZJCZTG-UHFFFAOYSA-N   \n",
       "1084857           P24     JCP2022_033924  IAZDPXIOMUYVGZ-UHFFFAOYSA-N   \n",
       "\n",
       "                                            Metadata_InChI  \\\n",
       "418995                                                 NaN   \n",
       "418996                                                 NaN   \n",
       "419300                                                 NaN   \n",
       "419301                                                 NaN   \n",
       "419326                                                 NaN   \n",
       "...                                                    ...   \n",
       "1084853  InChI=1S/C22H26N2O4S/c1-15(25)28-20-21(16-9-11...   \n",
       "1084854  InChI=1S/C22H22FN5O3/c1-3-20(29)25-16-5-4-6-17...   \n",
       "1084855  InChI=1S/C13H9F3N2O2/c14-13(15,16)8-3-1-4-9(7-...   \n",
       "1084856  InChI=1S/C28H21F4N5O2/c1-15-4-6-19(35-27(39)37...   \n",
       "1084857                    InChI=1S/C2H6OS/c1-4(2)3/h1-2H3   \n",
       "\n",
       "        Metadata_broad_sample  Metadata_Name  ... Metadata_Microscope_Name  \\\n",
       "418995                    NaN            NaN  ...             Opera Phenix   \n",
       "418996                    NaN            NaN  ...             Opera Phenix   \n",
       "419300                    NaN            NaN  ...             Opera Phenix   \n",
       "419301                    NaN            NaN  ...             Opera Phenix   \n",
       "419326          BAD CONSTRUCT  BAD CONSTRUCT  ...             Opera Phenix   \n",
       "...                       ...            ...  ...                      ...   \n",
       "1084853                   NaN            NaN  ...                   CV7000   \n",
       "1084854                   NaN            NaN  ...                   CV7000   \n",
       "1084855                   NaN            NaN  ...                   CV7000   \n",
       "1084856                   NaN            NaN  ...                   CV7000   \n",
       "1084857                   NaN            NaN  ...                   CV7000   \n",
       "\n",
       "        Metadata_Widefield_vs_Confocal Metadata_Excitation_Type  \\\n",
       "418995                       Widefield                    Laser   \n",
       "418996                       Widefield                    Laser   \n",
       "419300                       Widefield                    Laser   \n",
       "419301                       Widefield                    Laser   \n",
       "419326                       Widefield                    Laser   \n",
       "...                                ...                      ...   \n",
       "1084853                       Confocal                    Laser   \n",
       "1084854                       Confocal                    Laser   \n",
       "1084855                       Confocal                    Laser   \n",
       "1084856                       Confocal                    Laser   \n",
       "1084857                       Confocal                    Laser   \n",
       "\n",
       "        Metadata_Objective_NA Metadata_N_Brightfield_Planes_Min  \\\n",
       "418995                   1.00                                 3   \n",
       "418996                   1.00                                 3   \n",
       "419300                   1.00                                 3   \n",
       "419301                   1.00                                 3   \n",
       "419326                   1.00                                 3   \n",
       "...                       ...                               ...   \n",
       "1084853                  0.75                                 0   \n",
       "1084854                  0.75                                 0   \n",
       "1084855                  0.75                                 0   \n",
       "1084856                  0.75                                 0   \n",
       "1084857                  0.75                                 0   \n",
       "\n",
       "        Metadata_N_Brightfield_Planes_Max  \\\n",
       "418995                                  3   \n",
       "418996                                  3   \n",
       "419300                                  3   \n",
       "419301                                  3   \n",
       "419326                                  3   \n",
       "...                                   ...   \n",
       "1084853                                 0   \n",
       "1084854                                 0   \n",
       "1084855                                 0   \n",
       "1084856                                 0   \n",
       "1084857                                 0   \n",
       "\n",
       "         Metadata_Distance_Between_Z_Microns  Metadata_Sites_Per_Well  \\\n",
       "418995                                   5.0                        9   \n",
       "418996                                   5.0                        9   \n",
       "419300                                   5.0                        9   \n",
       "419301                                   5.0                        9   \n",
       "419326                                   5.0                        9   \n",
       "...                                      ...                      ...   \n",
       "1084853                                  NaN                        9   \n",
       "1084854                                  NaN                        9   \n",
       "1084855                                  NaN                        9   \n",
       "1084856                                  NaN                        9   \n",
       "1084857                                  NaN                        9   \n",
       "\n",
       "        Metadata_Filter_Configuration  Metadata_JCP2022_y  \n",
       "418995                              B                 NaN  \n",
       "418996                              B                 NaN  \n",
       "419300                              B                 NaN  \n",
       "419301                              B                 NaN  \n",
       "419326                              B                 NaN  \n",
       "...                               ...                 ...  \n",
       "1084853                             D                 NaN  \n",
       "1084854                             D                 NaN  \n",
       "1084855                             D                 NaN  \n",
       "1084856                             D                 NaN  \n",
       "1084857                             D                 NaN  \n",
       "\n",
       "[12130 rows x 31 columns]"
      ]
     },
     "execution_count": 96,
     "metadata": {},
     "output_type": "execute_result"
    }
   ],
   "source": [
    "only_in_df2"
   ]
  },
  {
   "cell_type": "code",
   "execution_count": 105,
   "metadata": {},
   "outputs": [
    {
     "data": {
      "text/plain": [
       "Index(['Metadata_Source', 'Metadata_Batch_x', 'Metadata_Plate',\n",
       "       'Metadata_Well', 'Metadata_Site', 'FileName_OrigAGP',\n",
       "       'FileName_OrigDNA', 'FileName_OrigER', 'FileName_OrigMito',\n",
       "       'FileName_OrigRNA', 'Metadata_Batch_y', 'Metadata_PlateType',\n",
       "       'Metadata_JCP2022', 'Metadata_InChIKey', 'Metadata_InChI',\n",
       "       'Metadata_broad_sample', 'Metadata_Name', 'Metadata_Vector',\n",
       "       'Metadata_Transcript', 'Metadata_Symbol_x', 'Metadata_NCBI_Gene_ID_x',\n",
       "       'Metadata_Taxon_ID', 'Metadata_Gene_Description', 'Metadata_Prot_Match',\n",
       "       'Metadata_Insert_Length', 'Metadata_pert_type',\n",
       "       'Metadata_NCBI_Gene_ID_y', 'Metadata_Symbol_y',\n",
       "       'Metadata_Microscope_Name', 'Metadata_Widefield_vs_Confocal',\n",
       "       'Metadata_Excitation_Type', 'Metadata_Objective_NA',\n",
       "       'Metadata_N_Brightfield_Planes_Min',\n",
       "       'Metadata_N_Brightfield_Planes_Max',\n",
       "       'Metadata_Distance_Between_Z_Microns', 'Metadata_Sites_Per_Well',\n",
       "       'Metadata_Filter_Configuration'],\n",
       "      dtype='object')"
      ]
     },
     "execution_count": 105,
     "metadata": {},
     "output_type": "execute_result"
    }
   ],
   "source": [
    "merged_df.columns"
   ]
  },
  {
   "cell_type": "code",
   "execution_count": 113,
   "metadata": {},
   "outputs": [],
   "source": [
    "df = merged_df[merged_df[\"Metadata_PlateType\"]=='COMPOUND'][['Metadata_Source', 'Metadata_Batch_x', 'Metadata_Plate',\n",
    "       'Metadata_Well', 'Metadata_JCP2022']]\n",
    "df.columns = ['Metadata_Source', 'Metadata_Batch', 'Metadata_Plate', 'Metadata_Well', 'Metadata_JCP2022']"
   ]
  },
  {
   "cell_type": "code",
   "execution_count": 151,
   "metadata": {},
   "outputs": [
    {
     "name": "stderr",
     "output_type": "stream",
     "text": [
      "/tmp/ipykernel_3390879/1714066172.py:1: UserWarning: Boolean Series key will be reindexed to match DataFrame index.\n",
      "  ref_compound_df = df[~df['Metadata_JCP2022'].isin(['JCP2022_999999', 'JCP2022_UNKNOWN'])].drop_duplicates()[~df['Metadata_JCP2022'].isin(['JCP2022_999999', 'JCP2022_UNKNOWN'])].reset_index().drop(columns='index')\n"
     ]
    }
   ],
   "source": [
    "ref_compound_df = df[~df['Metadata_JCP2022'].isin(['JCP2022_999999', 'JCP2022_UNKNOWN'])].drop_duplicates()[~df['Metadata_JCP2022'].isin(['JCP2022_999999', 'JCP2022_UNKNOWN'])].reset_index().drop(columns='index')"
   ]
  },
  {
   "cell_type": "code",
   "execution_count": 152,
   "metadata": {},
   "outputs": [
    {
     "data": {
      "text/html": [
       "<div>\n",
       "<style scoped>\n",
       "    .dataframe tbody tr th:only-of-type {\n",
       "        vertical-align: middle;\n",
       "    }\n",
       "\n",
       "    .dataframe tbody tr th {\n",
       "        vertical-align: top;\n",
       "    }\n",
       "\n",
       "    .dataframe thead th {\n",
       "        text-align: right;\n",
       "    }\n",
       "</style>\n",
       "<table border=\"1\" class=\"dataframe\">\n",
       "  <thead>\n",
       "    <tr style=\"text-align: right;\">\n",
       "      <th></th>\n",
       "      <th>Metadata_Source</th>\n",
       "      <th>Metadata_Batch</th>\n",
       "      <th>Metadata_Plate</th>\n",
       "      <th>Metadata_Well</th>\n",
       "      <th>Metadata_JCP2022</th>\n",
       "    </tr>\n",
       "  </thead>\n",
       "  <tbody>\n",
       "    <tr>\n",
       "      <th>0</th>\n",
       "      <td>source_10</td>\n",
       "      <td>2021_05_31_U2OS_48_hr_run1</td>\n",
       "      <td>Dest210531-152149</td>\n",
       "      <td>A01</td>\n",
       "      <td>JCP2022_085227</td>\n",
       "    </tr>\n",
       "    <tr>\n",
       "      <th>1</th>\n",
       "      <td>source_10</td>\n",
       "      <td>2021_05_31_U2OS_48_hr_run1</td>\n",
       "      <td>Dest210531-152149</td>\n",
       "      <td>A02</td>\n",
       "      <td>JCP2022_033924</td>\n",
       "    </tr>\n",
       "    <tr>\n",
       "      <th>2</th>\n",
       "      <td>source_10</td>\n",
       "      <td>2021_05_31_U2OS_48_hr_run1</td>\n",
       "      <td>Dest210531-152149</td>\n",
       "      <td>A03</td>\n",
       "      <td>JCP2022_056163</td>\n",
       "    </tr>\n",
       "    <tr>\n",
       "      <th>3</th>\n",
       "      <td>source_10</td>\n",
       "      <td>2021_05_31_U2OS_48_hr_run1</td>\n",
       "      <td>Dest210531-152149</td>\n",
       "      <td>A04</td>\n",
       "      <td>JCP2022_054175</td>\n",
       "    </tr>\n",
       "    <tr>\n",
       "      <th>4</th>\n",
       "      <td>source_10</td>\n",
       "      <td>2021_05_31_U2OS_48_hr_run1</td>\n",
       "      <td>Dest210531-152149</td>\n",
       "      <td>A06</td>\n",
       "      <td>JCP2022_008983</td>\n",
       "    </tr>\n",
       "    <tr>\n",
       "      <th>...</th>\n",
       "      <td>...</td>\n",
       "      <td>...</td>\n",
       "      <td>...</td>\n",
       "      <td>...</td>\n",
       "      <td>...</td>\n",
       "    </tr>\n",
       "    <tr>\n",
       "      <th>746870</th>\n",
       "      <td>source_9</td>\n",
       "      <td>20211103-Run16</td>\n",
       "      <td>GR00004421</td>\n",
       "      <td>Z24</td>\n",
       "      <td>JCP2022_037716</td>\n",
       "    </tr>\n",
       "    <tr>\n",
       "      <th>746871</th>\n",
       "      <td>source_9</td>\n",
       "      <td>20211103-Run16</td>\n",
       "      <td>GR00004421</td>\n",
       "      <td>Z25</td>\n",
       "      <td>JCP2022_037716</td>\n",
       "    </tr>\n",
       "    <tr>\n",
       "      <th>746872</th>\n",
       "      <td>source_9</td>\n",
       "      <td>20211103-Run16</td>\n",
       "      <td>GR00004421</td>\n",
       "      <td>Z26</td>\n",
       "      <td>JCP2022_033924</td>\n",
       "    </tr>\n",
       "    <tr>\n",
       "      <th>746873</th>\n",
       "      <td>source_9</td>\n",
       "      <td>20211103-Run16</td>\n",
       "      <td>GR00004421</td>\n",
       "      <td>Z47</td>\n",
       "      <td>JCP2022_033924</td>\n",
       "    </tr>\n",
       "    <tr>\n",
       "      <th>746874</th>\n",
       "      <td>source_9</td>\n",
       "      <td>20211103-Run16</td>\n",
       "      <td>GR00004421</td>\n",
       "      <td>Z48</td>\n",
       "      <td>JCP2022_037716</td>\n",
       "    </tr>\n",
       "  </tbody>\n",
       "</table>\n",
       "<p>746875 rows × 5 columns</p>\n",
       "</div>"
      ],
      "text/plain": [
       "       Metadata_Source              Metadata_Batch     Metadata_Plate  \\\n",
       "0            source_10  2021_05_31_U2OS_48_hr_run1  Dest210531-152149   \n",
       "1            source_10  2021_05_31_U2OS_48_hr_run1  Dest210531-152149   \n",
       "2            source_10  2021_05_31_U2OS_48_hr_run1  Dest210531-152149   \n",
       "3            source_10  2021_05_31_U2OS_48_hr_run1  Dest210531-152149   \n",
       "4            source_10  2021_05_31_U2OS_48_hr_run1  Dest210531-152149   \n",
       "...                ...                         ...                ...   \n",
       "746870        source_9              20211103-Run16         GR00004421   \n",
       "746871        source_9              20211103-Run16         GR00004421   \n",
       "746872        source_9              20211103-Run16         GR00004421   \n",
       "746873        source_9              20211103-Run16         GR00004421   \n",
       "746874        source_9              20211103-Run16         GR00004421   \n",
       "\n",
       "       Metadata_Well Metadata_JCP2022  \n",
       "0                A01   JCP2022_085227  \n",
       "1                A02   JCP2022_033924  \n",
       "2                A03   JCP2022_056163  \n",
       "3                A04   JCP2022_054175  \n",
       "4                A06   JCP2022_008983  \n",
       "...              ...              ...  \n",
       "746870           Z24   JCP2022_037716  \n",
       "746871           Z25   JCP2022_037716  \n",
       "746872           Z26   JCP2022_033924  \n",
       "746873           Z47   JCP2022_033924  \n",
       "746874           Z48   JCP2022_037716  \n",
       "\n",
       "[746875 rows x 5 columns]"
      ]
     },
     "execution_count": 152,
     "metadata": {},
     "output_type": "execute_result"
    }
   ],
   "source": [
    "ref_compound_df"
   ]
  },
  {
   "cell_type": "markdown",
   "metadata": {},
   "source": [
    "## Counts"
   ]
  },
  {
   "cell_type": "markdown",
   "metadata": {},
   "source": [
    "### Resnet"
   ]
  },
  {
   "cell_type": "code",
   "execution_count": 121,
   "metadata": {},
   "outputs": [
    {
     "data": {
      "text/plain": [
       "785137"
      ]
     },
     "execution_count": 121,
     "metadata": {},
     "output_type": "execute_result"
    }
   ],
   "source": [
    "len(ref_compound_df)"
   ]
  },
  {
   "cell_type": "code",
   "execution_count": 122,
   "metadata": {},
   "outputs": [
    {
     "data": {
      "text/plain": [
       "746875"
      ]
     },
     "execution_count": 122,
     "metadata": {},
     "output_type": "execute_result"
    }
   ],
   "source": [
    "len(df_resnet)"
   ]
  },
  {
   "cell_type": "code",
   "execution_count": 153,
   "metadata": {},
   "outputs": [],
   "source": [
    "\n",
    "df2 = df_resnet.copy(deep=True)\n",
    "\n",
    "key_columns = ['Metadata_Source', 'Metadata_Plate', 'Metadata_Well']\n",
    "\n",
    "only_in_ref = ref_compound_df.merge(df2, on=key_columns, how='left', indicator=True).query('_merge == \"left_only\"').drop('_merge', axis=1)\n",
    "only_in_df2 = df2.merge(ref_compound_df, on=key_columns, how='left', indicator=True).query('_merge == \"left_only\"').drop('_merge', axis=1)\n",
    "\n"
   ]
  },
  {
   "cell_type": "code",
   "execution_count": 154,
   "metadata": {},
   "outputs": [
    {
     "name": "stdout",
     "output_type": "stream",
     "text": [
      "0\n",
      "0\n"
     ]
    }
   ],
   "source": [
    "print(len(only_in_df2))\n",
    "print(len(only_in_ref))"
   ]
  },
  {
   "cell_type": "markdown",
   "metadata": {},
   "source": [
    "### chada"
   ]
  },
  {
   "cell_type": "code",
   "execution_count": 155,
   "metadata": {},
   "outputs": [
    {
     "data": {
      "text/plain": [
       "746870"
      ]
     },
     "execution_count": 155,
     "metadata": {},
     "output_type": "execute_result"
    }
   ],
   "source": [
    "len(df_chada)"
   ]
  },
  {
   "cell_type": "code",
   "execution_count": 158,
   "metadata": {},
   "outputs": [
    {
     "name": "stdout",
     "output_type": "stream",
     "text": [
      "0\n",
      "5\n"
     ]
    }
   ],
   "source": [
    "\n",
    "df2 = df_chada.copy(deep=True)\n",
    "\n",
    "key_columns = ['Metadata_Source', 'Metadata_Plate', 'Metadata_Well']\n",
    "\n",
    "only_in_ref = ref_compound_df.merge(df2, on=key_columns, how='left', indicator=True).query('_merge == \"left_only\"').drop('_merge', axis=1)\n",
    "only_in_df2 = df2.merge(ref_compound_df, on=key_columns, how='left', indicator=True).query('_merge == \"left_only\"').drop('_merge', axis=1)\n",
    "\n",
    "print(len(only_in_df2))\n",
    "print(len(only_in_ref))"
   ]
  },
  {
   "cell_type": "code",
   "execution_count": 159,
   "metadata": {},
   "outputs": [
    {
     "data": {
      "text/html": [
       "<div>\n",
       "<style scoped>\n",
       "    .dataframe tbody tr th:only-of-type {\n",
       "        vertical-align: middle;\n",
       "    }\n",
       "\n",
       "    .dataframe tbody tr th {\n",
       "        vertical-align: top;\n",
       "    }\n",
       "\n",
       "    .dataframe thead th {\n",
       "        text-align: right;\n",
       "    }\n",
       "</style>\n",
       "<table border=\"1\" class=\"dataframe\">\n",
       "  <thead>\n",
       "    <tr style=\"text-align: right;\">\n",
       "      <th></th>\n",
       "      <th>Metadata_Source</th>\n",
       "      <th>Metadata_Batch_x</th>\n",
       "      <th>Metadata_Plate</th>\n",
       "      <th>Metadata_Well</th>\n",
       "      <th>Metadata_JCP2022_x</th>\n",
       "      <th>Metadata_InChI</th>\n",
       "      <th>Metadata_PlateType</th>\n",
       "      <th>Metadata_Batch_y</th>\n",
       "      <th>Metadata_Is_Control</th>\n",
       "      <th>Embeddings_mean</th>\n",
       "      <th>Metadata_Row</th>\n",
       "      <th>Metadata_Col</th>\n",
       "      <th>Path_Embeddings</th>\n",
       "      <th>Metadata_JCP2022_y</th>\n",
       "    </tr>\n",
       "  </thead>\n",
       "  <tbody>\n",
       "    <tr>\n",
       "      <th>273751</th>\n",
       "      <td>source_2</td>\n",
       "      <td>20210823_Batch_10</td>\n",
       "      <td>1086291931</td>\n",
       "      <td>A08</td>\n",
       "      <td>JCP2022_065740</td>\n",
       "      <td>NaN</td>\n",
       "      <td>NaN</td>\n",
       "      <td>NaN</td>\n",
       "      <td>NaN</td>\n",
       "      <td>NaN</td>\n",
       "      <td>NaN</td>\n",
       "      <td>NaN</td>\n",
       "      <td>NaN</td>\n",
       "      <td>NaN</td>\n",
       "    </tr>\n",
       "    <tr>\n",
       "      <th>295607</th>\n",
       "      <td>source_3</td>\n",
       "      <td>CP59</td>\n",
       "      <td>BR5871b3</td>\n",
       "      <td>A15</td>\n",
       "      <td>JCP2022_065740</td>\n",
       "      <td>NaN</td>\n",
       "      <td>NaN</td>\n",
       "      <td>NaN</td>\n",
       "      <td>NaN</td>\n",
       "      <td>NaN</td>\n",
       "      <td>NaN</td>\n",
       "      <td>NaN</td>\n",
       "      <td>NaN</td>\n",
       "      <td>NaN</td>\n",
       "    </tr>\n",
       "    <tr>\n",
       "      <th>367421</th>\n",
       "      <td>source_3</td>\n",
       "      <td>CP_35_all_Phenix1</td>\n",
       "      <td>BAY5871b</td>\n",
       "      <td>A15</td>\n",
       "      <td>JCP2022_065740</td>\n",
       "      <td>NaN</td>\n",
       "      <td>NaN</td>\n",
       "      <td>NaN</td>\n",
       "      <td>NaN</td>\n",
       "      <td>NaN</td>\n",
       "      <td>NaN</td>\n",
       "      <td>NaN</td>\n",
       "      <td>NaN</td>\n",
       "      <td>NaN</td>\n",
       "    </tr>\n",
       "    <tr>\n",
       "      <th>501659</th>\n",
       "      <td>source_6</td>\n",
       "      <td>p211012CPU2OS48hw384exp033JUMP</td>\n",
       "      <td>110000295620</td>\n",
       "      <td>A15</td>\n",
       "      <td>JCP2022_065740</td>\n",
       "      <td>NaN</td>\n",
       "      <td>NaN</td>\n",
       "      <td>NaN</td>\n",
       "      <td>NaN</td>\n",
       "      <td>NaN</td>\n",
       "      <td>NaN</td>\n",
       "      <td>NaN</td>\n",
       "      <td>NaN</td>\n",
       "      <td>NaN</td>\n",
       "    </tr>\n",
       "    <tr>\n",
       "      <th>579163</th>\n",
       "      <td>source_8</td>\n",
       "      <td>J3</td>\n",
       "      <td>A1170530</td>\n",
       "      <td>A15</td>\n",
       "      <td>JCP2022_065740</td>\n",
       "      <td>NaN</td>\n",
       "      <td>NaN</td>\n",
       "      <td>NaN</td>\n",
       "      <td>NaN</td>\n",
       "      <td>NaN</td>\n",
       "      <td>NaN</td>\n",
       "      <td>NaN</td>\n",
       "      <td>NaN</td>\n",
       "      <td>NaN</td>\n",
       "    </tr>\n",
       "  </tbody>\n",
       "</table>\n",
       "</div>"
      ],
      "text/plain": [
       "       Metadata_Source                Metadata_Batch_x Metadata_Plate  \\\n",
       "273751        source_2               20210823_Batch_10     1086291931   \n",
       "295607        source_3                            CP59       BR5871b3   \n",
       "367421        source_3               CP_35_all_Phenix1       BAY5871b   \n",
       "501659        source_6  p211012CPU2OS48hw384exp033JUMP   110000295620   \n",
       "579163        source_8                              J3       A1170530   \n",
       "\n",
       "       Metadata_Well Metadata_JCP2022_x Metadata_InChI Metadata_PlateType  \\\n",
       "273751           A08     JCP2022_065740            NaN                NaN   \n",
       "295607           A15     JCP2022_065740            NaN                NaN   \n",
       "367421           A15     JCP2022_065740            NaN                NaN   \n",
       "501659           A15     JCP2022_065740            NaN                NaN   \n",
       "579163           A15     JCP2022_065740            NaN                NaN   \n",
       "\n",
       "       Metadata_Batch_y Metadata_Is_Control Embeddings_mean  Metadata_Row  \\\n",
       "273751              NaN                 NaN             NaN           NaN   \n",
       "295607              NaN                 NaN             NaN           NaN   \n",
       "367421              NaN                 NaN             NaN           NaN   \n",
       "501659              NaN                 NaN             NaN           NaN   \n",
       "579163              NaN                 NaN             NaN           NaN   \n",
       "\n",
       "        Metadata_Col Path_Embeddings Metadata_JCP2022_y  \n",
       "273751           NaN             NaN                NaN  \n",
       "295607           NaN             NaN                NaN  \n",
       "367421           NaN             NaN                NaN  \n",
       "501659           NaN             NaN                NaN  \n",
       "579163           NaN             NaN                NaN  "
      ]
     },
     "execution_count": 159,
     "metadata": {},
     "output_type": "execute_result"
    }
   ],
   "source": [
    "only_in_ref # One molecule that is strange in formula so should have failed while preprocessed by @ThomasLemercier"
   ]
  },
  {
   "cell_type": "markdown",
   "metadata": {},
   "source": [
    "### dino (s and g have the exact same lines)"
   ]
  },
  {
   "cell_type": "code",
   "execution_count": 168,
   "metadata": {},
   "outputs": [
    {
     "data": {
      "text/plain": [
       "992234"
      ]
     },
     "execution_count": 168,
     "metadata": {},
     "output_type": "execute_result"
    }
   ],
   "source": [
    "len(df_dinov2_s.drop_duplicates(subset=key_columns))"
   ]
  },
  {
   "cell_type": "code",
   "execution_count": 171,
   "metadata": {},
   "outputs": [],
   "source": [
    "duplicates = df_dinov2_g.groupby(key_columns).filter(lambda x: len(x) > 1)\n"
   ]
  },
  {
   "cell_type": "code",
   "execution_count": 172,
   "metadata": {},
   "outputs": [
    {
     "data": {
      "text/html": [
       "<div>\n",
       "<style scoped>\n",
       "    .dataframe tbody tr th:only-of-type {\n",
       "        vertical-align: middle;\n",
       "    }\n",
       "\n",
       "    .dataframe tbody tr th {\n",
       "        vertical-align: top;\n",
       "    }\n",
       "\n",
       "    .dataframe thead th {\n",
       "        text-align: right;\n",
       "    }\n",
       "</style>\n",
       "<table border=\"1\" class=\"dataframe\">\n",
       "  <thead>\n",
       "    <tr style=\"text-align: right;\">\n",
       "      <th></th>\n",
       "      <th>Metadata_Well</th>\n",
       "      <th>Metadata_Source</th>\n",
       "      <th>Metadata_Batch</th>\n",
       "      <th>Metadata_Plate</th>\n",
       "      <th>Metadata_JCP2022</th>\n",
       "      <th>Metadata_InChI</th>\n",
       "      <th>Metadata_Is_Control</th>\n",
       "      <th>Metadata_Row</th>\n",
       "      <th>Metadata_Col</th>\n",
       "      <th>path_embedding</th>\n",
       "    </tr>\n",
       "  </thead>\n",
       "  <tbody>\n",
       "    <tr>\n",
       "      <th>25526</th>\n",
       "      <td>G23</td>\n",
       "      <td>source_6</td>\n",
       "      <td>p211109CPU2OS48hw384exp035JUMP</td>\n",
       "      <td>110000295498</td>\n",
       "      <td>nan</td>\n",
       "      <td>nan</td>\n",
       "      <td>False</td>\n",
       "      <td>7</td>\n",
       "      <td>23</td>\n",
       "      <td>/projects/synsight/data/dinov2/raw_well_embedd...</td>\n",
       "    </tr>\n",
       "    <tr>\n",
       "      <th>167155</th>\n",
       "      <td>N11</td>\n",
       "      <td>source_2</td>\n",
       "      <td>20210712_Batch_5</td>\n",
       "      <td>1053597844</td>\n",
       "      <td>nan</td>\n",
       "      <td>nan</td>\n",
       "      <td>False</td>\n",
       "      <td>14</td>\n",
       "      <td>11</td>\n",
       "      <td>/projects/synsight/data/dinov2/raw_well_embedd...</td>\n",
       "    </tr>\n",
       "    <tr>\n",
       "      <th>345067</th>\n",
       "      <td>G23</td>\n",
       "      <td>source_6</td>\n",
       "      <td>p211109CPU2OS48hw384exp035JUMP</td>\n",
       "      <td>110000295498</td>\n",
       "      <td>JCP2022_033924</td>\n",
       "      <td>InChI=1S/C2H6OS/c1-4(2)3/h1-2H3</td>\n",
       "      <td>True</td>\n",
       "      <td>7</td>\n",
       "      <td>23</td>\n",
       "      <td>/projects/synsight/data/dinov2/raw_well_embedd...</td>\n",
       "    </tr>\n",
       "    <tr>\n",
       "      <th>444675</th>\n",
       "      <td>B07</td>\n",
       "      <td>source_2</td>\n",
       "      <td>20210823_Batch_10</td>\n",
       "      <td>1086291962</td>\n",
       "      <td>nan</td>\n",
       "      <td>nan</td>\n",
       "      <td>False</td>\n",
       "      <td>2</td>\n",
       "      <td>7</td>\n",
       "      <td>/projects/synsight/data/dinov2/raw_well_embedd...</td>\n",
       "    </tr>\n",
       "    <tr>\n",
       "      <th>626192</th>\n",
       "      <td>N11</td>\n",
       "      <td>source_2</td>\n",
       "      <td>20210712_Batch_5</td>\n",
       "      <td>1053597844</td>\n",
       "      <td>JCP2022_064669</td>\n",
       "      <td>InChI=1S/C14H10F2N4O/c15-11-3-2-10(5-12(11)16)...</td>\n",
       "      <td>False</td>\n",
       "      <td>14</td>\n",
       "      <td>11</td>\n",
       "      <td>/projects/synsight/data/dinov2/raw_well_embedd...</td>\n",
       "    </tr>\n",
       "    <tr>\n",
       "      <th>863785</th>\n",
       "      <td>B07</td>\n",
       "      <td>source_2</td>\n",
       "      <td>20210823_Batch_10</td>\n",
       "      <td>1086291962</td>\n",
       "      <td>JCP2022_UNKNOWN</td>\n",
       "      <td>nan</td>\n",
       "      <td>False</td>\n",
       "      <td>2</td>\n",
       "      <td>7</td>\n",
       "      <td>/projects/synsight/data/dinov2/raw_well_embedd...</td>\n",
       "    </tr>\n",
       "  </tbody>\n",
       "</table>\n",
       "</div>"
      ],
      "text/plain": [
       "       Metadata_Well Metadata_Source                  Metadata_Batch  \\\n",
       "25526            G23        source_6  p211109CPU2OS48hw384exp035JUMP   \n",
       "167155           N11        source_2                20210712_Batch_5   \n",
       "345067           G23        source_6  p211109CPU2OS48hw384exp035JUMP   \n",
       "444675           B07        source_2               20210823_Batch_10   \n",
       "626192           N11        source_2                20210712_Batch_5   \n",
       "863785           B07        source_2               20210823_Batch_10   \n",
       "\n",
       "       Metadata_Plate Metadata_JCP2022  \\\n",
       "25526    110000295498              nan   \n",
       "167155     1053597844              nan   \n",
       "345067   110000295498   JCP2022_033924   \n",
       "444675     1086291962              nan   \n",
       "626192     1053597844   JCP2022_064669   \n",
       "863785     1086291962  JCP2022_UNKNOWN   \n",
       "\n",
       "                                           Metadata_InChI  \\\n",
       "25526                                                 nan   \n",
       "167155                                                nan   \n",
       "345067                    InChI=1S/C2H6OS/c1-4(2)3/h1-2H3   \n",
       "444675                                                nan   \n",
       "626192  InChI=1S/C14H10F2N4O/c15-11-3-2-10(5-12(11)16)...   \n",
       "863785                                                nan   \n",
       "\n",
       "        Metadata_Is_Control  Metadata_Row  Metadata_Col  \\\n",
       "25526                 False             7            23   \n",
       "167155                False            14            11   \n",
       "345067                 True             7            23   \n",
       "444675                False             2             7   \n",
       "626192                False            14            11   \n",
       "863785                False             2             7   \n",
       "\n",
       "                                           path_embedding  \n",
       "25526   /projects/synsight/data/dinov2/raw_well_embedd...  \n",
       "167155  /projects/synsight/data/dinov2/raw_well_embedd...  \n",
       "345067  /projects/synsight/data/dinov2/raw_well_embedd...  \n",
       "444675  /projects/synsight/data/dinov2/raw_well_embedd...  \n",
       "626192  /projects/synsight/data/dinov2/raw_well_embedd...  \n",
       "863785  /projects/synsight/data/dinov2/raw_well_embedd...  "
      ]
     },
     "execution_count": 172,
     "metadata": {},
     "output_type": "execute_result"
    }
   ],
   "source": [
    "duplicates"
   ]
  },
  {
   "cell_type": "code",
   "execution_count": 161,
   "metadata": {},
   "outputs": [
    {
     "name": "stdout",
     "output_type": "stream",
     "text": [
      "245360\n",
      "0\n"
     ]
    }
   ],
   "source": [
    "\n",
    "df2 = df_dinov2_s.copy(deep=True)\n",
    "\n",
    "key_columns = ['Metadata_Source', 'Metadata_Plate', 'Metadata_Well']\n",
    "\n",
    "only_in_ref = ref_compound_df.merge(df2, on=key_columns, how='left', indicator=True).query('_merge == \"left_only\"').drop('_merge', axis=1)\n",
    "only_in_df2 = df2.merge(ref_compound_df, on=key_columns, how='left', indicator=True).query('_merge == \"left_only\"').drop('_merge', axis=1)\n",
    "\n",
    "print(len(only_in_df2))\n",
    "print(len(only_in_ref))"
   ]
  },
  {
   "cell_type": "markdown",
   "metadata": {},
   "source": [
    "### OpenPhenom"
   ]
  },
  {
   "cell_type": "code",
   "execution_count": 162,
   "metadata": {},
   "outputs": [
    {
     "data": {
      "text/plain": [
       "992234"
      ]
     },
     "execution_count": 162,
     "metadata": {},
     "output_type": "execute_result"
    }
   ],
   "source": [
    "len(df_phenom)"
   ]
  },
  {
   "cell_type": "code",
   "execution_count": 163,
   "metadata": {},
   "outputs": [
    {
     "name": "stdout",
     "output_type": "stream",
     "text": [
      "245359\n",
      "0\n"
     ]
    }
   ],
   "source": [
    "\n",
    "df2 = df_phenom.copy(deep=True)\n",
    "\n",
    "key_columns = ['Metadata_Source', 'Metadata_Plate', 'Metadata_Well']\n",
    "\n",
    "only_in_ref = ref_compound_df.merge(df2, on=key_columns, how='left', indicator=True).query('_merge == \"left_only\"').drop('_merge', axis=1)\n",
    "only_in_df2 = df2.merge(ref_compound_df, on=key_columns, how='left', indicator=True).query('_merge == \"left_only\"').drop('_merge', axis=1)\n",
    "\n",
    "print(len(only_in_df2))\n",
    "print(len(only_in_ref))"
   ]
  },
  {
   "cell_type": "code",
   "execution_count": null,
   "metadata": {},
   "outputs": [
    {
     "name": "stdout",
     "output_type": "stream",
     "text": [
      "0\n",
      "0\n"
     ]
    }
   ],
   "source": [
    "\n",
    "df2 = df_dinov2_s.copy(deep=True)\n",
    "\n",
    "key_columns = ['Metadata_Source', 'Metadata_Plate', 'Metadata_Well']\n",
    "\n",
    "only_in_phenom = df_phenom.merge(df2, on=key_columns, how='left', indicator=True).query('_merge == \"left_only\"').drop('_merge', axis=1)\n",
    "only_in_df2 = df2.merge(df_phenom, on=key_columns, how='left', indicator=True).query('_merge == \"left_only\"').drop('_merge', axis=1)\n",
    "\n",
    "print(len(only_in_df2))\n",
    "print(len(only_in_phenom))"
   ]
  }
 ],
 "metadata": {
  "kernelspec": {
   "display_name": ".venv",
   "language": "python",
   "name": "python3"
  },
  "language_info": {
   "codemirror_mode": {
    "name": "ipython",
    "version": 3
   },
   "file_extension": ".py",
   "mimetype": "text/x-python",
   "name": "python",
   "nbconvert_exporter": "python",
   "pygments_lexer": "ipython3",
   "version": "3.10.10"
  }
 },
 "nbformat": 4,
 "nbformat_minor": 2
}
