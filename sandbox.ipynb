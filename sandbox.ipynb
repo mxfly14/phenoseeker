{
 "cells": [
  {
   "cell_type": "markdown",
   "metadata": {},
   "source": [
    "# Import and sandbox"
   ]
  },
  {
   "cell_type": "code",
   "execution_count": 2,
   "metadata": {},
   "outputs": [],
   "source": [
    "import numpy as np\n",
    "import pandas as pd\n",
    "import torch \n",
    "from tqdm import tqdm\n",
    "import matplotlib.pyplot as plt\n",
    "import itertools\n",
    "import yaml"
   ]
  },
  {
   "cell_type": "code",
   "execution_count": 3,
   "metadata": {},
   "outputs": [],
   "source": [
    "\n",
    "def get_method_variations(method):\n",
    "    variations = []\n",
    "    if method == 'apply_inverse_normal_transform':\n",
    "        variations.append({'method': method})\n",
    "    elif method == 'apply_robust_Z_score':\n",
    "        center_by_options = ['mean', 'median']\n",
    "        reduce_by_options = ['iqrs', 'std'] # could be  'mad' also\n",
    "        use_control_options = [True, False]\n",
    "        for center_by in center_by_options:\n",
    "            for reduce_by in reduce_by_options:\n",
    "                for use_control in use_control_options:\n",
    "                    variations.append({'method': method, 'params': {'center_by': center_by, 'reduce_by': reduce_by, 'use_control': use_control}})\n",
    "    elif method == 'apply_rescale':\n",
    "        scale_options = ['0-1', '-1-1'] # could be '0-1' also\n",
    "        for scale in scale_options:\n",
    "            variations.append({'method': method, 'params': {'scale': scale}})\n",
    "    elif method == 'apply_spherizing_transform':\n",
    "        spherizing_methods = ['PCA', 'ZCA', 'ZCA-cor'] # could be 'PCA-cor' also\n",
    "        norm_embeddings_options = [True, False]\n",
    "        use_control_options = [True, False]\n",
    "        for s_method in spherizing_methods:\n",
    "            for norm_embeddings in norm_embeddings_options:\n",
    "                for use_control in use_control_options:\n",
    "                    variations.append({\n",
    "                        'method': method,\n",
    "                        'params': {\n",
    "                            'method': s_method,\n",
    "                            'norm_embeddings': norm_embeddings,\n",
    "                            'use_control': use_control\n",
    "                        }\n",
    "                    })\n",
    "    return variations\n",
    "\n",
    "# Function to check if a sequence is valid based on the constraint\n",
    "def is_valid_method_sequence(sequence):\n",
    "    methods = [method for method in sequence]\n",
    "    has_Z_score = 'apply_Z_score' in methods\n",
    "    has_robust_Z_score = 'apply_robust_Z_score' in methods\n",
    "    # Sequence is invalid if both are present\n",
    "    return not (has_Z_score and has_robust_Z_score)\n",
    "\n",
    "# Function to generate the name of a sequence based on methods and parameters\n",
    "def generate_sequence_name(sequence):\n",
    "    name_parts = []\n",
    "    for t in sequence:\n",
    "        method_abbrev = ''\n",
    "        method = t['method']\n",
    "        params = t.get('params', {})\n",
    "        if method == 'apply_inverse_normal_transform':\n",
    "            method_abbrev = 'Int'\n",
    "        elif method == 'apply_robust_Z_score':\n",
    "            method_abbrev = 'rZ'\n",
    "            center_by = params.get('center_by', '')\n",
    "            reduce_by = params.get('reduce_by', '')\n",
    "            center_abbrev = 'm' if center_by == 'median' else 'M'\n",
    "            reduce_abbrev = 'i' if reduce_by == 'iqrs' else ('m' if reduce_by == 'mad' else 's')\n",
    "            method_abbrev += center_abbrev + reduce_abbrev\n",
    "            if params.get('use_control'):\n",
    "                method_abbrev += '_C'\n",
    "        elif method == 'apply_rescale':\n",
    "            scale = params.get('scale', '')\n",
    "            method_abbrev = 'Res' + ('01' if scale == '0-1' else '11')\n",
    "        elif method == 'apply_spherizing_transform':\n",
    "            s_method = params.get('method', '')\n",
    "            norm_embeddings = params.get('norm_embeddings', False)\n",
    "            use_control = params.get('use_control', False)\n",
    "            method_abbrev = s_method\n",
    "            if norm_embeddings:\n",
    "                method_abbrev += '_N'\n",
    "            if use_control:\n",
    "                method_abbrev += '_C'\n",
    "        name_parts.append(method_abbrev)\n",
    "    name = '_'.join(name_parts)\n",
    "    return name\n"
   ]
  },
  {
   "cell_type": "code",
   "execution_count": 4,
   "metadata": {},
   "outputs": [
    {
     "name": "stdout",
     "output_type": "stream",
     "text": [
      "Generation completed: 6915 sequences saved in 'transformation_combinations.yaml'\n"
     ]
    }
   ],
   "source": [
    "methods = [\n",
    "    'apply_inverse_normal_transform',\n",
    "    'apply_robust_Z_score',\n",
    "    'apply_rescale',\n",
    "    'apply_spherizing_transform'\n",
    "]\n",
    "\n",
    "# Generate method sequences without both Z_score methods\n",
    "method_sequences = []\n",
    "for n in [1, 2, 3, 4]:\n",
    "    permutations = list(itertools.permutations(methods, n))\n",
    "    for perm in permutations:\n",
    "        if 'apply_Z_score' in perm and 'apply_robust_Z_score' in perm:\n",
    "            continue\n",
    "        method_sequences.append(perm)\n",
    "\n",
    "# Limit the number of sequences to process \n",
    "MAX_SEQUENCES = 10000\n",
    "transformation_sequences = []\n",
    "\n",
    "for method_sequence in method_sequences[:MAX_SEQUENCES]:\n",
    "    if not is_valid_method_sequence(method_sequence):\n",
    "        continue\n",
    "    # Get variations for each method in the sequence\n",
    "    method_variations_list = []\n",
    "    for method in method_sequence:\n",
    "        method_variations_list.append(get_method_variations(method))\n",
    "    # Generate all combinations of variations\n",
    "    sequence_variations = itertools.product(*method_variations_list)\n",
    "    for seq_variation in sequence_variations:\n",
    "        name = generate_sequence_name(seq_variation)\n",
    "        sequence = {\n",
    "            'name': name,\n",
    "            'transformations': [dict(t) for t in seq_variation]\n",
    "        }\n",
    "        transformation_sequences.append(sequence)\n",
    "\n",
    "# Function to prevent YAML from using aliases (anchors)\n",
    "def noalias_dumper():\n",
    "    class NoAliasDumper(yaml.SafeDumper):\n",
    "        def ignore_aliases(self, data):\n",
    "            return True\n",
    "    return NoAliasDumper\n",
    "\n",
    "# Save to a YAML file\n",
    "with open('transformation_combinations.yaml', 'w') as file:\n",
    "    yaml.dump(transformation_sequences, file, Dumper=noalias_dumper(), default_flow_style=False, sort_keys=False)\n",
    "\n",
    "print(f\"Generation completed: {len(transformation_sequences)} sequences saved in 'transformation_combinations.yaml'\")\n"
   ]
  },
  {
   "cell_type": "code",
   "execution_count": 5,
   "metadata": {},
   "outputs": [
    {
     "name": "stdout",
     "output_type": "stream",
     "text": [
      "Filtering completed: 2252 sequences containing ZCA saved in 'transformation_combinations_with_ZCA.yaml'\n"
     ]
    }
   ],
   "source": [
    "def filter_sequences_with_ZCA(sequences):\n",
    "    filtered_sequences = []\n",
    "    for sequence in sequences:\n",
    "        for transformation in sequence['transformations']:\n",
    "            if transformation.get('params', {}).get('method') == 'ZCA':\n",
    "                filtered_sequences.append(sequence)\n",
    "                break  # Once ZCA is found, no need to check further transformations in this sequence\n",
    "    return filtered_sequences\n",
    "\n",
    "# Apply the filter to transformation_sequences\n",
    "transformation_sequences_with_ZCA = filter_sequences_with_ZCA(transformation_sequences)\n",
    "\n",
    "# Optionally, save filtered sequences to a new YAML file\n",
    "with open('transformation_combinations_with_ZCA.yaml', 'w') as file:\n",
    "    yaml.dump(transformation_sequences_with_ZCA, file, Dumper=noalias_dumper(), default_flow_style=False, sort_keys=False)\n",
    "\n",
    "print(f\"Filtering completed: {len(transformation_sequences_with_ZCA)} sequences containing ZCA saved in 'transformation_combinations_with_ZCA.yaml'\")\n"
   ]
  }
 ],
 "metadata": {
  "kernelspec": {
   "display_name": ".venv",
   "language": "python",
   "name": "python3"
  },
  "language_info": {
   "codemirror_mode": {
    "name": "ipython",
    "version": 3
   },
   "file_extension": ".py",
   "mimetype": "text/x-python",
   "name": "python",
   "nbconvert_exporter": "python",
   "pygments_lexer": "ipython3",
   "version": "3.10.10"
  }
 },
 "nbformat": 4,
 "nbformat_minor": 2
}
