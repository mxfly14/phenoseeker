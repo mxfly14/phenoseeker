{
 "cells": [
  {
   "cell_type": "markdown",
   "metadata": {},
   "source": [
    "# Imports "
   ]
  },
  {
   "cell_type": "code",
   "execution_count": null,
   "metadata": {},
   "outputs": [],
   "source": [
    "import pandas as pd\n",
    "import numpy as np \n",
    "from pathlib import Path\n",
    "from phenoseeker import BioproxyEvaluator, EmbeddingManager"
   ]
  },
  {
   "cell_type": "code",
   "execution_count": null,
   "metadata": {},
   "outputs": [],
   "source": [
    "base_path = Path(\"/projects/synsight/data/website_data\")\n",
    "npy_file = base_path / \"jump_compounds_embeddings.npy\"\n",
    "parquet_metadata = base_path / Path(\"jump_compounds_matrix_metadata.parquet\")\n",
    "screens_folders = {\n",
    "      #  \"ChemBL\": Path(\"/projects/synsight/repos/phenospace/bioproxy/screens_data_chembl\"),\n",
    "      #  \"Curie\": Path(\"/projects/synsight/repos/phenospace/bioproxy/screens_data_curie\"),\n",
    "        \"ChEMBL\": Path(\"/projects/synsight/repos/phenoseeker/data/ChEMBL/assays_csv\"),\n",
    "}"
   ]
  },
  {
   "cell_type": "code",
   "execution_count": null,
   "metadata": {},
   "outputs": [],
   "source": [
    "eval = BioproxyEvaluator(parquet_metadata, npy_file, screens_folders)"
   ]
  },
  {
   "cell_type": "code",
   "execution_count": null,
   "metadata": {},
   "outputs": [],
   "source": [
    "eval"
   ]
  },
  {
   "cell_type": "code",
   "execution_count": null,
   "metadata": {},
   "outputs": [],
   "source": [
    "eval.global_embedding_manager"
   ]
  },
  {
   "cell_type": "code",
   "execution_count": null,
   "metadata": {},
   "outputs": [],
   "source": [
    "eval.global_embedding_manager.embeddings['Embeddings'].shape"
   ]
  },
  {
   "cell_type": "markdown",
   "metadata": {},
   "source": [
    "# To do"
   ]
  },
  {
   "cell_type": "code",
   "execution_count": null,
   "metadata": {},
   "outputs": [],
   "source": [
    "eval.screen_embedding_managers['Curie']['E033_3D_all-val']"
   ]
  },
  {
   "cell_type": "code",
   "execution_count": null,
   "metadata": {},
   "outputs": [],
   "source": [
    "eval.compute_enrichment_factor_for_screen(source='Curie', screen='E033_3D_all-val', embeddings_name='Embeddings', thresholds=[0, 0.3, 1, 1.5, 2], mode='seuil')"
   ]
  },
  {
   "cell_type": "code",
   "execution_count": null,
   "metadata": {},
   "outputs": [],
   "source": [
    "results = eval.compute_enrichment_factors(source='Curie', embeddings_name='Embeddings', thresholds=[0, 0.3, 1, 1.5, 2], mode='seuil')"
   ]
  },
  {
   "cell_type": "code",
   "execution_count": null,
   "metadata": {},
   "outputs": [],
   "source": [
    "results[results['Screen'] == 'E033_3D_all-val']"
   ]
  },
  {
   "cell_type": "code",
   "execution_count": null,
   "metadata": {},
   "outputs": [],
   "source": [
    "eval.plot_assays_distribution('ChEMBL')"
   ]
  },
  {
   "cell_type": "markdown",
   "metadata": {},
   "source": [
    "# Done"
   ]
  },
  {
   "cell_type": "code",
   "execution_count": null,
   "metadata": {},
   "outputs": [],
   "source": [
    "results = eval.compute_enrichment_factors(source='ChEMBL', embeddings_name='Embeddings', thresholds=[1, 3, 5, 10])"
   ]
  },
  {
   "cell_type": "code",
   "execution_count": null,
   "metadata": {},
   "outputs": [],
   "source": [
    "eval.plot_assays_distribution('ChEMBL')"
   ]
  },
  {
   "cell_type": "code",
   "execution_count": null,
   "metadata": {},
   "outputs": [],
   "source": [
    "results[results['Threshold'] == 5]"
   ]
  },
  {
   "cell_type": "code",
   "execution_count": null,
   "metadata": {},
   "outputs": [],
   "source": [
    "df = results[results[(\"N Hits\", \"mean\")] > 4]"
   ]
  },
  {
   "cell_type": "code",
   "execution_count": null,
   "metadata": {},
   "outputs": [],
   "source": [
    "len(df)/4"
   ]
  },
  {
   "cell_type": "code",
   "execution_count": null,
   "metadata": {},
   "outputs": [],
   "source": [
    "import matplotlib.pyplot as plt\n",
    "import numpy as np\n",
    "\n",
    "# Supposons que votre DataFrame s'appelle df\n",
    "\n",
    "# Récupérer les valeurs uniques de Threshold et les trier si besoin\n",
    "unique_thresholds = sorted(df[(\"Threshold\",)].unique())\n",
    "\n",
    "for thr in unique_thresholds:\n",
    "    # Filtrer les données correspondant au threshold courant\n",
    "    df_thr = df[df[(\"Threshold\",)] == thr]\n",
    "    \n",
    "    # Trier les screens par ordre croissant de Hit Rate Random (mean)\n",
    "    df_thr_sorted = df_thr.sort_values(by=( \"Hit Rate Random\", \"mean\"))\n",
    "    \n",
    "    # Récupérer la liste des screens triés\n",
    "    screens = df_thr_sorted[(\"Screen\",)].tolist()\n",
    "    x = np.arange(len(screens))\n",
    "    width = 0.25  # largeur des barres\n",
    "\n",
    "    # Extraire et multiplier par 100 pour avoir des pourcentages\n",
    "    hit_rate_rand = df_thr_sorted[(\"Hit Rate Random\", \"mean\")].values * 100\n",
    "    hit_rate_sel_mean = df_thr_sorted[(\"Hit Rate Selected\", \"mean\")].values * 100\n",
    "    hit_rate_sel_max = df_thr_sorted[(\"Hit Rate Selected\", \"max\")].values * 100\n",
    "    \n",
    "    # Création du graphique\n",
    "    fig, ax = plt.subplots(figsize=(10, 6))\n",
    "    \n",
    "    # Affichage des barres dans l'ordre : Random, Selected (mean), Selected (max)\n",
    "    ax.bar(x - width, hit_rate_rand, width, label='Hit Rate Random (%)')\n",
    "    ax.bar(x, hit_rate_sel_mean, width, label='Hit Rate Selected (mean) (%)')\n",
    "    ax.bar(x + width, hit_rate_sel_max, width, label='Hit Rate Selected (max) (%)')\n",
    "    \n",
    "    # Personnalisation du graphique\n",
    "    ax.set_xlabel(\"Screen\")\n",
    "    ax.set_ylabel(\"Hit Rate (%)\")\n",
    "    ax.set_title(f\"Hit Rates pour Threshold = {thr}\")\n",
    "    ax.set_xticks(x)\n",
    "    ax.set_xticklabels(screens, rotation=45)\n",
    "    ax.legend()\n",
    "    ax.grid(True)  # Ajout de la grille\n",
    "    plt.tight_layout()\n",
    "    plt.show()\n"
   ]
  },
  {
   "cell_type": "code",
   "execution_count": null,
   "metadata": {},
   "outputs": [],
   "source": [
    "import matplotlib.pyplot as plt\n",
    "import numpy as np\n",
    "\n",
    "# Supposons que votre DataFrame s'appelle df\n",
    "\n",
    "# Récupérer les valeurs uniques de Threshold et les trier si besoin\n",
    "unique_thresholds = sorted(df[(\"Threshold\",)].unique())\n",
    "\n",
    "for thr in unique_thresholds:\n",
    "    # Filtrer les données correspondant au threshold courant\n",
    "    df_thr = df[df[(\"Threshold\",)] == thr]\n",
    "    \n",
    "    # Trier les screens par ordre croissant de EF (mean)\n",
    "    df_thr_sorted = df_thr.sort_values(by=( \"Hit Rate Random\", \"mean\"))\n",
    "    \n",
    "    # Récupérer la liste des screens triés\n",
    "    screens = df_thr_sorted[(\"Screen\",)].tolist()\n",
    "    x = np.arange(len(screens))\n",
    "    width = 0.35  # largeur des barres\n",
    "    \n",
    "    # Extraire les valeurs d'EF\n",
    "    ef_mean = df_thr_sorted[(\"EF\", \"mean\")].values\n",
    "    ef_max = df_thr_sorted[(\"EF\", \"max\")].values\n",
    "    \n",
    "    # Création du graphique\n",
    "    fig, ax = plt.subplots(figsize=(10, 6))\n",
    "    \n",
    "    # Affichage des barres pour EF (mean) et EF (max)\n",
    "    ax.bar(x - width/2, ef_mean, width, label='EF (mean)')\n",
    "    ax.bar(x + width/2, ef_max, width, label='EF (max)')\n",
    "    \n",
    "    # Ajout d'une ligne horizontale rouge en pointillé pour EF = 1\n",
    "    ax.axhline(y=1, color='red', linestyle='--', label='EF = 1')\n",
    "    \n",
    "    # Personnalisation du graphique\n",
    "    ax.set_xlabel(\"Screen\")\n",
    "    ax.set_ylabel(\"Enrichment Factor\")\n",
    "    ax.set_title(f\"Enrichment Factor pour Threshold = {thr}\")\n",
    "    ax.set_xticks(x)\n",
    "    ax.set_xticklabels(screens, rotation=45)\n",
    "    ax.legend()\n",
    "    ax.grid(True)  # Ajout de la grille\n",
    "    plt.tight_layout()\n",
    "    plt.show()\n"
   ]
  }
 ],
 "metadata": {
  "kernelspec": {
   "display_name": ".venv",
   "language": "python",
   "name": "python3"
  },
  "language_info": {
   "codemirror_mode": {
    "name": "ipython",
    "version": 3
   },
   "file_extension": ".py",
   "mimetype": "text/x-python",
   "name": "python",
   "nbconvert_exporter": "python",
   "pygments_lexer": "ipython3",
   "version": "3.10.10"
  }
 },
 "nbformat": 4,
 "nbformat_minor": 2
}
