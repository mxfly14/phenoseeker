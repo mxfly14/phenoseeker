{
 "cells": [
  {
   "cell_type": "markdown",
   "metadata": {
    "vscode": {
     "languageId": "plaintext"
    }
   },
   "source": [
    "# Imports "
   ]
  },
  {
   "cell_type": "code",
   "execution_count": null,
   "metadata": {},
   "outputs": [],
   "source": [
    "from pathlib import Path\n",
    "from phenoseeker import EmbeddingManager\n",
    "import matplotlib.pyplot as plt\n",
    "import umap\n",
    "import matplotlib.patches as mpatches\n",
    "from matplotlib.lines import Line2D\n",
    "import pandas as pd\n"
   ]
  },
  {
   "cell_type": "code",
   "execution_count": null,
   "metadata": {},
   "outputs": [],
   "source": [
    "embeddings_path = Path('/home/maxime/data/jump_embeddings/embeddings_chada.npy')\n",
    "metadata_path = Path('/home/maxime/data/jump_embeddings/metadata_chada.parquet')"
   ]
  },
  {
   "cell_type": "code",
   "execution_count": null,
   "metadata": {},
   "outputs": [],
   "source": [
    "selected_plates = [#'UL000585',\n",
    " #'UL001773',\n",
    " #'GR00004405',\n",
    " #'UL000097',\n",
    " #'GR00003344',\n",
    " #'GR00003285',\n",
    " '1086292853',\n",
    " 'EC000134',\n",
    " 'B40703bW',\n",
    " 'EC000065',\n",
    " 'BR5873d3W',\n",
    " 'J12424d',\n",
    " '1086291931',\n",
    " 'EC000071',\n",
    " '110000296323',\n",
    " 'AEOJUM504',\n",
    " '110000295571',\n",
    " '110000297103',\n",
    " #'1086293027',\n",
    " 'A1170530',\n",
    " 'Dest210726-161624',\n",
    " 'Dest210809-135330',\n",
    " 'A1170468',\n",
    " 'A1170419',\n",
    " 'APTJUM208',\n",
    " 'Dest210823-180708',\n",
    " 'AEOJUM902']"
   ]
  },
  {
   "cell_type": "code",
   "execution_count": null,
   "metadata": {},
   "outputs": [],
   "source": [
    "selected_plates = pd.read_json(\n",
    "            \"/home/maxime/synrepos/phenoseeker/scripts/balanced_plates_51_lab.json\"\n",
    "        )[\"Metadata_Plate\"].to_list()"
   ]
  },
  {
   "cell_type": "code",
   "execution_count": null,
   "metadata": {},
   "outputs": [],
   "source": [
    "def plot_umap(embeddings, df, color_by_source=True, shape_by_JCP_id=True):\n",
    "    \"\"\"\n",
    "    Plot a UMAP projection of the embeddings with inverted mapping:\n",
    "      - Marker shapes are determined by 'Metadata_Source'\n",
    "      - Colors are determined by 'Metadata_JCP2022'\n",
    "    In the legend for the JCP groups, the names are replaced by \"Positive Control 1\", \"Positive Control 2\", etc.\n",
    "    The legend titles are set as:\n",
    "      - \"Source Laboratories\" for the marker shapes (Metadata_Source)\n",
    "      - \"Positive Control Compounds\" for the colors (Metadata_JCP2022)\n",
    "    The output image is generated with high resolution (dpi=300) suitable for a Nature publication.\n",
    "    \n",
    "    Parameters:\n",
    "    -----------\n",
    "    embeddings : numpy.ndarray\n",
    "        Array of shape (n_samples, n_features) containing the embeddings.\n",
    "    df : pandas.DataFrame\n",
    "        DataFrame containing at least the following columns:\n",
    "          - For marker shapes: 'Metadata_Source'\n",
    "          - For colors: 'Metadata_JCP2022'\n",
    "    color_by_source : bool, optional (default True)\n",
    "        If True, marker shapes are assigned according to 'Metadata_Source' (8 distinct markers).\n",
    "    shape_by_JCP_id : bool, optional (default True)\n",
    "        If True, colors are assigned according to 'Metadata_JCP2022' (using a colormap).\n",
    "    \"\"\"\n",
    "    import matplotlib.pyplot as plt\n",
    "    import umap\n",
    "    import matplotlib.patches as mpatches\n",
    "    from matplotlib.lines import Line2D\n",
    "\n",
    "    # Helper function to format source labels as \"Laboratory XX\"\n",
    "    def format_lab_label(label):\n",
    "        parts = label.split('_')\n",
    "        if len(parts) > 1 and parts[1].isdigit():\n",
    "            return \"Laboratory \" + parts[1].zfill(2)\n",
    "        else:\n",
    "            return label\n",
    "\n",
    "    # --- Dimension reduction with UMAP ---\n",
    "    reducer = umap.UMAP(n_components=2, random_state=42)\n",
    "    embedding_2d = reducer.fit_transform(embeddings)\n",
    "    df['UMAP1'] = embedding_2d[:, 0]\n",
    "    df['UMAP2'] = embedding_2d[:, 1]\n",
    "    \n",
    "    # Create figure and axis with high dpi for high-quality output\n",
    "    fig, ax = plt.subplots(figsize=(12, 10), dpi=1000)\n",
    "    \n",
    "    # --- Mapping inversion ---\n",
    "    # Marker shapes now from 'Metadata_Source'\n",
    "    if color_by_source:\n",
    "        source_groups = sorted(df['Metadata_Source'].unique())\n",
    "        markers = ['o', 's', '^', 'v', 'D', 'P', 'X', '*']\n",
    "        marker_dict = {group: markers[i % len(markers)] for i, group in enumerate(source_groups)}\n",
    "    else:\n",
    "        marker_dict = None\n",
    "\n",
    "    # Colors now from 'Metadata_JCP2022'\n",
    "    if shape_by_JCP_id:\n",
    "        jcp_groups = sorted(df['Metadata_JCP2022'].unique())\n",
    "        cmap_jcp = plt.get_cmap('tab10')\n",
    "        color_dict = {group: cmap_jcp(i) for i, group in enumerate(jcp_groups)}\n",
    "    else:\n",
    "        color_dict = None\n",
    "\n",
    "    # --- Plotting points ---\n",
    "    if shape_by_JCP_id and color_by_source:\n",
    "        # For each combination of Metadata_Source and Metadata_JCP2022, plot the points\n",
    "        for source in source_groups:\n",
    "            for jcp in jcp_groups:\n",
    "                subset = df[(df['Metadata_Source'] == source) & (df['Metadata_JCP2022'] == jcp)]\n",
    "                if not subset.empty:\n",
    "                    ax.scatter(\n",
    "                        subset['UMAP1'],\n",
    "                        subset['UMAP2'],\n",
    "                        marker=marker_dict[source],\n",
    "                        color=color_dict[jcp],\n",
    "                        edgecolor='k',\n",
    "                        s=100,\n",
    "                        alpha=0.8\n",
    "                    )\n",
    "    elif shape_by_JCP_id and not color_by_source:\n",
    "        # Only color mapping from JCP, fixed marker shape\n",
    "        for jcp in jcp_groups:\n",
    "            subset = df[df['Metadata_JCP2022'] == jcp]\n",
    "            ax.scatter(\n",
    "                subset['UMAP1'],\n",
    "                subset['UMAP2'],\n",
    "                marker=\"o\",\n",
    "                color=color_dict[jcp],\n",
    "                edgecolor='k',\n",
    "                s=100,\n",
    "                alpha=0.8,\n",
    "                label=f\"Positive Control {jcp}\"\n",
    "            )\n",
    "    elif not shape_by_JCP_id and color_by_source:\n",
    "        # Only marker shapes from Source, fixed color\n",
    "        for source in source_groups:\n",
    "            subset = df[df['Metadata_Source'] == source]\n",
    "            ax.scatter(\n",
    "                subset['UMAP1'],\n",
    "                subset['UMAP2'],\n",
    "                marker=marker_dict[source],\n",
    "                color=\"blue\",\n",
    "                edgecolor='k',\n",
    "                s=100,\n",
    "                alpha=0.8,\n",
    "                label=format_lab_label(source)\n",
    "            )\n",
    "    else:\n",
    "        ax.scatter(\n",
    "            df['UMAP1'],\n",
    "            df['UMAP2'],\n",
    "            marker=\"o\",\n",
    "            color=\"blue\",\n",
    "            edgecolor='k',\n",
    "            s=100,\n",
    "            alpha=0.8\n",
    "        )\n",
    "\n",
    "    # --- Customizing the plot ---\n",
    "    ax.set_xlabel(\"UMAP1\", fontsize=16)\n",
    "    ax.set_ylabel(\"UMAP2\", fontsize=16)\n",
    "    ax.set_title(\"UMAP Projection of Embeddings\", fontsize=18)\n",
    "    ax.grid(True, linestyle='--', alpha=0.5)\n",
    "    ax.tick_params(axis='both', labelsize=14)\n",
    "    \n",
    "    # --- Legends ---\n",
    "    if shape_by_JCP_id and color_by_source:\n",
    "        # Legend for marker shapes (Metadata_Source) with formatted labels (\"Laboratory XX\")\n",
    "        handles_shape = [\n",
    "            Line2D([0], [0], marker=marker_dict[source], color='w',\n",
    "                   markerfacecolor='gray', markersize=10, markeredgecolor='k')\n",
    "            for source in source_groups\n",
    "        ]\n",
    "        legend_shape = ax.legend(\n",
    "            handles=handles_shape, labels=[format_lab_label(source) for source in source_groups],\n",
    "            fontsize=12, title=\"\", title_fontsize=14,\n",
    "            bbox_to_anchor=(1.05, 1), loc=\"upper left\"\n",
    "        )\n",
    "        ax.add_artist(legend_shape)\n",
    "        # Legend for colors (Metadata_JCP2022) with replaced names\n",
    "        handles_color = [\n",
    "            mpatches.Patch(color=color_dict[jcp], label=f\"Positive Control {i+1}\")\n",
    "            for i, jcp in enumerate(jcp_groups)\n",
    "        ]\n",
    "        legend_color = ax.legend(\n",
    "            handles=handles_color,\n",
    "            fontsize=12, title=\"\", title_fontsize=14,\n",
    "            bbox_to_anchor=(1.05, 0.5), loc=\"upper left\"\n",
    "        )\n",
    "    elif shape_by_JCP_id and not color_by_source:\n",
    "        handles_color = [\n",
    "            mpatches.Patch(color=color_dict[jcp], label=f\"Positive Control {i+1}\")\n",
    "            for i, jcp in enumerate(jcp_groups)\n",
    "        ]\n",
    "        legend_color = ax.legend(\n",
    "            handles=handles_color,\n",
    "            title=\"\", fontsize=12, title_fontsize=14,\n",
    "            bbox_to_anchor=(1.05, 1), loc=\"upper left\"\n",
    "        )\n",
    "    elif not shape_by_JCP_id and color_by_source:\n",
    "        handles_shape = [\n",
    "            Line2D([0], [0], marker=marker_dict[source], color='w',\n",
    "                   markerfacecolor='gray', markersize=10, markeredgecolor='k')\n",
    "            for source in source_groups\n",
    "        ]\n",
    "        legend_shape = ax.legend(\n",
    "            handles=handles_shape, labels=[format_lab_label(source) for source in source_groups],\n",
    "            fontsize=12, title=\"Source Laboratories\", title_fontsize=14,\n",
    "            bbox_to_anchor=(1.05, 1), loc=\"upper left\"\n",
    "        )\n",
    "    \n",
    "    fig.subplots_adjust(right=0.75)\n",
    "    plt.tight_layout()\n",
    "    plt.show()\n"
   ]
  },
  {
   "cell_type": "markdown",
   "metadata": {},
   "source": [
    "# Load and preprocess"
   ]
  },
  {
   "cell_type": "code",
   "execution_count": null,
   "metadata": {},
   "outputs": [],
   "source": [
    "well_em = EmbeddingManager(metadata_path, entity=\"well\")\n",
    "well_em.load(\"Embeddings_Raw\", embeddings_path)"
   ]
  },
  {
   "cell_type": "code",
   "execution_count": null,
   "metadata": {},
   "outputs": [],
   "source": [
    "selected_plates = well_em.df.drop_duplicates(['Metadata_Source', 'Metadata_Plate']) \\\n",
    "                    .groupby('Metadata_Source') \\\n",
    "                    .sample(3)['Metadata_Plate'].tolist()"
   ]
  },
  {
   "cell_type": "code",
   "execution_count": null,
   "metadata": {},
   "outputs": [],
   "source": [
    "selected_em = well_em.filter_and_instantiate(Metadata_Plate=selected_plates)\n",
    "controls_em = selected_em.filter_and_instantiate(Metadata_JCP2022=well_em.JCP_ID_controls)"
   ]
  },
  {
   "cell_type": "code",
   "execution_count": null,
   "metadata": {},
   "outputs": [],
   "source": [
    "# Calculer le nombre de lignes par plaque\n",
    "plate_counts = controls_em.df['Metadata_Plate'].value_counts()\n",
    "\n",
    "# Identifier les plaques avec moins de 100 lignes\n",
    "plates_to_keep = plate_counts[plate_counts < 100].index\n",
    "\n",
    "# Filtrer la DataFrame pour conserver uniquement ces plaques\n",
    "controls_em = controls_em.filter_and_instantiate(Metadata_Plate=list(plates_to_keep))\n"
   ]
  },
  {
   "cell_type": "code",
   "execution_count": null,
   "metadata": {},
   "outputs": [],
   "source": [
    "controls_em.df['Metadata_Plate'].nunique()"
   ]
  },
  {
   "cell_type": "code",
   "execution_count": null,
   "metadata": {},
   "outputs": [],
   "source": [
    "#controls_em.compute_maps('Metadata_Plate', ['Embeddings_Raw'], random_maps=True)"
   ]
  },
  {
   "cell_type": "code",
   "execution_count": null,
   "metadata": {},
   "outputs": [],
   "source": [
    "#controls_em.compute_maps('Metadata_Source', ['Embeddings_Raw'], random_maps=True)"
   ]
  },
  {
   "cell_type": "code",
   "execution_count": null,
   "metadata": {},
   "outputs": [],
   "source": [
    "#poscon_em  = controls_em.filter_and_instantiate(Metadata_JCP2022=controls_em.JCP_ID_poscon)\n",
    "#poscon_em.compute_maps('Metadata_JCP2022', ['Embeddings_Raw'], random_maps=True)"
   ]
  },
  {
   "cell_type": "markdown",
   "metadata": {},
   "source": [
    "# Normalise"
   ]
  },
  {
   "cell_type": "code",
   "execution_count": null,
   "metadata": {},
   "outputs": [],
   "source": [
    "poscon_em  = controls_em.filter_and_instantiate(Metadata_JCP2022=controls_em.JCP_ID_poscon)\n",
    "df = poscon_em.df\n",
    "embeddings = poscon_em.embeddings['Embeddings_Raw']\n",
    "\n",
    "plot_umap(embeddings, df, shape_by_JCP_id=True)"
   ]
  },
  {
   "cell_type": "code",
   "execution_count": null,
   "metadata": {},
   "outputs": [],
   "source": [
    "controls_em.apply_spherizing_transform('Embeddings_Raw', 'Embeddings_Raw_ZCA_N_C', \"ZCA\", True, True)\n",
    "poscon_em  = controls_em.filter_and_instantiate(Metadata_JCP2022=controls_em.JCP_ID_poscon)\n",
    "df = poscon_em.df\n",
    "embeddings = poscon_em.embeddings['Embeddings_Raw_ZCA_N_C']\n",
    "\n",
    "plot_umap(embeddings, df, shape_by_JCP_id=True)"
   ]
  },
  {
   "cell_type": "code",
   "execution_count": null,
   "metadata": {},
   "outputs": [],
   "source": [
    "controls_em.apply_spherizing_transform('Embeddings_Raw', 'Embeddings__ZCA_C', \"ZCA\", False, True)\n",
    "controls_em.apply_inverse_normal_transform('Embeddings__ZCA_C', 'Embeddings__ZCA_C__Int')\n",
    "\n",
    "poscon_em  = controls_em.filter_and_instantiate(Metadata_JCP2022=controls_em.JCP_ID_poscon)\n",
    "df = poscon_em.df\n",
    "embeddings = poscon_em.embeddings['Embeddings__ZCA_C__Int']\n",
    "\n",
    "plot_umap(embeddings, df, shape_by_JCP_id=True)"
   ]
  }
 ],
 "metadata": {
  "kernelspec": {
   "display_name": "phenoseeker-VFjsjbMc-py3.10",
   "language": "python",
   "name": "python3"
  },
  "language_info": {
   "codemirror_mode": {
    "name": "ipython",
    "version": 3
   },
   "file_extension": ".py",
   "mimetype": "text/x-python",
   "name": "python",
   "nbconvert_exporter": "python",
   "pygments_lexer": "ipython3",
   "version": "3.10.10"
  }
 },
 "nbformat": 4,
 "nbformat_minor": 2
}
