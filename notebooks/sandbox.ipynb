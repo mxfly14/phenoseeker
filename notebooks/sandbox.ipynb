{
 "cells": [
  {
   "cell_type": "code",
   "execution_count": null,
   "metadata": {},
   "outputs": [],
   "source": [
    "import pandas as pd"
   ]
  },
  {
   "cell_type": "code",
   "execution_count": null,
   "metadata": {},
   "outputs": [],
   "source": [
    "from pathlib import Path"
   ]
  },
  {
   "cell_type": "code",
   "execution_count": null,
   "metadata": {},
   "outputs": [],
   "source": [
    "import numpy as np"
   ]
  },
  {
   "cell_type": "code",
   "execution_count": null,
   "metadata": {},
   "outputs": [],
   "source": [
    "base_path = Path(\"/projects/imagesets4/temp_embeds/\")"
   ]
  },
  {
   "cell_type": "code",
   "execution_count": null,
   "metadata": {},
   "outputs": [],
   "source": [
    "\n",
    "chad_cls_feats = base_path / Path(\"ctrls_images_chad_dinov2s_cls_embeds.npy\")\n",
    "chad_cls_metadata = base_path / Path(\"ctrls_images_chad_dinov2s_cls_dataframe.parquet\")\n",
    "\n",
    "\n",
    "chad_rand_feats = base_path / Path(\"ctrls_images_chad_dinov2s_rand_token_embeds.npy\")\n",
    "chad_rand_metadata = base_path / Path(\"ctrls_images_chad_dinov2s_rand_token_dataframe.parquet\")\n",
    "\n",
    "\n",
    "chad_cls_sm02_feats = base_path / Path(\"ctrls_images_chad_dinov2s_cls_sm02_embeds.npy\")\n",
    "chad_cls_sm02_metadata = base_path / Path(\"ctrls_images_chad_dinov2s_cls_sm02_dataframe.parquet\")"
   ]
  },
  {
   "cell_type": "code",
   "execution_count": null,
   "metadata": {},
   "outputs": [],
   "source": [
    "np.load(chad_rand_feats)"
   ]
  }
 ],
 "metadata": {
  "kernelspec": {
   "display_name": ".venv",
   "language": "python",
   "name": "python3"
  },
  "language_info": {
   "codemirror_mode": {
    "name": "ipython",
    "version": 3
   },
   "file_extension": ".py",
   "mimetype": "text/x-python",
   "name": "python",
   "nbconvert_exporter": "python",
   "pygments_lexer": "ipython3",
   "version": "3.10.10"
  }
 },
 "nbformat": 4,
 "nbformat_minor": 2
}
