{
 "cells": [
  {
   "cell_type": "markdown",
   "metadata": {},
   "source": [
    "# Imports"
   ]
  },
  {
   "cell_type": "code",
   "execution_count": null,
   "metadata": {},
   "outputs": [],
   "source": [
    "from phenoseeker import EmbeddingManager\n",
    "from pathlib import Path\n",
    "import pandas as pd\n",
    "import numpy as np"
   ]
  },
  {
   "cell_type": "markdown",
   "metadata": {},
   "source": [
    "# Load chad img embeddings"
   ]
  },
  {
   "cell_type": "code",
   "execution_count": null,
   "metadata": {},
   "outputs": [],
   "source": [
    "base_path = Path(\"/projects/imagesets4/temp_embeds/\")"
   ]
  },
  {
   "cell_type": "code",
   "execution_count": null,
   "metadata": {},
   "outputs": [],
   "source": [
    "\n",
    "chad_cls_feats = base_path / Path(\"ctrls_images_chad_dinov2s_cls_embeds.npy\")\n",
    "chad_cls_metadata = base_path / Path(\"ctrls_images_chad_dinov2s_cls_dataframe.parquet\")\n",
    "\n",
    "\n",
    "chad_rand_feats = base_path / Path(\"ctrls_images_chad_dinov2s_rand_token_embeds.npy\")\n",
    "chad_rand_metadata = base_path / Path(\"ctrls_images_chad_dinov2s_rand_token_dataframe.parquet\")\n",
    "\n",
    "\n",
    "chad_cls_sm02_feats = base_path / Path(\"ctrls_images_chad_dinov2s_cls_sm02_embeds.npy\")\n",
    "chad_cls_sm02_metadata = base_path / Path(\"ctrls_images_chad_dinov2s_cls_sm02_dataframe.parquet\")"
   ]
  },
  {
   "cell_type": "code",
   "execution_count": null,
   "metadata": {},
   "outputs": [],
   "source": [
    "chad_em_img = EmbeddingManager(chad_cls_metadata, entity=\"image\")"
   ]
  },
  {
   "cell_type": "code",
   "execution_count": null,
   "metadata": {},
   "outputs": [],
   "source": [
    "chad_em_img.load(\"chad_cls\", chad_cls_feats)\n",
    "chad_em_img.load(\"chad_cls_sm02\", chad_cls_sm02_feats, chad_cls_sm02_metadata)\n",
    "chad_em_img.load(\"chad_rand\", chad_rand_feats, chad_cls_metadata)\n"
   ]
  },
  {
   "cell_type": "code",
   "execution_count": null,
   "metadata": {},
   "outputs": [],
   "source": [
    "chad_em_img = chad_em_img.filter_and_instantiate(Metadata_PlateType=\"COMPOUND\")"
   ]
  },
  {
   "cell_type": "code",
   "execution_count": null,
   "metadata": {},
   "outputs": [],
   "source": [
    "chad_em_well = chad_em_img.grouped_embeddings(group_by=\"well\", cols_to_keep=['Metadata_Batch','Metadata_JCP2022', 'Metadata_InChI', \"Metadata_Well\"])"
   ]
  },
  {
   "cell_type": "code",
   "execution_count": null,
   "metadata": {},
   "outputs": [],
   "source": [
    "df = pd.read_parquet('/projects/cpjump1/jump/load_data/ctrls_images_10by9sources.parquet')"
   ]
  },
  {
   "cell_type": "code",
   "execution_count": null,
   "metadata": {},
   "outputs": [],
   "source": [
    "df"
   ]
  },
  {
   "cell_type": "code",
   "execution_count": null,
   "metadata": {},
   "outputs": [],
   "source": [
    "plates_with_ctrl = list(chad_em_well.df['Metadata_Plate'].unique())\n"
   ]
  },
  {
   "cell_type": "code",
   "execution_count": null,
   "metadata": {},
   "outputs": [],
   "source": [
    "#plates_with_ctrl.remove(\"Dest210628-162003\")\n",
    "plates_with_ctrl.remove(\"Dest210823-174240\")\n"
   ]
  },
  {
   "cell_type": "code",
   "execution_count": null,
   "metadata": {},
   "outputs": [],
   "source": [
    "\n",
    "plates_with_ctrl.remove(\"Dest210823-174422\")"
   ]
  },
  {
   "cell_type": "code",
   "execution_count": null,
   "metadata": {},
   "outputs": [],
   "source": [
    "chad_em_well = chad_em_well.filter_and_instantiate(Metadata_Plate=plates_with_ctrl)"
   ]
  },
  {
   "cell_type": "code",
   "execution_count": null,
   "metadata": {},
   "outputs": [],
   "source": [
    "\n",
    "for model_name in list(chad_em_well.embeddings):\n",
    "    chad_em_well.apply_spherizing_transform(embeddings_name=f\"{model_name}\", new_embeddings_name=f\"{model_name}_sph\", norm_embeddings=False)\n",
    "    chad_em_well.apply_inverse_normal_transform(embeddings_name=f\"{model_name}_sph\", new_embeddings_name=f\"{model_name}_sph_int\")\n",
    "\n",
    "chad_em_well.save_to_folder(Path('/projects/synsight/data/jump_embeddings/wells_embeddings/chad/'))"
   ]
  },
  {
   "cell_type": "markdown",
   "metadata": {},
   "source": [
    "# add other wells embeddings"
   ]
  },
  {
   "cell_type": "code",
   "execution_count": null,
   "metadata": {},
   "outputs": [],
   "source": [
    "\n",
    "for model_name in ['dinov2_s', 'openphenom', 'resnet50', 'chada']:\n",
    "    base_path = Path(f'/projects/synsight/data/jump_embeddings/wells_embeddings/{model_name}')\n",
    "\n",
    "    meta_path_dino = base_path / f'metadata_{model_name}.parquet'\n",
    "    embeddings_path_dino = base_path / f'embeddings_{model_name}.npy'\n",
    "    chad_em_well.load(f\"{model_name}\", embeddings_path_dino, meta_path_dino)\n"
   ]
  },
  {
   "cell_type": "code",
   "execution_count": null,
   "metadata": {},
   "outputs": [],
   "source": [
    "chad_em_well.df['Metadata_JCP2022'].unique()"
   ]
  },
  {
   "cell_type": "code",
   "execution_count": null,
   "metadata": {},
   "outputs": [],
   "source": [
    "random_200_plates = chad_em_well.df['Metadata_Plate'].sample(200).to_list()"
   ]
  },
  {
   "cell_type": "code",
   "execution_count": null,
   "metadata": {},
   "outputs": [],
   "source": [
    "random_200_plates"
   ]
  },
  {
   "cell_type": "code",
   "execution_count": null,
   "metadata": {},
   "outputs": [],
   "source": [
    "small_chad_em_well = chad_em_well.filter_and_instantiate(Metadata_Plate=random_200_plates)"
   ]
  },
  {
   "cell_type": "code",
   "execution_count": null,
   "metadata": {},
   "outputs": [],
   "source": [
    "\n",
    "for model_name in list(small_chad_em_well.embeddings):\n",
    "    small_chad_em_well.apply_spherizing_transform(embeddings_name=f\"{model_name}\", new_embeddings_name=f\"{model_name}_sph\", norm_embeddings=False)\n",
    "    small_chad_em_well.apply_inverse_normal_transform(embeddings_name=f\"{model_name}_sph\", new_embeddings_name=f\"{model_name}_sph_int\")\n"
   ]
  },
  {
   "cell_type": "code",
   "execution_count": null,
   "metadata": {},
   "outputs": [],
   "source": [
    "small_chad_em_well_poscon = small_chad_em_well.filter_and_instantiate(Metadata_JCP2022=chad_em_well.JCP_ID_poscon)"
   ]
  },
  {
   "cell_type": "code",
   "execution_count": null,
   "metadata": {},
   "outputs": [],
   "source": [
    "embeddings_to_test = [emb_name for emb_name in list(small_chad_em_well_poscon.embeddings) if \"sph_int\" in emb_name]"
   ]
  },
  {
   "cell_type": "code",
   "execution_count": null,
   "metadata": {},
   "outputs": [],
   "source": [
    "maps_source = small_chad_em_well.compute_maps(labels_column=\"Metadata_Source\", embeddings_names=embeddings_to_test, random_maps=False, plot=True)"
   ]
  },
  {
   "cell_type": "code",
   "execution_count": null,
   "metadata": {},
   "outputs": [],
   "source": [
    "maps_jcp = small_chad_em_well_poscon.compute_maps(labels_column=\"Metadata_JCP2022\", embeddings_names=embeddings_to_test, random_maps=False, plot=True)"
   ]
  },
  {
   "cell_type": "code",
   "execution_count": null,
   "metadata": {},
   "outputs": [],
   "source": [
    "maps_jcp = small_chad_em_well_poscon.compute_maps(labels_column=\"Metadata_JCP2022\", embeddings_names=embeddings_to_test, random_maps=False, plot=True)"
   ]
  },
  {
   "cell_type": "code",
   "execution_count": null,
   "metadata": {},
   "outputs": [],
   "source": [
    "maps_jcp[['Label', 'mAP (chad_cls_sph_int)', 'mAP (chad_cls_sm02_sph_int)','mAP (resnet50_sph_int)']]"
   ]
  },
  {
   "cell_type": "code",
   "execution_count": null,
   "metadata": {},
   "outputs": [],
   "source": [
    "lisi_jcp = small_chad_em_well_poscon.compute_lisi(labels_column=\"Metadata_JCP2022\", embeddings_names=embeddings_to_test, plot=True, n_neighbors_list=[5, 20, 40])"
   ]
  },
  {
   "cell_type": "code",
   "execution_count": null,
   "metadata": {},
   "outputs": [],
   "source": [
    "lisi_jcp"
   ]
  },
  {
   "cell_type": "code",
   "execution_count": null,
   "metadata": {},
   "outputs": [],
   "source": [
    "lisi_jcp = small_chad_em_well_poscon.compute_lisi(labels_column=\"Metadata_JCP2022\", embeddings_names=embeddings_to_test, plot=True)"
   ]
  },
  {
   "cell_type": "code",
   "execution_count": null,
   "metadata": {},
   "outputs": [],
   "source": [
    "lisi_jcp"
   ]
  },
  {
   "cell_type": "code",
   "execution_count": null,
   "metadata": {},
   "outputs": [],
   "source": [
    "df = pd.read_parquet(\"/projects/cpjump1/jump/load_data/ctrls_images.parquet\")"
   ]
  },
  {
   "cell_type": "code",
   "execution_count": null,
   "metadata": {},
   "outputs": [],
   "source": [
    "df"
   ]
  },
  {
   "cell_type": "code",
   "execution_count": null,
   "metadata": {},
   "outputs": [],
   "source": [
    "df.iloc[25]['FileName_OrigAGP']"
   ]
  },
  {
   "cell_type": "markdown",
   "metadata": {},
   "source": [
    "## UMAP"
   ]
  },
  {
   "cell_type": "code",
   "execution_count": null,
   "metadata": {},
   "outputs": [],
   "source": [
    "few_plates_em = small_chad_em_well_poscon.filter_and_instantiate(Metadata_Plate=small_chad_em_well_poscon.df['Metadata_Plate'].sample(10).to_list())"
   ]
  },
  {
   "cell_type": "code",
   "execution_count": null,
   "metadata": {},
   "outputs": [],
   "source": [
    "red = \"UMAP\"\n",
    "for emb in embeddings_to_test:\n",
    "    print(emb)\n",
    "    few_plates_em.plot_dimensionality_reduction(embedding_name=emb, reduction_method=red, color_by=\"Metadata_JCP2022\")"
   ]
  },
  {
   "cell_type": "code",
   "execution_count": null,
   "metadata": {},
   "outputs": [],
   "source": [
    "\n",
    "red = \"UMAP\"\n",
    "for emb in embeddings_to_test:\n",
    "    print(emb)\n",
    "    few_plates_em.plot_dimensionality_reduction(embedding_name=emb, reduction_method=red, color_by=\"Metadata_Plate\")"
   ]
  },
  {
   "cell_type": "code",
   "execution_count": null,
   "metadata": {},
   "outputs": [],
   "source": [
    "embeddings_to_test"
   ]
  },
  {
   "cell_type": "code",
   "execution_count": null,
   "metadata": {},
   "outputs": [],
   "source": [
    "df = small_chad_em_well_poscon.compute_maps(labels_column=\"Metadata_JCP2022\", embeddings_names=['chad_cls',\n",
    " 'chad_cls_sm02',\n",
    " 'dinov2_s',\n",
    " 'resnet50',\n",
    " 'chada'], random_maps=False, plot=True)"
   ]
  }
 ],
 "metadata": {
  "kernelspec": {
   "display_name": ".venv",
   "language": "python",
   "name": "python3"
  },
  "language_info": {
   "codemirror_mode": {
    "name": "ipython",
    "version": 3
   },
   "file_extension": ".py",
   "mimetype": "text/x-python",
   "name": "python",
   "nbconvert_exporter": "python",
   "pygments_lexer": "ipython3",
   "version": "3.10.10"
  }
 },
 "nbformat": 4,
 "nbformat_minor": 2
}
