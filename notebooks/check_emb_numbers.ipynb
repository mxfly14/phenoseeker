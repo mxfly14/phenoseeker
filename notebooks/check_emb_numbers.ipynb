{
 "cells": [
  {
   "cell_type": "markdown",
   "metadata": {},
   "source": [
    "# Import and sandbox"
   ]
  },
  {
   "cell_type": "code",
   "execution_count": null,
   "metadata": {},
   "outputs": [],
   "source": [
    "import numpy as np\n",
    "import pandas as pd\n",
    "import torch \n",
    "from tqdm import tqdm\n",
    "import matplotlib.pyplot as plt\n"
   ]
  },
  {
   "cell_type": "markdown",
   "metadata": {},
   "source": [
    "# check n_wells "
   ]
  },
  {
   "cell_type": "markdown",
   "metadata": {},
   "source": [
    "## Imports"
   ]
  },
  {
   "cell_type": "code",
   "execution_count": null,
   "metadata": {},
   "outputs": [],
   "source": [
    "df_phenom = pd.read_parquet('/projects/synsight/data/openphenom/raw_well_embeddings/wells_em_openphenom.parquet')"
   ]
  },
  {
   "cell_type": "code",
   "execution_count": null,
   "metadata": {},
   "outputs": [],
   "source": [
    "df_dinov2_s = pd.read_parquet('/projects/synsight/data/dinov2_small/raw_well_embeddings/wells_em_dinov2s.parquet')"
   ]
  },
  {
   "cell_type": "code",
   "execution_count": null,
   "metadata": {},
   "outputs": [],
   "source": [
    "df_dinov2_g = pd.read_parquet('/projects/synsight/data/dinov2/raw_well_embeddings/wells_em_dinov2.parquet')"
   ]
  },
  {
   "cell_type": "code",
   "execution_count": null,
   "metadata": {},
   "outputs": [],
   "source": [
    "df_resnet = pd.read_parquet('/projects/cpjump1/jump/images_embeddings/resnet50_raw/metadata/load_wells/df_meta_raw_well.parquet')"
   ]
  },
  {
   "cell_type": "code",
   "execution_count": null,
   "metadata": {},
   "outputs": [],
   "source": [
    "df_chada = pd.read_parquet('/projects/synsight/data/chada/well_embeddings/metadata_raw_mean.parquet')"
   ]
  },
  {
   "cell_type": "code",
   "execution_count": null,
   "metadata": {},
   "outputs": [],
   "source": [
    "df_chada_2 = pd.read_parquet('/projects/synsight/data/chada/chada_jump.parquet')"
   ]
  },
  {
   "cell_type": "code",
   "execution_count": null,
   "metadata": {},
   "outputs": [],
   "source": [
    "df_meta = pd.read_csv('/projects/cpjump1/jump/metadata/complete_metadata.csv')"
   ]
  },
  {
   "cell_type": "markdown",
   "metadata": {},
   "source": [
    "## Reference"
   ]
  },
  {
   "cell_type": "code",
   "execution_count": null,
   "metadata": {},
   "outputs": [],
   "source": [
    "images_df_path = \"/projects/cpjump1/jump/load_data/final\"\n",
    "images_df = pd.read_parquet(images_df_path)\n",
    "\n",
    "images_df[\"Metadata_Batch\"] = images_df[\"Metadata_Batch\"].astype(str)\n",
    "df_meta[\"Metadata_Batch\"] = df_meta[\"Metadata_Batch\"].astype(str)\n",
    "images_df[\"Metadata_Plate\"] = images_df[\"Metadata_Plate\"].astype(str)\n",
    "df_meta[\"Metadata_Plate\"] = df_meta[\"Metadata_Plate\"].astype(str)\n",
    "images_df[\"Metadata_Source\"] = images_df[\"Metadata_Source\"].astype(str)\n",
    "df_meta[\"Metadata_Source\"] = df_meta[\"Metadata_Source\"].astype(str)\n",
    "images_df[\"Metadata_Well\"] = images_df[\"Metadata_Well\"].astype(str)\n",
    "df_meta[\"Metadata_Well\"] = df_meta[\"Metadata_Well\"].astype(str)\n",
    "\n",
    "merged_df = pd.merge(images_df, df_meta, on=[\"Metadata_Source\", \"Metadata_Plate\", \"Metadata_Well\"])\n",
    "merged_df"
   ]
  },
  {
   "cell_type": "code",
   "execution_count": null,
   "metadata": {},
   "outputs": [],
   "source": [
    "len(merged_df)"
   ]
  },
  {
   "cell_type": "code",
   "execution_count": null,
   "metadata": {},
   "outputs": [],
   "source": [
    "merged_df[(merged_df['Metadata_PlateType']=='COMPOUND')][\"Metadata_JCP2022\"].nunique()"
   ]
  },
  {
   "cell_type": "code",
   "execution_count": null,
   "metadata": {},
   "outputs": [],
   "source": [
    "df_meta[(df_meta['Metadata_PlateType']=='COMPOUND')][\"Metadata_JCP2022\"].nunique()"
   ]
  },
  {
   "cell_type": "code",
   "execution_count": null,
   "metadata": {},
   "outputs": [],
   "source": [
    "key_columns = ['Metadata_Source', 'Metadata_Plate', 'Metadata_Well']\n",
    "\n",
    "df1 = merged_df[merged_df['Metadata_PlateType']=='COMPOUND'][['Metadata_Source', 'Metadata_Well', 'Metadata_Plate', 'Metadata_JCP2022']]\n",
    "df2 = df_meta[(df_meta['Metadata_PlateType']=='COMPOUND')]\n",
    "only_in_df1 = df1.merge(df2, on=key_columns, how='left', indicator=True).query('_merge == \"left_only\"').drop('_merge', axis=1)\n",
    "only_in_df2 = df2.merge(df1, on=key_columns, how='left', indicator=True).query('_merge == \"left_only\"').drop('_merge', axis=1)"
   ]
  },
  {
   "cell_type": "code",
   "execution_count": null,
   "metadata": {},
   "outputs": [],
   "source": [
    "only_in_df2[only_in_df2['Metadata_Source']!='source_7']['Metadata_Plate'].unique()"
   ]
  },
  {
   "cell_type": "code",
   "execution_count": null,
   "metadata": {},
   "outputs": [],
   "source": [
    "key_columns = ['Metadata_Source', 'Metadata_Plate', 'Metadata_Well']\n",
    "\n",
    "df1 = merged_df[merged_df['Metadata_PlateType']!='COMPOUND'][['Metadata_Source', 'Metadata_Well', 'Metadata_Plate', 'Metadata_JCP2022']]\n",
    "df2 = df_meta[(df_meta['Metadata_PlateType'].isin(['TARGET2', 'CRISPR', 'ORF', 'TARGET1']))]\n",
    "only_in_df1 = df1.merge(df2, on=key_columns, how='left', indicator=True).query('_merge == \"left_only\"').drop('_merge', axis=1)\n",
    "only_in_df2 = df2.merge(df1, on=key_columns, how='left', indicator=True).query('_merge == \"left_only\"').drop('_merge', axis=1)"
   ]
  },
  {
   "cell_type": "code",
   "execution_count": null,
   "metadata": {},
   "outputs": [],
   "source": [
    "only_in_df2['Metadata_Source'].value_counts()"
   ]
  },
  {
   "cell_type": "code",
   "execution_count": null,
   "metadata": {},
   "outputs": [],
   "source": [
    "df = merged_df[merged_df[\"Metadata_PlateType\"]=='COMPOUND'][['Metadata_Source', 'Metadata_Batch_x', 'Metadata_Plate',\n",
    "       'Metadata_Well', 'Metadata_JCP2022', 'Metadata_InChI']]\n",
    "df.columns = ['Metadata_Source', 'Metadata_Batch', 'Metadata_Plate', 'Metadata_Well', 'Metadata_JCP2022', 'Metadata_InChI']"
   ]
  },
  {
   "cell_type": "code",
   "execution_count": null,
   "metadata": {},
   "outputs": [],
   "source": [
    "ref_compound_df = df[~df['Metadata_JCP2022'].isin(['JCP2022_999999', 'JCP2022_UNKNOWN'])].drop_duplicates()[~df['Metadata_JCP2022'].isin(['JCP2022_999999', 'JCP2022_UNKNOWN'])].reset_index().drop(columns='index')"
   ]
  },
  {
   "cell_type": "code",
   "execution_count": null,
   "metadata": {},
   "outputs": [],
   "source": [
    "ref_compound_df"
   ]
  },
  {
   "cell_type": "code",
   "execution_count": null,
   "metadata": {},
   "outputs": [],
   "source": [
    "ref_compound_df['Metadata_JCP2022'].value_counts()[:10]"
   ]
  },
  {
   "cell_type": "code",
   "execution_count": null,
   "metadata": {},
   "outputs": [],
   "source": [
    "ref_compound_df.columns"
   ]
  },
  {
   "cell_type": "code",
   "execution_count": null,
   "metadata": {},
   "outputs": [],
   "source": [
    "count = ref_compound_df['Metadata_JCP2022'].value_counts().values\n",
    "\n",
    "plt.figure(figsize=(10, 6))  # Set figure size\n",
    "plt.hist(count[10:], bins=100, log=False, color='skyblue', edgecolor='black', alpha=0.7)\n",
    "\n",
    "# Add labels and title\n",
    "plt.title('Histogram of Well by JCP2022 id (excluding controls)', fontsize=16)\n",
    "plt.xlabel('Count', fontsize=14)\n",
    "plt.ylabel('Frequency', fontsize=14)\n",
    "\n",
    "# Add grid for better readability\n",
    "plt.grid(axis='y', linestyle='--', alpha=0.6)\n",
    "\n",
    "# Show the plot\n",
    "plt.tight_layout()\n",
    "plt.show()\n"
   ]
  },
  {
   "cell_type": "code",
   "execution_count": null,
   "metadata": {},
   "outputs": [],
   "source": [
    "import matplotlib.pyplot as plt\n",
    "\n",
    "# Count the number of unique plates per batch\n",
    "plate_count_per_batch = ref_compound_df.groupby('Metadata_Batch')['Metadata_Plate'].nunique()\n",
    "\n",
    "# Plot histogram\n",
    "plt.figure(figsize=(10, 6))  # Set figure size\n",
    "plt.hist(plate_count_per_batch.values, bins=range(1, plate_count_per_batch.max() + 2), color='salmon', edgecolor='black', alpha=0.7)\n",
    "\n",
    "# Add labels and title\n",
    "plt.title('Histogram of Plate Count by Batch', fontsize=16)\n",
    "plt.xlabel('Number of Plates', fontsize=14)\n",
    "plt.ylabel('Frequency of Batches', fontsize=14)\n",
    "\n",
    "# Add grid for better readability\n",
    "plt.grid(axis='y', linestyle='--', alpha=0.6)\n",
    "\n",
    "# Show the plot\n",
    "plt.tight_layout()\n",
    "plt.show()\n"
   ]
  },
  {
   "cell_type": "code",
   "execution_count": null,
   "metadata": {},
   "outputs": [],
   "source": [
    "# Exemple : Si ref_compound_df est votre DataFrame\n",
    "# Calculer les plaques uniques par batch\n",
    "unique_plates_per_batch = ref_compound_df.groupby('Metadata_Batch')['Metadata_Plate'].nunique()\n",
    "\n",
    "# Si un batch a moins de 10 plaques, toutes sont prises, sinon on limite à 10\n",
    "total_selected_plates = unique_plates_per_batch.apply(lambda x: min(x, 15)).sum()\n",
    "\n",
    "total_selected_plates"
   ]
  },
  {
   "cell_type": "code",
   "execution_count": null,
   "metadata": {},
   "outputs": [],
   "source": [
    "filtered_df.sample(n=3)['Metadata_Plate']"
   ]
  },
  {
   "cell_type": "code",
   "execution_count": null,
   "metadata": {},
   "outputs": [],
   "source": [
    "n = 10\n",
    "\n",
    "# Grouper par batch et sélectionner les n premières plaques uniques\n",
    "filtered_df = (\n",
    "    ref_compound_df.groupby('Metadata_Batch')\n",
    "    .apply(lambda group: group[group['Metadata_Plate'].isin(group['Metadata_Plate'].unique()[:n])])\n",
    "    .reset_index(drop=True)\n",
    ")\n",
    "\n",
    "# Afficher le DataFrame filtré\n",
    "filtered_df"
   ]
  },
  {
   "cell_type": "markdown",
   "metadata": {},
   "source": [
    "## Counts"
   ]
  },
  {
   "cell_type": "markdown",
   "metadata": {},
   "source": [
    "### Resnet"
   ]
  },
  {
   "cell_type": "code",
   "execution_count": null,
   "metadata": {},
   "outputs": [],
   "source": [
    "len(ref_compound_df)"
   ]
  },
  {
   "cell_type": "code",
   "execution_count": null,
   "metadata": {},
   "outputs": [],
   "source": [
    "len(df_resnet)"
   ]
  },
  {
   "cell_type": "code",
   "execution_count": null,
   "metadata": {},
   "outputs": [],
   "source": [
    "\n",
    "df2 = df_resnet.copy(deep=True)\n",
    "\n",
    "key_columns = ['Metadata_Source', 'Metadata_Plate', 'Metadata_Well']\n",
    "\n",
    "only_in_ref = ref_compound_df.merge(df2, on=key_columns, how='left', indicator=True).query('_merge == \"left_only\"').drop('_merge', axis=1)\n",
    "only_in_df2 = df2.merge(ref_compound_df, on=key_columns, how='left', indicator=True).query('_merge == \"left_only\"').drop('_merge', axis=1)\n",
    "\n"
   ]
  },
  {
   "cell_type": "code",
   "execution_count": null,
   "metadata": {},
   "outputs": [],
   "source": [
    "print(len(only_in_df2))\n",
    "print(len(only_in_ref))"
   ]
  },
  {
   "cell_type": "markdown",
   "metadata": {},
   "source": [
    "### chada"
   ]
  },
  {
   "cell_type": "code",
   "execution_count": null,
   "metadata": {},
   "outputs": [],
   "source": [
    "len(df_chada)"
   ]
  },
  {
   "cell_type": "code",
   "execution_count": null,
   "metadata": {},
   "outputs": [],
   "source": [
    "\n",
    "df2 = df_chada.copy(deep=True)\n",
    "\n",
    "key_columns = ['Metadata_Source', 'Metadata_Plate', 'Metadata_Well']\n",
    "\n",
    "only_in_ref = ref_compound_df.merge(df2, on=key_columns, how='left', indicator=True).query('_merge == \"left_only\"').drop('_merge', axis=1)\n",
    "only_in_df2 = df2.merge(ref_compound_df, on=key_columns, how='left', indicator=True).query('_merge == \"left_only\"').drop('_merge', axis=1)\n",
    "\n",
    "print(len(only_in_df2))\n",
    "print(len(only_in_ref))"
   ]
  },
  {
   "cell_type": "code",
   "execution_count": null,
   "metadata": {},
   "outputs": [],
   "source": [
    "only_in_ref # One molecule that is strange in formula so should have failed while preprocessed by @ThomasLemercier"
   ]
  },
  {
   "cell_type": "markdown",
   "metadata": {},
   "source": [
    "### dino (s and g have the exact same lines)"
   ]
  },
  {
   "cell_type": "markdown",
   "metadata": {},
   "source": [
    "#### dino s"
   ]
  },
  {
   "cell_type": "code",
   "execution_count": null,
   "metadata": {},
   "outputs": [],
   "source": [
    "len(df_dinov2_s.drop_duplicates(subset=key_columns))"
   ]
  },
  {
   "cell_type": "code",
   "execution_count": null,
   "metadata": {},
   "outputs": [],
   "source": [
    "duplicates = df_dinov2_s.groupby(key_columns).filter(lambda x: len(x) > 1)\n"
   ]
  },
  {
   "cell_type": "code",
   "execution_count": null,
   "metadata": {},
   "outputs": [],
   "source": []
  },
  {
   "cell_type": "code",
   "execution_count": null,
   "metadata": {},
   "outputs": [],
   "source": [
    "embeddings = []\n",
    "for path in duplicates['path_embedding']:\n",
    "    embeddings.append(torch.load(path))\n",
    "    "
   ]
  },
  {
   "cell_type": "code",
   "execution_count": null,
   "metadata": {},
   "outputs": [],
   "source": [
    "(embeddings[3] == embeddings[5]).all()"
   ]
  },
  {
   "cell_type": "code",
   "execution_count": null,
   "metadata": {},
   "outputs": [],
   "source": [
    "df_dinov2_s.drop(index=[186948, 734868, 811287], inplace=True)\n"
   ]
  },
  {
   "cell_type": "code",
   "execution_count": null,
   "metadata": {},
   "outputs": [],
   "source": [
    "df2 = df_dinov2_s.copy(deep=True)\n",
    "key_columns = ['Metadata_Source', 'Metadata_Plate', 'Metadata_Well']\n",
    "only_in_ref = ref_compound_df.merge(df2, on=key_columns, how='left', indicator=True).query('_merge == \"left_only\"').drop('_merge', axis=1)\n",
    "only_in_df2 = df2.merge(ref_compound_df, on=key_columns, how='left', indicator=True).query('_merge == \"left_only\"').drop('_merge', axis=1)\n",
    "\n",
    "print(len(only_in_df2))\n",
    "print(len(only_in_ref))"
   ]
  },
  {
   "cell_type": "code",
   "execution_count": null,
   "metadata": {},
   "outputs": [],
   "source": [
    "df_dinov2_s.columns"
   ]
  },
  {
   "cell_type": "code",
   "execution_count": null,
   "metadata": {},
   "outputs": [],
   "source": [
    "df_dinov2_s_good = ref_compound_df.merge(df_dinov2_s[['Metadata_Well', 'Metadata_Source', 'Metadata_Plate', 'Metadata_Is_dmso','Metadata_Row', 'Metadata_Col', 'path_embedding']], on=key_columns, how='inner')\n",
    "df_dinov2_s_good.reset_index(drop=True, inplace=True)"
   ]
  },
  {
   "cell_type": "code",
   "execution_count": null,
   "metadata": {},
   "outputs": [],
   "source": [
    "df_dinov2_s_good"
   ]
  },
  {
   "cell_type": "code",
   "execution_count": null,
   "metadata": {},
   "outputs": [],
   "source": [
    "df_dinov2_s_good.to_parquet('/projects/synsight/data/dinov2_small/raw_well_embeddings/compounds_wells_em_dinov2s.parquet', index=False)"
   ]
  },
  {
   "cell_type": "code",
   "execution_count": null,
   "metadata": {},
   "outputs": [],
   "source": [
    "df_dinov2_s_good = pd.read_parquet('/projects/synsight/data/dinov2_small/raw_well_embeddings/compounds_wells_em_dinov2s.parquet')"
   ]
  },
  {
   "cell_type": "code",
   "execution_count": null,
   "metadata": {},
   "outputs": [],
   "source": [
    "df_dinov2_s_good"
   ]
  },
  {
   "cell_type": "markdown",
   "metadata": {},
   "source": [
    "#### dino g"
   ]
  },
  {
   "cell_type": "code",
   "execution_count": null,
   "metadata": {},
   "outputs": [],
   "source": [
    "duplicates = df_dinov2_g.groupby(key_columns).filter(lambda x: len(x) > 1)\n",
    "duplicates"
   ]
  },
  {
   "cell_type": "code",
   "execution_count": null,
   "metadata": {},
   "outputs": [],
   "source": [
    "df_dinov2_g.drop(index=[25526, 167155, 444675], inplace=True)"
   ]
  },
  {
   "cell_type": "code",
   "execution_count": null,
   "metadata": {},
   "outputs": [],
   "source": [
    "df_dinov2_g_good = ref_compound_df.merge(df_dinov2_g[['Metadata_Well', 'Metadata_Source', 'Metadata_Plate', 'Metadata_Is_dmso','Metadata_Row', 'Metadata_Col', 'path_embedding']], on=key_columns, how='inner')\n",
    "df_dinov2_g_good.reset_index(drop=True, inplace=True)"
   ]
  },
  {
   "cell_type": "code",
   "execution_count": null,
   "metadata": {},
   "outputs": [],
   "source": [
    "df_dinov2_g_good['Metadata_InChI']"
   ]
  },
  {
   "cell_type": "code",
   "execution_count": null,
   "metadata": {},
   "outputs": [],
   "source": [
    "df_dinov2_g_good[df_dinov2_g_good['Metadata_JCP2022']=='JCP2022_002781']['Metadata_InChI'].iloc[0]"
   ]
  },
  {
   "cell_type": "code",
   "execution_count": null,
   "metadata": {},
   "outputs": [],
   "source": [
    "df_dinov2_g_good['Metadata_JCP2022'].value_counts()"
   ]
  },
  {
   "cell_type": "code",
   "execution_count": null,
   "metadata": {},
   "outputs": [],
   "source": [
    "df_dinov2_g_good.to_parquet('/projects/synsight/data/dinov2/raw_well_embeddings/compounds_wells_em_dinov2g.parquet', index=False)"
   ]
  },
  {
   "cell_type": "markdown",
   "metadata": {},
   "source": [
    "### OpenPhenom"
   ]
  },
  {
   "cell_type": "code",
   "execution_count": null,
   "metadata": {},
   "outputs": [],
   "source": [
    "len(df_phenom)"
   ]
  },
  {
   "cell_type": "code",
   "execution_count": null,
   "metadata": {},
   "outputs": [],
   "source": [
    "\n",
    "df2 = df_phenom.copy(deep=True)\n",
    "\n",
    "key_columns = ['Metadata_Source', 'Metadata_Plate', 'Metadata_Well']\n",
    "\n",
    "only_in_ref = ref_compound_df.merge(df2, on=key_columns, how='left', indicator=True).query('_merge == \"left_only\"').drop('_merge', axis=1)\n",
    "only_in_df2 = df2.merge(ref_compound_df, on=key_columns, how='left', indicator=True).query('_merge == \"left_only\"').drop('_merge', axis=1)\n",
    "\n",
    "print(len(only_in_df2))\n",
    "print(len(only_in_ref))"
   ]
  },
  {
   "cell_type": "code",
   "execution_count": null,
   "metadata": {},
   "outputs": [],
   "source": [
    "df_phenom_good = ref_compound_df.merge(df_phenom[['Metadata_Well', 'Metadata_Source', 'Metadata_Plate', 'Metadata_Is_dmso','Metadata_Row', 'Metadata_Col', 'path_embedding']], on=key_columns, how='inner')\n",
    "df_phenom_good.reset_index(drop=True, inplace=True)"
   ]
  },
  {
   "cell_type": "code",
   "execution_count": null,
   "metadata": {},
   "outputs": [],
   "source": [
    "df_phenom_good"
   ]
  },
  {
   "cell_type": "code",
   "execution_count": null,
   "metadata": {},
   "outputs": [],
   "source": [
    "df_phenom_good.to_parquet('/projects/synsight/data/openphenom/raw_well_embeddings/compounds_wells_em_openphenom.parquet', index=False)"
   ]
  },
  {
   "cell_type": "code",
   "execution_count": null,
   "metadata": {},
   "outputs": [],
   "source": [
    "df_phenom = pd.read_parquet('/projects/synsight/data/openphenom/raw_well_embeddings/wells_em_openphenom.parquet')"
   ]
  }
 ],
 "metadata": {
  "kernelspec": {
   "display_name": "phenoseeker-VFjsjbMc-py3.10",
   "language": "python",
   "name": "python3"
  },
  "language_info": {
   "codemirror_mode": {
    "name": "ipython",
    "version": 3
   },
   "file_extension": ".py",
   "mimetype": "text/x-python",
   "name": "python",
   "nbconvert_exporter": "python",
   "pygments_lexer": "ipython3",
   "version": "3.10.10"
  }
 },
 "nbformat": 4,
 "nbformat_minor": 2
}
