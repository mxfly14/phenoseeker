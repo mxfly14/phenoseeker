{
 "cells": [
  {
   "cell_type": "code",
   "execution_count": null,
   "id": "a80d50bb",
   "metadata": {},
   "outputs": [],
   "source": [
    "from normalisation import BioproxyEvaluator\n",
    "import pandas as pd\n",
    "import numpy as np\n",
    "import torch\n",
    "import matplotlib.pyplot as plt\n",
    "import seaborn as sns\n",
    "from pathlib import Path\n",
    "from tqdm import tqdm\n",
    "from rdkit import Chem, DataStructs\n",
    "from rdkit.Chem.rdFingerprintGenerator import GetMorganGenerator"
   ]
  },
  {
   "cell_type": "code",
   "execution_count": null,
   "id": "ead98ec7",
   "metadata": {},
   "outputs": [],
   "source": [
    "embedding_col = 'Embeddings_mean'\n",
    "df_phenom = pd.read_parquet('/projects/synsight/data/openphenom/norm_2_compounds_embeddings.parquet')\n",
    "df_phenom.drop(columns=['path_embedding', 'Metadata_Is_Control'], inplace=True)\n"
   ]
  }
 ],
 "metadata": {
  "language_info": {
   "name": "python"
  }
 },
 "nbformat": 4,
 "nbformat_minor": 5
}
