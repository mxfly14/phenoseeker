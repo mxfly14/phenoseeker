{
 "cells": [
  {
   "cell_type": "markdown",
   "metadata": {},
   "source": [
    "# Import "
   ]
  },
  {
   "cell_type": "code",
   "execution_count": null,
   "metadata": {},
   "outputs": [],
   "source": [
    "import pandas as pd\n",
    "import numpy as np\n",
    "from tqdm import tqdm"
   ]
  },
  {
   "cell_type": "markdown",
   "metadata": {},
   "source": [
    "# Explore"
   ]
  },
  {
   "cell_type": "code",
   "execution_count": null,
   "metadata": {},
   "outputs": [],
   "source": [
    "df_meta = pd.read_csv('/projects/cpjump1/jump/metadata/complete_metadata.csv', low_memory=False)"
   ]
  },
  {
   "cell_type": "code",
   "execution_count": null,
   "metadata": {},
   "outputs": [],
   "source": [
    "df_meta_mol = df_meta[df_meta['Metadata_PlateType'] == 'COMPOUND']\n",
    "df_mol = df_meta_mol[['Metadata_JCP2022', 'Metadata_InChI', 'Metadata_InChIKey']].drop_duplicates(inplace=False).reset_index(drop=True)"
   ]
  },
  {
   "cell_type": "code",
   "execution_count": null,
   "metadata": {},
   "outputs": [],
   "source": [
    "df_mol"
   ]
  },
  {
   "cell_type": "code",
   "execution_count": null,
   "metadata": {},
   "outputs": [],
   "source": [
    "df_chembl = pd.read_csv('/projects/synsight/repos/phenoseeker/data/ChEMBL/chembl_activity_data.csv', low_memory=False)\n",
    "df_assays = pd.read_csv('/projects/synsight/repos/phenoseeker/data/ChEMBL/assay.csv')"
   ]
  },
  {
   "cell_type": "code",
   "execution_count": null,
   "metadata": {},
   "outputs": [],
   "source": [
    "df_assays"
   ]
  },
  {
   "cell_type": "code",
   "execution_count": null,
   "metadata": {},
   "outputs": [],
   "source": [
    "len(df_chembl.columns)"
   ]
  },
  {
   "cell_type": "code",
   "execution_count": null,
   "metadata": {},
   "outputs": [],
   "source": [
    "assay_index = df_chembl.columns"
   ]
  },
  {
   "cell_type": "code",
   "execution_count": null,
   "metadata": {},
   "outputs": [],
   "source": [
    "allowed_assays = [int(x) for x in assay_index if x.isdigit()]\n",
    "\n",
    "# Supposons que votre DataFrame s'appelle df et qu'elle possède une colonne 'assay_id'\n",
    "filtered_df = df_assays[df_assays['assay_id'].isin(allowed_assays)]\n",
    "\n"
   ]
  },
  {
   "cell_type": "code",
   "execution_count": null,
   "metadata": {},
   "outputs": [],
   "source": [
    "df_assays['assay_category'].value_counts()"
   ]
  },
  {
   "cell_type": "code",
   "execution_count": null,
   "metadata": {},
   "outputs": [],
   "source": [
    "df_chembl"
   ]
  },
  {
   "cell_type": "code",
   "execution_count": null,
   "metadata": {},
   "outputs": [],
   "source": [
    "cols = df_chembl.columns.difference(['molregno', 'standard_inchi_key'])\n",
    "\n",
    "# Compter le nombre de 1 par colonne\n",
    "count_1 = (df_chembl[cols] == 1).sum()\n",
    "\n",
    "# Compter le nombre de -1 par colonne\n",
    "count_neg1 = (df_chembl[cols] == -1).sum()\n",
    "\n",
    "# Créer un DataFrame récapitulatif\n",
    "summary_df = pd.DataFrame({\n",
    "    'count_1': count_1,\n",
    "    'count_-1': count_neg1\n",
    "})"
   ]
  },
  {
   "cell_type": "code",
   "execution_count": null,
   "metadata": {},
   "outputs": [],
   "source": [
    "summary_df['hit rate'] = summary_df['count_1'] / (summary_df['count_1'] + summary_df['count_-1'])   *100"
   ]
  },
  {
   "cell_type": "code",
   "execution_count": null,
   "metadata": {},
   "outputs": [],
   "source": [
    "len(summary_df[summary_df['hit rate']<40]) + 16"
   ]
  },
  {
   "cell_type": "code",
   "execution_count": null,
   "metadata": {},
   "outputs": [],
   "source": [
    "summary_df['hit rate'].hist(bins=100)"
   ]
  },
  {
   "cell_type": "code",
   "execution_count": null,
   "metadata": {},
   "outputs": [],
   "source": [
    "len(colonnes_assays)"
   ]
  },
  {
   "cell_type": "code",
   "execution_count": null,
   "metadata": {},
   "outputs": [],
   "source": [
    "import pandas as pd\n",
    "\n",
    "# On suppose que df_chembl, df_mol et df_assay sont déjà chargés\n",
    "\n",
    "# 1. Fusionner df_chembl et df_mol via la clé standard_inchi_key / Metadata_InChIKey\n",
    "df_merged = df_chembl.merge(\n",
    "    df_mol,\n",
    "    how=\"left\",\n",
    "    left_on=\"standard_inchi_key\",\n",
    "    right_on=\"Metadata_InChIKey\"\n",
    ")\n",
    "\n",
    "# 2. On détermine les colonnes d'assays à traiter (on exclut molregno et standard_inchi_key)\n",
    "colonnes_assays = [\n",
    "    col for col in df_chembl.columns\n",
    "    if col not in [\"molregno\", \"standard_inchi_key\"]\n",
    "]\n",
    "\n",
    "# 3. Pour chaque assay, on filtre les molécules avec valeur non nulle et on vérifie le ratio actives/inactives\n",
    "for assay_col in colonnes_assays:\n",
    "    # Récupérer le chembl_id correspondant dans df_assay\n",
    "    try:\n",
    "        assay_int = int(assay_col)\n",
    "    except ValueError:\n",
    "        # Si la colonne ne peut pas être convertie en entier, on passe à la suivante\n",
    "        continue\n",
    "\n",
    "    mask_assay = (df_assays[\"assay_id\"] == assay_int)\n",
    "    if mask_assay.sum() == 0:\n",
    "        # Si aucun assay correspondant n'est trouvé, passer au suivant\n",
    "        continue\n",
    "\n",
    "    chembl_id_value = df_assays.loc[mask_assay, \"chembl_id\"].values[0]\n",
    "\n",
    "    # Filtrer pour ne conserver que les molécules dont la valeur dans cet assay est différente de 0\n",
    "    df_filtered = df_merged[df_merged[assay_col] != 0].copy()\n",
    "    \n",
    "    # Si aucun enregistrement n'est présent, on passe à l'assay suivant\n",
    "    if df_filtered.empty:\n",
    "        continue\n",
    "\n",
    "    # Calculer le nombre d'actives (valeur 1) et d'inactives (valeur -1)\n",
    "    active_count = (df_filtered[assay_col] == 1).sum()\n",
    "    inactive_count = (df_filtered[assay_col] == -1).sum()\n",
    "\n",
    "    # On ne garde l'assay que si le nombre d'inactifs est non nul et le ratio actives/inactives est <= 40\n",
    "    if inactive_count == 0 or (active_count / (inactive_count + active_count)) >= 0.40:\n",
    "        print(f\"Assay {assay_col} (chembl_id: {chembl_id_value}) ignoré (ratio {active_count}/{inactive_count} > 0.40 ou pas d'inactifs)\")\n",
    "        continue\n",
    "\n",
    "    # Créer le DataFrame final avec les colonnes demandées\n",
    "    df_result = df_filtered[[\"Metadata_JCP2022\", \"Metadata_InChIKey\", \"Metadata_InChI\"]].copy()\n",
    "    df_result[\"role_val\"] = df_filtered[assay_col].map({1: \"hit\", -1: \"none\"})\n",
    "\n",
    "    # Sauvegarder dans un CSV nommé selon le chembl_id\n",
    "    output_path = f\"/projects/synsight/repos/phenoseeker/data/ChEMBL/{chembl_id_value}_val.csv\"\n",
    "\n",
    "    df_result.to_csv(output_path, index=False)\n",
    "    \n",
    "    print(f\"Fichier sauvegardé : {output_path}\")\n"
   ]
  },
  {
   "cell_type": "code",
   "execution_count": null,
   "metadata": {},
   "outputs": [],
   "source": [
    "    "
   ]
  }
 ],
 "metadata": {
  "kernelspec": {
   "display_name": ".venv",
   "language": "python",
   "name": "python3"
  },
  "language_info": {
   "codemirror_mode": {
    "name": "ipython",
    "version": 3
   },
   "file_extension": ".py",
   "mimetype": "text/x-python",
   "name": "python",
   "nbconvert_exporter": "python",
   "pygments_lexer": "ipython3",
   "version": "3.10.10"
  }
 },
 "nbformat": 4,
 "nbformat_minor": 2
}
