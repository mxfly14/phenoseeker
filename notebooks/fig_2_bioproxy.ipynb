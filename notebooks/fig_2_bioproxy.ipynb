{
 "cells": [
  {
   "cell_type": "markdown",
   "metadata": {},
   "source": [
    "# Imports "
   ]
  },
  {
   "cell_type": "code",
   "execution_count": null,
   "metadata": {},
   "outputs": [],
   "source": [
    "from pathlib import Path\n",
    "import matplotlib.pyplot as plt\n",
    "import numpy as np\n",
    "from phenoseeker import BioproxyEvaluator\n",
    "import pandas as pd\n"
   ]
  },
  {
   "cell_type": "code",
   "execution_count": null,
   "metadata": {},
   "outputs": [],
   "source": [
    "screens_folders = {\n",
    "      #  \"ChemBL\": Path(\"/projects/synsight/repos/phenospace/bioproxy/screens_data_chembl\"),\n",
    "        \"Curie\": Path(\"/projects/synsight/repos/phenospace/bioproxy/screens_data_curie\"),\n",
    "        \"ChEMBL\": Path(\"/projects/synsight/repos/phenoseeker/data/ChEMBL/assays_csv\"),\n",
    "        \"Lit-PCBA\": Path(\"/projects/synsight/repos/phenoseeker/data/Lit_PCBA/csv_files\"),\n",
    "}"
   ]
  },
  {
   "cell_type": "code",
   "execution_count": null,
   "metadata": {},
   "outputs": [],
   "source": [
    "model = \"openphenom\"\n",
    "base_path = Path(\"/projects/synsight/data/jump_embeddings/compounds_embeddings/\")\n",
    "npy_file = base_path / model / \"Embeddings_norm.npy\"\n",
    "parquet_metadata = base_path / model / Path(\"metadata.parquet\")"
   ]
  },
  {
   "cell_type": "code",
   "execution_count": null,
   "metadata": {},
   "outputs": [],
   "source": [
    "eval = BioproxyEvaluator(parquet_metadata, npy_file, screens_folders, embeddings_name=f'Embeddings_{model}', embeddings_entity='compound')"
   ]
  },
  {
   "cell_type": "code",
   "execution_count": null,
   "metadata": {},
   "outputs": [],
   "source": [
    "eval"
   ]
  },
  {
   "cell_type": "code",
   "execution_count": null,
   "metadata": {},
   "outputs": [],
   "source": [
    "model = \"dinov2_g\"\n",
    "npy_file = base_path / model / \"Embeddings_norm.npy\"\n",
    "parquet_metadata = base_path / model / Path(\"metadata.parquet\")\n",
    "eval.load(embedding_name=f'Embeddings_{model}', embeddings_file=npy_file, metadata_file=parquet_metadata)"
   ]
  },
  {
   "cell_type": "code",
   "execution_count": null,
   "metadata": {},
   "outputs": [],
   "source": [
    "model = \"resnet50\"\n",
    "npy_file = base_path / model / \"Embeddings_norm.npy\"\n",
    "parquet_metadata = base_path / model / Path(\"metadata.parquet\")\n",
    "eval.load(embedding_name=f'Embeddings_{model}', embeddings_file=npy_file, metadata_file=parquet_metadata)"
   ]
  },
  {
   "cell_type": "code",
   "execution_count": null,
   "metadata": {},
   "outputs": [],
   "source": [
    "model = \"chada\"\n",
    "npy_file = base_path / model / \"Embeddings_norm.npy\"\n",
    "parquet_metadata = base_path / model / Path(\"metadata.parquet\")\n",
    "eval.load(embedding_name=f'Embeddings_{model}', embeddings_file=npy_file, metadata_file=parquet_metadata)"
   ]
  },
  {
   "cell_type": "code",
   "execution_count": null,
   "metadata": {},
   "outputs": [],
   "source": [
    "chembl_results_of = eval.compute_enrichment_factors(source='ChEMBL', embeddings_name='Embeddings_openphenom', thresholds=[1, 3, 5, 10])\n",
    "chembl_results_dino = eval.compute_enrichment_factors(source='ChEMBL', embeddings_name='Embeddings_dinov2_g', thresholds=[1, 3, 5, 10])\n",
    "chembl_results_resnet50 = eval.compute_enrichment_factors(source='ChEMBL', embeddings_name='Embeddings_resnet50', thresholds=[1, 3, 5, 10])\n",
    "chembl_results_chada = eval.compute_enrichment_factors(source='ChEMBL', embeddings_name='Embeddings_chada', thresholds=[1, 3, 5, 10])\n"
   ]
  },
  {
   "cell_type": "code",
   "execution_count": null,
   "metadata": {},
   "outputs": [],
   "source": [
    "lit_pcba_results_of = eval.compute_enrichment_factors(source='Lit-PCBA', embeddings_name='Embeddings_openphenom', thresholds=[1, 3, 5, 10])\n",
    "lit_pcba_results_dino = eval.compute_enrichment_factors(source='Lit-PCBA', embeddings_name='Embeddings_dinov2_g', thresholds=[1, 3, 5, 10])\n",
    "lit_pcba_results_resnet50 = eval.compute_enrichment_factors(source='Lit-PCBA', embeddings_name='Embeddings_resnet50', thresholds=[1, 3, 5, 10])\n",
    "lit_pcba_results_chada = eval.compute_enrichment_factors(source='Lit-PCBA', embeddings_name='Embeddings_chada', thresholds=[1, 3, 5, 10])\n"
   ]
  },
  {
   "cell_type": "code",
   "execution_count": null,
   "metadata": {},
   "outputs": [],
   "source": [
    "curie_results_of = eval.compute_enrichment_factors(source='Curie', embeddings_name='Embeddings_openphenom', thresholds=[1, 3, 5, 10])\n",
    "curie_results_dino = eval.compute_enrichment_factors(source='Curie', embeddings_name='Embeddings_dinov2_g', thresholds=[1, 3, 5, 10])\n",
    "curie_results_resnet50 = eval.compute_enrichment_factors(source='Curie', embeddings_name='Embeddings_resnet50', thresholds=[1, 3, 5, 10])\n",
    "curie_results_chada = eval.compute_enrichment_factors(source='Curie', embeddings_name='Embeddings_chada', thresholds=[1, 3, 5, 10])"
   ]
  },
  {
   "cell_type": "markdown",
   "metadata": {},
   "source": [
    "# Plot one model"
   ]
  },
  {
   "cell_type": "code",
   "execution_count": null,
   "metadata": {},
   "outputs": [],
   "source": [
    "import matplotlib.pyplot as plt\n",
    "import numpy as np\n",
    "\n",
    "df = curie_results_dino[curie_results_dino[(\"N Hits\", \"mean\")] > 3]\n",
    "\n",
    "\n",
    "# Récupérer les valeurs uniques de Threshold et les trier si besoin\n",
    "unique_thresholds = sorted(df[(\"Threshold\",)].unique())\n",
    "\n",
    "for thr in unique_thresholds:\n",
    "    # Filtrer les données correspondant au threshold courant\n",
    "    df_thr = df[df[(\"Threshold\",)] == thr]\n",
    "    \n",
    "    # Trier les screens par ordre croissant de Hit Rate Random (mean)\n",
    "    df_thr_sorted = df_thr.sort_values(by=( \"Hit Rate Random\", \"mean\"))\n",
    "    \n",
    "    # Récupérer la liste des screens triés\n",
    "    screens = df_thr_sorted[(\"Screen\",)].tolist()\n",
    "    x = np.arange(len(screens))\n",
    "    width = 0.25  # largeur des barres\n",
    "\n",
    "    # Extraire et multiplier par 100 pour avoir des pourcentages\n",
    "    hit_rate_rand = df_thr_sorted[(\"Hit Rate Random\", \"mean\")].values * 100\n",
    "    hit_rate_sel_mean = df_thr_sorted[(\"Hit Rate Selected\", \"mean\")].values * 100\n",
    "    hit_rate_sel_max = df_thr_sorted[(\"Hit Rate Selected\", \"max\")].values * 100\n",
    "    \n",
    "    # Création du graphique\n",
    "    fig, ax = plt.subplots(figsize=(10, 6))\n",
    "    \n",
    "    # Affichage des barres dans l'ordre : Random, Selected (mean), Selected (max)\n",
    "    ax.bar(x - width, hit_rate_rand, width, label='Hit Rate Random (%)')\n",
    "    ax.bar(x, hit_rate_sel_mean, width, label='Hit Rate Selected (mean) (%)')\n",
    "    ax.bar(x + width, hit_rate_sel_max, width, label='Hit Rate Selected (max) (%)')\n",
    "    \n",
    "    # Personnalisation du graphique\n",
    "    ax.set_xlabel(\"Screen\")\n",
    "    ax.set_ylabel(\"Hit Rate (%)\")\n",
    "    ax.set_title(f\"Hit Rates pour Threshold = {thr}\")\n",
    "    ax.set_xticks(x)\n",
    "    ax.set_xticklabels(screens, rotation=45)\n",
    "    ax.legend()\n",
    "    ax.grid(True)  # Ajout de la grille\n",
    "    plt.tight_layout()\n",
    "    plt.show()\n"
   ]
  },
  {
   "cell_type": "code",
   "execution_count": null,
   "metadata": {},
   "outputs": [],
   "source": [
    "import matplotlib.pyplot as plt\n",
    "import numpy as np\n",
    "\n",
    "# Supposons que votre DataFrame s'appelle df\n",
    "\n",
    "# Récupérer les valeurs uniques de Threshold et les trier si besoin\n",
    "unique_thresholds = sorted(df[(\"Threshold\",)].unique())\n",
    "\n",
    "for thr in unique_thresholds:\n",
    "    # Filtrer les données correspondant au threshold courant\n",
    "    df_thr = df[df[(\"Threshold\",)] == thr]\n",
    "    \n",
    "    # Trier les screens par ordre croissant de EF (mean)\n",
    "    df_thr_sorted = df_thr.sort_values(by=( \"Hit Rate Random\", \"mean\"))\n",
    "    \n",
    "    # Récupérer la liste des screens triés\n",
    "    screens = df_thr_sorted[(\"Screen\",)].tolist()\n",
    "    x = np.arange(len(screens))\n",
    "    width = 0.35  # largeur des barres\n",
    "    \n",
    "    # Extraire les valeurs d'EF\n",
    "    ef_mean = df_thr_sorted[(\"EF\", \"mean\")].values\n",
    "    ef_max = df_thr_sorted[(\"EF\", \"max\")].values\n",
    "    \n",
    "    # Création du graphique\n",
    "    fig, ax = plt.subplots(figsize=(10, 6))\n",
    "    \n",
    "    # Affichage des barres pour EF (mean) et EF (max)\n",
    "    ax.bar(x - width/2, ef_mean, width, label='EF (mean)')\n",
    "    ax.bar(x + width/2, ef_max, width, label='EF (max)')\n",
    "    \n",
    "    # Ajout d'une ligne horizontale rouge en pointillé pour EF = 1\n",
    "    ax.axhline(y=1, color='red', linestyle='--', label='EF = 1')\n",
    "    \n",
    "    # Personnalisation du graphique\n",
    "    ax.set_xlabel(\"Screen\")\n",
    "    ax.set_ylabel(\"Enrichment Factor\")\n",
    "    ax.set_title(f\"Enrichment Factor pour Threshold = {thr}\")\n",
    "    ax.set_xticks(x)\n",
    "    ax.set_xticklabels(screens, rotation=45)\n",
    "    ax.legend()\n",
    "    ax.grid(True)  # Ajout de la grille\n",
    "    plt.tight_layout()\n",
    "    plt.show()\n"
   ]
  },
  {
   "cell_type": "markdown",
   "metadata": {},
   "source": [
    "# Plot all models"
   ]
  },
  {
   "cell_type": "code",
   "execution_count": null,
   "metadata": {},
   "outputs": [],
   "source": [
    "models = {\n",
    "    \"DINOv2\": curie_results_dino,\n",
    "    \"OpenPhenom\": curie_results_of,\n",
    "    \"Resnet50\": curie_results_resnet50,\n",
    "    \"ChAda\": curie_results_chada,\n",
    "}\n",
    "\n",
    "\n",
    "# Use one model as a reference for the random hit rate values.\n",
    "ref_df = models[\"ChAda\"]\n",
    "ref_df = ref_df[ref_df[(\"N Hits\", \"mean\")] > 3]\n"
   ]
  },
  {
   "cell_type": "code",
   "execution_count": null,
   "metadata": {},
   "outputs": [],
   "source": [
    "unique_thr = sorted(ref_df[(\"Threshold\",)].unique())\n",
    "measures = [\"mean\", \"median\", \"max\"]\n",
    "\n",
    "for thr in unique_thr:\n",
    "    # Build a dict with data indexed by Screen for each model\n",
    "    common_screens = None\n",
    "    model_data = {}\n",
    "    for name, df in models.items():\n",
    "        df_thr = df[df[(\"Threshold\",)] == thr].copy()\n",
    "        df_thr = df_thr.set_index((\"Screen\",))\n",
    "        model_data[name] = df_thr\n",
    "        screens = set(df_thr.index)\n",
    "        if common_screens is None:\n",
    "            common_screens = screens\n",
    "        else:\n",
    "            common_screens &= screens\n",
    "    common_screens = sorted(common_screens)\n",
    "\n",
    "    # Count best screens per measure.\n",
    "    # In case of tie, both models get the point.\n",
    "    best_counts = {m: {name: 0 for name in models} for m in measures}\n",
    "    for screen in common_screens:\n",
    "        for m in measures:\n",
    "            best_val = max(\n",
    "                df_thr.loc[screen][(\"Hit Rate Selected\", m)]\n",
    "                for df_thr in model_data.values()\n",
    "            )\n",
    "            for name, df_thr in model_data.items():\n",
    "                val = df_thr.loc[screen][(\"Hit Rate Selected\", m)]\n",
    "                if val == best_val:\n",
    "                    best_counts[m][name] += 1\n",
    "\n",
    "    # Create a grouped bar plot using counts\n",
    "    x = np.arange(len(measures))\n",
    "    bar_width = 0.2\n",
    "    fig, ax = plt.subplots(figsize=(8, 6))\n",
    "    for i, name in enumerate(models):\n",
    "        counts = [best_counts[m][name] for m in measures]\n",
    "        ax.bar(x + i * bar_width, counts, bar_width, label=name)\n",
    "    ax.set_xticks(x + (len(models) - 1) * bar_width / 2)\n",
    "    ax.set_xticklabels(measures)\n",
    "    ax.set_ylabel(\"Number of Screens\")\n",
    "    ax.set_title(f\"Best Model Count at Threshold {thr}\")\n",
    "    ax.legend()\n",
    "    plt.tight_layout()\n",
    "    plt.show()"
   ]
  },
  {
   "cell_type": "code",
   "execution_count": null,
   "metadata": {},
   "outputs": [],
   "source": [
    "\n",
    "\n",
    "for thr in unique_thr:\n",
    "    # Build a dict with data indexed by Screen for each model.\n",
    "    common_screens = None\n",
    "    model_data = {}\n",
    "    for name, df in models.items():\n",
    "        df_thr = df[df[(\"Threshold\",)] == thr].copy()\n",
    "        df_thr = df_thr.set_index((\"Screen\",))\n",
    "        model_data[name] = df_thr\n",
    "        screens = set(df_thr.index)\n",
    "        if common_screens is None:\n",
    "            common_screens = screens\n",
    "        else:\n",
    "            common_screens &= screens\n",
    "    common_screens = sorted(common_screens)\n",
    "\n",
    "    # Count unique wins and tie wins per measure.\n",
    "    best_counts = {m: {name: {\"unique\": 0, \"tie\": 0} \n",
    "                 for name in models} for m in measures}\n",
    "    for screen in common_screens:\n",
    "        for m in measures:\n",
    "            best_val = max(\n",
    "                df_thr.loc[screen][(\"Hit Rate Selected\", m)]\n",
    "                for df_thr in model_data.values()\n",
    "            )\n",
    "            winners = []\n",
    "            for name, df_thr in model_data.items():\n",
    "                val = df_thr.loc[screen][(\"Hit Rate Selected\", m)]\n",
    "                if val == best_val:\n",
    "                    winners.append(name)\n",
    "            if len(winners) == 1:\n",
    "                best_counts[m][winners[0]][\"unique\"] += 1\n",
    "            elif len(winners) > 1:\n",
    "                for name in winners:\n",
    "                    best_counts[m][name][\"tie\"] += 1\n",
    "\n",
    "    # Create a stacked bar plot.\n",
    "    x = np.arange(len(measures))\n",
    "    n_mod = len(models)\n",
    "    bar_width = 0.2\n",
    "    fig, ax = plt.subplots(figsize=(10, 6))\n",
    "    for i, name in enumerate(models):\n",
    "        unique_vals = [best_counts[m][name][\"unique\"] \n",
    "                       for m in measures]\n",
    "        tie_vals = [best_counts[m][name][\"tie\"] \n",
    "                    for m in measures]\n",
    "        pos = x + i * bar_width\n",
    "        ax.bar(pos, unique_vals, bar_width, label=f\"{name} unique\")\n",
    "        ax.bar(pos, tie_vals, bar_width, bottom=unique_vals,\n",
    "               label=f\"{name} tie\", hatch='//', alpha=0.7)\n",
    "    ax.set_xticks(x + (n_mod - 1) * bar_width / 2)\n",
    "    ax.set_xticklabels(measures)\n",
    "    ax.set_ylabel(\"Number of Screens\")\n",
    "    ax.set_title(f\"Best Model Counts at Threshold {thr}\")\n",
    "    ax.legend()\n",
    "    plt.tight_layout()\n",
    "    plt.show()\n"
   ]
  },
  {
   "cell_type": "code",
   "execution_count": null,
   "metadata": {},
   "outputs": [],
   "source": [
    "# Récupérer les seuils uniques triés à partir du DataFrame de référence.\n",
    "unique_thr = sorted(ref_df[(\"Threshold\",)].unique())\n",
    "\n",
    "for thr in unique_thr:\n",
    "    # Filtrer le DataFrame de référence pour le seuil courant\n",
    "    df_ref_thr = ref_df[ref_df[(\"Threshold\",)] == thr].copy()\n",
    "    \n",
    "    # On trie ici selon la colonne 'mean' de \"Hit Rate Random\"\n",
    "    df_ref_thr.sort_values(by=(\"Hit Rate Random\", \"mean\"), inplace=True)\n",
    "    \n",
    "    # Récupération de l'ordre des écrans\n",
    "    screens = df_ref_thr[(\"Screen\",)].tolist()\n",
    "    x = np.arange(len(screens))  # positions de base (indices)\n",
    "    \n",
    "    # Création d'une figure avec 3 sous-graphiques côte à côte\n",
    "    fig, axes = plt.subplots(1, 3, figsize=(18, 6), sharey=True)\n",
    "    \n",
    "    # On veut trois graphiques : mean, median, max\n",
    "    for idx, measure in enumerate([\"mean\", \"median\", \"max\"]):\n",
    "        ax = axes[idx]\n",
    "        \n",
    "        # Nombre total de « groupes » de barres = nombre de modèles + 1 (pour le random)\n",
    "        n_total = len(models) + 1\n",
    "        \n",
    "        # Largeur de chaque barre : on fixe la largeur totale du « groupe » à 0.8\n",
    "        bar_width = 0.8 / n_total\n",
    "        \n",
    "        # Offsets pour centrer le « groupe » de barres sur chaque x\n",
    "        offsets = np.arange(n_total) * bar_width - (0.8 / 2) + (bar_width / 2)\n",
    "        \n",
    "        # 1) Tracer la barre \"random\"\n",
    "        #    (si la colonne correspondante existe, par sécurité)\n",
    "        if (\"Hit Rate Random\", measure) in df_ref_thr.columns:\n",
    "            hit_rand = df_ref_thr[(\"Hit Rate Random\", measure)].values * 100\n",
    "            pos_rand = x + offsets[0]\n",
    "            ax.bar(pos_rand, hit_rand, bar_width,\n",
    "                   label=f\"Hit Rate Random ({measure}) (%)\")\n",
    "        \n",
    "        # 2) Tracer les barres pour chaque modèle\n",
    "        for i, (name, df_mod) in enumerate(models.items(), start=1):\n",
    "            df_mod_thr = df_mod[df_mod[(\"Threshold\",)] == thr].copy()\n",
    "            \n",
    "            # On s'assure que l'ordre des écrans correspond à celui du DF de référence\n",
    "            df_mod_thr = df_mod_thr.set_index((\"Screen\",))\n",
    "            df_mod_thr = df_mod_thr.loc[screens].reset_index()\n",
    "            \n",
    "            if (\"Hit Rate Selected\", measure) in df_mod_thr.columns:\n",
    "                hit_sel = df_mod_thr[(\"Hit Rate Selected\", measure)].values * 100\n",
    "                pos_mod = x + offsets[i]\n",
    "                ax.bar(pos_mod, hit_sel, bar_width,\n",
    "                       label=f\"{name} Selected ({measure}) (%)\")\n",
    "        \n",
    "        ax.set_xlabel(\"Screen\")\n",
    "        ax.set_ylabel(\"Hit Rate (%)\")\n",
    "        ax.set_title(f\"Hit Rates for Threshold = {thr} - {measure.capitalize()}\")\n",
    "        ax.set_xticks(x)\n",
    "        ax.set_xticklabels(screens, rotation=45)\n",
    "        ax.grid(True)\n",
    "        \n",
    "        # Pour éviter la répétition des labels dans la légende,\n",
    "        # on peut afficher la légende uniquement sur le dernier subplot\n",
    "        # ou bien la laisser sur chaque subplot, à votre convenance.\n",
    "        ax.legend()\n",
    "    \n",
    "    plt.tight_layout()\n",
    "    plt.show()\n"
   ]
  },
  {
   "cell_type": "markdown",
   "metadata": {},
   "source": [
    "# One Screen"
   ]
  },
  {
   "cell_type": "code",
   "execution_count": null,
   "metadata": {},
   "outputs": [],
   "source": [
    "df = chembl_results_resnet50"
   ]
  },
  {
   "cell_type": "code",
   "execution_count": null,
   "metadata": {},
   "outputs": [],
   "source": [
    "df[(df['Threshold'] ==5) & (df[('Normalized_EF', 'max')] == 100)].sort_values(by=('Hit Rate Random', 'mean'), ascending=True)"
   ]
  },
  {
   "cell_type": "code",
   "execution_count": null,
   "metadata": {},
   "outputs": [],
   "source": [
    "df[df['Screen']=='CHEMBL3214967_val']"
   ]
  },
  {
   "cell_type": "code",
   "execution_count": null,
   "metadata": {},
   "outputs": [],
   "source": [
    "df_test = eval.screen_embedding_managers['ChEMBL']['CHEMBL3214967_val'].df"
   ]
  },
  {
   "cell_type": "code",
   "execution_count": null,
   "metadata": {},
   "outputs": [],
   "source": [
    "df_test.columns"
   ]
  },
  {
   "cell_type": "code",
   "execution_count": null,
   "metadata": {},
   "outputs": [],
   "source": [
    "df_test[df_test['Metadata_Bioactivity'] == \"hit\"]['Metadata_JCP2022'].tolist()"
   ]
  },
  {
   "cell_type": "code",
   "execution_count": null,
   "metadata": {},
   "outputs": [],
   "source": [
    "df_dino = pd.DataFrame(eval.compute_ranking(source=\"ChEMBL\", screen=\"CHEMBL3214967_val\", embeddings_name=\"Embeddings_resnet50\", JCP2022_id=\"JCP2022_115742\", plot=True))"
   ]
  },
  {
   "cell_type": "code",
   "execution_count": null,
   "metadata": {},
   "outputs": [],
   "source": [
    "df_dino = pd.DataFrame(eval.compute_ranking(source=\"ChEMBL\", screen=\"CHEMBL3214967_val\", embeddings_name=\"Embeddings_dinov2_g\", JCP2022_id=\"JCP2022_115742\", plot=True))"
   ]
  },
  {
   "cell_type": "code",
   "execution_count": null,
   "metadata": {},
   "outputs": [],
   "source": [
    "plt.hist(eval.screen_embedding_managers['ChEMBL']['CHEMBL3214967_val'].distance_matrices[\"cosine_distance_matrix_Embeddings_openphenom\"].flatten(), bins=100, log=True)\n",
    "plt.grid()\n",
    "plt.show()"
   ]
  },
  {
   "cell_type": "code",
   "execution_count": null,
   "metadata": {},
   "outputs": [],
   "source": [
    "plt.hist(eval.screen_embedding_managers['ChEMBL']['CHEMBL3214967_val'].distance_matrices[\"cosine_distance_matrix_Embeddings_chada\"].flatten(), bins=100, log=True)\n",
    "plt.grid()\n",
    "plt.show()"
   ]
  },
  {
   "cell_type": "code",
   "execution_count": null,
   "metadata": {},
   "outputs": [],
   "source": [
    "plt.hist(eval.screen_embedding_managers['ChEMBL']['CHEMBL3214967_val'].distance_matrices['cosine_distance_matrix_Embeddings_dinov2_g'].flatten(), bins=100, log=True)\n",
    "plt.grid()\n",
    "plt.show()"
   ]
  },
  {
   "cell_type": "code",
   "execution_count": null,
   "metadata": {},
   "outputs": [],
   "source": [
    "plt.hist(eval.screen_embedding_managers['ChEMBL']['CHEMBL3214967_val'].distance_matrices[\"cosine_distance_matrix_Embeddings_resnet50\"].flatten(), bins=100, log=True)\n",
    "plt.grid()\n",
    "\n",
    "plt.show()"
   ]
  },
  {
   "cell_type": "code",
   "execution_count": null,
   "metadata": {},
   "outputs": [],
   "source": [
    "df_dino.head(15)"
   ]
  },
  {
   "cell_type": "code",
   "execution_count": null,
   "metadata": {},
   "outputs": [],
   "source": [
    "df.head(15)"
   ]
  },
  {
   "cell_type": "code",
   "execution_count": null,
   "metadata": {},
   "outputs": [],
   "source": [
    "eval.compute_enrichment_factor_for_screen(source=\"ChEMBL\", screen=\"CHEMBL3214967_val\", embeddings_name=\"Embeddings_resnet50\", thresholds=[5])"
   ]
  },
  {
   "cell_type": "markdown",
   "metadata": {},
   "source": [
    "# Clean figures"
   ]
  },
  {
   "cell_type": "code",
   "execution_count": null,
   "metadata": {},
   "outputs": [],
   "source": [
    "import pandas as pd\n",
    "import matplotlib.pyplot as plt\n",
    "import numpy as np\n",
    "\n",
    "# Assuming your DataFrame is named df and already defined\n",
    "threshold_value = 5  # Change as needed\n",
    "\n"
   ]
  },
  {
   "cell_type": "code",
   "execution_count": null,
   "metadata": {},
   "outputs": [],
   "source": [
    "df = chembl_results_dino"
   ]
  },
  {
   "cell_type": "code",
   "execution_count": null,
   "metadata": {},
   "outputs": [],
   "source": [
    "chembl_results_dino"
   ]
  },
  {
   "cell_type": "code",
   "execution_count": null,
   "metadata": {},
   "outputs": [],
   "source": [
    "def plot_EF(df, source,figsize=(10, 5), screen_names=False):\n",
    "\n",
    "    for thr in unique_thresholds:\n",
    "        # Filtrer les données correspondant au threshold courant\n",
    "        df_thr = df[df[(\"Threshold\",)] == thr]\n",
    "        \n",
    "        # Trier les screens par ordre croissant de EF (mean)\n",
    "        df_thr_sorted = df_thr.sort_values(by=( \"Hit Rate Random\", \"mean\"))\n",
    "        \n",
    "        # Récupérer la liste des screens triés\n",
    "        screens = df_thr_sorted[(\"Screen\",)].tolist()\n",
    "        x = np.arange(len(screens))\n",
    "        width = 0.35  # largeur des barres\n",
    "        \n",
    "        # Extraire les valeurs d'EF\n",
    "        ef_mean = df_thr_sorted[(\"EF\", \"mean\")].values\n",
    "        ef_max = df_thr_sorted[(\"EF\", \"max\")].values\n",
    "        # Création du graphique\n",
    "        fig, ax = plt.subplots(figsize=figsize)\n",
    "        \n",
    "        # Affichage des barres pour EF (mean) et EF (max)\n",
    "        ax.bar(x - width/3, ef_mean, width, label='EF (mean)')\n",
    "        ax.bar(x + width/3, ef_max, width, label='EF (max)')\n",
    "        \n",
    "        # Ajout d'une ligne horizontale rouge en pointillé pour EF = 1\n",
    "        ax.axhline(y=1, color='red', linestyle='--', label='EF = 1')\n",
    "        \n",
    "        # Personnalisation du graphique\n",
    "        ax.set_xlabel(\"Screens\")\n",
    "        ax.set_ylabel(\"Enrichment Factor\")\n",
    "        ax.set_title(f\"Enrichment Factor @{thr}% for {source}\")\n",
    "        ax.set_xticks(x)\n",
    "        if screen_names:\n",
    "            ax.set_xticklabels(screens, rotation=45)\n",
    "        else:\n",
    "            ax.set_xticklabels(\"\", rotation=45)\n",
    "        ax.legend()\n",
    "        ax.grid(True)  # Ajout de la grille\n",
    "        plt.tight_layout()\n",
    "        plt.show()\n"
   ]
  },
  {
   "cell_type": "code",
   "execution_count": null,
   "metadata": {},
   "outputs": [],
   "source": [
    "def plot_result_model(df, threshold_value=5, figsize=(20, 10), plot_names=False):\n",
    "    import numpy as np\n",
    "    import matplotlib.pyplot as plt\n",
    "\n",
    "    # Filter the dataframe\n",
    "    df = df[df[(\"N Hits\", \"mean\")] > 3]\n",
    "    df_threshold = df[df[('Threshold', '')] == threshold_value].copy()\n",
    "    df_threshold.sort_values(('Hit Rate Random', 'mean'), inplace=True)\n",
    "\n",
    "    x = np.arange(len(df_threshold))\n",
    "    width = 0.25\n",
    "\n",
    "    # Extract values\n",
    "    baseline = df_threshold[('Hit Rate Random', 'mean')] * 100\n",
    "    mean_enrichment = df_threshold[('Normalized_EF', 'mean')]\n",
    "    max_enrichment = df_threshold[('Normalized_EF', 'max')]\n",
    "\n",
    "    # Colors in order: Purple, Green, Blue\n",
    "    colors = {\n",
    "        'baseline': 'purple',\n",
    "        'mean': 'green',\n",
    "        'max': 'blue'\n",
    "    }\n",
    "\n",
    "    _, ax = plt.subplots(figsize=figsize)\n",
    "\n",
    "    # Plot grouped bars\n",
    "    ax.bar(x - width, baseline, width, color=colors['baseline'],\n",
    "           label='Baseline: Original Selection of Compounds')\n",
    "    ax.bar(x, mean_enrichment, width, color=colors['mean'],\n",
    "           label='Mean Enrichment Achieved by Our Method')\n",
    "    ax.bar(x + width, max_enrichment, width, color=colors['max'],\n",
    "           label='Maximum Enrichment Achieved by Our Method')\n",
    "\n",
    "    # Adapt x-axis tick labels based on the plot_names flag\n",
    "    ax.set_xticks(x)\n",
    "    if plot_names:\n",
    "        # Align labels to the right without rotation\n",
    "        ax.set_xticklabels(df_threshold[('Screen', '')], rotation=0, ha='right')\n",
    "    else:\n",
    "        ax.set_xticklabels(\"\", ha='right')\n",
    "\n",
    "    # Remove axis labels\n",
    "    ax.set_xlabel('')\n",
    "    ax.set_ylabel('')\n",
    "\n",
    "    # Place the legend outside the plot area\n",
    "    ax.legend(bbox_to_anchor=(1.05, 1), loc='upper left', borderaxespad=0.)\n",
    "\n",
    "    # Add grid for better readability\n",
    "    ax.grid(True, which='both', linestyle='--', linewidth=0.5, alpha=0.7)\n",
    "\n",
    "    # Increase the font size of both x and y axis tick labels\n",
    "    ax.tick_params(axis='y', labelsize=20)\n",
    "    ax.tick_params(axis='x', labelsize=20)\n",
    "\n",
    "    plt.tight_layout()\n",
    "    plt.show()\n"
   ]
  },
  {
   "cell_type": "code",
   "execution_count": null,
   "metadata": {},
   "outputs": [],
   "source": [
    "chembl_results_chada"
   ]
  },
  {
   "cell_type": "code",
   "execution_count": null,
   "metadata": {},
   "outputs": [],
   "source": [
    "def plot_result_model(df, threshold_value=5, figsize=(20, 10), plot_names=False):\n",
    "    import numpy as np\n",
    "    import matplotlib.pyplot as plt\n",
    "\n",
    "    # Filter the dataframe\n",
    "    df = df[df[(\"N Hits\", \"mean\")] > 3]\n",
    "    df_threshold = df[df[('Threshold', '')] == threshold_value].copy()\n",
    "    df_threshold.sort_values(('Hit Rate Random', 'mean'), inplace=True)\n",
    "\n",
    "    x = np.arange(len(df_threshold))\n",
    "    width = 0.25\n",
    "\n",
    "    # Extract values\n",
    "    baseline = df_threshold[('Hit Rate Random', 'mean')] * 100\n",
    "    mean_enrichment = df_threshold[('Normalized_EF', 'mean')]\n",
    "    max_enrichment = df_threshold[('Normalized_EF', 'max')]\n",
    "\n",
    "    # Colors in order: Purple, Green, Blue\n",
    "    colors = {\n",
    "        'baseline': 'purple',\n",
    "        'mean': 'green',\n",
    "        'max': 'blue'\n",
    "    }\n",
    "\n",
    "    _, ax = plt.subplots(figsize=figsize)\n",
    "\n",
    "    # Plot grouped bars\n",
    "    ax.bar(x - width, baseline, width, color=colors['baseline'],\n",
    "           label='Baseline: Original Selection of Compounds')\n",
    "    ax.bar(x, mean_enrichment, width, color=colors['mean'],\n",
    "           label='Mean Enrichment Achieved by Our Method')\n",
    "    ax.bar(x + width, max_enrichment, width, color=colors['max'],\n",
    "           label='Maximum Enrichment Achieved by Our Method')\n",
    "\n",
    "    # Adapt x-axis tick labels based on the plot_names flag\n",
    "    ax.set_xticks(x)\n",
    "    if plot_names:\n",
    "        # Align labels to the right without rotation\n",
    "        ax.set_xticklabels(df_threshold[('Screen', '')], rotation=0, ha='right')\n",
    "    else:\n",
    "        ax.set_xticklabels(\"\", ha='right')\n",
    "\n",
    "    # Remove axis labels\n",
    "    ax.set_xlabel('')\n",
    "    ax.set_ylabel('')\n",
    "\n",
    "\n",
    "    # Add grid for better readability\n",
    "    ax.grid(True, which='both', linestyle='--', linewidth=0.5, alpha=0.7)\n",
    "\n",
    "    # Increase the font size of both x and y axis tick labels\n",
    "    ax.tick_params(axis='y', labelsize=20)\n",
    "    ax.tick_params(axis='x', labelsize=20)\n",
    "\n",
    "    plt.tight_layout()\n",
    "    plt.show()"
   ]
  },
  {
   "cell_type": "code",
   "execution_count": null,
   "metadata": {},
   "outputs": [],
   "source": [
    "threshold_value = 1\n",
    "\n",
    "plot_result_model(chembl_results_dino, figsize=(20, 9), threshold_value=threshold_value)\n",
    "plot_result_model(curie_results_dino, figsize=(20, 9), threshold_value=threshold_value)\n",
    "plot_result_model(lit_pcba_results_dino, plot_names=True, figsize=(20, 9), threshold_value=threshold_value)"
   ]
  },
  {
   "cell_type": "code",
   "execution_count": null,
   "metadata": {},
   "outputs": [],
   "source": [
    "threshold_value = 3\n",
    "\n",
    "plot_result_model(chembl_results_dino, figsize=(20, 9), threshold_value=threshold_value)\n",
    "plot_result_model(curie_results_dino, figsize=(20, 9), threshold_value=threshold_value)\n",
    "plot_result_model(lit_pcba_results_dino, plot_names=True, figsize=(20, 9), threshold_value=threshold_value)"
   ]
  },
  {
   "cell_type": "code",
   "execution_count": null,
   "metadata": {},
   "outputs": [],
   "source": [
    "threshold_value = 5\n",
    "\n",
    "plot_result_model(chembl_results_dino, figsize=(20, 9), threshold_value=threshold_value)\n",
    "plot_result_model(curie_results_dino, figsize=(20, 9), threshold_value=threshold_value)\n",
    "plot_result_model(lit_pcba_results_dino, plot_names=True, figsize=(20, 9), threshold_value=threshold_value)"
   ]
  },
  {
   "cell_type": "code",
   "execution_count": null,
   "metadata": {},
   "outputs": [],
   "source": [
    "threshold_value = 10\n",
    "\n",
    "plot_result_model(chembl_results_dino, figsize=(20, 9), threshold_value=threshold_value)\n",
    "plot_result_model(curie_results_dino, figsize=(20, 9), threshold_value=threshold_value)\n",
    "plot_result_model(lit_pcba_results_dino, plot_names=True, figsize=(20, 9), threshold_value=threshold_value)"
   ]
  },
  {
   "cell_type": "code",
   "execution_count": null,
   "metadata": {},
   "outputs": [],
   "source": [
    "plot_EF(chembl_results_dino, \"ChEMBL screens\")"
   ]
  },
  {
   "cell_type": "code",
   "execution_count": null,
   "metadata": {},
   "outputs": [],
   "source": [
    "plot_EF(curie_results_dino, \"Curie screens\")"
   ]
  },
  {
   "cell_type": "code",
   "execution_count": null,
   "metadata": {},
   "outputs": [],
   "source": [
    "\n",
    "lit_pcba_results_dino[lit_pcba_results_dino['Threshold']==5]"
   ]
  },
  {
   "cell_type": "code",
   "execution_count": null,
   "metadata": {},
   "outputs": [],
   "source": [
    "plot_EF(lit_pcba_results_dino, \"Lit-PCBA Targets\", (5,5), True)"
   ]
  }
 ],
 "metadata": {
  "kernelspec": {
   "display_name": "phenoseeker-VFjsjbMc-py3.10",
   "language": "python",
   "name": "python3"
  },
  "language_info": {
   "codemirror_mode": {
    "name": "ipython",
    "version": 3
   },
   "file_extension": ".py",
   "mimetype": "text/x-python",
   "name": "python",
   "nbconvert_exporter": "python",
   "pygments_lexer": "ipython3",
   "version": "3.10.10"
  }
 },
 "nbformat": 4,
 "nbformat_minor": 2
}
