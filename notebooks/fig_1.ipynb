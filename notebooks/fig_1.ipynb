{
 "cells": [
  {
   "cell_type": "code",
   "execution_count": 2,
   "metadata": {},
   "outputs": [],
   "source": [
    "import pandas as pd\n",
    "import matplotlib.pyplot as plt\n",
    "import matplotlib.lines as mlines\n",
    "import matplotlib.patches as mpatches\n",
    "import numpy as np\n",
    "\n"
   ]
  },
  {
   "cell_type": "code",
   "execution_count": 1,
   "metadata": {},
   "outputs": [],
   "source": [
    "path_poscon_openphenom = \"/home/maxime/synrepos/phenoseeker/tmp/openphenom/48_plates_2_combi/results/maps_jcp2022.csv\"\n",
    "path_plates_openphenom = \"/home/maxime/synrepos/phenoseeker/tmp/openphenom/48_plates_2_combi/results/maps_plate.csv\"\n",
    "path_poscon_dinov2_g = \"/home/maxime/synrepos/phenoseeker/tmp/dinov2_g/48_plates_2_combi/results/maps_jcp2022.csv\"\n",
    "path_plates_dinov2_g = \"/home/maxime/synrepos/phenoseeker/tmp/dinov2_g/48_plates_2_combi/results/maps_plate.csv\"\n",
    "path_poscon_dinov2_s = \"/home/maxime/synrepos/phenoseeker/tmp/dinov2_s/48_plates_2_combi/results/maps_jcp2022.csv\"\n",
    "path_plates_dinov2_s = \"/home/maxime/synrepos/phenoseeker/tmp/dinov2_s/48_plates_2_combi/results/maps_plate.csv\"\n",
    "path_poscon_resnet50_mean = \"/home/maxime/synrepos/phenoseeker/tmp/resnet50_mean/48_plates_2_combi/results/maps_jcp2022.csv\"\n",
    "path_plates_resnet50_mean = \"/home/maxime/synrepos/phenoseeker/tmp/resnet50_mean/48_plates_2_combi/results/maps_plate.csv\"\n",
    "path_poscon_resnet50_median = \"/home/maxime/synrepos/phenoseeker/tmp/resnet50_median/48_plates_2_combi/results/maps_jcp2022.csv\"\n",
    "path_plates_resnet50_median = \"/home/maxime/synrepos/phenoseeker/tmp/resnet50_median/48_plates_2_combi/results/maps_plate.csv\"\n",
    "path_poscon_chada = \"/home/maxime/synrepos/phenoseeker/tmp/chada/48_plates_2_combi/results/maps_jcp2022.csv\"\n",
    "path_plates_chada = \"/home/maxime/synrepos/phenoseeker/tmp/chada/48_plates_2_combi/results/maps_plate.csv\""
   ]
  },
  {
   "cell_type": "code",
   "execution_count": 1,
   "metadata": {},
   "outputs": [],
   "source": [
    "path_poscon_openphenom = \"/projects/synsight/repos/phenoseeker/tmp/openphenom/results/maps_jcp2022.csv\"\n",
    "path_plates_openphenom = \"/projects/synsight/repos/phenoseeker/tmp/openphenom/results/maps_plate.csv\"\n",
    "path_poscon_dinov2_g = \"/projects/synsight/repos/phenoseeker/tmp/dinov2_g/48_plates_2_combi/results/maps_jcp2022.csv\"\n",
    "path_plates_dinov2_g = \"/projects/synsight/repos/phenoseeker/tmp/dinov2_g/48_plates_2_combi/results/maps_plate.csv\"\n",
    "path_poscon_chada = \"/projects/synsight/repos/phenoseeker/tmp/chada/48_plates_2_combi/results/maps_jcp2022.csv\"\n",
    "path_plates_chada = \"/projects/synsight/repos/phenoseeker/tmp/chada/48_plates_2_combi/results/maps_plate.csv\""
   ]
  },
  {
   "cell_type": "code",
   "execution_count": 28,
   "metadata": {},
   "outputs": [],
   "source": [
    "#df_poscon = pd.read_csv('/projects/synsight/repos/phenospace/normalisation/experiments/dinov2/test_all_transform_9_plates/results/maps_df_poscon.csv')\n",
    "#df_plates = pd.read_csv('/projects/synsight/repos/phenospace/normalisation/experiments/dinov2/test_all_transform_9_plates/results/maps_df_controls_Plate.csv')\n"
   ]
  },
  {
   "cell_type": "markdown",
   "metadata": {},
   "source": [
    "# Poscon mAP"
   ]
  },
  {
   "cell_type": "code",
   "execution_count": 3,
   "metadata": {},
   "outputs": [],
   "source": [
    "def preprocess(path):\n",
    "    df_raw = pd.read_csv(path)\n",
    "    df_raw.columns = [col.replace('mAP', '').replace('raw_', '').replace('(', '').replace(')', '').replace('raw', 'Raw').strip() for col in df_raw.columns]\n",
    "    df = df_raw.drop(columns=['Number of Queries'])\n",
    "    df = df.set_index('Label').drop(index='Mean mAP').astype(float)\n",
    "    return df.mean()\n"
   ]
  },
  {
   "cell_type": "code",
   "execution_count": 53,
   "metadata": {},
   "outputs": [],
   "source": [
    "def plot_curve_comparison(encoders_dict):\n",
    "    \"\"\"\n",
    "    Plot mAP values for multiple encoders with custom styling.\n",
    "    Highlights specific points for each encoder (No Normalisation, Best Normalisation) with unified colors.\n",
    "\n",
    "    Args:\n",
    "        encoders_dict: Dictionary where keys are encoder names and values are lists containing:\n",
    "                       [poscon_values, batch_effect_values, best_normalisation_index].\n",
    "    \"\"\"\n",
    "    plt.figure(figsize=(14, 8))\n",
    "\n",
    "    # Define marker styles for each encoder\n",
    "    marker_styles = ['o', 's', 'D', '^', 'v', 'P', 'X']  # Extend as needed\n",
    "    unified_no_norm_color = '#D55E00'  # Unified color for \"No Normalisation\"\n",
    "    unified_best_norm_color = '#009E73'  # Unified color for \"Best Normalisation\"\n",
    "    unified_random_color = '#F0E442'  # Unified color for \"Random Values\"\n",
    "\n",
    "    shape_patches = []  # For shape legend\n",
    "\n",
    "    for i, (encoder, values) in enumerate(encoders_dict.items()):\n",
    "        mean_values_1, mean_values_2, best_normalisation_index = values\n",
    "\n",
    "        # Assign unique marker\n",
    "        marker = marker_styles[i % len(marker_styles)]\n",
    "\n",
    "        # General scatter plot with lighter points\n",
    "        plt.scatter(mean_values_2, mean_values_1, \n",
    "                    color=\"grey\", alpha=1, s=20, marker=marker)\n",
    "\n",
    "        # Highlight the first point (No Normalisation)\n",
    "        plt.scatter(mean_values_2['Embeddings_Raw'], mean_values_1['Embeddings_Raw'], \n",
    "                    color=unified_no_norm_color, alpha=1.0, s=100, edgecolor='black', linewidth=1, \n",
    "                    marker=marker)\n",
    "        # Highlight the best normalisation point\n",
    "        plt.scatter(mean_values_2[\"Embeddings Random\"], mean_values_1[\"Embeddings Random\"], \n",
    "                    color=unified_random_color, alpha=1.0, s=100, edgecolor='black', linewidth=1, \n",
    "                    marker=marker)\n",
    "        # Highlight the best normalisation point\n",
    "        plt.scatter(mean_values_2[best_normalisation_index], mean_values_1[best_normalisation_index], \n",
    "                    color=unified_best_norm_color, alpha=1.0, s=100, edgecolor='black', linewidth=1, \n",
    "                    marker=marker)\n",
    "\n",
    "        # Add to shape legend if not already added\n",
    "        if marker not in [line.get_marker() for line in shape_patches]:\n",
    "            shape_patches.append(mlines.Line2D([], [], color='black', marker=marker, linestyle='None', markersize=10, label=f'{encoder}'))\n",
    "\n",
    "\n",
    "    # Add labels\n",
    "    plt.xlabel('mAP - Positive Control Molecules Retrieval', fontsize=14, labelpad=10)\n",
    "    plt.ylabel('mAP - Plates Retrieval', fontsize=14, labelpad=10)\n",
    "\n",
    "    # Refine grid lines\n",
    "    plt.grid(color='gray', linestyle='--', linewidth=0.5, alpha=0.6)\n",
    "\n",
    "    # Customize ticks\n",
    "    plt.xticks(fontsize=12)\n",
    "    plt.yticks(fontsize=12)\n",
    "\n",
    "    # Add legends\n",
    "    color_legend = [\n",
    "        mpatches.Patch(color=unified_no_norm_color, label='No Normalisation'),\n",
    "        mpatches.Patch(color=unified_best_norm_color, label='Best Normalisation')\n",
    "    ]\n",
    "\n",
    "    plt.legend(handles=shape_patches, loc='upper left', bbox_to_anchor=(1.05, 0.5), fontsize=12, title='Shape Legend')\n",
    "\n",
    "    # Tight layout for better use of space and high resolution\n",
    "    plt.tight_layout()\n",
    "    plt.show()\n"
   ]
  },
  {
   "cell_type": "code",
   "execution_count": 26,
   "metadata": {},
   "outputs": [],
   "source": [
    "paths = {\n",
    "    \"poscon_openphenom\": \"/home/maxime/synrepos/phenoseeker/tmp/openphenom/48_plates_2_combi/results/maps_jcp2022.csv\",\n",
    "    \"plates_openphenom\": \"/home/maxime/synrepos/phenoseeker/tmp/openphenom/48_plates_2_combi/results/maps_plate.csv\",\n",
    "    \"poscon_dinov2_g\": \"/home/maxime/synrepos/phenoseeker/tmp/dinov2_g/48_plates_2_combi/results/maps_jcp2022.csv\",\n",
    "    \"plates_dinov2_g\": \"/home/maxime/synrepos/phenoseeker/tmp/dinov2_g/48_plates_2_combi/results/maps_plate.csv\",\n",
    "    \"poscon_dinov2_s\": \"/home/maxime/synrepos/phenoseeker/tmp/dinov2_s/48_plates_2_combi/results/maps_jcp2022.csv\",\n",
    "    \"plates_dinov2_s\": \"/home/maxime/synrepos/phenoseeker/tmp/dinov2_s/48_plates_2_combi/results/maps_plate.csv\",\n",
    "    \"poscon_resnet50_mean\": \"/home/maxime/synrepos/phenoseeker/tmp/resnet50_mean/48_plates_2_combi/results/maps_jcp2022.csv\",\n",
    "    \"plates_resnet50_mean\": \"/home/maxime/synrepos/phenoseeker/tmp/resnet50_mean/48_plates_2_combi/results/maps_plate.csv\",\n",
    "    \"poscon_resnet50_median\": \"/home/maxime/synrepos/phenoseeker/tmp/resnet50_median/48_plates_2_combi/results/maps_jcp2022.csv\",\n",
    "    \"plates_resnet50_median\": \"/home/maxime/synrepos/phenoseeker/tmp/resnet50_median/48_plates_2_combi/results/maps_plate.csv\",\n",
    "    \"poscon_chada\": \"/home/maxime/synrepos/phenoseeker/tmp/chada/48_plates_2_combi/results/maps_jcp2022.csv\",\n",
    "    \"plates_chada\": \"/home/maxime/synrepos/phenoseeker/tmp/chada/48_plates_2_combi/results/maps_plate.csv\"\n",
    "}\n",
    "\n",
    "\n",
    "\n",
    "# Valeurs d'\"Embeddings Random\" associées\n",
    "embeddings_random_values = {\n",
    "    \"poscon_dinov2_g\": 0.125,\n",
    "    \"plates_dinov2_g\": 0.02,\n",
    "    \"poscon_dinov2_s\": 0.125,\n",
    "    \"plates_dinov2_s\": 0.02,\n",
    "    \"poscon_resnet50_mean\": 0.125,\n",
    "    \"plates_resnet50_mean\": 0.02,\n",
    "    \"poscon_resnet50_median\": 0.125,\n",
    "    \"plates_resnet50_median\": 0.02,\n",
    "    \"poscon_chada\": 0.125,\n",
    "    \"plates_chada\": 0.02,\n",
    "    \"poscon_openphenom\": 0.125,\n",
    "    \"plates_openphenom\": 0.02,\n",
    "}\n",
    "\n",
    "# Traitement automatisé\n",
    "processed_data = {}\n",
    "\n",
    "for key, path in paths.items():\n",
    "    df = preprocess(path)\n",
    "    if key in embeddings_random_values:\n",
    "        df['Embeddings Random'] = embeddings_random_values[key]\n",
    "    processed_data[key] = df\n",
    "\n"
   ]
  },
  {
   "cell_type": "code",
   "execution_count": null,
   "metadata": {},
   "outputs": [],
   "source": [
    "processed_data['poscon_resnet50_median']"
   ]
  },
  {
   "cell_type": "code",
   "execution_count": null,
   "metadata": {},
   "outputs": [],
   "source": [
    "encoder = \"chada\"\n",
    "df = pd.concat([processed_data[f'plates_{encoder}'], processed_data[f'poscon_{encoder}']], axis=1)\n",
    "df.columns = ['Batch_effect', 'Poscon']\n",
    "df.sort_values(by=\"Poscon\",ascending=False).head(15)"
   ]
  },
  {
   "cell_type": "code",
   "execution_count": 45,
   "metadata": {},
   "outputs": [],
   "source": [
    "all_encoder = {'Dinov2_g': [ processed_data[\"plates_dinov2_g\"],processed_data[\"poscon_dinov2_g\"],  'Embeddings_Raw__ZCA_N_C__rZMi'], \n",
    "               'Open_Phenom': [ processed_data[\"plates_openphenom\"],processed_data[\"poscon_openphenom\"], 'Embeddings_Raw__rZMi'], \n",
    "               'Dinov2_s': [ processed_data[\"plates_dinov2_s\"],processed_data[\"poscon_dinov2_s\"], 'Embeddings_Raw__ZCA-cor_N_C__rZmi'], \n",
    "               'Resnet50_mean': [ processed_data[\"plates_resnet50_mean\"],processed_data[\"poscon_resnet50_mean\"], 'Embeddings_Raw__ZCA-cor_C__rZMs'], \n",
    "               'Resnet50_median': [ processed_data[\"plates_resnet50_median\"],processed_data[\"poscon_resnet50_median\"], 'Embeddings_Raw__rZMs'], \n",
    "               'ChAda': [ processed_data[\"plates_chada\"],processed_data[\"poscon_chada\"], 'Embeddings_Raw__ZCA_N_C__rZMs']}"
   ]
  },
  {
   "cell_type": "code",
   "execution_count": null,
   "metadata": {},
   "outputs": [],
   "source": [
    "plot_curve_comparison(all_encoder)"
   ]
  },
  {
   "cell_type": "code",
   "execution_count": 1,
   "metadata": {},
   "outputs": [],
   "source": [
    "import pandas as pd"
   ]
  },
  {
   "cell_type": "code",
   "execution_count": null,
   "metadata": {},
   "outputs": [],
   "source": [
    "pd.read_json('/projects/synsight/repos/phenoseeker/scripts/balanced_plates.json')"
   ]
  }
 ],
 "metadata": {
  "kernelspec": {
   "display_name": ".venv",
   "language": "python",
   "name": "python3"
  },
  "language_info": {
   "codemirror_mode": {
    "name": "ipython",
    "version": 3
   },
   "file_extension": ".py",
   "mimetype": "text/x-python",
   "name": "python",
   "nbconvert_exporter": "python",
   "pygments_lexer": "ipython3",
   "version": "3.10.10"
  }
 },
 "nbformat": 4,
 "nbformat_minor": 2
}
