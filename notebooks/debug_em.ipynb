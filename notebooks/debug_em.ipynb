{
 "cells": [
  {
   "cell_type": "code",
   "execution_count": null,
   "metadata": {},
   "outputs": [],
   "source": [
    "from phenoseeker import EmbeddingManager\n",
    "from pathlib import Path\n",
    "embeddings_npy = Path(\"/projects/synsight/data/jump_embeddings/wells_embeddings/openphenom/embeddings_openphenom_test_3_plates.npy\")\n",
    "Metadata_parquet = Path(\"/projects/synsight/data/jump_embeddings/wells_embeddings/openphenom/metadata_openphenom_test_3_plates.parquet\")"
   ]
  },
  {
   "cell_type": "code",
   "execution_count": null,
   "metadata": {},
   "outputs": [],
   "source": [
    "em = EmbeddingManager(Metadata_parquet, entity=\"well\")"
   ]
  },
  {
   "cell_type": "code",
   "execution_count": null,
   "metadata": {},
   "outputs": [],
   "source": [
    "em.load('Embeddings_mean', embeddings_npy)"
   ]
  },
  {
   "cell_type": "markdown",
   "metadata": {},
   "source": [
    "# Done"
   ]
  },
  {
   "cell_type": "code",
   "execution_count": null,
   "metadata": {},
   "outputs": [],
   "source": [
    "\n",
    "\n",
    "output_folder = Path(\"./tmp/test\")\n",
    "output_folder.mkdir(exist_ok=True)\n",
    "em.save_to_folder(folder_path=output_folder, embeddings_name=\"all\")\n",
    "\n",
    "print(f\"Metadata and embeddings saved to {output_folder}\")\n"
   ]
  },
  {
   "cell_type": "code",
   "execution_count": null,
   "metadata": {},
   "outputs": [],
   "source": [
    "\n",
    "# 2. Test Grouping Embeddings by 'Metadata_Well' or 'Metadata_InChI'\n",
    "grouped_em_by_well = em.grouped_embeddings(\n",
    "    group_by=\"compound\",\n",
    "    embeddings_name=\"Embeddings_mean\",\n",
    "    aggregation=\"mean\"\n",
    ")\n",
    "print(f\"Grouped embeddings by well. New instance created with {len(grouped_em_by_well.df)} rows.\")\n"
   ]
  },
  {
   "cell_type": "code",
   "execution_count": null,
   "metadata": {},
   "outputs": [],
   "source": [
    "\n",
    "# 2. Test Grouping Embeddings by 'Metadata_Well' or 'Metadata_InChI'\n",
    "grouped_em_by_well = em.grouped_embeddings(\n",
    "    group_by=\"compound\",\n",
    "    embeddings_name=\"Embeddings_mean\",\n",
    "    aggregation=\"median\"\n",
    ")\n",
    "print(f\"Grouped embeddings by well. New instance created with {len(grouped_em_by_well.df)} rows.\")\n"
   ]
  },
  {
   "cell_type": "code",
   "execution_count": null,
   "metadata": {},
   "outputs": [],
   "source": [
    "\n",
    "# 3. Test Applying Rescale\n",
    "em.apply_rescale(\n",
    "    embeddings_name=\"Embeddings_mean\",\n",
    "    new_embeddings_name=\"Embeddings_rescddaled\",\n",
    "    scale=\"0-1\",\n",
    "    n_jobs=1\n",
    ")\n",
    "print(\"Rescaling applied to 'Embeddings_mean'. Stored as 'Embeddings_rescaled'.\")\n"
   ]
  },
  {
   "cell_type": "code",
   "execution_count": null,
   "metadata": {},
   "outputs": [],
   "source": [
    "\n",
    "# 4. Test Applying Inverse Normal Transform\n",
    "em.apply_inverse_normal_transform(\n",
    "    embeddings_name=\"Embeddings_mean\",\n",
    "    new_embeddings_name=\"Embeddings_INT\",\n",
    "    n_jobs=1\n",
    ")\n",
    "print(\"Inverse normal transformation applied to 'Embeddings_mean'. Stored as 'Embeddings_INT'.\")\n"
   ]
  },
  {
   "cell_type": "code",
   "execution_count": null,
   "metadata": {},
   "outputs": [],
   "source": [
    "\n",
    "# 5. Test Covariance and Correlation Calculation and Plotting\n",
    "em.plot_covariance_and_correlation(\n",
    "    embeddings_name=\"Embeddings_mean\",\n",
    "    by_sample=True,\n",
    "    use_dmso=True,\n",
    "    dmso_only=True,\n",
    "    sort_by='Metadata_Plate'\n",
    ")\n",
    "print(\"Covariance and correlation matrices plotted.\")\n"
   ]
  },
  {
   "cell_type": "code",
   "execution_count": null,
   "metadata": {},
   "outputs": [],
   "source": [
    "\n",
    "# 6. Test Computing Distance Matrix\n",
    "em.compute_distance_matrix(\n",
    "    embedding_name=\"Embeddings_mean\",\n",
    "    distance=\"cosine\",\n",
    "    n_jobs=2    \n",
    ")\n",
    "print(\"Cosine distance matrix computed for 'Embeddings_mean'.\")\n"
   ]
  },
  {
   "cell_type": "code",
   "execution_count": null,
   "metadata": {},
   "outputs": [],
   "source": [
    "\n",
    "# 7. Test LISI Score Computation\n",
    "lisi_scores = em.compute_lisi(\n",
    "    labels_column=\"Metadata_Source\",\n",
    "    embeddings_names=[\"Embeddings_mean\"],\n",
    "    n_neighbors_list=[10, 20, 30],\n",
    "    plot=True\n",
    ")\n",
    "print(\"LISI scores computed:\")\n",
    "print(lisi_scores)\n"
   ]
  },
  {
   "cell_type": "code",
   "execution_count": null,
   "metadata": {},
   "outputs": [],
   "source": [
    "\n",
    "# 8. Test Feature Distribution Testing\n",
    "feature_distribution_test = em.test_feature_distributions(\n",
    "    embedding_name=\"Embeddings_mean\",\n",
    "    continuous_distributions=[\"norm\", \"lognorm\"]\n",
    ")\n",
    "print(\"Feature distribution testing results:\")\n",
    "print(feature_distribution_test)\n"
   ]
  },
  {
   "cell_type": "code",
   "execution_count": null,
   "metadata": {},
   "outputs": [],
   "source": [
    "em.apply_median_polish(\"Embeddings_mean\", n_jobs=2)"
   ]
  },
  {
   "cell_type": "code",
   "execution_count": null,
   "metadata": {},
   "outputs": [],
   "source": [
    "\n",
    "# 9. Test Spherizing\n",
    "em.apply_spherizing_transform(\n",
    "    embeddings_name=\"Embeddings_mean\",\n",
    "    new_embeddings_name=\"Embeddings_spherized\",\n",
    "    method=\"ZCA\",\n",
    "    norm_embeddings=True,\n",
    "    use_control=True,\n",
    "    n_jobs=2,\n",
    ")\n",
    "print(\"Spherizing applied to 'Embeddings_mean'. Stored as 'Embeddings_spherized'.\")\n"
   ]
  },
  {
   "cell_type": "code",
   "execution_count": null,
   "metadata": {},
   "outputs": [],
   "source": [
    "\n",
    "# 10. Test Filtering and Instantiating\n",
    "filtered_em = em.filter_and_instantiate(Metadata_Source=[\"Source_1\", \"Source_2\"])\n",
    "print(f\"Filtered instance created with {len(filtered_em.df)} rows.\")\n"
   ]
  },
  {
   "cell_type": "code",
   "execution_count": null,
   "metadata": {},
   "outputs": [],
   "source": [
    "\n",
    "# 11. Test Removing Features\n",
    "em.remove_features(\n",
    "    embedding_name=\"Embeddings_mean\",\n",
    "    threshold=0.01,\n",
    "    metrics=\"iqrs\"\n",
    ")\n",
    "print(\"Features with low variance removed from 'Embeddings_mean'.\")\n"
   ]
  },
  {
   "cell_type": "code",
   "execution_count": null,
   "metadata": {},
   "outputs": [],
   "source": [
    "\n",
    "# 12. Test Dimensionality Reduction and Plotting\n",
    "em.plot_dimensionality_reduction(\n",
    "    embedding_name=\"Embeddings_mean\",\n",
    "    reduction_method=\"PCA\",\n",
    "    color_by=\"Metadata_Source\",\n",
    "    n_components=2\n",
    ")\n",
    "print(\"PCA dimensionality reduction performed and plotted.\")\n"
   ]
  },
  {
   "cell_type": "markdown",
   "metadata": {},
   "source": [
    "# To do"
   ]
  },
  {
   "cell_type": "code",
   "execution_count": null,
   "metadata": {},
   "outputs": [],
   "source": [
    "em.embeddings.keys()"
   ]
  },
  {
   "cell_type": "code",
   "execution_count": null,
   "metadata": {},
   "outputs": [],
   "source": [
    "\n",
    "# 13. Test Compute Maps\n",
    "maps = em.compute_maps(\n",
    "    labels_column=\"Metadata_Source\",\n",
    "    embeddings_names=['Embeddings_mean', 'Embeddings_spherized', 'Embeddings_MedianPolish'],\n",
    "    distance=\"cosine\",\n",
    "    plot=True,\n",
    "    random_maps=False,\n",
    "    n_jobs=3\n",
    ")\n",
    "print(\"Mean Average Precision (MAP) computed:\")\n",
    "\n",
    "maps\n"
   ]
  },
  {
   "cell_type": "code",
   "execution_count": null,
   "metadata": {},
   "outputs": [],
   "source": [
    "\n",
    "# 13. Test Compute Maps\n",
    "maps = em.compute_maps(\n",
    "    labels_column=\"Metadata_JCP2022\",\n",
    "    embeddings_names=['Embeddings_mean', 'Embeddings_spherized', 'Embeddings_MedianPolish'],\n",
    "    distance=\"cosine\",\n",
    "    plot=True,\n",
    "    random_maps=False,\n",
    "    n_jobs=3\n",
    ")\n",
    "print(\"Mean Average Precision (MAP) computed:\")\n",
    "\n",
    "maps\n"
   ]
  },
  {
   "cell_type": "code",
   "execution_count": null,
   "metadata": {},
   "outputs": [],
   "source": [
    "\n",
    "# 13. Test Compute Maps\n",
    "maps = em.compute_maps(\n",
    "    labels_column=\"Metadata_Source\",\n",
    "    embeddings_names={\"Embeddings_mean\": \"Embeddings_mean\"},\n",
    "    distance=\"euclidean\",\n",
    "    random_maps=True\n",
    ")\n",
    "print(\"Mean Average Precision (MAP) computed:\")\n",
    "print(maps)\n"
   ]
  }
 ],
 "metadata": {
  "kernelspec": {
   "display_name": ".venv",
   "language": "python",
   "name": "python3"
  },
  "language_info": {
   "codemirror_mode": {
    "name": "ipython",
    "version": 3
   },
   "file_extension": ".py",
   "mimetype": "text/x-python",
   "name": "python",
   "nbconvert_exporter": "python",
   "pygments_lexer": "ipython3",
   "version": "3.10.10"
  }
 },
 "nbformat": 4,
 "nbformat_minor": 2
}
