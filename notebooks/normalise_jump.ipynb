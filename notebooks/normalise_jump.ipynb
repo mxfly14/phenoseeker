{
 "cells": [
  {
   "cell_type": "markdown",
   "metadata": {
    "vscode": {
     "languageId": "plaintext"
    }
   },
   "source": [
    "# Import "
   ]
  },
  {
   "cell_type": "code",
   "execution_count": 1,
   "metadata": {},
   "outputs": [],
   "source": [
    "import numpy as np\n",
    "from pathlib import Path\n",
    "from phenoseeker import EmbeddingManager"
   ]
  },
  {
   "cell_type": "code",
   "execution_count": 2,
   "metadata": {},
   "outputs": [],
   "source": [
    "metadata_path = Path('/projects/synsight/data/jump_embeddings/wells_embeddings/openphenom/metadata_openphenom.parquet')\n",
    "embeddings_path = Path('/projects/synsight/data/jump_embeddings/wells_embeddings/openphenom/embeddings_openphenom.npy')"
   ]
  },
  {
   "cell_type": "markdown",
   "metadata": {
    "vscode": {
     "languageId": "plaintext"
    }
   },
   "source": [
    "# Normalise"
   ]
  },
  {
   "cell_type": "code",
   "execution_count": 3,
   "metadata": {},
   "outputs": [],
   "source": [
    "well_em = EmbeddingManager(metadata_path, entity=\"well\")\n",
    "well_em.load(\"Embeddings_Raw\", embeddings_path)"
   ]
  },
  {
   "cell_type": "code",
   "execution_count": 4,
   "metadata": {},
   "outputs": [
    {
     "name": "stderr",
     "output_type": "stream",
     "text": [
      "Normalizing plates with Spherize transformation: 100%|██████████| 1604/1604 [02:41<00:00,  9.95it/s]\n"
     ]
    }
   ],
   "source": [
    "well_em.apply_spherizing_transform('Embeddings_Raw', 'Embeddings__ZCA_C', method='ZCA', norm_embeddings=False, use_control=True, n_jobs=1)"
   ]
  },
  {
   "cell_type": "code",
   "execution_count": null,
   "metadata": {},
   "outputs": [],
   "source": [
    "well_em.apply_inverse_normal_transform('Embeddings__ZCA_C', 'Embeddings__ZCA_C__Int')"
   ]
  },
  {
   "cell_type": "code",
   "execution_count": null,
   "metadata": {},
   "outputs": [],
   "source": [
    "well_em.save_to_folder(Path('/projects/synsight/data/jump_embeddings/wells_embeddings/openphenom/openphenom'), 'Embeddings__ZCA_C__Int')"
   ]
  },
  {
   "cell_type": "code",
   "execution_count": null,
   "metadata": {},
   "outputs": [],
   "source": [
    "compounds_em = well_em.grouped_embeddings(group_by=\"compound\", embeddings_name=\"Embeddings__ZCA_C__Int\", new_embeddings_name=\"Embeddings_norm\", cols_to_keep=['Metadata_JCP2022', 'Metadata_InChI', 'Metadata_Is_dmso']) \n",
    "compounds_em.save_to_folder(Path('/projects/synsight/data/jump_embeddings/compounds_embeddings/openphenom/'))"
   ]
  },
  {
   "cell_type": "markdown",
   "metadata": {},
   "source": [
    "/home/maxime/data/jump_embeddings/dinov2_g/compounds\n",
    "\n",
    "/projects/synsight/data/jump_embeddings/compounds_embeddings"
   ]
  },
  {
   "cell_type": "markdown",
   "metadata": {},
   "source": [
    "# Metrics"
   ]
  },
  {
   "cell_type": "code",
   "execution_count": null,
   "metadata": {},
   "outputs": [],
   "source": [
    "well_em = EmbeddingManager(metadata_path, entity=\"well\")\n",
    "well_em.load(\"Embeddings_norm\", embeddings_path)\n",
    "well_em.embeddings['Embeddings_norm'] = well_em.embeddings['Embeddings_norm'].astype(np.float16)"
   ]
  },
  {
   "cell_type": "code",
   "execution_count": null,
   "metadata": {},
   "outputs": [],
   "source": [
    "poscon_em = well_em.filter_and_instantiate(Metadata_JCP2022=well_em.JCP_ID_poscon)"
   ]
  },
  {
   "cell_type": "code",
   "execution_count": null,
   "metadata": {},
   "outputs": [],
   "source": [
    "maps_source_weighted = poscon_em.compute_maps('Metadata_Source', ['Embeddings__ZCA_C', 'Embeddings__ZCA_C__Int'], weighted=True, random_maps=True)\n",
    "maps_source = poscon_em.compute_maps('Metadata_Source', ['Embeddings__ZCA_C', 'Embeddings__ZCA_C__Int'], weighted=False, random_maps=True)\n",
    "maps_jcp = poscon_em.compute_maps('Metadata_JCP2022', ['Embeddings__ZCA_C', 'Embeddings__ZCA_C__Int'], weighted=False, random_maps=True)\n",
    "maps_plates = poscon_em.compute_maps('Metadata_Plate', ['Embeddings__ZCA_C', 'Embeddings__ZCA_C__Int'], weighted=False, random_maps=True)\n"
   ]
  },
  {
   "cell_type": "code",
   "execution_count": null,
   "metadata": {},
   "outputs": [],
   "source": [
    "maps_source"
   ]
  },
  {
   "cell_type": "code",
   "execution_count": null,
   "metadata": {},
   "outputs": [],
   "source": [
    "maps_jcp"
   ]
  },
  {
   "cell_type": "code",
   "execution_count": null,
   "metadata": {},
   "outputs": [],
   "source": [
    "maps_plates"
   ]
  },
  {
   "cell_type": "code",
   "execution_count": null,
   "metadata": {},
   "outputs": [],
   "source": [
    "maps_source_weighted"
   ]
  }
 ],
 "metadata": {
  "kernelspec": {
   "display_name": ".venv",
   "language": "python",
   "name": "python3"
  },
  "language_info": {
   "codemirror_mode": {
    "name": "ipython",
    "version": 3
   },
   "file_extension": ".py",
   "mimetype": "text/x-python",
   "name": "python",
   "nbconvert_exporter": "python",
   "pygments_lexer": "ipython3",
   "version": "3.10.10"
  }
 },
 "nbformat": 4,
 "nbformat_minor": 2
}
