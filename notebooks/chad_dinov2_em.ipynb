{
 "cells": [
  {
   "cell_type": "markdown",
   "metadata": {},
   "source": [
    "# Import "
   ]
  },
  {
   "cell_type": "code",
   "execution_count": null,
   "metadata": {},
   "outputs": [],
   "source": [
    "from pathlib import Path\n",
    "from phenoseeker import EmbeddingManager\n",
    "import pandas as pd\n"
   ]
  },
  {
   "cell_type": "markdown",
   "metadata": {},
   "source": [
    "# Prepare chad profiles "
   ]
  },
  {
   "cell_type": "code",
   "execution_count": null,
   "metadata": {},
   "outputs": [],
   "source": [
    "base_path = Path(\"/projects/imagesets4/temp_embeds/\")"
   ]
  },
  {
   "cell_type": "code",
   "execution_count": null,
   "metadata": {},
   "outputs": [],
   "source": [
    "! ls /projects/imagesets4/temp_embeds/"
   ]
  },
  {
   "cell_type": "code",
   "execution_count": null,
   "metadata": {},
   "outputs": [],
   "source": [
    "\n",
    "chad_cls_feats = base_path / Path(\"jump_all_images_chad_dinov2s_cls_sm02_w_regs_embeds.npy\")\n",
    "chad_cls_metadata = base_path / Path(\"jump_all_images_images_chad_dinov2s_cls_sm02_w_regs_dataframe.parquet\")\n"
   ]
  },
  {
   "cell_type": "code",
   "execution_count": null,
   "metadata": {},
   "outputs": [],
   "source": [
    "chad_em_img = EmbeddingManager(chad_cls_metadata, entity=\"image\")"
   ]
  },
  {
   "cell_type": "code",
   "execution_count": null,
   "metadata": {},
   "outputs": [],
   "source": [
    "chad_em_img.load(\"chad_cls\", chad_cls_feats)\n"
   ]
  },
  {
   "cell_type": "code",
   "execution_count": null,
   "metadata": {},
   "outputs": [],
   "source": [
    "df_meta = pd.read_parquet(chad_cls_metadata)\n"
   ]
  },
  {
   "cell_type": "code",
   "execution_count": null,
   "metadata": {},
   "outputs": [],
   "source": [
    "df_meta"
   ]
  },
  {
   "cell_type": "code",
   "execution_count": null,
   "metadata": {},
   "outputs": [],
   "source": [
    "chad_em_img.df"
   ]
  },
  {
   "cell_type": "code",
   "execution_count": null,
   "metadata": {},
   "outputs": [],
   "source": [
    "df_meta = pd.read_parquet(chad_cls_metadata)\n",
    "df_all_meta = pd.read_csv('/projects/cpjump1/jump/metadata/complete_metadata.csv')\n"
   ]
  },
  {
   "cell_type": "code",
   "execution_count": null,
   "metadata": {},
   "outputs": [],
   "source": [
    "chad_em_img.df = chad_em_img.df.merge(\n",
    "    df_all_meta,\n",
    "    on=['Metadata_Source', 'Metadata_Batch', 'Metadata_Plate', 'Metadata_Well'],\n",
    "    how='left'\n",
    ")"
   ]
  },
  {
   "cell_type": "code",
   "execution_count": null,
   "metadata": {},
   "outputs": [],
   "source": [
    "df_comp = df_all_meta[df_all_meta['Metadata_PlateType']==\"COMPOUND\"]\n",
    "plates = df_comp['Metadata_Plate'].unique().tolist()"
   ]
  },
  {
   "cell_type": "code",
   "execution_count": null,
   "metadata": {},
   "outputs": [],
   "source": [
    "chad_em_img_comp = chad_em_img.filter_and_instantiate(Metadata_Plate=plates)\n"
   ]
  },
  {
   "cell_type": "code",
   "execution_count": null,
   "metadata": {},
   "outputs": [],
   "source": [
    "chad_em_well = chad_em_img_comp.grouped_embeddings(group_by='well', cols_to_keep=['Metadata_Batch', 'Metadata_JCP2022', 'Metadata_Well', 'Metadata_InChIKey', 'Metadata_InChI'])"
   ]
  },
  {
   "cell_type": "code",
   "execution_count": null,
   "metadata": {},
   "outputs": [],
   "source": [
    "chad_em_well.save_to_folder(Path('/projects/synsight/data/jump_embeddings/wells_embeddings/chad/'))"
   ]
  },
  {
   "cell_type": "code",
   "execution_count": null,
   "metadata": {},
   "outputs": [],
   "source": [
    "plates_with_ctrl = list(chad_em_well.df['Metadata_Plate'].unique())\n",
    "\n",
    "plates_with_ctrl.remove(\"Dest210823-174240\")\n",
    "plates_with_ctrl.remove(\"Dest210628-162003\")\n",
    "plates_with_ctrl.remove(\"Dest210823-174422\")"
   ]
  },
  {
   "cell_type": "code",
   "execution_count": null,
   "metadata": {},
   "outputs": [],
   "source": [
    "chad_em_well = chad_em_well.filter_and_instantiate(Metadata_Plate=plates_with_ctrl)"
   ]
  },
  {
   "cell_type": "code",
   "execution_count": null,
   "metadata": {},
   "outputs": [],
   "source": [
    "\n",
    "for model_name in list(chad_em_well.embeddings):\n",
    "    chad_em_well.apply_spherizing_transform(embeddings_name=f\"{model_name}\", new_embeddings_name=f\"{model_name}_sph\", norm_embeddings=False)\n",
    "    chad_em_well.apply_inverse_normal_transform(embeddings_name=f\"{model_name}_sph\", new_embeddings_name=f\"{model_name}_sph_int\")\n",
    "\n"
   ]
  },
  {
   "cell_type": "code",
   "execution_count": null,
   "metadata": {},
   "outputs": [],
   "source": [
    "chad_em_comp = chad_em_well.grouped_embeddings(group_by='compound', cols_to_keep=['Metadata_JCP2022'])"
   ]
  },
  {
   "cell_type": "code",
   "execution_count": null,
   "metadata": {},
   "outputs": [],
   "source": [
    "compounds_embeddings_path = Path('/projects/synsight/data/jump_embeddings/compounds_embeddings/chad')\n",
    "chad_em_comp.save_to_folder(compounds_embeddings_path, embeddings_name=\"chad_cls\")"
   ]
  },
  {
   "cell_type": "markdown",
   "metadata": {},
   "source": [
    "# QC on controls"
   ]
  },
  {
   "cell_type": "code",
   "execution_count": null,
   "metadata": {},
   "outputs": [],
   "source": [
    "random_plates = chad_em_well.df['Metadata_Plate'].sample(5).to_list()\n",
    "small_chad_em_well = chad_em_well.filter_and_instantiate(Metadata_Plate=random_plates)"
   ]
  },
  {
   "cell_type": "code",
   "execution_count": null,
   "metadata": {},
   "outputs": [],
   "source": [
    "\n",
    "for model_name in ['chad', 'dinov2_s', 'openphenom', 'resnet50', 'chada']:\n",
    "    base_path = Path(f'/projects/synsight/data/jump_embeddings/wells_embeddings/{model_name}')\n",
    "\n",
    "    meta_path_dino = base_path / f'metadata_{model_name}.parquet'\n",
    "    embeddings_path_dino = base_path / f'embeddings_{model_name}.npy'\n",
    "    small_chad_em_well.load(f\"{model_name}\", embeddings_path_dino, meta_path_dino)\n",
    "\n",
    "    small_chad_em_well.apply_spherizing_transform(embeddings_name=f\"{model_name}\", new_embeddings_name=f\"{model_name}_sph\", norm_embeddings=False)\n",
    "    small_chad_em_well.apply_inverse_normal_transform(embeddings_name=f\"{model_name}_sph\", new_embeddings_name=f\"{model_name}_sph_int\")\n",
    "    \n",
    "embeddings_to_test = [emb_name for emb_name in list(small_chad_em_well.embeddings) if \"sph_int\" in emb_name]"
   ]
  },
  {
   "cell_type": "code",
   "execution_count": null,
   "metadata": {},
   "outputs": [],
   "source": [
    "small_chad_em_well_poscon = small_chad_em_well.filter_and_instantiate(Metadata_JCP2022=chad_em_well.JCP_ID_poscon)"
   ]
  },
  {
   "cell_type": "code",
   "execution_count": null,
   "metadata": {},
   "outputs": [],
   "source": [
    "maps_jcp = small_chad_em_well_poscon.compute_maps(labels_column=\"Metadata_JCP2022\", embeddings_names=embeddings_to_test, random_maps=False, plot=True)"
   ]
  },
  {
   "cell_type": "code",
   "execution_count": null,
   "metadata": {},
   "outputs": [],
   "source": [
    "lisi_jcp = small_chad_em_well_poscon.compute_lisi(labels_column=\"Metadata_JCP2022\", embeddings_names=embeddings_to_test, plot=True, n_neighbors_list=[5, 20, 40])"
   ]
  },
  {
   "cell_type": "code",
   "execution_count": null,
   "metadata": {},
   "outputs": [],
   "source": [
    "import matplotlib.pyplot as plt\n",
    "\n",
    "model_columns = ['chad_cls_sph_int',\n",
    " 'dinov2_s_sph_int',\n",
    " 'chada_sph_int']\n",
    "\n",
    "plt.figure(figsize=(10, 6))\n",
    "for col in model_columns:\n",
    "    plt.plot(lisi_jcp.index, lisi_jcp[col], marker='o', label=col)\n",
    "\n",
    "plt.xlabel(\"Index\")\n",
    "plt.ylabel(\"Values\")\n",
    "plt.title(\"Model Values\")\n",
    "\n",
    "# Place the legend outside the plot on the right side\n",
    "plt.legend(bbox_to_anchor=(1.05, 1), loc='upper left')\n",
    "\n",
    "plt.tight_layout()  # Adjust layout so nothing is cut off\n",
    "plt.show()\n",
    "\n"
   ]
  },
  {
   "cell_type": "code",
   "execution_count": null,
   "metadata": {},
   "outputs": [],
   "source": [
    "small_chad_em_well_poscon.embeddings.keys()"
   ]
  },
  {
   "cell_type": "code",
   "execution_count": null,
   "metadata": {},
   "outputs": [],
   "source": [
    "small_chad_em_well_poscon.plot_dimensionality_reduction(embedding_name='resnet50', color_by='Metadata_JCP2022', reduction_method='UMAP')"
   ]
  }
 ],
 "metadata": {
  "kernelspec": {
   "display_name": ".venv",
   "language": "python",
   "name": "python3"
  },
  "language_info": {
   "codemirror_mode": {
    "name": "ipython",
    "version": 3
   },
   "file_extension": ".py",
   "mimetype": "text/x-python",
   "name": "python",
   "nbconvert_exporter": "python",
   "pygments_lexer": "ipython3",
   "version": "3.10.10"
  }
 },
 "nbformat": 4,
 "nbformat_minor": 2
}
