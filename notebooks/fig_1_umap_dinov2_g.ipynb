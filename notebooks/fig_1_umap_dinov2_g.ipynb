{
 "cells": [
  {
   "cell_type": "markdown",
   "metadata": {
    "vscode": {
     "languageId": "plaintext"
    }
   },
   "source": [
    "# Imports "
   ]
  },
  {
   "cell_type": "code",
   "execution_count": null,
   "metadata": {},
   "outputs": [],
   "source": [
    "from pathlib import Path\n",
    "from phenoseeker import EmbeddingManager\n",
    "import matplotlib.pyplot as plt\n",
    "import umap\n",
    "import matplotlib.patches as mpatches\n",
    "from matplotlib.lines import Line2D\n",
    "import pandas as pd\n"
   ]
  },
  {
   "cell_type": "code",
   "execution_count": null,
   "metadata": {},
   "outputs": [],
   "source": [
    "embeddings_path = Path('/home/maxime/data/jump_embeddings/embeddings_dinov2_g.npy')\n",
    "metadata_path = Path('/home/maxime/data/jump_embeddings/metadata_dinov2_g.parquet')"
   ]
  },
  {
   "cell_type": "code",
   "execution_count": 5,
   "metadata": {},
   "outputs": [],
   "source": [
    "selected_plates = [#'UL000585',\n",
    " #'UL001773',\n",
    " #'GR00004405',\n",
    " #'UL000097',\n",
    " #'GR00003344',\n",
    " #'GR00003285',\n",
    " '1086292853',\n",
    " 'EC000134',\n",
    " 'B40703bW',\n",
    " 'EC000065',\n",
    " 'BR5873d3W',\n",
    " 'J12424d',\n",
    " '1086291931',\n",
    " 'EC000071',\n",
    " '110000296323',\n",
    " 'AEOJUM504',\n",
    " '110000295571',\n",
    " '110000297103',\n",
    " #'1086293027',\n",
    " 'A1170530',\n",
    " 'Dest210726-161624',\n",
    " 'Dest210809-135330',\n",
    " 'A1170468',\n",
    " 'A1170419',\n",
    " 'APTJUM208',\n",
    " 'Dest210823-180708',\n",
    " 'AEOJUM902']"
   ]
  },
  {
   "cell_type": "code",
   "execution_count": 5,
   "metadata": {},
   "outputs": [],
   "source": [
    "selected_plates = pd.read_json(\n",
    "            \"/home/maxime/synrepos/phenoseeker/scripts/balanced_plates_51_lab.json\"\n",
    "        )[\"Metadata_Plate\"].to_list()"
   ]
  },
  {
   "cell_type": "code",
   "execution_count": 6,
   "metadata": {},
   "outputs": [],
   "source": [
    "def plot_umap(embeddings, df, color_by_source=True, shape_by_JCP_id=True):\n",
    "    \"\"\"\n",
    "    Plot a UMAP projection of the embeddings with optional coloring and shaping.\n",
    "    \n",
    "    Parameters:\n",
    "    -----------\n",
    "    embeddings : numpy.ndarray\n",
    "        Array of shape (n_samples, n_features) containing the embeddings.\n",
    "    df : pandas.DataFrame\n",
    "        DataFrame containing at least the following columns:\n",
    "          - If shape_by_JCP_id is True: 'Metadata_JCP2022'\n",
    "          - If color_by_source is True: 'Metadata_Source'\n",
    "    color_by_source : bool, optional (default True)\n",
    "        If True, each point is colored according to its value in 'Metadata_Source' (7 distinct colors).\n",
    "    shape_by_JCP_id : bool, optional (default True)\n",
    "        If True, each point is drawn with a marker shape according to its value in 'Metadata_JCP2022' (8 distinct shapes).\n",
    "    \"\"\"\n",
    "    import matplotlib.pyplot as plt\n",
    "    import umap\n",
    "    import matplotlib.patches as mpatches\n",
    "    from matplotlib.lines import Line2D\n",
    "\n",
    "    # --- Réduction de dimension avec UMAP ---\n",
    "    reducer = umap.UMAP(n_components=2, random_state=42)\n",
    "    embedding_2d = reducer.fit_transform(embeddings)\n",
    "    df['UMAP1'] = embedding_2d[:, 0]\n",
    "    df['UMAP2'] = embedding_2d[:, 1]\n",
    "    \n",
    "    # Création de la figure et de l'axe\n",
    "    fig, ax = plt.subplots(figsize=(12, 10))\n",
    "    \n",
    "    # Préparation des marqueurs si shape_by_JCP_id est activé\n",
    "    if shape_by_JCP_id:\n",
    "        jcp_groups = sorted(df['Metadata_JCP2022'].unique())\n",
    "        markers = ['o', 's', '^', 'v', 'D', 'P', 'X', '*']\n",
    "        marker_dict = {group: markers[i % len(markers)] for i, group in enumerate(jcp_groups)}\n",
    "    else:\n",
    "        marker_dict = None\n",
    "\n",
    "    # Préparation des couleurs si color_by_source est activé\n",
    "    if color_by_source:\n",
    "        source_groups = sorted(df['Metadata_Source'].unique())\n",
    "        cmap_source = plt.get_cmap('tab10')\n",
    "        source_colors = {source: cmap_source(i) for i, source in enumerate(source_groups)}\n",
    "    else:\n",
    "        source_colors = None\n",
    "\n",
    "    # --- Tracé des points ---\n",
    "    if shape_by_JCP_id and color_by_source:\n",
    "        for group in jcp_groups:\n",
    "            subset = df[df['Metadata_JCP2022'] == group]\n",
    "            ax.scatter(\n",
    "                subset['UMAP1'],\n",
    "                subset['UMAP2'],\n",
    "                marker=marker_dict[group],\n",
    "                c=subset['Metadata_Source'].map(source_colors),\n",
    "                edgecolor='k',\n",
    "                s=100,\n",
    "                alpha=0.8,\n",
    "                label=str(group)\n",
    "            )\n",
    "    elif shape_by_JCP_id and not color_by_source:\n",
    "        for group in jcp_groups:\n",
    "            subset = df[df['Metadata_JCP2022'] == group]\n",
    "            ax.scatter(\n",
    "                subset['UMAP1'],\n",
    "                subset['UMAP2'],\n",
    "                marker=marker_dict[group],\n",
    "                color=\"blue\",\n",
    "                edgecolor='k',\n",
    "                s=100,\n",
    "                alpha=0.8,\n",
    "                label=str(group)\n",
    "            )\n",
    "    elif not shape_by_JCP_id and color_by_source:\n",
    "        for source in source_groups:\n",
    "            subset = df[df['Metadata_Source'] == source]\n",
    "            ax.scatter(\n",
    "                subset['UMAP1'],\n",
    "                subset['UMAP2'],\n",
    "                marker=\"o\",\n",
    "                color=source_colors[source],\n",
    "                edgecolor='k',\n",
    "                s=100,\n",
    "                alpha=0.8,\n",
    "                label=str(source)\n",
    "            )\n",
    "    else:\n",
    "        ax.scatter(\n",
    "            df['UMAP1'],\n",
    "            df['UMAP2'],\n",
    "            marker=\"o\",\n",
    "            color=\"blue\",\n",
    "            edgecolor='k',\n",
    "            s=100,\n",
    "            alpha=0.8\n",
    "        )\n",
    "\n",
    "    # --- Personnalisation du graphique ---\n",
    "    ax.set_xlabel(\"UMAP1\", fontsize=16)\n",
    "    ax.set_ylabel(\"UMAP2\", fontsize=16)\n",
    "    ax.set_title(\"UMAP Projection of Embeddings\", fontsize=18)\n",
    "    ax.grid(True, linestyle='--', alpha=0.5)\n",
    "    # Augmenter la taille des labels des axes\n",
    "    ax.tick_params(axis='both', labelsize=14)\n",
    "    \n",
    "    # Fonction auxiliaire pour formater les labels de source\n",
    "    def format_lab_label(label):\n",
    "        parts = label.split('_')\n",
    "        if len(parts) > 1 and parts[1].isdigit():\n",
    "            return \"Laboratory \" + parts[1].zfill(2)\n",
    "        else:\n",
    "            return label\n",
    "\n",
    "    # Création des légendes à l'extérieur du plot (à droite)\n",
    "    if shape_by_JCP_id and color_by_source:\n",
    "        # Légende pour les formes (Metadata_JCP2022)\n",
    "        handles_shape = [\n",
    "            Line2D([0], [0], marker=marker_dict[group], color='w',\n",
    "                   markerfacecolor='gray', markersize=10, markeredgecolor='k')\n",
    "            for group in jcp_groups\n",
    "        ]\n",
    "        legend_shape = ax.legend(\n",
    "            handles=handles_shape, labels=jcp_groups,\n",
    "            title=\"Metadata_JCP2022\", fontsize=12, title_fontsize=14,\n",
    "            bbox_to_anchor=(1.05, 1), loc=\"upper left\"\n",
    "        )\n",
    "        ax.add_artist(legend_shape)\n",
    "        # Légende pour les couleurs (Metadata_Source) avec les labels formatés\n",
    "        handles_color = [\n",
    "            mpatches.Patch(color=source_colors[source], label=format_lab_label(source))\n",
    "            for source in source_groups\n",
    "        ]\n",
    "        legend_color = ax.legend(\n",
    "            handles=handles_color,\n",
    "            title=\"Metadata_Source\", fontsize=12, title_fontsize=14,\n",
    "            bbox_to_anchor=(1.05, 0.5), loc=\"upper left\"\n",
    "        )\n",
    "    elif shape_by_JCP_id and not color_by_source:\n",
    "        handles_shape = [\n",
    "            Line2D([0], [0], marker=marker_dict[group], color='w',\n",
    "                   markerfacecolor='gray', markersize=10, markeredgecolor='k')\n",
    "            for group in jcp_groups\n",
    "        ]\n",
    "        legend_shape = ax.legend(\n",
    "            handles=handles_shape, labels=jcp_groups,\n",
    "            title=\"Metadata_JCP2022\", fontsize=12, title_fontsize=14,\n",
    "            bbox_to_anchor=(1.05, 1), loc=\"upper left\"\n",
    "        )\n",
    "    elif not shape_by_JCP_id and color_by_source:\n",
    "        handles_color = [\n",
    "            mpatches.Patch(color=source_colors[source], label=format_lab_label(source))\n",
    "            for source in source_groups\n",
    "        ]\n",
    "        legend_color = ax.legend(\n",
    "            handles=handles_color,\n",
    "            title=\"Metadata_Source\", fontsize=12, title_fontsize=14,\n",
    "            bbox_to_anchor=(1.05, 1), loc=\"upper left\"\n",
    "        )\n",
    "    \n",
    "    fig.subplots_adjust(right=0.75)\n",
    "    plt.tight_layout()\n",
    "    plt.show()\n"
   ]
  },
  {
   "cell_type": "markdown",
   "metadata": {},
   "source": [
    "# Load and preprocess"
   ]
  },
  {
   "cell_type": "code",
   "execution_count": 7,
   "metadata": {},
   "outputs": [],
   "source": [
    "well_em = EmbeddingManager(metadata_path, entity=\"well\")\n",
    "well_em.load(\"Embeddings_Raw\", embeddings_path)"
   ]
  },
  {
   "cell_type": "code",
   "execution_count": 8,
   "metadata": {},
   "outputs": [],
   "source": [
    "selected_em = well_em.filter_and_instantiate(Metadata_Plate=selected_plates)\n",
    "controls_em = selected_em.filter_and_instantiate(Metadata_JCP2022=well_em.JCP_ID_controls)"
   ]
  },
  {
   "cell_type": "code",
   "execution_count": null,
   "metadata": {},
   "outputs": [],
   "source": [
    "controls_em.df['Metadata_Plate'].nunique()"
   ]
  },
  {
   "cell_type": "code",
   "execution_count": null,
   "metadata": {},
   "outputs": [],
   "source": [
    "controls_em.compute_maps('Metadata_Plate', ['Embeddings_Raw'], random_maps=True)"
   ]
  },
  {
   "cell_type": "code",
   "execution_count": null,
   "metadata": {},
   "outputs": [],
   "source": [
    "controls_em.compute_maps('Metadata_Source', ['Embeddings_Raw'], random_maps=True)"
   ]
  },
  {
   "cell_type": "code",
   "execution_count": null,
   "metadata": {},
   "outputs": [],
   "source": [
    "poscon_em  = controls_em.filter_and_instantiate(Metadata_JCP2022=controls_em.JCP_ID_poscon)\n",
    "poscon_em.compute_maps('Metadata_JCP2022', ['Embeddings_Raw'], random_maps=True)"
   ]
  },
  {
   "cell_type": "markdown",
   "metadata": {},
   "source": [
    "# Normalise"
   ]
  },
  {
   "cell_type": "code",
   "execution_count": null,
   "metadata": {},
   "outputs": [],
   "source": [
    "poscon_em  = controls_em.filter_and_instantiate(Metadata_JCP2022=controls_em.JCP_ID_poscon)\n",
    "df = poscon_em.df\n",
    "embeddings = poscon_em.embeddings['Embeddings_Raw']\n",
    "\n",
    "plot_umap(embeddings, df, shape_by_JCP_id=True)"
   ]
  },
  {
   "cell_type": "code",
   "execution_count": null,
   "metadata": {},
   "outputs": [],
   "source": [
    "controls_em.apply_spherizing_transform('Embeddings_Raw', 'Embeddings_Raw_ZCA_N_C', \"ZCA\", True, True)"
   ]
  },
  {
   "cell_type": "code",
   "execution_count": null,
   "metadata": {},
   "outputs": [],
   "source": [
    "poscon_em  = controls_em.filter_and_instantiate(Metadata_JCP2022=controls_em.JCP_ID_poscon)\n",
    "df = poscon_em.df\n",
    "embeddings = poscon_em.embeddings['Embeddings_Raw_ZCA_N_C']\n",
    "\n",
    "plot_umap(embeddings, df, shape_by_JCP_id=True)"
   ]
  },
  {
   "cell_type": "code",
   "execution_count": null,
   "metadata": {},
   "outputs": [],
   "source": [
    "controls_em.apply_robust_Z_score('Embeddings_Raw', 'Embeddings_rZMi_C', True, 'mean', 'iqrs')\n",
    "controls_em.apply_spherizing_transform('Embeddings_rZMi_C', 'Embeddings_rZMi_C__ZCA-cor_N_C', \"ZCA-cor\", True, True)\n",
    "controls_em.apply_inverse_normal_transform('Embeddings_rZMi_C__ZCA-cor_N_C', 'Embeddings_rZMi_C__ZCA-cor_N_C__Int')"
   ]
  },
  {
   "cell_type": "code",
   "execution_count": null,
   "metadata": {},
   "outputs": [],
   "source": [
    "poscon_em  = controls_em.filter_and_instantiate(Metadata_JCP2022=controls_em.JCP_ID_poscon)\n",
    "df = poscon_em.df\n",
    "embeddings = poscon_em.embeddings['Embeddings_rZMi_C__ZCA-cor_N_C__Int']\n",
    "\n",
    "plot_umap(embeddings, df, shape_by_JCP_id=True)"
   ]
  },
  {
   "cell_type": "code",
   "execution_count": null,
   "metadata": {},
   "outputs": [],
   "source": [
    "controls_em.apply_robust_Z_score('Embeddings_Raw', 'Embeddings_rZMi_C', True, 'mean', 'iqrs')\n",
    "controls_em.apply_spherizing_transform('Embeddings_Raw', 'Embeddings__ZCA_C', \"ZCA\", False, True)\n",
    "controls_em.apply_inverse_normal_transform('Embeddings__ZCA_C', 'Embeddings__ZCA_C__Int')"
   ]
  },
  {
   "cell_type": "code",
   "execution_count": null,
   "metadata": {},
   "outputs": [],
   "source": [
    "poscon_em  = controls_em.filter_and_instantiate(Metadata_JCP2022=controls_em.JCP_ID_poscon)\n",
    "df = poscon_em.df\n",
    "embeddings = poscon_em.embeddings['Embeddings__ZCA_C__Int']\n",
    "\n",
    "plot_umap(embeddings, df, shape_by_JCP_id=True)"
   ]
  },
  {
   "cell_type": "code",
   "execution_count": null,
   "metadata": {},
   "outputs": [],
   "source": [
    "controls_em.apply_robust_Z_score('Embeddings_Raw', 'Embeddings_rZMi_C', True, 'mean', 'iqrs')\n",
    "controls_em.apply_spherizing_transform('Embeddings_Raw', 'Embeddings_Raw__ZCA_N_C', \"ZCA\", True, True)\n",
    "controls_em.apply_inverse_normal_transform('Embeddings_Raw__ZCA_N_C', 'Embeddings_Raw__ZCA_N_C__Int')"
   ]
  },
  {
   "cell_type": "code",
   "execution_count": null,
   "metadata": {},
   "outputs": [],
   "source": [
    "poscon_em  = controls_em.filter_and_instantiate(Metadata_JCP2022=controls_em.JCP_ID_poscon)\n",
    "df = poscon_em.df\n",
    "embeddings = poscon_em.embeddings['Embeddings_Raw__ZCA_N_C']\n",
    "\n",
    "plot_umap(embeddings, df, shape_by_JCP_id=True)"
   ]
  },
  {
   "cell_type": "code",
   "execution_count": null,
   "metadata": {},
   "outputs": [],
   "source": [
    "controls_em.apply_robust_Z_score('Embeddings_Raw', 'Embeddings_rZMi_C', True, 'mean', 'iqrs')\n",
    "controls_em.apply_spherizing_transform('Embeddings_Raw', 'Embeddings__ZCA_C', \"ZCA\", False, True)\n",
    "controls_em.apply_inverse_normal_transform('Embeddings__ZCA_C', 'Embeddings__ZCA_C__Int')"
   ]
  },
  {
   "cell_type": "code",
   "execution_count": null,
   "metadata": {},
   "outputs": [],
   "source": [
    "poscon_em  = controls_em.filter_and_instantiate(Metadata_JCP2022=controls_em.JCP_ID_poscon)\n",
    "df = poscon_em.df\n",
    "embeddings = poscon_em.embeddings['Embeddings__ZCA_C__Int']\n",
    "\n",
    "plot_umap(embeddings, df, shape_by_JCP_id=True)"
   ]
  }
 ],
 "metadata": {
  "kernelspec": {
   "display_name": "phenoseeker-VFjsjbMc-py3.10",
   "language": "python",
   "name": "python3"
  },
  "language_info": {
   "codemirror_mode": {
    "name": "ipython",
    "version": 3
   },
   "file_extension": ".py",
   "mimetype": "text/x-python",
   "name": "python",
   "nbconvert_exporter": "python",
   "pygments_lexer": "ipython3",
   "version": "3.10.10"
  }
 },
 "nbformat": 4,
 "nbformat_minor": 2
}
