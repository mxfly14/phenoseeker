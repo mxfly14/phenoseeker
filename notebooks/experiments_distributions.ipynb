{
 "cells": [
  {
   "cell_type": "markdown",
   "metadata": {},
   "source": [
    "# Import and sandbox"
   ]
  },
  {
   "cell_type": "code",
   "execution_count": 1,
   "metadata": {},
   "outputs": [],
   "source": [
    "import numpy as np\n",
    "import pandas as pd\n",
    "from tqdm import tqdm\n",
    "import matplotlib.pyplot as plt\n",
    "import itertools\n",
    "import torch\n",
    "import yaml"
   ]
  },
  {
   "cell_type": "code",
   "execution_count": 2,
   "metadata": {},
   "outputs": [],
   "source": [
    "df = pd.read_parquet(\"/projects/cpjump1/jump/images_embeddings/resnet50_raw/metadata/load_wells/df_meta_raw_well.parquet\")"
   ]
  },
  {
   "cell_type": "code",
   "execution_count": null,
   "metadata": {},
   "outputs": [],
   "source": [
    "plates = df['Metadata_Plate'].unique()\n",
    "for plate in tqdm(plates):\n",
    "    df_plate= df[(df['Metadata_Plate']==plate) & (df['Metadata_JCP2022']=='JCP2022_033924')]\n",
    "    if len(df_plate) == 0:\n",
    "        print(plate)"
   ]
  },
  {
   "cell_type": "code",
   "execution_count": null,
   "metadata": {},
   "outputs": [],
   "source": [
    "\n",
    "df['Metadata_JCP2022'].value_counts()"
   ]
  },
  {
   "cell_type": "code",
   "execution_count": 5,
   "metadata": {},
   "outputs": [],
   "source": [
    "df['path_embedding'] = df['Well_Embedding_mean']"
   ]
  },
  {
   "cell_type": "code",
   "execution_count": 6,
   "metadata": {},
   "outputs": [],
   "source": [
    "df.to_parquet(\"/home/maxime/synrepos/phenospace/jump_pl/images_embeddings/ResNet50/metadata/load_wells/load_wells.parquet\", index=False)"
   ]
  },
  {
   "cell_type": "code",
   "execution_count": null,
   "metadata": {},
   "outputs": [],
   "source": [
    "# Ensure no data is lost during grouping and unstacking\n",
    "plate_count_per_batch = (\n",
    "    df.groupby([\"Metadata_Batch\", \"Metadata_Source\"])[\"Metadata_Plate\"]\n",
    "    .nunique()\n",
    "    .unstack(fill_value=0)  # Fill missing combinations with 0\n",
    ")\n",
    "\n",
    "# Plot with larger figure size and improved visibility\n",
    "plt.figure(figsize=(20, 12))  # Further increase figure size\n",
    "plate_count_per_batch.plot(kind='bar', stacked=False, edgecolor=None, width=0.8)\n",
    "\n",
    "# Set title and y-axis label\n",
    "plt.title(\"Number of Plates per Batch\", fontsize=16)\n",
    "plt.ylabel(\"Number of Plates\", fontsize=14)\n",
    "\n",
    "# Remove x-axis tick labels for a cleaner view\n",
    "plt.gca().set_xticklabels([])\n",
    "\n",
    "# Add grid lines for the y-axis\n",
    "plt.grid(axis='y', linestyle='--', alpha=0.7)\n",
    "\n",
    "# Adjust layout for better spacing\n",
    "plt.tight_layout()\n",
    "\n",
    "# Show the plot\n",
    "plt.show()\n"
   ]
  },
  {
   "cell_type": "code",
   "execution_count": null,
   "metadata": {},
   "outputs": [],
   "source": [
    "# Count the number of unique batches per source\n",
    "batch_count_per_source = df.groupby(\"Metadata_Source\")[\"Metadata_Batch\"].nunique()\n",
    "\n",
    "# Plot the data\n",
    "plt.figure(figsize=(10, 6))  # Set figure size\n",
    "batch_count_per_source.plot(kind=\"bar\", color=\"skyblue\", edgecolor=\"black\")\n",
    "\n",
    "# Add titles and labels\n",
    "plt.title(\"Number of Batches per Source\", fontsize=16)\n",
    "plt.xlabel(\"Source\", fontsize=14)\n",
    "plt.ylabel(\"Number of Batches\", fontsize=14)\n",
    "\n",
    "# Rotate x-axis labels for better readability\n",
    "plt.xticks(rotation=45, fontsize=12)\n",
    "\n",
    "# Add grid lines for y-axis\n",
    "plt.grid(axis=\"y\", linestyle=\"--\", alpha=0.7)\n",
    "\n",
    "# Adjust layout to avoid overlap\n",
    "plt.tight_layout()\n",
    "\n",
    "# Show the plot\n",
    "plt.show()\n"
   ]
  },
  {
   "cell_type": "code",
   "execution_count": null,
   "metadata": {},
   "outputs": [],
   "source": [
    "# Count the number of unique batches per source\n",
    "batch_count_per_source = df.groupby(\"Metadata_Source\")[\"Metadata_Plate\"].nunique()\n",
    "\n",
    "# Plot the data\n",
    "plt.figure(figsize=(10, 6))  # Set figure size\n",
    "batch_count_per_source.plot(kind=\"bar\", color=\"skyblue\", edgecolor=\"black\")\n",
    "\n",
    "# Add titles and labels\n",
    "plt.title(\"Number of Plates per Source\", fontsize=16)\n",
    "plt.xlabel(\"Source\", fontsize=14)\n",
    "plt.ylabel(\"Number of Plates\", fontsize=14)\n",
    "\n",
    "# Rotate x-axis labels for better readability\n",
    "plt.xticks(rotation=45, fontsize=12)\n",
    "\n",
    "# Add grid lines for y-axis\n",
    "plt.grid(axis=\"y\", linestyle=\"--\", alpha=0.7)\n",
    "\n",
    "# Adjust layout to avoid overlap\n",
    "plt.tight_layout()\n",
    "\n",
    "# Show the plot\n",
    "plt.show()\n"
   ]
  },
  {
   "cell_type": "code",
   "execution_count": null,
   "metadata": {},
   "outputs": [],
   "source": [
    "# Count the number of unique batches per source\n",
    "batch_count_per_source = df.groupby(\"Metadata_Source\")[\"Metadata_Well\"].count()\n",
    "\n",
    "# Plot the data\n",
    "plt.figure(figsize=(10, 6))  # Set figure size\n",
    "batch_count_per_source.plot(kind=\"bar\", color=\"skyblue\", edgecolor=\"black\")\n",
    "\n",
    "# Add titles and labels\n",
    "plt.title(\"Number of Wells per Source\", fontsize=16)\n",
    "plt.xlabel(\"Source\", fontsize=14)\n",
    "plt.ylabel(\"Number of Wells\", fontsize=14)\n",
    "\n",
    "# Rotate x-axis labels for better readability\n",
    "plt.xticks(rotation=45, fontsize=12)\n",
    "\n",
    "# Add grid lines for y-axis\n",
    "plt.grid(axis=\"y\", linestyle=\"--\", alpha=0.7)\n",
    "\n",
    "# Adjust layout to avoid overlap\n",
    "plt.tight_layout()\n",
    "\n",
    "# Show the plot\n",
    "plt.show()\n"
   ]
  },
  {
   "cell_type": "code",
   "execution_count": 19,
   "metadata": {},
   "outputs": [],
   "source": [
    "from sklearn.model_selection import train_test_split\n",
    "\n",
    "def select_test_data(df, test_size=0.2, random_state=42):\n",
    "    \"\"\"\n",
    "    Select a fair test set for evaluating batch effect removal.\n",
    "\n",
    "    Args:\n",
    "        df (pd.DataFrame): The dataset containing Metadata_Batch and Metadata_Source.\n",
    "        test_size (float): Proportion of data to include in the test set.\n",
    "        random_state (int): Seed for reproducibility.\n",
    "\n",
    "    Returns:\n",
    "        pd.DataFrame: Test set DataFrame.\n",
    "        pd.DataFrame: Train set DataFrame.\n",
    "    \"\"\"\n",
    "    test_data = []\n",
    "    train_data = []\n",
    "    \n",
    "    for source, source_df in df.groupby(\"Metadata_Source\"):\n",
    "        # Ensure stratification across Metadata_Batch\n",
    "        batches = source_df[\"Metadata_Batch\"].unique()\n",
    "        selected_batches, remaining_batches = train_test_split(\n",
    "            batches, test_size=test_size, random_state=random_state\n",
    "        )\n",
    "\n",
    "        # Add test and train batches\n",
    "        test_data.append(source_df[source_df[\"Metadata_Batch\"].isin(selected_batches)])\n",
    "        train_data.append(source_df[source_df[\"Metadata_Batch\"].isin(remaining_batches)])\n",
    "    \n",
    "    # Combine data across sources\n",
    "    test_df = pd.concat(test_data, ignore_index=True)\n",
    "    train_df = pd.concat(train_data, ignore_index=True)\n",
    "    \n",
    "    return train_df, test_df\n"
   ]
  }
 ],
 "metadata": {
  "kernelspec": {
   "display_name": ".venv",
   "language": "python",
   "name": "python3"
  },
  "language_info": {
   "codemirror_mode": {
    "name": "ipython",
    "version": 3
   },
   "file_extension": ".py",
   "mimetype": "text/x-python",
   "name": "python",
   "nbconvert_exporter": "python",
   "pygments_lexer": "ipython3",
   "version": "3.10.10"
  }
 },
 "nbformat": 4,
 "nbformat_minor": 2
}
