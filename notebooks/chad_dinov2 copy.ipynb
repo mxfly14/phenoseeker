{
 "cells": [
  {
   "cell_type": "markdown",
   "metadata": {},
   "source": [
    "# Imports"
   ]
  },
  {
   "cell_type": "code",
   "execution_count": null,
   "metadata": {},
   "outputs": [],
   "source": [
    "from phenoseeker import EmbeddingManager\n",
    "from pathlib import Path\n",
    "import pandas as pd\n",
    "import numpy as np"
   ]
  },
  {
   "cell_type": "markdown",
   "metadata": {},
   "source": [
    "# Load chad img embeddings"
   ]
  },
  {
   "cell_type": "code",
   "execution_count": null,
   "metadata": {},
   "outputs": [],
   "source": [
    "base_path = Path(\"/projects/imagesets4/temp_embeds/\")"
   ]
  },
  {
   "cell_type": "code",
   "execution_count": null,
   "metadata": {},
   "outputs": [],
   "source": [
    "! ls /projects/imagesets4/temp_embeds/"
   ]
  },
  {
   "cell_type": "code",
   "execution_count": null,
   "metadata": {},
   "outputs": [],
   "source": [
    "\n",
    "chad_cls_feats = base_path / Path(\"ctrls_images_chad_dinov2s_cls_embeds.npy\")\n",
    "chad_cls_metadata = base_path / Path(\"ctrls_images_chad_dinov2s_cls_dataframe.parquet\")\n",
    "\n",
    "chad_cls_sm02_feats = base_path / Path(\"ctrls_images_chad_dinov2s_cls_sm02_embeds.npy\")\n",
    "chad_cls_sm02_metadata = base_path / Path(\"ctrls_images_chad_dinov2s_cls_sm02_dataframe.parquet\")\n",
    "\n",
    "chad_cls_sm12x02_w_regs_feats = base_path / Path(\"ctrls_images_chad_dinov2s_cls_sm12x02_w_regs_embeds.npy\")\n",
    "chad_cls_sm12x02_w_regs_metadata = base_path / Path(\"ctrls_images_chad_dinov2s_cls_sm12x02_w_regs_dataframe.parquet\")\n",
    "\n",
    "chad_cls_w_regs_feats = base_path / Path(\"ctrls_images_chad_dinov2s_cls_w_regs_embeds.npy\")\n",
    "chad_cls_w_regs_metadata = base_path / Path(\"ctrls_images_chad_dinov2s_cls_w_regs_dataframe.parquet\")\n",
    "\n",
    "chad_cls_sm02_w_regs_feats = base_path / Path(\"ctrls_images_chad_dinov2s_cls_sm02_w_regs_embeds.npy\")\n",
    "chad_cls_sm02_w_regs_metadata = base_path / Path(\"ctrls_images_chad_dinov2s_cls_sm02_w_regs_dataframe.parquet\")"
   ]
  },
  {
   "cell_type": "code",
   "execution_count": null,
   "metadata": {},
   "outputs": [],
   "source": [
    "chad_em_img = EmbeddingManager(chad_cls_sm02_w_regs_metadata, entity=\"image\")"
   ]
  },
  {
   "cell_type": "code",
   "execution_count": null,
   "metadata": {},
   "outputs": [],
   "source": [
    "chad_em_img.load(\"chad_cls\", chad_cls_feats, chad_cls_metadata)\n",
    "chad_em_img.load(\"chad_cls_sm02\", chad_cls_sm02_feats, chad_cls_sm02_metadata)\n",
    "chad_em_img.load(\"chad_cls_w_regs\", chad_cls_w_regs_feats)\n",
    "chad_em_img.load(\"chad_cls_sm02_w_regs\", chad_cls_sm02_w_regs_feats, chad_cls_sm02_w_regs_metadata)\n",
    "chad_em_img.load(\"chad_cls_sm12x02_w_regs\", chad_cls_sm12x02_w_regs_feats, chad_cls_sm12x02_w_regs_metadata)\n"
   ]
  },
  {
   "cell_type": "code",
   "execution_count": null,
   "metadata": {},
   "outputs": [],
   "source": [
    "chad_em_well = chad_em_img.grouped_embeddings(group_by=\"well\", cols_to_keep=['Metadata_Batch','Metadata_JCP2022', 'Metadata_InChI', \"Metadata_Well\"])"
   ]
  },
  {
   "cell_type": "code",
   "execution_count": null,
   "metadata": {},
   "outputs": [],
   "source": [
    "\n",
    "for model_name in list(chad_em_well.embeddings):\n",
    "    chad_em_well.apply_spherizing_transform(embeddings_name=f\"{model_name}\", new_embeddings_name=f\"{model_name}_sph\", norm_embeddings=False)\n",
    "    chad_em_well.apply_inverse_normal_transform(embeddings_name=f\"{model_name}_sph\", new_embeddings_name=f\"{model_name}_sph_int\")\n",
    "\n",
    "chad_em_well.save_to_folder(Path('/projects/synsight/data/jump_embeddings/wells_embeddings/chad/'))"
   ]
  },
  {
   "cell_type": "markdown",
   "metadata": {},
   "source": [
    "# add other wells embeddings"
   ]
  },
  {
   "cell_type": "code",
   "execution_count": null,
   "metadata": {},
   "outputs": [],
   "source": [
    "\n",
    "for model_name in ['dinov2_s', 'openphenom', 'resnet50', 'chada']:\n",
    "    base_path = Path(f'/projects/synsight/data/jump_embeddings/wells_embeddings/{model_name}')\n",
    "\n",
    "    meta_path_dino = base_path / f'metadata_{model_name}.parquet'\n",
    "    embeddings_path_dino = base_path / f'embeddings_{model_name}.npy'\n",
    "    chad_em_well.load(f\"{model_name}\", embeddings_path_dino, meta_path_dino)\n",
    "\n",
    "    chad_em_well.apply_spherizing_transform(embeddings_name=f\"{model_name}\", new_embeddings_name=f\"{model_name}_sph\", norm_embeddings=False)\n",
    "    chad_em_well.apply_inverse_normal_transform(embeddings_name=f\"{model_name}_sph\", new_embeddings_name=f\"{model_name}_sph_int\")\n"
   ]
  },
  {
   "cell_type": "code",
   "execution_count": null,
   "metadata": {},
   "outputs": [],
   "source": [
    "chad_em_well_poscon = chad_em_well.filter_and_instantiate(Metadata_JCP2022=chad_em_well.JCP_ID_poscon)"
   ]
  },
  {
   "cell_type": "code",
   "execution_count": null,
   "metadata": {},
   "outputs": [],
   "source": [
    "embeddings_to_test = [emb_name for emb_name in list(chad_em_well_poscon.embeddings) if \"sph_int\" in emb_name]"
   ]
  },
  {
   "cell_type": "code",
   "execution_count": null,
   "metadata": {},
   "outputs": [],
   "source": [
    "maps_source = chad_em_well.compute_maps(labels_column=\"Metadata_Source\", embeddings_names=embeddings_to_test, random_maps=False, plot=True)"
   ]
  },
  {
   "cell_type": "code",
   "execution_count": null,
   "metadata": {},
   "outputs": [],
   "source": [
    "maps_jcp = chad_em_well_poscon.compute_maps(labels_column=\"Metadata_JCP2022\", embeddings_names=embeddings_to_test, random_maps=False, plot=True)"
   ]
  },
  {
   "cell_type": "code",
   "execution_count": null,
   "metadata": {},
   "outputs": [],
   "source": [
    "lisi_jcp_2 = chad_em_well_poscon.compute_lisi(labels_column=\"Metadata_JCP2022\", embeddings_names=embeddings_to_test, plot=True, n_neighbors_list=[5, 10, 20, 40])"
   ]
  },
  {
   "cell_type": "code",
   "execution_count": null,
   "metadata": {},
   "outputs": [],
   "source": [
    "df = lisi_jcp_2"
   ]
  },
  {
   "cell_type": "code",
   "execution_count": null,
   "metadata": {},
   "outputs": [],
   "source": [
    "import matplotlib.pyplot as plt\n",
    "import pandas as pd\n",
    "\n",
    "# Assuming your DataFrame is named df\n",
    "# Select only the model columns (those not starting with \"Ideal mixing\")\n",
    "model_columns = [col for col in df.columns if not col.startswith('Ideal mixing')]\n",
    "\n",
    "plt.figure(figsize=(10, 6))\n",
    "for col in model_columns:\n",
    "    plt.plot(df.index, df[col], marker='o', label=col)\n",
    "\n",
    "plt.xlabel(\"Index\")\n",
    "plt.ylabel(\"Values\")\n",
    "plt.title(\"Model Values\")\n",
    "\n",
    "# Place the legend outside the plot on the right side\n",
    "plt.legend(bbox_to_anchor=(1.05, 1), loc='upper left')\n",
    "\n",
    "plt.tight_layout()  # Adjust layout so nothing is cut off\n",
    "plt.show()\n",
    "\n"
   ]
  },
  {
   "cell_type": "code",
   "execution_count": null,
   "metadata": {},
   "outputs": [],
   "source": [
    "model_columns"
   ]
  },
  {
   "cell_type": "code",
   "execution_count": null,
   "metadata": {},
   "outputs": [],
   "source": [
    "import matplotlib.pyplot as plt\n",
    "import pandas as pd\n",
    "\n",
    "# Assuming your DataFrame is named df\n",
    "# Select only the model columns (those not starting with \"Ideal mixing\")\n",
    "model_columns = ['chad_cls_sph_int',\n",
    " 'chad_cls_sm02_sph_int',\n",
    " 'chad_cls_w_regs_sph_int',\n",
    " 'chad_cls_sm02_w_regs_sph_int',\n",
    " 'dinov2_s_sph_int',\n",
    " 'chada_sph_int']\n",
    "\n",
    "plt.figure(figsize=(10, 6))\n",
    "for col in model_columns:\n",
    "    plt.plot(df.index, df[col], marker='o', label=col)\n",
    "\n",
    "plt.xlabel(\"Index\")\n",
    "plt.ylabel(\"Values\")\n",
    "plt.title(\"Model Values\")\n",
    "\n",
    "# Place the legend outside the plot on the right side\n",
    "plt.legend(bbox_to_anchor=(1.05, 1), loc='upper left')\n",
    "\n",
    "plt.tight_layout()  # Adjust layout so nothing is cut off\n",
    "plt.show()\n",
    "\n"
   ]
  },
  {
   "cell_type": "code",
   "execution_count": null,
   "metadata": {},
   "outputs": [],
   "source": [
    "df = pd.read_parquet('/projects/cpjump1/jump/load_data/final')"
   ]
  },
  {
   "cell_type": "code",
   "execution_count": null,
   "metadata": {},
   "outputs": [],
   "source": [
    "df.columns"
   ]
  },
  {
   "cell_type": "code",
   "execution_count": null,
   "metadata": {},
   "outputs": [],
   "source": [
    "len(df)"
   ]
  },
  {
   "cell_type": "code",
   "execution_count": null,
   "metadata": {},
   "outputs": [],
   "source": [
    "df.merge()"
   ]
  }
 ],
 "metadata": {
  "kernelspec": {
   "display_name": ".venv",
   "language": "python",
   "name": "python3"
  },
  "language_info": {
   "codemirror_mode": {
    "name": "ipython",
    "version": 3
   },
   "file_extension": ".py",
   "mimetype": "text/x-python",
   "name": "python",
   "nbconvert_exporter": "python",
   "pygments_lexer": "ipython3",
   "version": "3.10.10"
  }
 },
 "nbformat": 4,
 "nbformat_minor": 2
}
