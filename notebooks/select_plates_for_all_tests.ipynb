{
 "cells": [
  {
   "cell_type": "markdown",
   "metadata": {},
   "source": [
    "# Import and sandbox"
   ]
  },
  {
   "cell_type": "code",
   "execution_count": 1,
   "metadata": {},
   "outputs": [],
   "source": [
    "import numpy as np\n",
    "import pandas as pd\n",
    "import torch \n",
    "from tqdm import tqdm\n",
    "import matplotlib.pyplot as plt\n"
   ]
  },
  {
   "cell_type": "markdown",
   "metadata": {},
   "source": [
    "# check n_wells "
   ]
  },
  {
   "cell_type": "markdown",
   "metadata": {},
   "source": [
    "## Imports"
   ]
  },
  {
   "cell_type": "code",
   "execution_count": null,
   "metadata": {},
   "outputs": [],
   "source": [
    "\n",
    "df_phenom = pd.read_parquet('/projects/synsight/data/jump_embeddings/wells_embeddings/openphenom/metadata_openphenom.parquet')"
   ]
  },
  {
   "cell_type": "code",
   "execution_count": 3,
   "metadata": {},
   "outputs": [],
   "source": [
    "df_phenom = pd.read_parquet('/home/maxime/data/jump_embeddings/metadata_dinov2_g.parquet')\n"
   ]
  },
  {
   "cell_type": "code",
   "execution_count": 4,
   "metadata": {},
   "outputs": [],
   "source": [
    "df_phenom.drop(columns=['Metadata_Well', 'Metadata_JCP2022', 'Metadata_InChI'], inplace=True)"
   ]
  },
  {
   "cell_type": "code",
   "execution_count": 5,
   "metadata": {},
   "outputs": [],
   "source": [
    "df_phenom = df_phenom.drop_duplicates()"
   ]
  },
  {
   "cell_type": "code",
   "execution_count": null,
   "metadata": {},
   "outputs": [],
   "source": [
    "min_samples_per_source = df_phenom.groupby('Metadata_Source').size().min()\n",
    "\n",
    "balanced_sample = df_phenom.groupby('Metadata_Source').apply(\n",
    "    lambda group: group.groupby('Metadata_Batch').apply(\n",
    "        lambda batch: batch.sample(n=min(len(batch), min_samples_per_source // len(group['Metadata_Batch'].unique())))\n",
    "    ).reset_index(drop=True)\n",
    ").reset_index(drop=True)\n",
    "\n"
   ]
  },
  {
   "cell_type": "code",
   "execution_count": null,
   "metadata": {},
   "outputs": [],
   "source": [
    "balanced_sample['Metadata_Source'].value_counts()\n"
   ]
  },
  {
   "cell_type": "code",
   "execution_count": null,
   "metadata": {},
   "outputs": [],
   "source": [
    "import pandas as pd\n",
    "\n",
    "# Calculer le nombre maximum de plaques échantillonnées uniformément\n",
    "min_samples_per_source = df_phenom.groupby('Metadata_Source').size().min()\n",
    "\n",
    "# Échantillonner un nombre fixe de plaques par source\n",
    "balanced_sample = df_phenom.groupby('Metadata_Source').apply(\n",
    "    lambda group: group.sample(n=min_samples_per_source, random_state=42)  # Fixer un seed pour reproductibilité\n",
    ").reset_index(drop=True)\n",
    "\n",
    "balanced_sample['Metadata_Source'].value_counts()"
   ]
  },
  {
   "cell_type": "code",
   "execution_count": null,
   "metadata": {},
   "outputs": [],
   "source": [
    "import pandas as pd\n",
    "\n",
    "# Calculate the number of plates per source to maintain balance\n",
    "n_sources = df_phenom['Metadata_Source'].nunique()\n",
    "\n",
    "# Ensure a minimum number of plates per source if possible\n",
    "def balanced_sample_with_total_limit(df, total_limit=48):\n",
    "    n_sources = df['Metadata_Source'].nunique()\n",
    "    plates_per_source = total_limit // n_sources\n",
    "\n",
    "    # First, sample equally across sources\n",
    "    sampled = (\n",
    "        df.groupby('Metadata_Source', group_keys=False).apply(\n",
    "            lambda source_group: source_group.sample(\n",
    "                n=min(len(source_group), plates_per_source), random_state=42)\n",
    "        )\n",
    "    )\n",
    "\n",
    "    # If we have fewer than the total_limit, fill the remaining slots\n",
    "    if len(sampled) < total_limit:\n",
    "        remaining_slots = total_limit - len(sampled)\n",
    "        remaining_sample = df.loc[~df.index.isin(sampled.index)].sample(n=remaining_slots, random_state=42)\n",
    "        sampled = pd.concat([sampled, remaining_sample])\n",
    "\n",
    "    return sampled\n",
    "\n",
    "# Apply the function\n",
    "balanced_sample = balanced_sample_with_total_limit(df_phenom, total_limit=48)\n"
   ]
  },
  {
   "cell_type": "code",
   "execution_count": null,
   "metadata": {},
   "outputs": [],
   "source": [
    "balanced_sample['Metadata_Source'].value_counts()"
   ]
  },
  {
   "cell_type": "code",
   "execution_count": null,
   "metadata": {},
   "outputs": [],
   "source": [
    "balanced_sample.info()"
   ]
  },
  {
   "cell_type": "markdown",
   "metadata": {},
   "source": [
    "# Export and save"
   ]
  },
  {
   "cell_type": "code",
   "execution_count": 11,
   "metadata": {},
   "outputs": [],
   "source": [
    "balanced_sample.to_json(\"balanced_plates_388_plate.json\", orient=\"records\")\n"
   ]
  },
  {
   "cell_type": "markdown",
   "metadata": {},
   "source": [
    "# Distribution "
   ]
  },
  {
   "cell_type": "code",
   "execution_count": 4,
   "metadata": {},
   "outputs": [],
   "source": [
    "elected_plates = pd.read_json(\n",
    "            \"/home/maxime/synrepos/phenoseeker/scripts/balanced_plates.json\"\n",
    "        )"
   ]
  },
  {
   "cell_type": "code",
   "execution_count": null,
   "metadata": {},
   "outputs": [],
   "source": [
    "elected_plates"
   ]
  },
  {
   "cell_type": "code",
   "execution_count": null,
   "metadata": {},
   "outputs": [],
   "source": [
    "elected_plates['Metadata_Source'].value_counts()"
   ]
  }
 ],
 "metadata": {
  "kernelspec": {
   "display_name": "phenoseeker-VFjsjbMc-py3.10",
   "language": "python",
   "name": "python3"
  },
  "language_info": {
   "codemirror_mode": {
    "name": "ipython",
    "version": 3
   },
   "file_extension": ".py",
   "mimetype": "text/x-python",
   "name": "python",
   "nbconvert_exporter": "python",
   "pygments_lexer": "ipython3",
   "version": "3.10.10"
  }
 },
 "nbformat": 4,
 "nbformat_minor": 2
}
