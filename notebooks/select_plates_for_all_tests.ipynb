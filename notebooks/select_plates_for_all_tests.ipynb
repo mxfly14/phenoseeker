{
 "cells": [
  {
   "cell_type": "markdown",
   "metadata": {},
   "source": [
    "# Import and sandbox"
   ]
  },
  {
   "cell_type": "code",
   "execution_count": 1,
   "metadata": {},
   "outputs": [],
   "source": [
    "import numpy as np\n",
    "import pandas as pd\n",
    "import torch \n",
    "from tqdm import tqdm\n",
    "import matplotlib.pyplot as plt\n"
   ]
  },
  {
   "cell_type": "markdown",
   "metadata": {},
   "source": [
    "# check n_wells "
   ]
  },
  {
   "cell_type": "markdown",
   "metadata": {},
   "source": [
    "## Imports"
   ]
  },
  {
   "cell_type": "code",
   "execution_count": 2,
   "metadata": {},
   "outputs": [],
   "source": [
    "df_phenom = pd.read_parquet('/projects/synsight/data/jump_embeddings/wells_embeddings/openphenom/metadata_openphenom.parquet')"
   ]
  },
  {
   "cell_type": "code",
   "execution_count": 2,
   "metadata": {},
   "outputs": [],
   "source": [
    "df_phenom = pd.read_parquet('/home/maxime/data/jump_embeddings/metadata_dinov2_g.parquet')\n"
   ]
  },
  {
   "cell_type": "code",
   "execution_count": 3,
   "metadata": {},
   "outputs": [],
   "source": [
    "df_phenom.drop(columns=['Metadata_Well', 'Metadata_JCP2022', 'Metadata_InChI'], inplace=True)"
   ]
  },
  {
   "cell_type": "code",
   "execution_count": 4,
   "metadata": {},
   "outputs": [],
   "source": [
    "df_phenom = df_phenom.drop_duplicates()"
   ]
  },
  {
   "cell_type": "code",
   "execution_count": 5,
   "metadata": {},
   "outputs": [
    {
     "name": "stderr",
     "output_type": "stream",
     "text": [
      "/tmp/ipykernel_1173591/2387238680.py:4: DeprecationWarning: DataFrameGroupBy.apply operated on the grouping columns. This behavior is deprecated, and in a future version of pandas the grouping columns will be excluded from the operation. Either pass `include_groups=False` to exclude the groupings or explicitly select the grouping columns after groupby to silence this warning.\n",
      "  lambda group: group.groupby('Metadata_Batch').apply(\n",
      "/tmp/ipykernel_1173591/2387238680.py:4: DeprecationWarning: DataFrameGroupBy.apply operated on the grouping columns. This behavior is deprecated, and in a future version of pandas the grouping columns will be excluded from the operation. Either pass `include_groups=False` to exclude the groupings or explicitly select the grouping columns after groupby to silence this warning.\n",
      "  lambda group: group.groupby('Metadata_Batch').apply(\n",
      "/tmp/ipykernel_1173591/2387238680.py:4: DeprecationWarning: DataFrameGroupBy.apply operated on the grouping columns. This behavior is deprecated, and in a future version of pandas the grouping columns will be excluded from the operation. Either pass `include_groups=False` to exclude the groupings or explicitly select the grouping columns after groupby to silence this warning.\n",
      "  lambda group: group.groupby('Metadata_Batch').apply(\n",
      "/tmp/ipykernel_1173591/2387238680.py:4: DeprecationWarning: DataFrameGroupBy.apply operated on the grouping columns. This behavior is deprecated, and in a future version of pandas the grouping columns will be excluded from the operation. Either pass `include_groups=False` to exclude the groupings or explicitly select the grouping columns after groupby to silence this warning.\n",
      "  lambda group: group.groupby('Metadata_Batch').apply(\n",
      "/tmp/ipykernel_1173591/2387238680.py:4: DeprecationWarning: DataFrameGroupBy.apply operated on the grouping columns. This behavior is deprecated, and in a future version of pandas the grouping columns will be excluded from the operation. Either pass `include_groups=False` to exclude the groupings or explicitly select the grouping columns after groupby to silence this warning.\n",
      "  lambda group: group.groupby('Metadata_Batch').apply(\n",
      "/tmp/ipykernel_1173591/2387238680.py:4: DeprecationWarning: DataFrameGroupBy.apply operated on the grouping columns. This behavior is deprecated, and in a future version of pandas the grouping columns will be excluded from the operation. Either pass `include_groups=False` to exclude the groupings or explicitly select the grouping columns after groupby to silence this warning.\n",
      "  lambda group: group.groupby('Metadata_Batch').apply(\n",
      "/tmp/ipykernel_1173591/2387238680.py:4: DeprecationWarning: DataFrameGroupBy.apply operated on the grouping columns. This behavior is deprecated, and in a future version of pandas the grouping columns will be excluded from the operation. Either pass `include_groups=False` to exclude the groupings or explicitly select the grouping columns after groupby to silence this warning.\n",
      "  lambda group: group.groupby('Metadata_Batch').apply(\n",
      "/tmp/ipykernel_1173591/2387238680.py:4: DeprecationWarning: DataFrameGroupBy.apply operated on the grouping columns. This behavior is deprecated, and in a future version of pandas the grouping columns will be excluded from the operation. Either pass `include_groups=False` to exclude the groupings or explicitly select the grouping columns after groupby to silence this warning.\n",
      "  lambda group: group.groupby('Metadata_Batch').apply(\n",
      "/tmp/ipykernel_1173591/2387238680.py:4: DeprecationWarning: DataFrameGroupBy.apply operated on the grouping columns. This behavior is deprecated, and in a future version of pandas the grouping columns will be excluded from the operation. Either pass `include_groups=False` to exclude the groupings or explicitly select the grouping columns after groupby to silence this warning.\n",
      "  lambda group: group.groupby('Metadata_Batch').apply(\n",
      "/tmp/ipykernel_1173591/2387238680.py:3: DeprecationWarning: DataFrameGroupBy.apply operated on the grouping columns. This behavior is deprecated, and in a future version of pandas the grouping columns will be excluded from the operation. Either pass `include_groups=False` to exclude the groupings or explicitly select the grouping columns after groupby to silence this warning.\n",
      "  balanced_sample = df_phenom.groupby('Metadata_Source').apply(\n"
     ]
    }
   ],
   "source": [
    "min_samples_per_source = df_phenom.groupby('Metadata_Source').size().min()\n",
    "\n",
    "balanced_sample = df_phenom.groupby('Metadata_Source').apply(\n",
    "    lambda group: group.groupby('Metadata_Batch').apply(\n",
    "        lambda batch: batch.sample(n=min(len(batch), min_samples_per_source // len(group['Metadata_Batch'].unique())))\n",
    "    ).reset_index(drop=True)\n",
    ").reset_index(drop=True)\n",
    "\n"
   ]
  },
  {
   "cell_type": "code",
   "execution_count": 6,
   "metadata": {},
   "outputs": [
    {
     "data": {
      "text/plain": [
       "Metadata_Source\n",
       "source_10    51\n",
       "source_11    50\n",
       "source_8     48\n",
       "source_1     45\n",
       "source_9     44\n",
       "source_3     39\n",
       "source_2     39\n",
       "source_6     39\n",
       "source_5     33\n",
       "Name: count, dtype: int64"
      ]
     },
     "execution_count": 6,
     "metadata": {},
     "output_type": "execute_result"
    }
   ],
   "source": [
    "balanced_sample['Metadata_Source'].value_counts()\n"
   ]
  },
  {
   "cell_type": "code",
   "execution_count": 15,
   "metadata": {},
   "outputs": [
    {
     "name": "stderr",
     "output_type": "stream",
     "text": [
      "/tmp/ipykernel_1173591/1876179003.py:7: DeprecationWarning: DataFrameGroupBy.apply operated on the grouping columns. This behavior is deprecated, and in a future version of pandas the grouping columns will be excluded from the operation. Either pass `include_groups=False` to exclude the groupings or explicitly select the grouping columns after groupby to silence this warning.\n",
      "  balanced_sample = df_phenom.groupby('Metadata_Source').apply(\n"
     ]
    },
    {
     "data": {
      "text/plain": [
       "Metadata_Source\n",
       "source_1     51\n",
       "source_10    51\n",
       "source_11    51\n",
       "source_2     51\n",
       "source_3     51\n",
       "source_5     51\n",
       "source_6     51\n",
       "source_8     51\n",
       "source_9     51\n",
       "Name: count, dtype: int64"
      ]
     },
     "execution_count": 15,
     "metadata": {},
     "output_type": "execute_result"
    }
   ],
   "source": [
    "import pandas as pd\n",
    "\n",
    "# Calculer le nombre maximum de plaques échantillonnées uniformément\n",
    "min_samples_per_source = df_phenom.groupby('Metadata_Source').size().min()\n",
    "\n",
    "# Échantillonner un nombre fixe de plaques par source\n",
    "balanced_sample = df_phenom.groupby('Metadata_Source').apply(\n",
    "    lambda group: group.sample(n=min_samples_per_source, random_state=42)  # Fixer un seed pour reproductibilité\n",
    ").reset_index(drop=True)\n",
    "\n",
    "balanced_sample['Metadata_Source'].value_counts()"
   ]
  },
  {
   "cell_type": "code",
   "execution_count": 21,
   "metadata": {},
   "outputs": [
    {
     "name": "stderr",
     "output_type": "stream",
     "text": [
      "/tmp/ipykernel_1173591/1415224989.py:13: DeprecationWarning: DataFrameGroupBy.apply operated on the grouping columns. This behavior is deprecated, and in a future version of pandas the grouping columns will be excluded from the operation. Either pass `include_groups=False` to exclude the groupings or explicitly select the grouping columns after groupby to silence this warning.\n",
      "  df.groupby('Metadata_Source', group_keys=False).apply(\n"
     ]
    }
   ],
   "source": [
    "import pandas as pd\n",
    "\n",
    "# Calculate the number of plates per source to maintain balance\n",
    "n_sources = df_phenom['Metadata_Source'].nunique()\n",
    "\n",
    "# Ensure a minimum number of plates per source if possible\n",
    "def balanced_sample_with_total_limit(df, total_limit=48):\n",
    "    n_sources = df['Metadata_Source'].nunique()\n",
    "    plates_per_source = total_limit // n_sources\n",
    "\n",
    "    # First, sample equally across sources\n",
    "    sampled = (\n",
    "        df.groupby('Metadata_Source', group_keys=False).apply(\n",
    "            lambda source_group: source_group.sample(\n",
    "                n=min(len(source_group), plates_per_source), random_state=42)\n",
    "        )\n",
    "    )\n",
    "\n",
    "    # If we have fewer than the total_limit, fill the remaining slots\n",
    "    if len(sampled) < total_limit:\n",
    "        remaining_slots = total_limit - len(sampled)\n",
    "        remaining_sample = df.loc[~df.index.isin(sampled.index)].sample(n=remaining_slots, random_state=42)\n",
    "        sampled = pd.concat([sampled, remaining_sample])\n",
    "\n",
    "    return sampled\n",
    "\n",
    "# Apply the function\n",
    "balanced_sample = balanced_sample_with_total_limit(df_phenom, total_limit=48)\n"
   ]
  },
  {
   "cell_type": "code",
   "execution_count": 22,
   "metadata": {},
   "outputs": [
    {
     "data": {
      "text/plain": [
       "Metadata_Source\n",
       "source_9     7\n",
       "source_11    6\n",
       "source_1     5\n",
       "source_2     5\n",
       "source_10    5\n",
       "source_3     5\n",
       "source_5     5\n",
       "source_6     5\n",
       "source_8     5\n",
       "Name: count, dtype: int64"
      ]
     },
     "execution_count": 22,
     "metadata": {},
     "output_type": "execute_result"
    }
   ],
   "source": [
    "balanced_sample['Metadata_Source'].value_counts()"
   ]
  },
  {
   "cell_type": "code",
   "execution_count": 24,
   "metadata": {},
   "outputs": [
    {
     "name": "stdout",
     "output_type": "stream",
     "text": [
      "<class 'pandas.core.frame.DataFrame'>\n",
      "Index: 48 entries, 199014 to 131073\n",
      "Data columns (total 3 columns):\n",
      " #   Column           Non-Null Count  Dtype \n",
      "---  ------           --------------  ----- \n",
      " 0   Metadata_Source  48 non-null     object\n",
      " 1   Metadata_Batch   48 non-null     object\n",
      " 2   Metadata_Plate   48 non-null     object\n",
      "dtypes: object(3)\n",
      "memory usage: 1.5+ KB\n"
     ]
    }
   ],
   "source": [
    "balanced_sample.info()"
   ]
  },
  {
   "cell_type": "markdown",
   "metadata": {},
   "source": [
    "# Export and save"
   ]
  },
  {
   "cell_type": "code",
   "execution_count": 25,
   "metadata": {},
   "outputs": [],
   "source": [
    "balanced_sample.to_json(\"balanced_plates.json\", orient=\"records\")\n"
   ]
  }
 ],
 "metadata": {
  "kernelspec": {
   "display_name": "phenoseeker-VFjsjbMc-py3.10",
   "language": "python",
   "name": "python3"
  },
  "language_info": {
   "codemirror_mode": {
    "name": "ipython",
    "version": 3
   },
   "file_extension": ".py",
   "mimetype": "text/x-python",
   "name": "python",
   "nbconvert_exporter": "python",
   "pygments_lexer": "ipython3",
   "version": "3.10.10"
  }
 },
 "nbformat": 4,
 "nbformat_minor": 2
}
