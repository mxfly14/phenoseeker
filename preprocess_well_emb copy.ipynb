{
 "cells": [
  {
   "cell_type": "markdown",
   "metadata": {},
   "source": [
    "# Import "
   ]
  },
  {
   "cell_type": "code",
   "execution_count": 1,
   "metadata": {},
   "outputs": [],
   "source": [
    "import numpy as np\n",
    "import pandas as pd\n",
    "import torch \n",
    "from tqdm import tqdm\n",
    "import matplotlib.pyplot as plt\n",
    "from pathlib import Path\n",
    "import os\n",
    "from joblib import Parallel, delayed\n",
    "from typing import Union, List\n"
   ]
  },
  {
   "cell_type": "code",
   "execution_count": 2,
   "metadata": {},
   "outputs": [
    {
     "name": "stderr",
     "output_type": "stream",
     "text": [
      "/tmp/ipykernel_4113274/599528953.py:2: DtypeWarning: Columns (2,8,9,10,11,12,13,14,15,18,20) have mixed types. Specify dtype option on import or set low_memory=False.\n",
      "  df_meta = pd.read_csv('/projects/cpjump1/jump/metadata/complete_metadata.csv')\n"
     ]
    }
   ],
   "source": [
    "df_phenom = pd.read_parquet('/projects/synsight/data/openphenom/raw_well_embeddings/wells_em_openphenom.parquet')\n",
    "df_meta = pd.read_csv('/projects/cpjump1/jump/metadata/complete_metadata.csv')"
   ]
  },
  {
   "cell_type": "code",
   "execution_count": 35,
   "metadata": {},
   "outputs": [],
   "source": [
    "\n",
    "df_dinov2_s = pd.read_parquet('/projects/synsight/data/dinov2_small/raw_well_embeddings/wells_em_dinov2s.parquet')\n",
    "df_dinov2_g = pd.read_parquet('/projects/synsight/data/dinov2/raw_well_embeddings/wells_em_dinov2.parquet')\n",
    "df_resnet = pd.read_parquet('/projects/cpjump1/jump/images_embeddings/resnet50_raw/metadata/load_wells/df_meta_raw_well.parquet')\n",
    "df_chada = pd.read_parquet('/projects/synsight/data/chada/well_embeddings/metadata_raw_mean.parquet')\n"
   ]
  },
  {
   "cell_type": "code",
   "execution_count": 3,
   "metadata": {},
   "outputs": [],
   "source": [
    "no_dmso_plates = [\n",
    "            \"Dest210823-174240\",\n",
    "            \"Dest210628-162003\",\n",
    "            \"Dest210823-174422\",\n",
    "        ]"
   ]
  },
  {
   "cell_type": "code",
   "execution_count": 4,
   "metadata": {},
   "outputs": [],
   "source": [
    "base_path = Path('/projects/synsight/data/jump_embeddings/wells_embeddings')"
   ]
  },
  {
   "cell_type": "markdown",
   "metadata": {},
   "source": [
    "# Reference"
   ]
  },
  {
   "cell_type": "code",
   "execution_count": 5,
   "metadata": {},
   "outputs": [],
   "source": [
    "images_df_path = \"/projects/cpjump1/jump/load_data/final\"\n",
    "images_df = pd.read_parquet(images_df_path)\n",
    "\n",
    "images_df[\"Metadata_Batch\"] = images_df[\"Metadata_Batch\"].astype(str)\n",
    "df_meta[\"Metadata_Batch\"] = df_meta[\"Metadata_Batch\"].astype(str)\n",
    "images_df[\"Metadata_Plate\"] = images_df[\"Metadata_Plate\"].astype(str)\n",
    "df_meta[\"Metadata_Plate\"] = df_meta[\"Metadata_Plate\"].astype(str)\n",
    "images_df[\"Metadata_Source\"] = images_df[\"Metadata_Source\"].astype(str)\n",
    "df_meta[\"Metadata_Source\"] = df_meta[\"Metadata_Source\"].astype(str)\n",
    "images_df[\"Metadata_Well\"] = images_df[\"Metadata_Well\"].astype(str)\n",
    "df_meta[\"Metadata_Well\"] = df_meta[\"Metadata_Well\"].astype(str)\n",
    "\n",
    "merged_df = pd.merge(images_df, df_meta, on=[\"Metadata_Source\", \"Metadata_Plate\", \"Metadata_Well\"])\n",
    "df = merged_df[merged_df[\"Metadata_PlateType\"]=='COMPOUND'][['Metadata_Source', 'Metadata_Batch_x', 'Metadata_Plate',\n",
    "       'Metadata_Well', 'Metadata_JCP2022', 'Metadata_InChI']]\n",
    "df.columns = ['Metadata_Source', 'Metadata_Batch', 'Metadata_Plate', 'Metadata_Well', 'Metadata_JCP2022', 'Metadata_InChI']"
   ]
  },
  {
   "cell_type": "code",
   "execution_count": 6,
   "metadata": {},
   "outputs": [
    {
     "name": "stderr",
     "output_type": "stream",
     "text": [
      "/tmp/ipykernel_4113274/1714066172.py:1: UserWarning: Boolean Series key will be reindexed to match DataFrame index.\n",
      "  ref_compound_df = df[~df['Metadata_JCP2022'].isin(['JCP2022_999999', 'JCP2022_UNKNOWN'])].drop_duplicates()[~df['Metadata_JCP2022'].isin(['JCP2022_999999', 'JCP2022_UNKNOWN'])].reset_index().drop(columns='index')\n"
     ]
    }
   ],
   "source": [
    "ref_compound_df = df[~df['Metadata_JCP2022'].isin(['JCP2022_999999', 'JCP2022_UNKNOWN'])].drop_duplicates()[~df['Metadata_JCP2022'].isin(['JCP2022_999999', 'JCP2022_UNKNOWN'])].reset_index().drop(columns='index')"
   ]
  },
  {
   "cell_type": "code",
   "execution_count": 7,
   "metadata": {},
   "outputs": [],
   "source": [
    "ref_compound_df = ref_compound_df[~ref_compound_df['Metadata_Plate'].isin(no_dmso_plates)].reset_index().drop(columns='index')"
   ]
  },
  {
   "cell_type": "code",
   "execution_count": 8,
   "metadata": {},
   "outputs": [
    {
     "name": "stdout",
     "output_type": "stream",
     "text": [
      "<class 'pandas.core.frame.DataFrame'>\n",
      "RangeIndex: 745884 entries, 0 to 745883\n",
      "Data columns (total 6 columns):\n",
      " #   Column            Non-Null Count   Dtype \n",
      "---  ------            --------------   ----- \n",
      " 0   Metadata_Source   745884 non-null  object\n",
      " 1   Metadata_Batch    745884 non-null  object\n",
      " 2   Metadata_Plate    745884 non-null  object\n",
      " 3   Metadata_Well     745884 non-null  object\n",
      " 4   Metadata_JCP2022  745884 non-null  object\n",
      " 5   Metadata_InChI    745884 non-null  object\n",
      "dtypes: object(6)\n",
      "memory usage: 34.1+ MB\n"
     ]
    }
   ],
   "source": [
    "ref_compound_df.info()"
   ]
  },
  {
   "cell_type": "markdown",
   "metadata": {},
   "source": [
    "# pre-process"
   ]
  },
  {
   "cell_type": "markdown",
   "metadata": {},
   "source": [
    "### function"
   ]
  },
  {
   "cell_type": "code",
   "execution_count": 9,
   "metadata": {},
   "outputs": [],
   "source": [
    "\n",
    "def filter_and_save_embeddings_with_metadata(\n",
    "    df: pd.DataFrame,\n",
    "    ref_compound_df: pd.DataFrame,\n",
    "    embedding_col: str,\n",
    "    name: str,\n",
    "    metadata_cols: List[str],\n",
    "    storage_folder: Union[str, Path],\n",
    "    num_jobs: int = -1,\n",
    ") -> None:\n",
    "    \"\"\"\n",
    "    Filters rows of a DataFrame to match a reference DataFrame, keeps relevant columns,\n",
    "    loads embeddings into a single NumPy array, and saves metadata with matching indices.\n",
    "\n",
    "    Args:\n",
    "        df (pd.DataFrame): The DataFrame containing embedding paths and metadata.\n",
    "        ref_compound_df (pd.DataFrame): Reference DataFrame to filter rows.\n",
    "        embedding_col (str): The column containing paths to torch tensors.\n",
    "        name (str): A name to identify the saved files.\n",
    "        metadata_cols (List[str]): List of metadata columns to include.\n",
    "        storage_folder (Union[str, Path]): Folder to save the outputs.\n",
    "        num_jobs (int): Number of parallel jobs for embedding processing.\n",
    "    \"\"\"\n",
    "    # Ensure the storage folder exists\n",
    "    storage_folder = Path(storage_folder)\n",
    "    storage_folder.mkdir(parents=True, exist_ok=True)\n",
    "\n",
    "    # Validate embedding and metadata columns\n",
    "    if embedding_col not in df.columns:\n",
    "        raise ValueError(f\"Column '{embedding_col}' not found in the DataFrame.\")\n",
    "\n",
    "    missing_metadata_cols = [col for col in metadata_cols if col not in df.columns]\n",
    "    if missing_metadata_cols:\n",
    "        raise ValueError(f\"Missing metadata columns: {missing_metadata_cols}\")\n",
    "\n",
    "    # Filter rows based on the reference DataFrame\n",
    "    filtered_df = df.merge(ref_compound_df, on=metadata_cols, how=\"inner\")\n",
    "\n",
    "    if filtered_df.empty:\n",
    "        print(\"No matching rows found between the DataFrame and the reference DataFrame.\")\n",
    "        return\n",
    "\n",
    "    # Function to load an embedding\n",
    "    def load_embedding(embedding_path):\n",
    "        try:\n",
    "            tensor = torch.load(embedding_path, weights_only=True)\n",
    "            return tensor.numpy()\n",
    "        except Exception as e:\n",
    "            print(f\"Error loading embedding at {embedding_path}: {e}\")\n",
    "            return None\n",
    "\n",
    "    # Wrap embedding loading with tqdm for progress tracking\n",
    "    embedding_paths = filtered_df[embedding_col].tolist()\n",
    "\n",
    "    # Use tqdm to wrap Parallel processing\n",
    "    embeddings = Parallel(n_jobs=num_jobs)(\n",
    "        delayed(lambda path: (path, load_embedding(path)))(path)\n",
    "        for path in tqdm(embedding_paths)\n",
    "    )\n",
    "    embeddings = [emb for _, emb in embeddings if emb is not None]\n",
    "\n",
    "    # Filter out failed embeddings and update metadata accordingly\n",
    "    valid_indices = [i for i, emb in enumerate(embeddings) if emb is not None]\n",
    "    embeddings = np.array([embeddings[i] for i in valid_indices])\n",
    "    filtered_metadata = filtered_df.iloc[valid_indices].drop(columns=[embedding_col])[metadata_cols]\n",
    "\n",
    "    # Save embeddings as a single NumPy array\n",
    "    embeddings_path = storage_folder / f\"embeddings_{name}.npy\"\n",
    "    np.save(embeddings_path, embeddings)\n",
    "\n",
    "    # Save filtered metadata as a Parquet file\n",
    "    metadata_parquet_path = storage_folder / f\"metadata_{name}.parquet\"\n",
    "    filtered_metadata.to_parquet(metadata_parquet_path, index=False)\n",
    "\n",
    "    print(f\"Embeddings saved to: {embeddings_path}\")\n",
    "    print(f\"Metadata saved to: {metadata_parquet_path}\")\n",
    "    return filtered_metadata, embeddings\n",
    "\n",
    "\n",
    "# Example Usage\n",
    "common_columns = [\n",
    "    \"Metadata_Source\", \"Metadata_Batch\", \"Metadata_Plate\",\n",
    "    \"Metadata_Well\", \"Metadata_JCP2022\", \"Metadata_InChI\"\n",
    "]\n",
    "\n",
    "\n"
   ]
  },
  {
   "cell_type": "markdown",
   "metadata": {},
   "source": [
    "### OpenPhenom"
   ]
  },
  {
   "cell_type": "code",
   "execution_count": 10,
   "metadata": {},
   "outputs": [
    {
     "data": {
      "text/plain": [
       "Index(['Metadata_Well', 'Metadata_Source', 'Metadata_Batch', 'Metadata_Plate',\n",
       "       'Metadata_JCP2022', 'Metadata_InChI', 'Metadata_Is_Control',\n",
       "       'Metadata_Row', 'Metadata_Col', 'path_embedding'],\n",
       "      dtype='object')"
      ]
     },
     "execution_count": 10,
     "metadata": {},
     "output_type": "execute_result"
    }
   ],
   "source": [
    "openphenom_path = base_path / 'openphenom'\n",
    "df_phenom.columns"
   ]
  },
  {
   "cell_type": "code",
   "execution_count": 14,
   "metadata": {},
   "outputs": [
    {
     "data": {
      "text/plain": [
       "array(['ATSJUM122', 'UL001713', 'AETJUM108', 'UL001669'], dtype=object)"
      ]
     },
     "execution_count": 14,
     "metadata": {},
     "output_type": "execute_result"
    }
   ],
   "source": [
    "ref_compound_df.sample(n=4)['Metadata_Plate'].unique()"
   ]
  },
  {
   "cell_type": "code",
   "execution_count": 15,
   "metadata": {},
   "outputs": [
    {
     "data": {
      "text/html": [
       "<div>\n",
       "<style scoped>\n",
       "    .dataframe tbody tr th:only-of-type {\n",
       "        vertical-align: middle;\n",
       "    }\n",
       "\n",
       "    .dataframe tbody tr th {\n",
       "        vertical-align: top;\n",
       "    }\n",
       "\n",
       "    .dataframe thead th {\n",
       "        text-align: right;\n",
       "    }\n",
       "</style>\n",
       "<table border=\"1\" class=\"dataframe\">\n",
       "  <thead>\n",
       "    <tr style=\"text-align: right;\">\n",
       "      <th></th>\n",
       "      <th>Metadata_Source</th>\n",
       "      <th>Metadata_Batch</th>\n",
       "      <th>Metadata_Plate</th>\n",
       "      <th>Metadata_Well</th>\n",
       "      <th>Metadata_JCP2022</th>\n",
       "      <th>Metadata_InChI</th>\n",
       "    </tr>\n",
       "  </thead>\n",
       "  <tbody>\n",
       "    <tr>\n",
       "      <th>223720</th>\n",
       "      <td>source_2</td>\n",
       "      <td>20210614_Batch_1</td>\n",
       "      <td>1053600896</td>\n",
       "      <td>A01</td>\n",
       "      <td>JCP2022_085227</td>\n",
       "      <td>InChI=1S/C17H30N2O5/c1-6-23-17(22)14-13(24-14)...</td>\n",
       "    </tr>\n",
       "    <tr>\n",
       "      <th>223721</th>\n",
       "      <td>source_2</td>\n",
       "      <td>20210614_Batch_1</td>\n",
       "      <td>1053600896</td>\n",
       "      <td>A02</td>\n",
       "      <td>JCP2022_033924</td>\n",
       "      <td>InChI=1S/C2H6OS/c1-4(2)3/h1-2H3</td>\n",
       "    </tr>\n",
       "    <tr>\n",
       "      <th>223722</th>\n",
       "      <td>source_2</td>\n",
       "      <td>20210614_Batch_1</td>\n",
       "      <td>1053600896</td>\n",
       "      <td>A03</td>\n",
       "      <td>JCP2022_106987</td>\n",
       "      <td>InChI=1S/C26H21FN2O3S/c27-21-15-17-22(18-16-21...</td>\n",
       "    </tr>\n",
       "    <tr>\n",
       "      <th>223723</th>\n",
       "      <td>source_2</td>\n",
       "      <td>20210614_Batch_1</td>\n",
       "      <td>1053600896</td>\n",
       "      <td>A04</td>\n",
       "      <td>JCP2022_011874</td>\n",
       "      <td>InChI=1S/C32H29NO5/c34-25(20-11-3-1-4-12-20)19...</td>\n",
       "    </tr>\n",
       "    <tr>\n",
       "      <th>223724</th>\n",
       "      <td>source_2</td>\n",
       "      <td>20210614_Batch_1</td>\n",
       "      <td>1053600896</td>\n",
       "      <td>A05</td>\n",
       "      <td>JCP2022_058580</td>\n",
       "      <td>InChI=1S/C21H25FN4O4S/c1-15-6-7-19(16(2)12-15)...</td>\n",
       "    </tr>\n",
       "    <tr>\n",
       "      <th>...</th>\n",
       "      <td>...</td>\n",
       "      <td>...</td>\n",
       "      <td>...</td>\n",
       "      <td>...</td>\n",
       "      <td>...</td>\n",
       "      <td>...</td>\n",
       "    </tr>\n",
       "    <tr>\n",
       "      <th>597205</th>\n",
       "      <td>source_8</td>\n",
       "      <td>J4</td>\n",
       "      <td>A1166172</td>\n",
       "      <td>P20</td>\n",
       "      <td>JCP2022_009816</td>\n",
       "      <td>InChI=1S/C20H23FN2O4S/c1-15(24)22-20(16-6-4-3-...</td>\n",
       "    </tr>\n",
       "    <tr>\n",
       "      <th>597206</th>\n",
       "      <td>source_8</td>\n",
       "      <td>J4</td>\n",
       "      <td>A1166172</td>\n",
       "      <td>P21</td>\n",
       "      <td>JCP2022_024818</td>\n",
       "      <td>InChI=1S/C19H18Cl2N4O/c1-24(13-18(26)23-19-16(...</td>\n",
       "    </tr>\n",
       "    <tr>\n",
       "      <th>597207</th>\n",
       "      <td>source_8</td>\n",
       "      <td>J4</td>\n",
       "      <td>A1166172</td>\n",
       "      <td>P22</td>\n",
       "      <td>JCP2022_103073</td>\n",
       "      <td>InChI=1S/C17H16ClN3O/c1-11-3-4-13(7-16(11)18)2...</td>\n",
       "    </tr>\n",
       "    <tr>\n",
       "      <th>597208</th>\n",
       "      <td>source_8</td>\n",
       "      <td>J4</td>\n",
       "      <td>A1166172</td>\n",
       "      <td>P23</td>\n",
       "      <td>JCP2022_033924</td>\n",
       "      <td>InChI=1S/C2H6OS/c1-4(2)3/h1-2H3</td>\n",
       "    </tr>\n",
       "    <tr>\n",
       "      <th>597209</th>\n",
       "      <td>source_8</td>\n",
       "      <td>J4</td>\n",
       "      <td>A1166172</td>\n",
       "      <td>P24</td>\n",
       "      <td>JCP2022_046054</td>\n",
       "      <td>InChI=1S/C24H29N3O2/c28-23(12-11-21-8-6-15-25-...</td>\n",
       "    </tr>\n",
       "  </tbody>\n",
       "</table>\n",
       "<p>1151 rows × 6 columns</p>\n",
       "</div>"
      ],
      "text/plain": [
       "       Metadata_Source    Metadata_Batch Metadata_Plate Metadata_Well  \\\n",
       "223720        source_2  20210614_Batch_1     1053600896           A01   \n",
       "223721        source_2  20210614_Batch_1     1053600896           A02   \n",
       "223722        source_2  20210614_Batch_1     1053600896           A03   \n",
       "223723        source_2  20210614_Batch_1     1053600896           A04   \n",
       "223724        source_2  20210614_Batch_1     1053600896           A05   \n",
       "...                ...               ...            ...           ...   \n",
       "597205        source_8                J4       A1166172           P20   \n",
       "597206        source_8                J4       A1166172           P21   \n",
       "597207        source_8                J4       A1166172           P22   \n",
       "597208        source_8                J4       A1166172           P23   \n",
       "597209        source_8                J4       A1166172           P24   \n",
       "\n",
       "       Metadata_JCP2022                                     Metadata_InChI  \n",
       "223720   JCP2022_085227  InChI=1S/C17H30N2O5/c1-6-23-17(22)14-13(24-14)...  \n",
       "223721   JCP2022_033924                    InChI=1S/C2H6OS/c1-4(2)3/h1-2H3  \n",
       "223722   JCP2022_106987  InChI=1S/C26H21FN2O3S/c27-21-15-17-22(18-16-21...  \n",
       "223723   JCP2022_011874  InChI=1S/C32H29NO5/c34-25(20-11-3-1-4-12-20)19...  \n",
       "223724   JCP2022_058580  InChI=1S/C21H25FN4O4S/c1-15-6-7-19(16(2)12-15)...  \n",
       "...                 ...                                                ...  \n",
       "597205   JCP2022_009816  InChI=1S/C20H23FN2O4S/c1-15(24)22-20(16-6-4-3-...  \n",
       "597206   JCP2022_024818  InChI=1S/C19H18Cl2N4O/c1-24(13-18(26)23-19-16(...  \n",
       "597207   JCP2022_103073  InChI=1S/C17H16ClN3O/c1-11-3-4-13(7-16(11)18)2...  \n",
       "597208   JCP2022_033924                    InChI=1S/C2H6OS/c1-4(2)3/h1-2H3  \n",
       "597209   JCP2022_046054  InChI=1S/C24H29N3O2/c28-23(12-11-21-8-6-15-25-...  \n",
       "\n",
       "[1151 rows x 6 columns]"
      ]
     },
     "execution_count": 15,
     "metadata": {},
     "output_type": "execute_result"
    }
   ],
   "source": [
    "ref_compound_df[ref_compound_df['Metadata_Plate'].isin(['A1166172', 'AETJUM108', '1053600896'])]"
   ]
  },
  {
   "cell_type": "code",
   "execution_count": 17,
   "metadata": {},
   "outputs": [
    {
     "name": "stderr",
     "output_type": "stream",
     "text": [
      "100%|██████████| 1151/1151 [00:19<00:00, 58.51it/s]\n"
     ]
    },
    {
     "name": "stdout",
     "output_type": "stream",
     "text": [
      "Embeddings saved to: /projects/synsight/data/jump_embeddings/wells_embeddings/openphenom/embeddings_openphenom_test_3_plates.npy\n",
      "Metadata saved to: /projects/synsight/data/jump_embeddings/wells_embeddings/openphenom/metadata_openphenom_test_3_plates.parquet\n",
      "<class 'pandas.core.frame.DataFrame'>\n",
      "Index: 1151 entries, 0 to 1150\n",
      "Data columns (total 6 columns):\n",
      " #   Column            Non-Null Count  Dtype \n",
      "---  ------            --------------  ----- \n",
      " 0   Metadata_Source   1151 non-null   object\n",
      " 1   Metadata_Batch    1151 non-null   object\n",
      " 2   Metadata_Plate    1151 non-null   object\n",
      " 3   Metadata_Well     1151 non-null   object\n",
      " 4   Metadata_JCP2022  1151 non-null   object\n",
      " 5   Metadata_InChI    1151 non-null   object\n",
      "dtypes: object(6)\n",
      "memory usage: 62.9+ KB\n"
     ]
    }
   ],
   "source": [
    "filtered_metadata, embeddings = filter_and_save_embeddings_with_metadata(\n",
    "    df=df_phenom,\n",
    "    ref_compound_df=ref_compound_df[ref_compound_df['Metadata_Plate'].isin(['A1166172', 'AETJUM108', '1053600896'])],\n",
    "    embedding_col=\"path_embedding\",  \n",
    "    name='openphenom_test_3_plates',\n",
    "    metadata_cols=common_columns,\n",
    "    storage_folder=openphenom_path,\n",
    "    num_jobs=10,\n",
    ")\n",
    "\n",
    "filtered_metadata.info()"
   ]
  }
 ],
 "metadata": {
  "kernelspec": {
   "display_name": ".venv",
   "language": "python",
   "name": "python3"
  },
  "language_info": {
   "codemirror_mode": {
    "name": "ipython",
    "version": 3
   },
   "file_extension": ".py",
   "mimetype": "text/x-python",
   "name": "python",
   "nbconvert_exporter": "python",
   "pygments_lexer": "ipython3",
   "version": "3.10.10"
  }
 },
 "nbformat": 4,
 "nbformat_minor": 2
}
