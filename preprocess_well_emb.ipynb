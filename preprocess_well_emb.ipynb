{
 "cells": [
  {
   "cell_type": "markdown",
   "metadata": {},
   "source": [
    "# Import "
   ]
  },
  {
   "cell_type": "code",
   "execution_count": 72,
   "metadata": {},
   "outputs": [],
   "source": [
    "import numpy as np\n",
    "import pandas as pd\n",
    "import torch \n",
    "from tqdm import tqdm\n",
    "import matplotlib.pyplot as plt\n",
    "from pathlib import Path\n",
    "import os\n",
    "from joblib import Parallel, delayed\n",
    "from typing import Union, List\n"
   ]
  },
  {
   "cell_type": "code",
   "execution_count": 2,
   "metadata": {},
   "outputs": [
    {
     "name": "stderr",
     "output_type": "stream",
     "text": [
      "/tmp/ipykernel_4175210/599528953.py:2: DtypeWarning: Columns (2,8,9,10,11,12,13,14,15,18,20) have mixed types. Specify dtype option on import or set low_memory=False.\n",
      "  df_meta = pd.read_csv('/projects/cpjump1/jump/metadata/complete_metadata.csv')\n"
     ]
    }
   ],
   "source": [
    "df_phenom = pd.read_parquet('/projects/synsight/data/openphenom/raw_well_embeddings/wells_em_openphenom.parquet')\n",
    "df_meta = pd.read_csv('/projects/cpjump1/jump/metadata/complete_metadata.csv')"
   ]
  },
  {
   "cell_type": "code",
   "execution_count": 73,
   "metadata": {},
   "outputs": [],
   "source": [
    "\n",
    "df_dinov2_s = pd.read_parquet('/projects/synsight/data/dinov2_small/raw_well_embeddings/wells_em_dinov2s.parquet')\n",
    "df_dinov2_g = pd.read_parquet('/projects/synsight/data/dinov2/raw_well_embeddings/wells_em_dinov2.parquet')\n",
    "df_resnet = pd.read_parquet('/projects/cpjump1/jump/images_embeddings/resnet50_raw/metadata/load_wells/df_meta_raw_well.parquet')\n",
    "df_chada = pd.read_parquet('/projects/synsight/data/chada/well_embeddings/metadata_raw_mean.parquet')\n"
   ]
  },
  {
   "cell_type": "code",
   "execution_count": 4,
   "metadata": {},
   "outputs": [],
   "source": [
    "no_dmso_plates = [\n",
    "            \"Dest210823-174240\",\n",
    "            \"Dest210628-162003\",\n",
    "            \"Dest210823-174422\",\n",
    "        ]"
   ]
  },
  {
   "cell_type": "code",
   "execution_count": 5,
   "metadata": {},
   "outputs": [],
   "source": [
    "base_path = Path('/projects/synsight/data/jump_embeddings/wells_embeddings')"
   ]
  },
  {
   "cell_type": "markdown",
   "metadata": {},
   "source": [
    "# check cols"
   ]
  },
  {
   "cell_type": "code",
   "execution_count": 5,
   "metadata": {},
   "outputs": [
    {
     "ename": "NameError",
     "evalue": "name 'df_dinov2_s' is not defined",
     "output_type": "error",
     "traceback": [
      "\u001b[0;31m---------------------------------------------------------------------------\u001b[0m",
      "\u001b[0;31mNameError\u001b[0m                                 Traceback (most recent call last)",
      "Cell \u001b[0;32mIn[5], line 4\u001b[0m\n\u001b[1;32m      1\u001b[0m \u001b[38;5;66;03m# List of all DataFrames\u001b[39;00m\n\u001b[1;32m      2\u001b[0m dataframes \u001b[38;5;241m=\u001b[39m {\n\u001b[1;32m      3\u001b[0m     \u001b[38;5;124m\"\u001b[39m\u001b[38;5;124mdf_phenom\u001b[39m\u001b[38;5;124m\"\u001b[39m: df_phenom,\n\u001b[0;32m----> 4\u001b[0m     \u001b[38;5;124m\"\u001b[39m\u001b[38;5;124mdf_dinov2_s\u001b[39m\u001b[38;5;124m\"\u001b[39m: \u001b[43mdf_dinov2_s\u001b[49m,\n\u001b[1;32m      5\u001b[0m     \u001b[38;5;124m\"\u001b[39m\u001b[38;5;124mdf_dinov2_g\u001b[39m\u001b[38;5;124m\"\u001b[39m: df_dinov2_g,\n\u001b[1;32m      6\u001b[0m     \u001b[38;5;124m\"\u001b[39m\u001b[38;5;124mdf_resnet\u001b[39m\u001b[38;5;124m\"\u001b[39m: df_resnet,\n\u001b[1;32m      7\u001b[0m     \u001b[38;5;124m\"\u001b[39m\u001b[38;5;124mdf_chada\u001b[39m\u001b[38;5;124m\"\u001b[39m: df_chada,\n\u001b[1;32m      8\u001b[0m }\n\u001b[1;32m     10\u001b[0m all_columns \u001b[38;5;241m=\u001b[39m \u001b[38;5;28mset\u001b[39m()\n\u001b[1;32m     11\u001b[0m \u001b[38;5;28;01mfor\u001b[39;00m name, df \u001b[38;5;129;01min\u001b[39;00m dataframes\u001b[38;5;241m.\u001b[39mitems():\n",
      "\u001b[0;31mNameError\u001b[0m: name 'df_dinov2_s' is not defined"
     ]
    }
   ],
   "source": [
    "# List of all DataFrames\n",
    "dataframes = {\n",
    "    \"df_phenom\": df_phenom,\n",
    "    \"df_dinov2_s\": df_dinov2_s,\n",
    "    \"df_dinov2_g\": df_dinov2_g,\n",
    "    \"df_resnet\": df_resnet,\n",
    "    \"df_chada\": df_chada,\n",
    "}\n",
    "\n",
    "all_columns = set()\n",
    "for name, df in dataframes.items():\n",
    "    all_columns.update(df.columns)\n",
    "\n",
    "column_presence = {col: {name: col in df.columns for name, df in dataframes.items()} for col in all_columns}\n",
    "presence_df = pd.DataFrame(column_presence).T\n"
   ]
  },
  {
   "cell_type": "code",
   "execution_count": 6,
   "metadata": {},
   "outputs": [
    {
     "ename": "NameError",
     "evalue": "name 'presence_df' is not defined",
     "output_type": "error",
     "traceback": [
      "\u001b[0;31m---------------------------------------------------------------------------\u001b[0m",
      "\u001b[0;31mNameError\u001b[0m                                 Traceback (most recent call last)",
      "Cell \u001b[0;32mIn[6], line 1\u001b[0m\n\u001b[0;32m----> 1\u001b[0m \u001b[43mpresence_df\u001b[49m\n",
      "\u001b[0;31mNameError\u001b[0m: name 'presence_df' is not defined"
     ]
    }
   ],
   "source": [
    "presence_df"
   ]
  },
  {
   "cell_type": "code",
   "execution_count": 68,
   "metadata": {},
   "outputs": [
    {
     "data": {
      "text/html": [
       "<div>\n",
       "<style scoped>\n",
       "    .dataframe tbody tr th:only-of-type {\n",
       "        vertical-align: middle;\n",
       "    }\n",
       "\n",
       "    .dataframe tbody tr th {\n",
       "        vertical-align: top;\n",
       "    }\n",
       "\n",
       "    .dataframe thead th {\n",
       "        text-align: right;\n",
       "    }\n",
       "</style>\n",
       "<table border=\"1\" class=\"dataframe\">\n",
       "  <thead>\n",
       "    <tr style=\"text-align: right;\">\n",
       "      <th></th>\n",
       "      <th>Common Columns</th>\n",
       "    </tr>\n",
       "  </thead>\n",
       "  <tbody>\n",
       "    <tr>\n",
       "      <th>0</th>\n",
       "      <td>Metadata_Row</td>\n",
       "    </tr>\n",
       "    <tr>\n",
       "      <th>1</th>\n",
       "      <td>Metadata_Source</td>\n",
       "    </tr>\n",
       "    <tr>\n",
       "      <th>2</th>\n",
       "      <td>Metadata_Col</td>\n",
       "    </tr>\n",
       "    <tr>\n",
       "      <th>3</th>\n",
       "      <td>Metadata_Batch</td>\n",
       "    </tr>\n",
       "    <tr>\n",
       "      <th>4</th>\n",
       "      <td>Metadata_InChI</td>\n",
       "    </tr>\n",
       "    <tr>\n",
       "      <th>5</th>\n",
       "      <td>Metadata_Plate</td>\n",
       "    </tr>\n",
       "    <tr>\n",
       "      <th>6</th>\n",
       "      <td>Metadata_JCP2022</td>\n",
       "    </tr>\n",
       "    <tr>\n",
       "      <th>7</th>\n",
       "      <td>Metadata_Well</td>\n",
       "    </tr>\n",
       "  </tbody>\n",
       "</table>\n",
       "</div>"
      ],
      "text/plain": [
       "     Common Columns\n",
       "0      Metadata_Row\n",
       "1   Metadata_Source\n",
       "2      Metadata_Col\n",
       "3    Metadata_Batch\n",
       "4    Metadata_InChI\n",
       "5    Metadata_Plate\n",
       "6  Metadata_JCP2022\n",
       "7     Metadata_Well"
      ]
     },
     "execution_count": 68,
     "metadata": {},
     "output_type": "execute_result"
    }
   ],
   "source": [
    "common_columns = set.intersection(*(set(df.columns) for df in dataframes.values()))\n",
    "common_columns_df = pd.DataFrame({\"Common Columns\": list(common_columns)})\n",
    "common_columns_df"
   ]
  },
  {
   "cell_type": "markdown",
   "metadata": {},
   "source": [
    "# Reference"
   ]
  },
  {
   "cell_type": "code",
   "execution_count": 6,
   "metadata": {},
   "outputs": [],
   "source": [
    "images_df_path = \"/projects/cpjump1/jump/load_data/final\"\n",
    "images_df = pd.read_parquet(images_df_path)\n",
    "\n",
    "images_df[\"Metadata_Batch\"] = images_df[\"Metadata_Batch\"].astype(str)\n",
    "df_meta[\"Metadata_Batch\"] = df_meta[\"Metadata_Batch\"].astype(str)\n",
    "images_df[\"Metadata_Plate\"] = images_df[\"Metadata_Plate\"].astype(str)\n",
    "df_meta[\"Metadata_Plate\"] = df_meta[\"Metadata_Plate\"].astype(str)\n",
    "images_df[\"Metadata_Source\"] = images_df[\"Metadata_Source\"].astype(str)\n",
    "df_meta[\"Metadata_Source\"] = df_meta[\"Metadata_Source\"].astype(str)\n",
    "images_df[\"Metadata_Well\"] = images_df[\"Metadata_Well\"].astype(str)\n",
    "df_meta[\"Metadata_Well\"] = df_meta[\"Metadata_Well\"].astype(str)\n",
    "\n",
    "merged_df = pd.merge(images_df, df_meta, on=[\"Metadata_Source\", \"Metadata_Plate\", \"Metadata_Well\"])\n",
    "df = merged_df[merged_df[\"Metadata_PlateType\"]=='COMPOUND'][['Metadata_Source', 'Metadata_Batch_x', 'Metadata_Plate',\n",
    "       'Metadata_Well', 'Metadata_JCP2022', 'Metadata_InChI']]\n",
    "df.columns = ['Metadata_Source', 'Metadata_Batch', 'Metadata_Plate', 'Metadata_Well', 'Metadata_JCP2022', 'Metadata_InChI']"
   ]
  },
  {
   "cell_type": "code",
   "execution_count": 28,
   "metadata": {},
   "outputs": [
    {
     "name": "stderr",
     "output_type": "stream",
     "text": [
      "/tmp/ipykernel_4175210/1714066172.py:1: UserWarning: Boolean Series key will be reindexed to match DataFrame index.\n",
      "  ref_compound_df = df[~df['Metadata_JCP2022'].isin(['JCP2022_999999', 'JCP2022_UNKNOWN'])].drop_duplicates()[~df['Metadata_JCP2022'].isin(['JCP2022_999999', 'JCP2022_UNKNOWN'])].reset_index().drop(columns='index')\n"
     ]
    }
   ],
   "source": [
    "ref_compound_df = df[~df['Metadata_JCP2022'].isin(['JCP2022_999999', 'JCP2022_UNKNOWN'])].drop_duplicates()[~df['Metadata_JCP2022'].isin(['JCP2022_999999', 'JCP2022_UNKNOWN'])].reset_index().drop(columns='index')"
   ]
  },
  {
   "cell_type": "code",
   "execution_count": 55,
   "metadata": {},
   "outputs": [],
   "source": [
    "ref_compound_df = ref_compound_df[~ref_compound_df['Metadata_Plate'].isin(no_dmso_plates)].reset_index().drop(columns='index')"
   ]
  },
  {
   "cell_type": "code",
   "execution_count": 56,
   "metadata": {},
   "outputs": [
    {
     "name": "stdout",
     "output_type": "stream",
     "text": [
      "<class 'pandas.core.frame.DataFrame'>\n",
      "RangeIndex: 745884 entries, 0 to 745883\n",
      "Data columns (total 6 columns):\n",
      " #   Column            Non-Null Count   Dtype \n",
      "---  ------            --------------   ----- \n",
      " 0   Metadata_Source   745884 non-null  object\n",
      " 1   Metadata_Batch    745884 non-null  object\n",
      " 2   Metadata_Plate    745884 non-null  object\n",
      " 3   Metadata_Well     745884 non-null  object\n",
      " 4   Metadata_JCP2022  745884 non-null  object\n",
      " 5   Metadata_InChI    745884 non-null  object\n",
      "dtypes: object(6)\n",
      "memory usage: 34.1+ MB\n"
     ]
    }
   ],
   "source": [
    "ref_compound_df.info()"
   ]
  },
  {
   "cell_type": "markdown",
   "metadata": {},
   "source": [
    "# pre-process"
   ]
  },
  {
   "cell_type": "markdown",
   "metadata": {},
   "source": [
    "### function"
   ]
  },
  {
   "cell_type": "code",
   "execution_count": 10,
   "metadata": {},
   "outputs": [],
   "source": [
    "\n",
    "def filter_and_save_embeddings_with_metadata(\n",
    "    df: pd.DataFrame,\n",
    "    ref_compound_df: pd.DataFrame,\n",
    "    embedding_col: str,\n",
    "    name: str,\n",
    "    metadata_cols: List[str],\n",
    "    storage_folder: Union[str, Path],\n",
    "    num_jobs: int = -1,\n",
    ") -> None:\n",
    "    \"\"\"\n",
    "    Filters rows of a DataFrame to match a reference DataFrame, keeps relevant columns,\n",
    "    loads embeddings into a single NumPy array, and saves metadata with matching indices.\n",
    "\n",
    "    Args:\n",
    "        df (pd.DataFrame): The DataFrame containing embedding paths and metadata.\n",
    "        ref_compound_df (pd.DataFrame): Reference DataFrame to filter rows.\n",
    "        embedding_col (str): The column containing paths to torch tensors.\n",
    "        name (str): A name to identify the saved files.\n",
    "        metadata_cols (List[str]): List of metadata columns to include.\n",
    "        storage_folder (Union[str, Path]): Folder to save the outputs.\n",
    "        num_jobs (int): Number of parallel jobs for embedding processing.\n",
    "    \"\"\"\n",
    "    # Ensure the storage folder exists\n",
    "    storage_folder = Path(storage_folder)\n",
    "    storage_folder.mkdir(parents=True, exist_ok=True)\n",
    "\n",
    "    # Validate embedding and metadata columns\n",
    "    if embedding_col not in df.columns:\n",
    "        raise ValueError(f\"Column '{embedding_col}' not found in the DataFrame.\")\n",
    "\n",
    "    missing_metadata_cols = [col for col in metadata_cols if col not in df.columns]\n",
    "    if missing_metadata_cols:\n",
    "        raise ValueError(f\"Missing metadata columns: {missing_metadata_cols}\")\n",
    "\n",
    "    # Filter rows based on the reference DataFrame\n",
    "    filtered_df = df.merge(ref_compound_df, on=metadata_cols, how=\"inner\")\n",
    "\n",
    "    if filtered_df.empty:\n",
    "        print(\"No matching rows found between the DataFrame and the reference DataFrame.\")\n",
    "        return\n",
    "\n",
    "    # Function to load an embedding\n",
    "    def load_embedding(embedding_path):\n",
    "        try:\n",
    "            tensor = torch.load(embedding_path, weights_only=True)\n",
    "            return tensor.numpy()\n",
    "        except Exception as e:\n",
    "            print(f\"Error loading embedding at {embedding_path}: {e}\")\n",
    "            return None\n",
    "\n",
    "    # Wrap embedding loading with tqdm for progress tracking\n",
    "    embedding_paths = filtered_df[embedding_col].tolist()\n",
    "\n",
    "    # Use tqdm to wrap Parallel processing\n",
    "    embeddings = Parallel(n_jobs=num_jobs)(\n",
    "        delayed(lambda path: (path, load_embedding(path)))(path)\n",
    "        for path in tqdm(embedding_paths)\n",
    "    )\n",
    "    embeddings = [emb for _, emb in embeddings if emb is not None]\n",
    "\n",
    "    # Filter out failed embeddings and update metadata accordingly\n",
    "    valid_indices = [i for i, emb in enumerate(embeddings) if emb is not None]\n",
    "    embeddings = np.array([embeddings[i] for i in valid_indices])\n",
    "    filtered_metadata = filtered_df.iloc[valid_indices].drop(columns=[embedding_col])[metadata_cols]\n",
    "\n",
    "    # Save embeddings as a single NumPy array\n",
    "    embeddings_path = storage_folder / f\"embeddings_{name}.npy\"\n",
    "    np.save(embeddings_path, embeddings)\n",
    "\n",
    "    # Save filtered metadata as a Parquet file\n",
    "    metadata_parquet_path = storage_folder / f\"metadata_{name}.parquet\"\n",
    "    filtered_metadata.to_parquet(metadata_parquet_path, index=False)\n",
    "\n",
    "    print(f\"Embeddings saved to: {embeddings_path}\")\n",
    "    print(f\"Metadata saved to: {metadata_parquet_path}\")\n",
    "    return filtered_metadata, embeddings\n",
    "\n",
    "\n",
    "# Example Usage\n",
    "common_columns = [\n",
    "    \"Metadata_Source\", \"Metadata_Batch\", \"Metadata_Plate\",\n",
    "    \"Metadata_Well\", \"Metadata_JCP2022\", \"Metadata_InChI\"\n",
    "]\n",
    "\n",
    "\n"
   ]
  },
  {
   "cell_type": "markdown",
   "metadata": {},
   "source": [
    "### Resnet"
   ]
  },
  {
   "cell_type": "code",
   "execution_count": 11,
   "metadata": {},
   "outputs": [
    {
     "data": {
      "text/plain": [
       "Index(['Metadata_Source', 'Metadata_Plate', 'Metadata_Well', 'Metadata_InChI',\n",
       "       'Metadata_PlateType', 'Metadata_Batch', 'Well_Embedding_mean',\n",
       "       'Well_Embedding_median', 'Metadata_Row', 'Metadata_Col',\n",
       "       'Metadata_JCP2022'],\n",
       "      dtype='object')"
      ]
     },
     "execution_count": 11,
     "metadata": {},
     "output_type": "execute_result"
    }
   ],
   "source": [
    "resnet_path = base_path / 'resnet50'\n",
    "df_resnet.columns"
   ]
  },
  {
   "cell_type": "code",
   "execution_count": 12,
   "metadata": {},
   "outputs": [
    {
     "name": "stderr",
     "output_type": "stream",
     "text": [
      "100%|██████████| 745884/745884 [25:06<00:00, 495.02it/s] \n"
     ]
    },
    {
     "name": "stdout",
     "output_type": "stream",
     "text": [
      "Embeddings saved to: /projects/synsight/data/jump_embeddings/wells_embeddings/resnet50/embeddings_resnet50_mean.npy\n",
      "Metadata saved to: /projects/synsight/data/jump_embeddings/wells_embeddings/resnet50/metadata_resnet50_mean.parquet\n",
      "<class 'pandas.core.frame.DataFrame'>\n",
      "Index: 745884 entries, 0 to 745883\n",
      "Data columns (total 6 columns):\n",
      " #   Column            Non-Null Count   Dtype \n",
      "---  ------            --------------   ----- \n",
      " 0   Metadata_Source   745884 non-null  object\n",
      " 1   Metadata_Batch    745884 non-null  object\n",
      " 2   Metadata_Plate    745884 non-null  object\n",
      " 3   Metadata_Well     745884 non-null  object\n",
      " 4   Metadata_JCP2022  745884 non-null  object\n",
      " 5   Metadata_InChI    745884 non-null  object\n",
      "dtypes: object(6)\n",
      "memory usage: 39.8+ MB\n"
     ]
    }
   ],
   "source": [
    "filtered_metadata, embeddings = filter_and_save_embeddings_with_metadata(\n",
    "    df=df_resnet,\n",
    "    ref_compound_df=ref_compound_df,\n",
    "    embedding_col=\"Well_Embedding_mean\",  \n",
    "    name='resnet50_mean',\n",
    "    metadata_cols=common_columns,\n",
    "    storage_folder=resnet_path,\n",
    "    num_jobs=79,\n",
    ")\n",
    "\n",
    "filtered_metadata.info()"
   ]
  },
  {
   "cell_type": "code",
   "execution_count": null,
   "metadata": {},
   "outputs": [],
   "source": [
    "filtered_metadata, embeddings = filter_and_save_embeddings_with_metadata(\n",
    "    df=df_resnet,\n",
    "    ref_compound_df=ref_compound_df,\n",
    "    embedding_col=\"Well_Embedding_median\",  \n",
    "    name='resnet50_median',\n",
    "    metadata_cols=common_columns,\n",
    "    storage_folder=resnet_path,\n",
    "    num_jobs=79,\n",
    ")\n",
    "\n",
    "filtered_metadata.info()"
   ]
  },
  {
   "cell_type": "markdown",
   "metadata": {},
   "source": [
    "### chada"
   ]
  },
  {
   "cell_type": "code",
   "execution_count": 74,
   "metadata": {},
   "outputs": [
    {
     "data": {
      "text/plain": [
       "Index(['Metadata_Source', 'Metadata_Plate', 'Metadata_Well', 'Metadata_InChI',\n",
       "       'Metadata_PlateType', 'Metadata_Batch', 'Metadata_Is_Control',\n",
       "       'Embeddings_mean', 'Metadata_Row', 'Metadata_Col', 'Path_Embeddings',\n",
       "       'Metadata_JCP2022'],\n",
       "      dtype='object')"
      ]
     },
     "execution_count": 74,
     "metadata": {},
     "output_type": "execute_result"
    }
   ],
   "source": [
    "chada_path = base_path / 'chada'\n",
    "df_chada.columns\n"
   ]
  },
  {
   "cell_type": "code",
   "execution_count": 76,
   "metadata": {},
   "outputs": [],
   "source": [
    "df_chada = df_chada[~df_chada['Metadata_Plate'].isin(no_dmso_plates)].reset_index().drop(columns='index')"
   ]
  },
  {
   "cell_type": "code",
   "execution_count": 77,
   "metadata": {},
   "outputs": [
    {
     "data": {
      "text/plain": [
       "745879"
      ]
     },
     "execution_count": 77,
     "metadata": {},
     "output_type": "execute_result"
    }
   ],
   "source": [
    "len(df_chada)"
   ]
  },
  {
   "cell_type": "code",
   "execution_count": 78,
   "metadata": {},
   "outputs": [
    {
     "data": {
      "text/html": [
       "<div>\n",
       "<style scoped>\n",
       "    .dataframe tbody tr th:only-of-type {\n",
       "        vertical-align: middle;\n",
       "    }\n",
       "\n",
       "    .dataframe tbody tr th {\n",
       "        vertical-align: top;\n",
       "    }\n",
       "\n",
       "    .dataframe thead th {\n",
       "        text-align: right;\n",
       "    }\n",
       "</style>\n",
       "<table border=\"1\" class=\"dataframe\">\n",
       "  <thead>\n",
       "    <tr style=\"text-align: right;\">\n",
       "      <th></th>\n",
       "      <th>Metadata_Source</th>\n",
       "      <th>Metadata_Plate</th>\n",
       "      <th>Metadata_Well</th>\n",
       "      <th>Metadata_InChI</th>\n",
       "      <th>Metadata_PlateType</th>\n",
       "      <th>Metadata_Batch</th>\n",
       "      <th>Metadata_Is_Control</th>\n",
       "      <th>Embeddings_mean</th>\n",
       "      <th>Metadata_Row</th>\n",
       "      <th>Metadata_Col</th>\n",
       "      <th>Path_Embeddings</th>\n",
       "      <th>Metadata_JCP2022</th>\n",
       "    </tr>\n",
       "  </thead>\n",
       "  <tbody>\n",
       "    <tr>\n",
       "      <th>0</th>\n",
       "      <td>source_11</td>\n",
       "      <td>EC000025</td>\n",
       "      <td>B03</td>\n",
       "      <td>InChI=1S/C25H31N3O3/c1-3-20-12-7-8-14-22(20)26...</td>\n",
       "      <td>COMPOUND</td>\n",
       "      <td>Batch1</td>\n",
       "      <td>False</td>\n",
       "      <td>[0.78557825, 0.41657415, -2.1980793, -0.388481...</td>\n",
       "      <td>2</td>\n",
       "      <td>3</td>\n",
       "      <td>/projects/synsight/data/chada/well_embeddings/...</td>\n",
       "      <td>JCP2022_042808</td>\n",
       "    </tr>\n",
       "    <tr>\n",
       "      <th>1</th>\n",
       "      <td>source_2</td>\n",
       "      <td>1086289693</td>\n",
       "      <td>F20</td>\n",
       "      <td>InChI=1S/C16H15F3N2O3/c1-10-4-2-3-5-12(10)24-9...</td>\n",
       "      <td>COMPOUND</td>\n",
       "      <td>20211003_Batch_13</td>\n",
       "      <td>False</td>\n",
       "      <td>[0.18799336, -0.4325749, -1.0657859, -0.159291...</td>\n",
       "      <td>6</td>\n",
       "      <td>20</td>\n",
       "      <td>/projects/synsight/data/chada/well_embeddings/...</td>\n",
       "      <td>JCP2022_029363</td>\n",
       "    </tr>\n",
       "    <tr>\n",
       "      <th>2</th>\n",
       "      <td>source_6</td>\n",
       "      <td>110000296324</td>\n",
       "      <td>I12</td>\n",
       "      <td>InChI=1S/C21H20FN3O2/c22-17-7-5-15(6-8-17)20-1...</td>\n",
       "      <td>COMPOUND</td>\n",
       "      <td>p210927CPU2OS48hw384exp029JUMP</td>\n",
       "      <td>False</td>\n",
       "      <td>[-0.24563168, -0.4394592, -0.9976242, -0.27873...</td>\n",
       "      <td>9</td>\n",
       "      <td>12</td>\n",
       "      <td>/projects/synsight/data/chada/well_embeddings/...</td>\n",
       "      <td>JCP2022_025791</td>\n",
       "    </tr>\n",
       "    <tr>\n",
       "      <th>3</th>\n",
       "      <td>source_8</td>\n",
       "      <td>A1166159</td>\n",
       "      <td>A11</td>\n",
       "      <td>InChI=1S/C15H20ClN3O3/c1-15(14(21)18-6-8-22-2)...</td>\n",
       "      <td>COMPOUND</td>\n",
       "      <td>J4</td>\n",
       "      <td>False</td>\n",
       "      <td>[0.4652346, -0.3344115, -2.3212726, -0.6073519...</td>\n",
       "      <td>1</td>\n",
       "      <td>11</td>\n",
       "      <td>/projects/synsight/data/chada/well_embeddings/...</td>\n",
       "      <td>JCP2022_028247</td>\n",
       "    </tr>\n",
       "    <tr>\n",
       "      <th>4</th>\n",
       "      <td>source_9</td>\n",
       "      <td>GR00004394</td>\n",
       "      <td>L12</td>\n",
       "      <td>InChI=1S/C13H22N4O2S2/c14-21(18,19)12-9-15-13(...</td>\n",
       "      <td>COMPOUND</td>\n",
       "      <td>20211102-Run15</td>\n",
       "      <td>False</td>\n",
       "      <td>[0.2912807, -0.3196573, -0.66259694, -0.220878...</td>\n",
       "      <td>12</td>\n",
       "      <td>12</td>\n",
       "      <td>/projects/synsight/data/chada/well_embeddings/...</td>\n",
       "      <td>JCP2022_071337</td>\n",
       "    </tr>\n",
       "    <tr>\n",
       "      <th>...</th>\n",
       "      <td>...</td>\n",
       "      <td>...</td>\n",
       "      <td>...</td>\n",
       "      <td>...</td>\n",
       "      <td>...</td>\n",
       "      <td>...</td>\n",
       "      <td>...</td>\n",
       "      <td>...</td>\n",
       "      <td>...</td>\n",
       "      <td>...</td>\n",
       "      <td>...</td>\n",
       "      <td>...</td>\n",
       "    </tr>\n",
       "    <tr>\n",
       "      <th>745874</th>\n",
       "      <td>source_3</td>\n",
       "      <td>J12440b</td>\n",
       "      <td>K21</td>\n",
       "      <td>InChI=1S/C17H17N3O3S2/c21-17-8-7-13(25(22,23)2...</td>\n",
       "      <td>COMPOUND</td>\n",
       "      <td>CP_26_all_Phenix1</td>\n",
       "      <td>False</td>\n",
       "      <td>[0.3275261, -0.44286105, -2.4580777, -0.320452...</td>\n",
       "      <td>11</td>\n",
       "      <td>21</td>\n",
       "      <td>/projects/synsight/data/chada/well_embeddings/...</td>\n",
       "      <td>JCP2022_029013</td>\n",
       "    </tr>\n",
       "    <tr>\n",
       "      <th>745875</th>\n",
       "      <td>source_8</td>\n",
       "      <td>A1170491</td>\n",
       "      <td>N21</td>\n",
       "      <td>InChI=1S/C2H6OS/c1-4(2)3/h1-2H3</td>\n",
       "      <td>COMPOUND</td>\n",
       "      <td>J2</td>\n",
       "      <td>True</td>\n",
       "      <td>[0.21251413, -0.49264348, -1.3788915, -0.39903...</td>\n",
       "      <td>14</td>\n",
       "      <td>21</td>\n",
       "      <td>/projects/synsight/data/chada/well_embeddings/...</td>\n",
       "      <td>JCP2022_033924</td>\n",
       "    </tr>\n",
       "    <tr>\n",
       "      <th>745876</th>\n",
       "      <td>source_2</td>\n",
       "      <td>1086290361</td>\n",
       "      <td>N12</td>\n",
       "      <td>InChI=1S/C14H12N4O2S/c1-9-13(21-8-18-9)14(19)1...</td>\n",
       "      <td>COMPOUND</td>\n",
       "      <td>20210920_Batch_12</td>\n",
       "      <td>False</td>\n",
       "      <td>[0.12376895, -0.33975706, -1.3941263, -0.56959...</td>\n",
       "      <td>14</td>\n",
       "      <td>12</td>\n",
       "      <td>/projects/synsight/data/chada/well_embeddings/...</td>\n",
       "      <td>JCP2022_080475</td>\n",
       "    </tr>\n",
       "    <tr>\n",
       "      <th>745877</th>\n",
       "      <td>source_3</td>\n",
       "      <td>SP32P35a</td>\n",
       "      <td>J22</td>\n",
       "      <td>InChI=1S/C19H27N5OS/c1-20-18(25)17-15(16-19(26...</td>\n",
       "      <td>COMPOUND</td>\n",
       "      <td>CP_29_all_Phenix1</td>\n",
       "      <td>False</td>\n",
       "      <td>[0.09203631, -0.21997674, -2.5780022, -0.44948...</td>\n",
       "      <td>10</td>\n",
       "      <td>22</td>\n",
       "      <td>/projects/synsight/data/chada/well_embeddings/...</td>\n",
       "      <td>JCP2022_108539</td>\n",
       "    </tr>\n",
       "    <tr>\n",
       "      <th>745878</th>\n",
       "      <td>source_3</td>\n",
       "      <td>SP05P08d</td>\n",
       "      <td>G18</td>\n",
       "      <td>InChI=1S/C19H16ClN3O3/c1-12-17(18(22-26-12)15-...</td>\n",
       "      <td>COMPOUND</td>\n",
       "      <td>CP_28_all_Phenix1</td>\n",
       "      <td>False</td>\n",
       "      <td>[0.095867954, -0.63436216, -1.3961793, -0.3568...</td>\n",
       "      <td>7</td>\n",
       "      <td>18</td>\n",
       "      <td>/projects/synsight/data/chada/well_embeddings/...</td>\n",
       "      <td>JCP2022_060566</td>\n",
       "    </tr>\n",
       "  </tbody>\n",
       "</table>\n",
       "<p>745879 rows × 12 columns</p>\n",
       "</div>"
      ],
      "text/plain": [
       "       Metadata_Source Metadata_Plate Metadata_Well  \\\n",
       "0            source_11       EC000025           B03   \n",
       "1             source_2     1086289693           F20   \n",
       "2             source_6   110000296324           I12   \n",
       "3             source_8       A1166159           A11   \n",
       "4             source_9     GR00004394           L12   \n",
       "...                ...            ...           ...   \n",
       "745874        source_3        J12440b           K21   \n",
       "745875        source_8       A1170491           N21   \n",
       "745876        source_2     1086290361           N12   \n",
       "745877        source_3       SP32P35a           J22   \n",
       "745878        source_3       SP05P08d           G18   \n",
       "\n",
       "                                           Metadata_InChI Metadata_PlateType  \\\n",
       "0       InChI=1S/C25H31N3O3/c1-3-20-12-7-8-14-22(20)26...           COMPOUND   \n",
       "1       InChI=1S/C16H15F3N2O3/c1-10-4-2-3-5-12(10)24-9...           COMPOUND   \n",
       "2       InChI=1S/C21H20FN3O2/c22-17-7-5-15(6-8-17)20-1...           COMPOUND   \n",
       "3       InChI=1S/C15H20ClN3O3/c1-15(14(21)18-6-8-22-2)...           COMPOUND   \n",
       "4       InChI=1S/C13H22N4O2S2/c14-21(18,19)12-9-15-13(...           COMPOUND   \n",
       "...                                                   ...                ...   \n",
       "745874  InChI=1S/C17H17N3O3S2/c21-17-8-7-13(25(22,23)2...           COMPOUND   \n",
       "745875                    InChI=1S/C2H6OS/c1-4(2)3/h1-2H3           COMPOUND   \n",
       "745876  InChI=1S/C14H12N4O2S/c1-9-13(21-8-18-9)14(19)1...           COMPOUND   \n",
       "745877  InChI=1S/C19H27N5OS/c1-20-18(25)17-15(16-19(26...           COMPOUND   \n",
       "745878  InChI=1S/C19H16ClN3O3/c1-12-17(18(22-26-12)15-...           COMPOUND   \n",
       "\n",
       "                        Metadata_Batch  Metadata_Is_Control  \\\n",
       "0                               Batch1                False   \n",
       "1                    20211003_Batch_13                False   \n",
       "2       p210927CPU2OS48hw384exp029JUMP                False   \n",
       "3                                   J4                False   \n",
       "4                       20211102-Run15                False   \n",
       "...                                ...                  ...   \n",
       "745874               CP_26_all_Phenix1                False   \n",
       "745875                              J2                 True   \n",
       "745876               20210920_Batch_12                False   \n",
       "745877               CP_29_all_Phenix1                False   \n",
       "745878               CP_28_all_Phenix1                False   \n",
       "\n",
       "                                          Embeddings_mean  Metadata_Row  \\\n",
       "0       [0.78557825, 0.41657415, -2.1980793, -0.388481...             2   \n",
       "1       [0.18799336, -0.4325749, -1.0657859, -0.159291...             6   \n",
       "2       [-0.24563168, -0.4394592, -0.9976242, -0.27873...             9   \n",
       "3       [0.4652346, -0.3344115, -2.3212726, -0.6073519...             1   \n",
       "4       [0.2912807, -0.3196573, -0.66259694, -0.220878...            12   \n",
       "...                                                   ...           ...   \n",
       "745874  [0.3275261, -0.44286105, -2.4580777, -0.320452...            11   \n",
       "745875  [0.21251413, -0.49264348, -1.3788915, -0.39903...            14   \n",
       "745876  [0.12376895, -0.33975706, -1.3941263, -0.56959...            14   \n",
       "745877  [0.09203631, -0.21997674, -2.5780022, -0.44948...            10   \n",
       "745878  [0.095867954, -0.63436216, -1.3961793, -0.3568...             7   \n",
       "\n",
       "        Metadata_Col                                    Path_Embeddings  \\\n",
       "0                  3  /projects/synsight/data/chada/well_embeddings/...   \n",
       "1                 20  /projects/synsight/data/chada/well_embeddings/...   \n",
       "2                 12  /projects/synsight/data/chada/well_embeddings/...   \n",
       "3                 11  /projects/synsight/data/chada/well_embeddings/...   \n",
       "4                 12  /projects/synsight/data/chada/well_embeddings/...   \n",
       "...              ...                                                ...   \n",
       "745874            21  /projects/synsight/data/chada/well_embeddings/...   \n",
       "745875            21  /projects/synsight/data/chada/well_embeddings/...   \n",
       "745876            12  /projects/synsight/data/chada/well_embeddings/...   \n",
       "745877            22  /projects/synsight/data/chada/well_embeddings/...   \n",
       "745878            18  /projects/synsight/data/chada/well_embeddings/...   \n",
       "\n",
       "       Metadata_JCP2022  \n",
       "0        JCP2022_042808  \n",
       "1        JCP2022_029363  \n",
       "2        JCP2022_025791  \n",
       "3        JCP2022_028247  \n",
       "4        JCP2022_071337  \n",
       "...                 ...  \n",
       "745874   JCP2022_029013  \n",
       "745875   JCP2022_033924  \n",
       "745876   JCP2022_080475  \n",
       "745877   JCP2022_108539  \n",
       "745878   JCP2022_060566  \n",
       "\n",
       "[745879 rows x 12 columns]"
      ]
     },
     "execution_count": 78,
     "metadata": {},
     "output_type": "execute_result"
    }
   ],
   "source": [
    "# Drop the existing Metadata_JCP2022 column from df_chada if it exists\n",
    "if 'Metadata_JCP2022' in df_chada.columns:\n",
    "    df_chada = df_chada.drop(columns=['Metadata_JCP2022'])\n",
    "\n",
    "# Merge df_chada with ref_compound_df to add the new Metadata_JCP2022 column\n",
    "df_chada = df_chada.merge(\n",
    "    ref_compound_df[['Metadata_Well', 'Metadata_Source', 'Metadata_Plate', 'Metadata_JCP2022']],\n",
    "    on=['Metadata_Well', 'Metadata_Source', 'Metadata_Plate'],\n",
    "    how='left'\n",
    ")\n",
    "\n",
    "# Display the updated df_chada\n",
    "df_chada\n"
   ]
  },
  {
   "cell_type": "code",
   "execution_count": 79,
   "metadata": {},
   "outputs": [],
   "source": [
    "df_chada = df_chada[common_columns + ['Path_Embeddings']]"
   ]
  },
  {
   "cell_type": "code",
   "execution_count": 80,
   "metadata": {},
   "outputs": [],
   "source": [
    "\n",
    "def filter_and_save_embeddings_with_metadata_chada(\n",
    "    df: pd.DataFrame,\n",
    "    embedding_col: str,\n",
    "    name: str,\n",
    "    metadata_cols: List[str],\n",
    "    storage_folder: Union[str, Path],\n",
    "    num_jobs: int = -1,\n",
    ") -> None:\n",
    "    \"\"\"\n",
    "    Filters rows of a DataFrame to match a reference DataFrame, keeps relevant columns,\n",
    "    loads embeddings into a single NumPy array, and saves metadata with matching indices.\n",
    "\n",
    "    Args:\n",
    "        df (pd.DataFrame): The DataFrame containing embedding paths and metadata.\n",
    "        ref_compound_df (pd.DataFrame): Reference DataFrame to filter rows.\n",
    "        embedding_col (str): The column containing paths to torch tensors.\n",
    "        name (str): A name to identify the saved files.\n",
    "        metadata_cols (List[str]): List of metadata columns to include.\n",
    "        storage_folder (Union[str, Path]): Folder to save the outputs.\n",
    "        num_jobs (int): Number of parallel jobs for embedding processing.\n",
    "    \"\"\"\n",
    "    # Ensure the storage folder exists\n",
    "    storage_folder = Path(storage_folder)\n",
    "    storage_folder.mkdir(parents=True, exist_ok=True)\n",
    "\n",
    "    # Validate embedding and metadata columns\n",
    "    if embedding_col not in df.columns:\n",
    "        raise ValueError(f\"Column '{embedding_col}' not found in the DataFrame.\")\n",
    "\n",
    "    missing_metadata_cols = [col for col in metadata_cols if col not in df.columns]\n",
    "    if missing_metadata_cols:\n",
    "        raise ValueError(f\"Missing metadata columns: {missing_metadata_cols}\")\n",
    "\n",
    "    # Filter rows based on the reference DataFrame\n",
    "    filtered_df = df\n",
    "\n",
    "    # Function to load an embedding\n",
    "    def load_embedding(embedding_path):\n",
    "        try:\n",
    "            tensor = torch.load(embedding_path, weights_only=True)\n",
    "            return tensor.numpy()\n",
    "        except Exception as e:\n",
    "            print(f\"Error loading embedding at {embedding_path}: {e}\")\n",
    "            return None\n",
    "\n",
    "    # Wrap embedding loading with tqdm for progress tracking\n",
    "    embedding_paths = filtered_df[embedding_col].tolist()\n",
    "\n",
    "    # Use tqdm to wrap Parallel processing\n",
    "    embeddings = Parallel(n_jobs=num_jobs)(\n",
    "        delayed(lambda path: (path, load_embedding(path)))(path)\n",
    "        for path in tqdm(embedding_paths)\n",
    "    )\n",
    "    embeddings = [emb for _, emb in embeddings if emb is not None]\n",
    "\n",
    "    # Filter out failed embeddings and update metadata accordingly\n",
    "    valid_indices = [i for i, emb in enumerate(embeddings) if emb is not None]\n",
    "    embeddings = np.array([embeddings[i] for i in valid_indices])\n",
    "    filtered_metadata = filtered_df.iloc[valid_indices].drop(columns=[embedding_col])[metadata_cols]\n",
    "\n",
    "    # Save embeddings as a single NumPy array\n",
    "    embeddings_path = storage_folder / f\"embeddings_{name}.npy\"\n",
    "    np.save(embeddings_path, embeddings)\n",
    "\n",
    "    # Save filtered metadata as a Parquet file\n",
    "    metadata_parquet_path = storage_folder / f\"metadata_{name}.parquet\"\n",
    "    filtered_metadata.to_parquet(metadata_parquet_path, index=False)\n",
    "\n",
    "    print(f\"Embeddings saved to: {embeddings_path}\")\n",
    "    print(f\"Metadata saved to: {metadata_parquet_path}\")\n",
    "    return filtered_metadata, embeddings\n",
    "\n",
    "\n"
   ]
  },
  {
   "cell_type": "code",
   "execution_count": 81,
   "metadata": {},
   "outputs": [
    {
     "name": "stderr",
     "output_type": "stream",
     "text": [
      "100%|██████████| 745879/745879 [04:33<00:00, 2731.05it/s] \n"
     ]
    },
    {
     "name": "stdout",
     "output_type": "stream",
     "text": [
      "Embeddings saved to: /projects/synsight/data/jump_embeddings/wells_embeddings/chada/embeddings_chada.npy\n",
      "Metadata saved to: /projects/synsight/data/jump_embeddings/wells_embeddings/chada/metadata_chada.parquet\n",
      "<class 'pandas.core.frame.DataFrame'>\n",
      "Index: 745879 entries, 0 to 745878\n",
      "Data columns (total 6 columns):\n",
      " #   Column            Non-Null Count   Dtype \n",
      "---  ------            --------------   ----- \n",
      " 0   Metadata_Source   745879 non-null  object\n",
      " 1   Metadata_Batch    745879 non-null  object\n",
      " 2   Metadata_Plate    745879 non-null  object\n",
      " 3   Metadata_Well     745879 non-null  object\n",
      " 4   Metadata_JCP2022  745879 non-null  object\n",
      " 5   Metadata_InChI    745879 non-null  object\n",
      "dtypes: object(6)\n",
      "memory usage: 39.8+ MB\n"
     ]
    }
   ],
   "source": [
    "filtered_metadata, embeddings = filter_and_save_embeddings_with_metadata_chada(\n",
    "    df=df_chada,\n",
    "    embedding_col=\"Path_Embeddings\",  \n",
    "    name='chada',\n",
    "    metadata_cols=common_columns,\n",
    "    storage_folder=chada_path,\n",
    "    num_jobs=79,\n",
    ")\n",
    "\n",
    "filtered_metadata.info()"
   ]
  },
  {
   "cell_type": "markdown",
   "metadata": {},
   "source": [
    "### dino (s and g have the exact same lines)"
   ]
  },
  {
   "cell_type": "markdown",
   "metadata": {},
   "source": [
    "#### dino s"
   ]
  },
  {
   "cell_type": "code",
   "execution_count": 50,
   "metadata": {},
   "outputs": [],
   "source": [
    "df_dinov2_s_good = pd.read_parquet('/projects/synsight/data/dinov2_small/raw_well_embeddings/compounds_wells_em_dinov2s.parquet')"
   ]
  },
  {
   "cell_type": "code",
   "execution_count": 58,
   "metadata": {},
   "outputs": [
    {
     "data": {
      "text/plain": [
       "Index(['Metadata_Source', 'Metadata_Batch', 'Metadata_Plate', 'Metadata_Well',\n",
       "       'Metadata_JCP2022', 'Metadata_InChI', 'Metadata_Is_Control',\n",
       "       'Metadata_Row', 'Metadata_Col', 'path_embedding'],\n",
       "      dtype='object')"
      ]
     },
     "execution_count": 58,
     "metadata": {},
     "output_type": "execute_result"
    }
   ],
   "source": [
    "dinov2_s_path = base_path / 'dinov2_s'\n",
    "df_dinov2_s_good.columns\n"
   ]
  },
  {
   "cell_type": "code",
   "execution_count": null,
   "metadata": {},
   "outputs": [
    {
     "name": "stderr",
     "output_type": "stream",
     "text": [
      " 14%|█▍        | 104517/745884 [14:22<1:36:52, 110.34it/s]"
     ]
    }
   ],
   "source": [
    "filtered_metadata, embeddings = filter_and_save_embeddings_with_metadata(\n",
    "    df=df_dinov2_s_good,\n",
    "    ref_compound_df=ref_compound_df,\n",
    "    embedding_col=\"path_embedding\",  \n",
    "    name='dinov2_s',\n",
    "    metadata_cols=common_columns,\n",
    "    storage_folder=dinov2_s_path,\n",
    "    num_jobs=79,\n",
    ")\n",
    "\n",
    "filtered_metadata.info()"
   ]
  },
  {
   "cell_type": "markdown",
   "metadata": {},
   "source": [
    "#### dino g"
   ]
  },
  {
   "cell_type": "code",
   "execution_count": 44,
   "metadata": {},
   "outputs": [],
   "source": [
    "df_dinov2_g_good = pd.read_parquet('/projects/synsight/data/dinov2/raw_well_embeddings/compounds_wells_em_dinov2g.parquet')"
   ]
  },
  {
   "cell_type": "code",
   "execution_count": 59,
   "metadata": {},
   "outputs": [
    {
     "data": {
      "text/plain": [
       "Index(['Metadata_Source', 'Metadata_Batch', 'Metadata_Plate', 'Metadata_Well',\n",
       "       'Metadata_JCP2022', 'Metadata_InChI', 'Metadata_Is_Control',\n",
       "       'Metadata_Row', 'Metadata_Col', 'path_embedding'],\n",
       "      dtype='object')"
      ]
     },
     "execution_count": 59,
     "metadata": {},
     "output_type": "execute_result"
    }
   ],
   "source": [
    "dino_g_path = base_path / 'dinov2_g'\n",
    "df_dinov2_g_good.columns\n"
   ]
  },
  {
   "cell_type": "code",
   "execution_count": 46,
   "metadata": {},
   "outputs": [
    {
     "name": "stderr",
     "output_type": "stream",
     "text": [
      "100%|██████████| 10000/10000 [01:00<00:00, 164.95it/s]\n"
     ]
    },
    {
     "name": "stdout",
     "output_type": "stream",
     "text": [
      "Embeddings saved to: /projects/synsight/data/jump_embeddings/wells_embeddings/chada/embeddings_dino_g.npy\n",
      "Metadata saved to: /projects/synsight/data/jump_embeddings/wells_embeddings/chada/metadata_dino_g.parquet\n",
      "<class 'pandas.core.frame.DataFrame'>\n",
      "Index: 10000 entries, 0 to 9999\n",
      "Data columns (total 6 columns):\n",
      " #   Column            Non-Null Count  Dtype \n",
      "---  ------            --------------  ----- \n",
      " 0   Metadata_Source   10000 non-null  object\n",
      " 1   Metadata_Batch    10000 non-null  object\n",
      " 2   Metadata_Plate    10000 non-null  object\n",
      " 3   Metadata_Well     10000 non-null  object\n",
      " 4   Metadata_JCP2022  10000 non-null  object\n",
      " 5   Metadata_InChI    10000 non-null  object\n",
      "dtypes: object(6)\n",
      "memory usage: 546.9+ KB\n"
     ]
    }
   ],
   "source": [
    "filtered_metadata, embeddings = filter_and_save_embeddings_with_metadata(\n",
    "    df=df_dinov2_g_good,\n",
    "    ref_compound_df=ref_compound_df,\n",
    "    embedding_col=\"path_embedding\",  \n",
    "    name='dinov2_g',\n",
    "    metadata_cols=common_columns,\n",
    "    storage_folder=dino_g_path,\n",
    "    num_jobs=79,\n",
    ")\n",
    "\n",
    "filtered_metadata.info()"
   ]
  },
  {
   "cell_type": "markdown",
   "metadata": {},
   "source": [
    "### OpenPhenom"
   ]
  },
  {
   "cell_type": "code",
   "execution_count": 60,
   "metadata": {},
   "outputs": [
    {
     "data": {
      "text/plain": [
       "Index(['Metadata_Well', 'Metadata_Source', 'Metadata_Batch', 'Metadata_Plate',\n",
       "       'Metadata_JCP2022', 'Metadata_InChI', 'Metadata_Is_Control',\n",
       "       'Metadata_Row', 'Metadata_Col', 'path_embedding'],\n",
       "      dtype='object')"
      ]
     },
     "execution_count": 60,
     "metadata": {},
     "output_type": "execute_result"
    }
   ],
   "source": [
    "openphenom_path = base_path / 'openphenom'\n",
    "df_phenom.columns"
   ]
  },
  {
   "cell_type": "code",
   "execution_count": 61,
   "metadata": {},
   "outputs": [
    {
     "name": "stderr",
     "output_type": "stream",
     "text": [
      "100%|██████████| 745884/745884 [37:59<00:00, 327.19it/s]  \n"
     ]
    },
    {
     "name": "stdout",
     "output_type": "stream",
     "text": [
      "Embeddings saved to: /projects/synsight/data/jump_embeddings/wells_embeddings/openphenom/embeddings_openphenom.npy\n",
      "Metadata saved to: /projects/synsight/data/jump_embeddings/wells_embeddings/openphenom/metadata_openphenom.parquet\n",
      "<class 'pandas.core.frame.DataFrame'>\n",
      "Index: 745884 entries, 0 to 745883\n",
      "Data columns (total 6 columns):\n",
      " #   Column            Non-Null Count   Dtype \n",
      "---  ------            --------------   ----- \n",
      " 0   Metadata_Source   745884 non-null  object\n",
      " 1   Metadata_Batch    745884 non-null  object\n",
      " 2   Metadata_Plate    745884 non-null  object\n",
      " 3   Metadata_Well     745884 non-null  object\n",
      " 4   Metadata_JCP2022  745884 non-null  object\n",
      " 5   Metadata_InChI    745884 non-null  object\n",
      "dtypes: object(6)\n",
      "memory usage: 39.8+ MB\n"
     ]
    }
   ],
   "source": [
    "filtered_metadata, embeddings = filter_and_save_embeddings_with_metadata(\n",
    "    df=df_phenom,\n",
    "    ref_compound_df=ref_compound_df,\n",
    "    embedding_col=\"path_embedding\",  \n",
    "    name='openphenom',\n",
    "    metadata_cols=common_columns,\n",
    "    storage_folder=openphenom_path,\n",
    "    num_jobs=79,\n",
    ")\n",
    "\n",
    "filtered_metadata.info()"
   ]
  }
 ],
 "metadata": {
  "kernelspec": {
   "display_name": ".venv",
   "language": "python",
   "name": "python3"
  },
  "language_info": {
   "codemirror_mode": {
    "name": "ipython",
    "version": 3
   },
   "file_extension": ".py",
   "mimetype": "text/x-python",
   "name": "python",
   "nbconvert_exporter": "python",
   "pygments_lexer": "ipython3",
   "version": "3.10.10"
  }
 },
 "nbformat": 4,
 "nbformat_minor": 2
}
